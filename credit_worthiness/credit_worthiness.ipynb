{
 "cells": [
  {
   "cell_type": "markdown",
   "id": "386f2ae7",
   "metadata": {
    "deletable": false,
    "editable": false,
    "id": "386f2ae7"
   },
   "source": [
    "# Исследование надежности заемщиков\n"
   ]
  },
  {
   "cell_type": "markdown",
   "id": "39553de1",
   "metadata": {},
   "source": [
    "## Описание проекта\n",
    "Заказчик — кредитный отдел банка. Нужно разобраться, влияет ли семейное положение и количество детей клиента на факт погашения кредита в срок. Входные данные от банка — статистика о платёжеспособности клиентов.\n",
    "Результаты исследования будут учтены при построении модели кредитного скоринга — специальной системы, которая оценивает способность потенциального заёмщика вернуть кредит банку."
   ]
  },
  {
   "cell_type": "markdown",
   "id": "ffe86f65",
   "metadata": {
    "deletable": false,
    "editable": false,
    "id": "ffe86f65"
   },
   "source": [
    "Во второй части проекта вы выполните шаги 3 и 4. Их вручную проверит ревьюер.\n",
    "Чтобы вам не пришлось писать код заново для шагов 1 и 2, мы добавили авторские решения в ячейки с кодом. \n",
    "\n"
   ]
  },
  {
   "cell_type": "markdown",
   "id": "26613308",
   "metadata": {
    "deletable": false,
    "editable": false,
    "id": "26613308"
   },
   "source": [
    "## Откройте таблицу и изучите общую информацию о данных"
   ]
  },
  {
   "cell_type": "markdown",
   "id": "3c9f838e",
   "metadata": {
    "deletable": false,
    "editable": false,
    "id": "3c9f838e"
   },
   "source": [
    "**Задание 1. Импортируйте библиотеку pandas. Считайте данные из csv-файла в датафрейм и сохраните в переменную `data`. Путь к файлу:**\n",
    "\n",
    "`/datasets/data.csv`"
   ]
  },
  {
   "cell_type": "code",
   "execution_count": 1,
   "id": "77a68a90",
   "metadata": {
    "deletable": false,
    "id": "77a68a90"
   },
   "outputs": [],
   "source": [
    "import pandas as pd\n",
    "\n",
    "try:\n",
    "    data = pd.read_csv('/datasets/data.csv')\n",
    "except:\n",
    "    data = pd.read_csv('https://code.s3.yandex.net/datasets/data.csv')"
   ]
  },
  {
   "cell_type": "markdown",
   "id": "45365635",
   "metadata": {
    "deletable": false,
    "editable": false,
    "id": "45365635"
   },
   "source": [
    "**Задание 2. Выведите первые 20 строчек датафрейма `data` на экран.**"
   ]
  },
  {
   "cell_type": "code",
   "execution_count": 2,
   "id": "b0451a9a",
   "metadata": {
    "deletable": false,
    "id": "b0451a9a",
    "outputId": "1a8f3ef2-d323-4ec2-ddf7-89670b5944c4"
   },
   "outputs": [
    {
     "data": {
      "text/html": [
       "<div>\n",
       "<style scoped>\n",
       "    .dataframe tbody tr th:only-of-type {\n",
       "        vertical-align: middle;\n",
       "    }\n",
       "\n",
       "    .dataframe tbody tr th {\n",
       "        vertical-align: top;\n",
       "    }\n",
       "\n",
       "    .dataframe thead th {\n",
       "        text-align: right;\n",
       "    }\n",
       "</style>\n",
       "<table border=\"1\" class=\"dataframe\">\n",
       "  <thead>\n",
       "    <tr style=\"text-align: right;\">\n",
       "      <th></th>\n",
       "      <th>children</th>\n",
       "      <th>days_employed</th>\n",
       "      <th>dob_years</th>\n",
       "      <th>education</th>\n",
       "      <th>education_id</th>\n",
       "      <th>family_status</th>\n",
       "      <th>family_status_id</th>\n",
       "      <th>gender</th>\n",
       "      <th>income_type</th>\n",
       "      <th>debt</th>\n",
       "      <th>total_income</th>\n",
       "      <th>purpose</th>\n",
       "    </tr>\n",
       "  </thead>\n",
       "  <tbody>\n",
       "    <tr>\n",
       "      <th>0</th>\n",
       "      <td>1</td>\n",
       "      <td>-8437.673028</td>\n",
       "      <td>42</td>\n",
       "      <td>высшее</td>\n",
       "      <td>0</td>\n",
       "      <td>женат / замужем</td>\n",
       "      <td>0</td>\n",
       "      <td>F</td>\n",
       "      <td>сотрудник</td>\n",
       "      <td>0</td>\n",
       "      <td>253875.639453</td>\n",
       "      <td>покупка жилья</td>\n",
       "    </tr>\n",
       "    <tr>\n",
       "      <th>1</th>\n",
       "      <td>1</td>\n",
       "      <td>-4024.803754</td>\n",
       "      <td>36</td>\n",
       "      <td>среднее</td>\n",
       "      <td>1</td>\n",
       "      <td>женат / замужем</td>\n",
       "      <td>0</td>\n",
       "      <td>F</td>\n",
       "      <td>сотрудник</td>\n",
       "      <td>0</td>\n",
       "      <td>112080.014102</td>\n",
       "      <td>приобретение автомобиля</td>\n",
       "    </tr>\n",
       "    <tr>\n",
       "      <th>2</th>\n",
       "      <td>0</td>\n",
       "      <td>-5623.422610</td>\n",
       "      <td>33</td>\n",
       "      <td>Среднее</td>\n",
       "      <td>1</td>\n",
       "      <td>женат / замужем</td>\n",
       "      <td>0</td>\n",
       "      <td>M</td>\n",
       "      <td>сотрудник</td>\n",
       "      <td>0</td>\n",
       "      <td>145885.952297</td>\n",
       "      <td>покупка жилья</td>\n",
       "    </tr>\n",
       "    <tr>\n",
       "      <th>3</th>\n",
       "      <td>3</td>\n",
       "      <td>-4124.747207</td>\n",
       "      <td>32</td>\n",
       "      <td>среднее</td>\n",
       "      <td>1</td>\n",
       "      <td>женат / замужем</td>\n",
       "      <td>0</td>\n",
       "      <td>M</td>\n",
       "      <td>сотрудник</td>\n",
       "      <td>0</td>\n",
       "      <td>267628.550329</td>\n",
       "      <td>дополнительное образование</td>\n",
       "    </tr>\n",
       "    <tr>\n",
       "      <th>4</th>\n",
       "      <td>0</td>\n",
       "      <td>340266.072047</td>\n",
       "      <td>53</td>\n",
       "      <td>среднее</td>\n",
       "      <td>1</td>\n",
       "      <td>гражданский брак</td>\n",
       "      <td>1</td>\n",
       "      <td>F</td>\n",
       "      <td>пенсионер</td>\n",
       "      <td>0</td>\n",
       "      <td>158616.077870</td>\n",
       "      <td>сыграть свадьбу</td>\n",
       "    </tr>\n",
       "    <tr>\n",
       "      <th>5</th>\n",
       "      <td>0</td>\n",
       "      <td>-926.185831</td>\n",
       "      <td>27</td>\n",
       "      <td>высшее</td>\n",
       "      <td>0</td>\n",
       "      <td>гражданский брак</td>\n",
       "      <td>1</td>\n",
       "      <td>M</td>\n",
       "      <td>компаньон</td>\n",
       "      <td>0</td>\n",
       "      <td>255763.565419</td>\n",
       "      <td>покупка жилья</td>\n",
       "    </tr>\n",
       "    <tr>\n",
       "      <th>6</th>\n",
       "      <td>0</td>\n",
       "      <td>-2879.202052</td>\n",
       "      <td>43</td>\n",
       "      <td>высшее</td>\n",
       "      <td>0</td>\n",
       "      <td>женат / замужем</td>\n",
       "      <td>0</td>\n",
       "      <td>F</td>\n",
       "      <td>компаньон</td>\n",
       "      <td>0</td>\n",
       "      <td>240525.971920</td>\n",
       "      <td>операции с жильем</td>\n",
       "    </tr>\n",
       "    <tr>\n",
       "      <th>7</th>\n",
       "      <td>0</td>\n",
       "      <td>-152.779569</td>\n",
       "      <td>50</td>\n",
       "      <td>СРЕДНЕЕ</td>\n",
       "      <td>1</td>\n",
       "      <td>женат / замужем</td>\n",
       "      <td>0</td>\n",
       "      <td>M</td>\n",
       "      <td>сотрудник</td>\n",
       "      <td>0</td>\n",
       "      <td>135823.934197</td>\n",
       "      <td>образование</td>\n",
       "    </tr>\n",
       "    <tr>\n",
       "      <th>8</th>\n",
       "      <td>2</td>\n",
       "      <td>-6929.865299</td>\n",
       "      <td>35</td>\n",
       "      <td>ВЫСШЕЕ</td>\n",
       "      <td>0</td>\n",
       "      <td>гражданский брак</td>\n",
       "      <td>1</td>\n",
       "      <td>F</td>\n",
       "      <td>сотрудник</td>\n",
       "      <td>0</td>\n",
       "      <td>95856.832424</td>\n",
       "      <td>на проведение свадьбы</td>\n",
       "    </tr>\n",
       "    <tr>\n",
       "      <th>9</th>\n",
       "      <td>0</td>\n",
       "      <td>-2188.756445</td>\n",
       "      <td>41</td>\n",
       "      <td>среднее</td>\n",
       "      <td>1</td>\n",
       "      <td>женат / замужем</td>\n",
       "      <td>0</td>\n",
       "      <td>M</td>\n",
       "      <td>сотрудник</td>\n",
       "      <td>0</td>\n",
       "      <td>144425.938277</td>\n",
       "      <td>покупка жилья для семьи</td>\n",
       "    </tr>\n",
       "    <tr>\n",
       "      <th>10</th>\n",
       "      <td>2</td>\n",
       "      <td>-4171.483647</td>\n",
       "      <td>36</td>\n",
       "      <td>высшее</td>\n",
       "      <td>0</td>\n",
       "      <td>женат / замужем</td>\n",
       "      <td>0</td>\n",
       "      <td>M</td>\n",
       "      <td>компаньон</td>\n",
       "      <td>0</td>\n",
       "      <td>113943.491460</td>\n",
       "      <td>покупка недвижимости</td>\n",
       "    </tr>\n",
       "    <tr>\n",
       "      <th>11</th>\n",
       "      <td>0</td>\n",
       "      <td>-792.701887</td>\n",
       "      <td>40</td>\n",
       "      <td>среднее</td>\n",
       "      <td>1</td>\n",
       "      <td>женат / замужем</td>\n",
       "      <td>0</td>\n",
       "      <td>F</td>\n",
       "      <td>сотрудник</td>\n",
       "      <td>0</td>\n",
       "      <td>77069.234271</td>\n",
       "      <td>покупка коммерческой недвижимости</td>\n",
       "    </tr>\n",
       "    <tr>\n",
       "      <th>12</th>\n",
       "      <td>0</td>\n",
       "      <td>NaN</td>\n",
       "      <td>65</td>\n",
       "      <td>среднее</td>\n",
       "      <td>1</td>\n",
       "      <td>гражданский брак</td>\n",
       "      <td>1</td>\n",
       "      <td>M</td>\n",
       "      <td>пенсионер</td>\n",
       "      <td>0</td>\n",
       "      <td>NaN</td>\n",
       "      <td>сыграть свадьбу</td>\n",
       "    </tr>\n",
       "    <tr>\n",
       "      <th>13</th>\n",
       "      <td>0</td>\n",
       "      <td>-1846.641941</td>\n",
       "      <td>54</td>\n",
       "      <td>неоконченное высшее</td>\n",
       "      <td>2</td>\n",
       "      <td>женат / замужем</td>\n",
       "      <td>0</td>\n",
       "      <td>F</td>\n",
       "      <td>сотрудник</td>\n",
       "      <td>0</td>\n",
       "      <td>130458.228857</td>\n",
       "      <td>приобретение автомобиля</td>\n",
       "    </tr>\n",
       "    <tr>\n",
       "      <th>14</th>\n",
       "      <td>0</td>\n",
       "      <td>-1844.956182</td>\n",
       "      <td>56</td>\n",
       "      <td>высшее</td>\n",
       "      <td>0</td>\n",
       "      <td>гражданский брак</td>\n",
       "      <td>1</td>\n",
       "      <td>F</td>\n",
       "      <td>компаньон</td>\n",
       "      <td>1</td>\n",
       "      <td>165127.911772</td>\n",
       "      <td>покупка жилой недвижимости</td>\n",
       "    </tr>\n",
       "    <tr>\n",
       "      <th>15</th>\n",
       "      <td>1</td>\n",
       "      <td>-972.364419</td>\n",
       "      <td>26</td>\n",
       "      <td>среднее</td>\n",
       "      <td>1</td>\n",
       "      <td>женат / замужем</td>\n",
       "      <td>0</td>\n",
       "      <td>F</td>\n",
       "      <td>сотрудник</td>\n",
       "      <td>0</td>\n",
       "      <td>116820.904450</td>\n",
       "      <td>строительство собственной недвижимости</td>\n",
       "    </tr>\n",
       "    <tr>\n",
       "      <th>16</th>\n",
       "      <td>0</td>\n",
       "      <td>-1719.934226</td>\n",
       "      <td>35</td>\n",
       "      <td>среднее</td>\n",
       "      <td>1</td>\n",
       "      <td>женат / замужем</td>\n",
       "      <td>0</td>\n",
       "      <td>F</td>\n",
       "      <td>сотрудник</td>\n",
       "      <td>0</td>\n",
       "      <td>289202.704229</td>\n",
       "      <td>недвижимость</td>\n",
       "    </tr>\n",
       "    <tr>\n",
       "      <th>17</th>\n",
       "      <td>0</td>\n",
       "      <td>-2369.999720</td>\n",
       "      <td>33</td>\n",
       "      <td>высшее</td>\n",
       "      <td>0</td>\n",
       "      <td>гражданский брак</td>\n",
       "      <td>1</td>\n",
       "      <td>M</td>\n",
       "      <td>сотрудник</td>\n",
       "      <td>0</td>\n",
       "      <td>90410.586745</td>\n",
       "      <td>строительство недвижимости</td>\n",
       "    </tr>\n",
       "    <tr>\n",
       "      <th>18</th>\n",
       "      <td>0</td>\n",
       "      <td>400281.136913</td>\n",
       "      <td>53</td>\n",
       "      <td>среднее</td>\n",
       "      <td>1</td>\n",
       "      <td>вдовец / вдова</td>\n",
       "      <td>2</td>\n",
       "      <td>F</td>\n",
       "      <td>пенсионер</td>\n",
       "      <td>0</td>\n",
       "      <td>56823.777243</td>\n",
       "      <td>на покупку подержанного автомобиля</td>\n",
       "    </tr>\n",
       "    <tr>\n",
       "      <th>19</th>\n",
       "      <td>0</td>\n",
       "      <td>-10038.818549</td>\n",
       "      <td>48</td>\n",
       "      <td>СРЕДНЕЕ</td>\n",
       "      <td>1</td>\n",
       "      <td>в разводе</td>\n",
       "      <td>3</td>\n",
       "      <td>F</td>\n",
       "      <td>сотрудник</td>\n",
       "      <td>0</td>\n",
       "      <td>242831.107982</td>\n",
       "      <td>на покупку своего автомобиля</td>\n",
       "    </tr>\n",
       "  </tbody>\n",
       "</table>\n",
       "</div>"
      ],
      "text/plain": [
       "    children  days_employed  dob_years            education  education_id  \\\n",
       "0          1   -8437.673028         42               высшее             0   \n",
       "1          1   -4024.803754         36              среднее             1   \n",
       "2          0   -5623.422610         33              Среднее             1   \n",
       "3          3   -4124.747207         32              среднее             1   \n",
       "4          0  340266.072047         53              среднее             1   \n",
       "5          0    -926.185831         27               высшее             0   \n",
       "6          0   -2879.202052         43               высшее             0   \n",
       "7          0    -152.779569         50              СРЕДНЕЕ             1   \n",
       "8          2   -6929.865299         35               ВЫСШЕЕ             0   \n",
       "9          0   -2188.756445         41              среднее             1   \n",
       "10         2   -4171.483647         36               высшее             0   \n",
       "11         0    -792.701887         40              среднее             1   \n",
       "12         0            NaN         65              среднее             1   \n",
       "13         0   -1846.641941         54  неоконченное высшее             2   \n",
       "14         0   -1844.956182         56               высшее             0   \n",
       "15         1    -972.364419         26              среднее             1   \n",
       "16         0   -1719.934226         35              среднее             1   \n",
       "17         0   -2369.999720         33               высшее             0   \n",
       "18         0  400281.136913         53              среднее             1   \n",
       "19         0  -10038.818549         48              СРЕДНЕЕ             1   \n",
       "\n",
       "       family_status  family_status_id gender income_type  debt  \\\n",
       "0    женат / замужем                 0      F   сотрудник     0   \n",
       "1    женат / замужем                 0      F   сотрудник     0   \n",
       "2    женат / замужем                 0      M   сотрудник     0   \n",
       "3    женат / замужем                 0      M   сотрудник     0   \n",
       "4   гражданский брак                 1      F   пенсионер     0   \n",
       "5   гражданский брак                 1      M   компаньон     0   \n",
       "6    женат / замужем                 0      F   компаньон     0   \n",
       "7    женат / замужем                 0      M   сотрудник     0   \n",
       "8   гражданский брак                 1      F   сотрудник     0   \n",
       "9    женат / замужем                 0      M   сотрудник     0   \n",
       "10   женат / замужем                 0      M   компаньон     0   \n",
       "11   женат / замужем                 0      F   сотрудник     0   \n",
       "12  гражданский брак                 1      M   пенсионер     0   \n",
       "13   женат / замужем                 0      F   сотрудник     0   \n",
       "14  гражданский брак                 1      F   компаньон     1   \n",
       "15   женат / замужем                 0      F   сотрудник     0   \n",
       "16   женат / замужем                 0      F   сотрудник     0   \n",
       "17  гражданский брак                 1      M   сотрудник     0   \n",
       "18    вдовец / вдова                 2      F   пенсионер     0   \n",
       "19         в разводе                 3      F   сотрудник     0   \n",
       "\n",
       "     total_income                                 purpose  \n",
       "0   253875.639453                           покупка жилья  \n",
       "1   112080.014102                 приобретение автомобиля  \n",
       "2   145885.952297                           покупка жилья  \n",
       "3   267628.550329              дополнительное образование  \n",
       "4   158616.077870                         сыграть свадьбу  \n",
       "5   255763.565419                           покупка жилья  \n",
       "6   240525.971920                       операции с жильем  \n",
       "7   135823.934197                             образование  \n",
       "8    95856.832424                   на проведение свадьбы  \n",
       "9   144425.938277                 покупка жилья для семьи  \n",
       "10  113943.491460                    покупка недвижимости  \n",
       "11   77069.234271       покупка коммерческой недвижимости  \n",
       "12            NaN                         сыграть свадьбу  \n",
       "13  130458.228857                 приобретение автомобиля  \n",
       "14  165127.911772              покупка жилой недвижимости  \n",
       "15  116820.904450  строительство собственной недвижимости  \n",
       "16  289202.704229                            недвижимость  \n",
       "17   90410.586745              строительство недвижимости  \n",
       "18   56823.777243      на покупку подержанного автомобиля  \n",
       "19  242831.107982            на покупку своего автомобиля  "
      ]
     },
     "execution_count": 2,
     "metadata": {},
     "output_type": "execute_result"
    }
   ],
   "source": [
    "data.head(20)"
   ]
  },
  {
   "cell_type": "markdown",
   "id": "0ed8f27f",
   "metadata": {
    "deletable": false,
    "editable": false,
    "id": "0ed8f27f"
   },
   "source": [
    "**Задание 3. Выведите основную информацию о датафрейме с помощью метода `info()`.**"
   ]
  },
  {
   "cell_type": "code",
   "execution_count": 3,
   "id": "ab3f863b",
   "metadata": {
    "deletable": false,
    "id": "ab3f863b",
    "outputId": "15376089-8dad-46c9-b520-c05248d43158"
   },
   "outputs": [
    {
     "name": "stdout",
     "output_type": "stream",
     "text": [
      "<class 'pandas.core.frame.DataFrame'>\n",
      "RangeIndex: 21525 entries, 0 to 21524\n",
      "Data columns (total 12 columns):\n",
      " #   Column            Non-Null Count  Dtype  \n",
      "---  ------            --------------  -----  \n",
      " 0   children          21525 non-null  int64  \n",
      " 1   days_employed     19351 non-null  float64\n",
      " 2   dob_years         21525 non-null  int64  \n",
      " 3   education         21525 non-null  object \n",
      " 4   education_id      21525 non-null  int64  \n",
      " 5   family_status     21525 non-null  object \n",
      " 6   family_status_id  21525 non-null  int64  \n",
      " 7   gender            21525 non-null  object \n",
      " 8   income_type       21525 non-null  object \n",
      " 9   debt              21525 non-null  int64  \n",
      " 10  total_income      19351 non-null  float64\n",
      " 11  purpose           21525 non-null  object \n",
      "dtypes: float64(2), int64(5), object(5)\n",
      "memory usage: 2.0+ MB\n"
     ]
    }
   ],
   "source": [
    "data.info()"
   ]
  },
  {
   "cell_type": "markdown",
   "id": "60e3e22d",
   "metadata": {
    "deletable": false,
    "editable": false,
    "id": "60e3e22d"
   },
   "source": [
    "## Предобработка данных"
   ]
  },
  {
   "cell_type": "markdown",
   "id": "03dc170c",
   "metadata": {
    "deletable": false,
    "editable": false,
    "id": "03dc170c"
   },
   "source": [
    "### Удаление пропусков"
   ]
  },
  {
   "cell_type": "markdown",
   "id": "a4f54eef",
   "metadata": {
    "deletable": false,
    "editable": false,
    "id": "a4f54eef"
   },
   "source": [
    "**Задание 4. Выведите количество пропущенных значений для каждого столбца. Используйте комбинацию двух методов.**"
   ]
  },
  {
   "cell_type": "code",
   "execution_count": 4,
   "id": "2dc372b2",
   "metadata": {
    "deletable": false,
    "id": "2dc372b2",
    "outputId": "81f4d817-781c-465c-ed15-91ce4446810d"
   },
   "outputs": [
    {
     "data": {
      "text/plain": [
       "children               0\n",
       "days_employed       2174\n",
       "dob_years              0\n",
       "education              0\n",
       "education_id           0\n",
       "family_status          0\n",
       "family_status_id       0\n",
       "gender                 0\n",
       "income_type            0\n",
       "debt                   0\n",
       "total_income        2174\n",
       "purpose                0\n",
       "dtype: int64"
      ]
     },
     "execution_count": 4,
     "metadata": {},
     "output_type": "execute_result"
    }
   ],
   "source": [
    "data.isna().sum()"
   ]
  },
  {
   "cell_type": "markdown",
   "id": "14f011b1",
   "metadata": {
    "deletable": false,
    "editable": false,
    "id": "14f011b1"
   },
   "source": [
    "**Задание 5. В двух столбцах есть пропущенные значения. Один из них — `days_employed`. Пропуски в этом столбце вы обработаете на следующем этапе. Другой столбец с пропущенными значениями — `total_income` — хранит данные о доходах. На сумму дохода сильнее всего влияет тип занятости, поэтому заполнить пропуски в этом столбце нужно медианным значением по каждому типу из столбца `income_type`. Например, у человека с типом занятости `сотрудник` пропуск в столбце `total_income` должен быть заполнен медианным доходом среди всех записей с тем же типом.**"
   ]
  },
  {
   "cell_type": "code",
   "execution_count": 5,
   "id": "bdabfb6e",
   "metadata": {
    "deletable": false,
    "id": "bdabfb6e"
   },
   "outputs": [],
   "source": [
    "for t in data['income_type'].unique():\n",
    "    data.loc[(data['income_type'] == t) & (data['total_income'].isna()), 'total_income'] = \\\n",
    "    data.loc[(data['income_type'] == t), 'total_income'].median()"
   ]
  },
  {
   "cell_type": "markdown",
   "id": "5be34059",
   "metadata": {
    "deletable": false,
    "editable": false,
    "id": "5be34059"
   },
   "source": [
    "### Обработка аномальных значений"
   ]
  },
  {
   "cell_type": "markdown",
   "id": "a87606cb",
   "metadata": {
    "deletable": false,
    "editable": false,
    "id": "a87606cb"
   },
   "source": [
    "**Задание 6. В данных могут встречаться артефакты (аномалии) — значения, которые не отражают действительность и появились по какой-то ошибке. таким артефактом будет отрицательное количество дней трудового стажа в столбце `days_employed`. Для реальных данных это нормально. Обработайте значения в этом столбце: замените все отрицательные значения положительными с помощью метода `abs()`.**"
   ]
  },
  {
   "cell_type": "code",
   "execution_count": 6,
   "id": "020c46cc",
   "metadata": {
    "deletable": false,
    "id": "020c46cc"
   },
   "outputs": [],
   "source": [
    "data['days_employed'] = data['days_employed'].abs()"
   ]
  },
  {
   "cell_type": "markdown",
   "id": "45538a3a",
   "metadata": {
    "deletable": false,
    "editable": false,
    "id": "45538a3a"
   },
   "source": [
    "**Задание 7. Для каждого типа занятости выведите медианное значение трудового стажа `days_employed` в днях.**"
   ]
  },
  {
   "cell_type": "code",
   "execution_count": 7,
   "id": "cd3e6328",
   "metadata": {
    "deletable": false,
    "id": "cd3e6328",
    "outputId": "801ef80e-522b-4668-f34e-565af7432bcf"
   },
   "outputs": [
    {
     "data": {
      "text/plain": [
       "income_type\n",
       "безработный        366413.652744\n",
       "в декрете            3296.759962\n",
       "госслужащий          2689.368353\n",
       "компаньон            1547.382223\n",
       "пенсионер          365213.306266\n",
       "предприниматель       520.848083\n",
       "сотрудник            1574.202821\n",
       "студент               578.751554\n",
       "Name: days_employed, dtype: float64"
      ]
     },
     "execution_count": 7,
     "metadata": {},
     "output_type": "execute_result"
    }
   ],
   "source": [
    "data.groupby('income_type')['days_employed'].agg('median')"
   ]
  },
  {
   "cell_type": "markdown",
   "id": "90c5f058",
   "metadata": {
    "deletable": false,
    "editable": false,
    "id": "90c5f058"
   },
   "source": [
    "У двух типов (безработные и пенсионеры) получатся аномально большие значения. Исправить такие значения сложно, поэтому оставьте их как есть."
   ]
  },
  {
   "cell_type": "markdown",
   "id": "9652e50d",
   "metadata": {
    "deletable": false,
    "editable": false,
    "id": "9652e50d"
   },
   "source": [
    "**Задание 8. Выведите перечень уникальных значений столбца `children`.**"
   ]
  },
  {
   "cell_type": "code",
   "execution_count": 8,
   "id": "dbb37b8e",
   "metadata": {
    "deletable": false,
    "id": "dbb37b8e",
    "outputId": "6975b15c-7f95-4697-d16d-a0c79b657b03"
   },
   "outputs": [
    {
     "data": {
      "text/plain": [
       "array([ 1,  0,  3,  2, -1,  4, 20,  5])"
      ]
     },
     "execution_count": 8,
     "metadata": {},
     "output_type": "execute_result"
    }
   ],
   "source": [
    "data['children'].unique()"
   ]
  },
  {
   "cell_type": "markdown",
   "id": "2b8b0715",
   "metadata": {
    "deletable": false,
    "editable": false,
    "id": "2b8b0715"
   },
   "source": [
    "**Задание 9. В столбце `children` есть два аномальных значения. Удалите строки, в которых встречаются такие аномальные значения из датафрейма `data`.**"
   ]
  },
  {
   "cell_type": "code",
   "execution_count": 9,
   "id": "20009df8",
   "metadata": {
    "deletable": false,
    "id": "20009df8"
   },
   "outputs": [],
   "source": [
    "data = data[(data['children'] != -1) & (data['children'] != 20)]"
   ]
  },
  {
   "cell_type": "markdown",
   "id": "8c6ac9f1",
   "metadata": {
    "deletable": false,
    "editable": false,
    "id": "8c6ac9f1"
   },
   "source": [
    "**Задание 10. Ещё раз выведите перечень уникальных значений столбца `children`, чтобы убедиться, что артефакты удалены.**"
   ]
  },
  {
   "cell_type": "code",
   "execution_count": 10,
   "id": "07337b81",
   "metadata": {
    "deletable": false,
    "id": "07337b81",
    "outputId": "b2097101-d49d-44d9-901b-32a65c9463d1"
   },
   "outputs": [
    {
     "data": {
      "text/plain": [
       "[0, 1, 2, 3, 4, 5]"
      ]
     },
     "execution_count": 10,
     "metadata": {},
     "output_type": "execute_result"
    }
   ],
   "source": [
    "unique_children = sorted(data['children'].unique())\n",
    "unique_children"
   ]
  },
  {
   "cell_type": "markdown",
   "id": "ee3f52d4",
   "metadata": {
    "deletable": false,
    "editable": false,
    "id": "ee3f52d4"
   },
   "source": [
    "### Удаление пропусков (продолжение)"
   ]
  },
  {
   "cell_type": "markdown",
   "id": "a700b0e4",
   "metadata": {
    "deletable": false,
    "editable": false,
    "id": "a700b0e4"
   },
   "source": [
    "**Задание 11. Заполните пропуски в столбце `days_employed` медианными значениями по каждого типа занятости `income_type`.**"
   ]
  },
  {
   "cell_type": "code",
   "execution_count": 11,
   "id": "61946b83",
   "metadata": {
    "deletable": false,
    "id": "61946b83"
   },
   "outputs": [],
   "source": [
    "for t in data['income_type'].unique():\n",
    "    data.loc[(data['income_type'] == t) & (data['days_employed'].isna()), 'days_employed'] = \\\n",
    "    data.loc[(data['income_type'] == t), 'days_employed'].median()"
   ]
  },
  {
   "cell_type": "markdown",
   "id": "550dcd9b",
   "metadata": {
    "deletable": false,
    "editable": false,
    "id": "550dcd9b"
   },
   "source": [
    "**Задание 12. Убедитесь, что все пропуски заполнены. Проверьте себя и ещё раз выведите количество пропущенных значений для каждого столбца с помощью двух методов.**"
   ]
  },
  {
   "cell_type": "code",
   "execution_count": 12,
   "id": "937c7014",
   "metadata": {
    "deletable": false,
    "id": "937c7014",
    "outputId": "8da1e4e1-358e-4e87-98c9-f261bce0a7b2"
   },
   "outputs": [
    {
     "data": {
      "text/plain": [
       "children            0\n",
       "days_employed       0\n",
       "dob_years           0\n",
       "education           0\n",
       "education_id        0\n",
       "family_status       0\n",
       "family_status_id    0\n",
       "gender              0\n",
       "income_type         0\n",
       "debt                0\n",
       "total_income        0\n",
       "purpose             0\n",
       "dtype: int64"
      ]
     },
     "execution_count": 12,
     "metadata": {},
     "output_type": "execute_result"
    }
   ],
   "source": [
    "data.isna().sum()"
   ]
  },
  {
   "cell_type": "markdown",
   "id": "d522e295",
   "metadata": {
    "deletable": false,
    "editable": false,
    "id": "d522e295"
   },
   "source": [
    "### Изменение типов данных"
   ]
  },
  {
   "cell_type": "markdown",
   "id": "c229c581",
   "metadata": {
    "deletable": false,
    "editable": false,
    "id": "c229c581"
   },
   "source": [
    "**Задание 13. Замените вещественный тип данных в столбце `total_income` на целочисленный с помощью метода `astype()`.**"
   ]
  },
  {
   "cell_type": "code",
   "execution_count": 13,
   "id": "31036462",
   "metadata": {
    "deletable": false,
    "id": "31036462"
   },
   "outputs": [],
   "source": [
    "data['total_income'] = data['total_income'].astype(int)"
   ]
  },
  {
   "cell_type": "markdown",
   "id": "b8e3d1d9",
   "metadata": {
    "deletable": false,
    "editable": false,
    "id": "b8e3d1d9"
   },
   "source": [
    "### Обработка дубликатов"
   ]
  },
  {
   "cell_type": "markdown",
   "id": "9be53c49",
   "metadata": {
    "deletable": false,
    "editable": false,
    "id": "9be53c49"
   },
   "source": [
    "**Задание 14. Обработайте неявные дубликаты в столбце `education`. В этом столбце есть одни и те же значения, но записанные по-разному: с использованием заглавных и строчных букв. Приведите их к нижнему регистру.**"
   ]
  },
  {
   "cell_type": "code",
   "execution_count": 14,
   "id": "d89e73e1",
   "metadata": {
    "deletable": false,
    "id": "d89e73e1"
   },
   "outputs": [],
   "source": [
    "data['education'] = data['education'].str.lower()"
   ]
  },
  {
   "cell_type": "markdown",
   "id": "01d4500e",
   "metadata": {
    "deletable": false,
    "editable": false,
    "id": "01d4500e"
   },
   "source": [
    "**Задание 15. Выведите на экран количество строк-дубликатов в данных. Если такие строки присутствуют, удалите их.**"
   ]
  },
  {
   "cell_type": "code",
   "execution_count": 15,
   "id": "e10efb23",
   "metadata": {
    "deletable": false,
    "id": "e10efb23",
    "outputId": "9684deba-1934-42d1-99e1-cda61740f822"
   },
   "outputs": [
    {
     "data": {
      "text/plain": [
       "71"
      ]
     },
     "execution_count": 15,
     "metadata": {},
     "output_type": "execute_result"
    }
   ],
   "source": [
    "data.duplicated().sum()"
   ]
  },
  {
   "cell_type": "code",
   "execution_count": 16,
   "id": "df853f20",
   "metadata": {
    "deletable": false,
    "id": "df853f20"
   },
   "outputs": [],
   "source": [
    "data = data.drop_duplicates()"
   ]
  },
  {
   "cell_type": "markdown",
   "id": "627be38f",
   "metadata": {
    "deletable": false,
    "editable": false,
    "id": "627be38f"
   },
   "source": [
    "### Категоризация данных"
   ]
  },
  {
   "cell_type": "markdown",
   "id": "4684c3e0",
   "metadata": {
    "deletable": false,
    "editable": false,
    "id": "4684c3e0"
   },
   "source": [
    "**Задание 16. На основании диапазонов, указанных ниже, создайте в датафрейме `data` столбец `total_income_category` с категориями:**\n",
    "\n",
    "- 0–30000 — `'E'`;\n",
    "- 30001–50000 — `'D'`;\n",
    "- 50001–200000 — `'C'`;\n",
    "- 200001–1000000 — `'B'`;\n",
    "- 1000001 и выше — `'A'`.\n",
    "\n",
    "\n",
    "**Например, кредитополучателю с доходом 25000 нужно назначить категорию `'E'`, а клиенту, получающему 235000, — `'B'`. Используйте собственную функцию с именем `categorize_income()` и метод `apply()`.**"
   ]
  },
  {
   "cell_type": "code",
   "execution_count": 17,
   "id": "78965238",
   "metadata": {
    "deletable": false,
    "id": "78965238"
   },
   "outputs": [],
   "source": [
    "def categorize_income(income):\n",
    "    try:\n",
    "        if 0 <= income <= 30000:\n",
    "            return 'E'\n",
    "        elif 30001 <= income <= 50000:\n",
    "            return 'D'\n",
    "        elif 50001 <= income <= 200000:\n",
    "            return 'C'\n",
    "        elif 200001 <= income <= 1000000:\n",
    "            return 'B'\n",
    "        elif income >= 1000001:\n",
    "            return 'A'\n",
    "    except:\n",
    "        pass"
   ]
  },
  {
   "cell_type": "code",
   "execution_count": 18,
   "id": "0980ada1",
   "metadata": {
    "deletable": false,
    "id": "0980ada1"
   },
   "outputs": [],
   "source": [
    "data['total_income_category'] = data['total_income'].apply(categorize_income)"
   ]
  },
  {
   "cell_type": "markdown",
   "id": "9917bba0",
   "metadata": {
    "deletable": false,
    "editable": false,
    "id": "9917bba0"
   },
   "source": [
    "**Задание 17. Выведите на экран перечень уникальных целей взятия кредита из столбца `purpose`.**"
   ]
  },
  {
   "cell_type": "code",
   "execution_count": 19,
   "id": "ee07b65e",
   "metadata": {
    "deletable": false,
    "id": "ee07b65e",
    "outputId": "673c12d9-7d7e-4ae0-9812-c622c89dd244"
   },
   "outputs": [
    {
     "data": {
      "text/plain": [
       "array(['покупка жилья', 'приобретение автомобиля',\n",
       "       'дополнительное образование', 'сыграть свадьбу',\n",
       "       'операции с жильем', 'образование', 'на проведение свадьбы',\n",
       "       'покупка жилья для семьи', 'покупка недвижимости',\n",
       "       'покупка коммерческой недвижимости', 'покупка жилой недвижимости',\n",
       "       'строительство собственной недвижимости', 'недвижимость',\n",
       "       'строительство недвижимости', 'на покупку подержанного автомобиля',\n",
       "       'на покупку своего автомобиля',\n",
       "       'операции с коммерческой недвижимостью',\n",
       "       'строительство жилой недвижимости', 'жилье',\n",
       "       'операции со своей недвижимостью', 'автомобили',\n",
       "       'заняться образованием', 'сделка с подержанным автомобилем',\n",
       "       'получение образования', 'автомобиль', 'свадьба',\n",
       "       'получение дополнительного образования', 'покупка своего жилья',\n",
       "       'операции с недвижимостью', 'получение высшего образования',\n",
       "       'свой автомобиль', 'сделка с автомобилем',\n",
       "       'профильное образование', 'высшее образование',\n",
       "       'покупка жилья для сдачи', 'на покупку автомобиля', 'ремонт жилью',\n",
       "       'заняться высшим образованием'], dtype=object)"
      ]
     },
     "execution_count": 19,
     "metadata": {},
     "output_type": "execute_result"
    }
   ],
   "source": [
    "data['purpose'].unique()"
   ]
  },
  {
   "cell_type": "markdown",
   "id": "52b79d56",
   "metadata": {
    "deletable": false,
    "editable": false,
    "id": "52b79d56"
   },
   "source": [
    "**Задание 18. Создайте функцию, которая на основании данных из столбца `purpose` сформирует новый столбец `purpose_category`, в который войдут следующие категории:**\n",
    "\n",
    "- `'операции с автомобилем'`,\n",
    "- `'операции с недвижимостью'`,\n",
    "- `'проведение свадьбы'`,\n",
    "- `'получение образования'`.\n",
    "\n",
    "**Например, если в столбце `purpose` находится подстрока `'на покупку автомобиля'`, то в столбце `purpose_category` должна появиться строка `'операции с автомобилем'`.**\n",
    "\n",
    "**Используйте собственную функцию с именем `categorize_purpose()` и метод `apply()`. Изучите данные в столбце `purpose` и определите, какие подстроки помогут вам правильно определить категорию.**"
   ]
  },
  {
   "cell_type": "code",
   "execution_count": 20,
   "id": "be41da5d",
   "metadata": {
    "deletable": false,
    "id": "be41da5d"
   },
   "outputs": [],
   "source": [
    "def categorize_purpose(row):\n",
    "    try:\n",
    "        if 'автом' in row:\n",
    "            return 'операции с автомобилем'\n",
    "        elif 'жил' in row or 'недвиж' in row:\n",
    "            return 'операции с недвижимостью'\n",
    "        elif 'свад' in row:\n",
    "            return 'проведение свадьбы'\n",
    "        elif 'образов' in row:\n",
    "            return 'получение образования'\n",
    "    except:\n",
    "        return 'нет категории'"
   ]
  },
  {
   "cell_type": "code",
   "execution_count": 21,
   "id": "94c4a19a",
   "metadata": {
    "deletable": false,
    "id": "94c4a19a"
   },
   "outputs": [],
   "source": [
    "data['purpose_category'] = data['purpose'].apply(categorize_purpose)"
   ]
  },
  {
   "cell_type": "markdown",
   "id": "3d596c34",
   "metadata": {
    "deletable": false,
    "editable": false,
    "id": "3d596c34"
   },
   "source": [
    "### Шаг 3. Исследуйте данные и ответьте на вопросы"
   ]
  },
  {
   "cell_type": "markdown",
   "id": "648db036",
   "metadata": {
    "deletable": false,
    "editable": false,
    "id": "648db036"
   },
   "source": [
    "#### 3.1 Есть ли зависимость между количеством детей и возвратом кредита в срок?"
   ]
  },
  {
   "cell_type": "markdown",
   "id": "d1be1a37",
   "metadata": {},
   "source": [
    "**Для начала узнаем процент клиентов с задолженностью по всей выборке**"
   ]
  },
  {
   "cell_type": "code",
   "execution_count": 22,
   "id": "c47ccd8c",
   "metadata": {},
   "outputs": [
    {
     "name": "stdout",
     "output_type": "stream",
     "text": [
      "Процент людей имеющих задолженность: 8%\n"
     ]
    }
   ],
   "source": [
    "debt = data['debt'].sum() / data['debt'].count()\n",
    "print('Процент людей имеющих задолженность: {:.0%}'.format(debt))"
   ]
  },
  {
   "cell_type": "markdown",
   "id": "5f959c86",
   "metadata": {},
   "source": [
    "**Проверим репрезентативность данных по количеству детей. Посчитаем сколько записей в данных есть для каждого уникального количества детей в семье.**"
   ]
  },
  {
   "cell_type": "code",
   "execution_count": 23,
   "id": "3aa57db2",
   "metadata": {
    "scrolled": true
   },
   "outputs": [
    {
     "data": {
      "text/plain": [
       "0    14091\n",
       "1     4808\n",
       "2     2052\n",
       "3      330\n",
       "4       41\n",
       "5        9\n",
       "Name: children, dtype: int64"
      ]
     },
     "metadata": {},
     "output_type": "display_data"
    },
    {
     "name": "stdout",
     "output_type": "stream",
     "text": [
      "Процент людей, имеющих 3 ребёнка: 1.55%.\n",
      "Процент людей, имеющих 4 ребёнка: 0.19%.\n",
      "Процент людей, имеющих 5 детей: 0.04%\n"
     ]
    }
   ],
   "source": [
    "display(data['children'].value_counts())\n",
    "with_3_children = data[data['children'] == 3]['children'].count() / data['children'].count()\n",
    "with_4_children = data[data['children'] == 4]['children'].count() / data['children'].count()\n",
    "with_5_children = data[data['children'] == 5]['children'].count() / data['children'].count()\n",
    "print('''Процент людей, имеющих 3 ребёнка: {:.2%}.\n",
    "Процент людей, имеющих 4 ребёнка: {:.2%}.\n",
    "Процент людей, имеющих 5 детей: {:.2%}'''.format(with_3_children, with_4_children, with_5_children))"
   ]
  },
  {
   "cell_type": "markdown",
   "id": "5bad4f77",
   "metadata": {},
   "source": [
    "**Как мы видим в таблице представлено совсем немного пользователей у которых 3, 4 и 5 детей. Суммарно это 380 человек из которых 41 имеют 4 ребёнка и лишь 9 имеют 5 детей, что составляет соответственно 1.55%, 0.19% и 0.04% от общей выборки. Суммарно колличество людей, входящих в эти 3 группы, составляет менее 2% от общего числа клиентов.**"
   ]
  },
  {
   "cell_type": "code",
   "execution_count": 24,
   "id": "7fcff25e",
   "metadata": {
    "deletable": false,
    "id": "7fcff25e"
   },
   "outputs": [
    {
     "name": "stdout",
     "output_type": "stream",
     "text": [
      "Процент людей, имеющих количество детей 0 и задолженность: 8%\n",
      "Процент людей, имеющих количество детей 1 и задолженность: 9%\n",
      "Процент людей, имеющих количество детей 2 и задолженность: 9%\n",
      "Процент людей, имеющих количество детей 3 и задолженность: 8%\n",
      "Процент людей, имеющих количество детей 4 и задолженность: 10%\n",
      "Процент людей, имеющих количество детей 5 и задолженность: 0%\n"
     ]
    }
   ],
   "source": [
    "by_children = data.groupby('children').agg({'debt': ['count', 'sum']})\n",
    "debt_by_children = by_children['debt']['sum'] / by_children['debt']['count']\n",
    "for child in unique_children:\n",
    "    print('Процент людей, имеющих количество детей {} и задолженность: {:.0%}'.format(\n",
    "        child, debt_by_children[child]\n",
    "    ))"
   ]
  },
  {
   "cell_type": "code",
   "execution_count": 25,
   "id": "4b4ed9d1",
   "metadata": {},
   "outputs": [
    {
     "data": {
      "text/html": [
       "<div>\n",
       "<style scoped>\n",
       "    .dataframe tbody tr th:only-of-type {\n",
       "        vertical-align: middle;\n",
       "    }\n",
       "\n",
       "    .dataframe tbody tr th {\n",
       "        vertical-align: top;\n",
       "    }\n",
       "\n",
       "    .dataframe thead th {\n",
       "        text-align: right;\n",
       "    }\n",
       "</style>\n",
       "<table border=\"1\" class=\"dataframe\">\n",
       "  <thead>\n",
       "    <tr style=\"text-align: right;\">\n",
       "      <th></th>\n",
       "      <th>children</th>\n",
       "      <th>days_employed</th>\n",
       "      <th>dob_years</th>\n",
       "      <th>education</th>\n",
       "      <th>education_id</th>\n",
       "      <th>family_status</th>\n",
       "      <th>family_status_id</th>\n",
       "      <th>gender</th>\n",
       "      <th>income_type</th>\n",
       "      <th>debt</th>\n",
       "      <th>total_income</th>\n",
       "      <th>purpose</th>\n",
       "      <th>total_income_category</th>\n",
       "      <th>purpose_category</th>\n",
       "    </tr>\n",
       "  </thead>\n",
       "  <tbody>\n",
       "    <tr>\n",
       "      <th>3979</th>\n",
       "      <td>5</td>\n",
       "      <td>1572.328285</td>\n",
       "      <td>42</td>\n",
       "      <td>среднее</td>\n",
       "      <td>1</td>\n",
       "      <td>гражданский брак</td>\n",
       "      <td>1</td>\n",
       "      <td>M</td>\n",
       "      <td>сотрудник</td>\n",
       "      <td>0</td>\n",
       "      <td>142594</td>\n",
       "      <td>на покупку своего автомобиля</td>\n",
       "      <td>C</td>\n",
       "      <td>операции с автомобилем</td>\n",
       "    </tr>\n",
       "    <tr>\n",
       "      <th>4397</th>\n",
       "      <td>5</td>\n",
       "      <td>3248.839837</td>\n",
       "      <td>36</td>\n",
       "      <td>среднее</td>\n",
       "      <td>1</td>\n",
       "      <td>женат / замужем</td>\n",
       "      <td>0</td>\n",
       "      <td>F</td>\n",
       "      <td>компаньон</td>\n",
       "      <td>0</td>\n",
       "      <td>168460</td>\n",
       "      <td>операции с недвижимостью</td>\n",
       "      <td>C</td>\n",
       "      <td>операции с недвижимостью</td>\n",
       "    </tr>\n",
       "    <tr>\n",
       "      <th>7866</th>\n",
       "      <td>5</td>\n",
       "      <td>773.124856</td>\n",
       "      <td>36</td>\n",
       "      <td>среднее</td>\n",
       "      <td>1</td>\n",
       "      <td>женат / замужем</td>\n",
       "      <td>0</td>\n",
       "      <td>F</td>\n",
       "      <td>сотрудник</td>\n",
       "      <td>0</td>\n",
       "      <td>48772</td>\n",
       "      <td>операции с жильем</td>\n",
       "      <td>D</td>\n",
       "      <td>операции с недвижимостью</td>\n",
       "    </tr>\n",
       "    <tr>\n",
       "      <th>15822</th>\n",
       "      <td>5</td>\n",
       "      <td>418.199982</td>\n",
       "      <td>31</td>\n",
       "      <td>среднее</td>\n",
       "      <td>1</td>\n",
       "      <td>женат / замужем</td>\n",
       "      <td>0</td>\n",
       "      <td>F</td>\n",
       "      <td>сотрудник</td>\n",
       "      <td>0</td>\n",
       "      <td>77552</td>\n",
       "      <td>сделка с подержанным автомобилем</td>\n",
       "      <td>C</td>\n",
       "      <td>операции с автомобилем</td>\n",
       "    </tr>\n",
       "    <tr>\n",
       "      <th>15916</th>\n",
       "      <td>5</td>\n",
       "      <td>2286.262752</td>\n",
       "      <td>37</td>\n",
       "      <td>среднее</td>\n",
       "      <td>1</td>\n",
       "      <td>женат / замужем</td>\n",
       "      <td>0</td>\n",
       "      <td>F</td>\n",
       "      <td>сотрудник</td>\n",
       "      <td>0</td>\n",
       "      <td>256698</td>\n",
       "      <td>покупка недвижимости</td>\n",
       "      <td>B</td>\n",
       "      <td>операции с недвижимостью</td>\n",
       "    </tr>\n",
       "    <tr>\n",
       "      <th>16211</th>\n",
       "      <td>5</td>\n",
       "      <td>387.317579</td>\n",
       "      <td>35</td>\n",
       "      <td>среднее</td>\n",
       "      <td>1</td>\n",
       "      <td>гражданский брак</td>\n",
       "      <td>1</td>\n",
       "      <td>F</td>\n",
       "      <td>госслужащий</td>\n",
       "      <td>0</td>\n",
       "      <td>126102</td>\n",
       "      <td>на проведение свадьбы</td>\n",
       "      <td>C</td>\n",
       "      <td>проведение свадьбы</td>\n",
       "    </tr>\n",
       "    <tr>\n",
       "      <th>20452</th>\n",
       "      <td>5</td>\n",
       "      <td>268.425464</td>\n",
       "      <td>38</td>\n",
       "      <td>начальное</td>\n",
       "      <td>3</td>\n",
       "      <td>женат / замужем</td>\n",
       "      <td>0</td>\n",
       "      <td>F</td>\n",
       "      <td>сотрудник</td>\n",
       "      <td>0</td>\n",
       "      <td>212545</td>\n",
       "      <td>заняться высшим образованием</td>\n",
       "      <td>B</td>\n",
       "      <td>получение образования</td>\n",
       "    </tr>\n",
       "    <tr>\n",
       "      <th>20837</th>\n",
       "      <td>5</td>\n",
       "      <td>2386.600221</td>\n",
       "      <td>35</td>\n",
       "      <td>среднее</td>\n",
       "      <td>1</td>\n",
       "      <td>женат / замужем</td>\n",
       "      <td>0</td>\n",
       "      <td>F</td>\n",
       "      <td>компаньон</td>\n",
       "      <td>0</td>\n",
       "      <td>204241</td>\n",
       "      <td>жилье</td>\n",
       "      <td>B</td>\n",
       "      <td>операции с недвижимостью</td>\n",
       "    </tr>\n",
       "    <tr>\n",
       "      <th>21156</th>\n",
       "      <td>5</td>\n",
       "      <td>1690.018117</td>\n",
       "      <td>59</td>\n",
       "      <td>среднее</td>\n",
       "      <td>1</td>\n",
       "      <td>женат / замужем</td>\n",
       "      <td>0</td>\n",
       "      <td>M</td>\n",
       "      <td>сотрудник</td>\n",
       "      <td>0</td>\n",
       "      <td>269068</td>\n",
       "      <td>операции со своей недвижимостью</td>\n",
       "      <td>B</td>\n",
       "      <td>операции с недвижимостью</td>\n",
       "    </tr>\n",
       "  </tbody>\n",
       "</table>\n",
       "</div>"
      ],
      "text/plain": [
       "       children  days_employed  dob_years  education  education_id  \\\n",
       "3979          5    1572.328285         42    среднее             1   \n",
       "4397          5    3248.839837         36    среднее             1   \n",
       "7866          5     773.124856         36    среднее             1   \n",
       "15822         5     418.199982         31    среднее             1   \n",
       "15916         5    2286.262752         37    среднее             1   \n",
       "16211         5     387.317579         35    среднее             1   \n",
       "20452         5     268.425464         38  начальное             3   \n",
       "20837         5    2386.600221         35    среднее             1   \n",
       "21156         5    1690.018117         59    среднее             1   \n",
       "\n",
       "          family_status  family_status_id gender  income_type  debt  \\\n",
       "3979   гражданский брак                 1      M    сотрудник     0   \n",
       "4397    женат / замужем                 0      F    компаньон     0   \n",
       "7866    женат / замужем                 0      F    сотрудник     0   \n",
       "15822   женат / замужем                 0      F    сотрудник     0   \n",
       "15916   женат / замужем                 0      F    сотрудник     0   \n",
       "16211  гражданский брак                 1      F  госслужащий     0   \n",
       "20452   женат / замужем                 0      F    сотрудник     0   \n",
       "20837   женат / замужем                 0      F    компаньон     0   \n",
       "21156   женат / замужем                 0      M    сотрудник     0   \n",
       "\n",
       "       total_income                           purpose total_income_category  \\\n",
       "3979         142594      на покупку своего автомобиля                     C   \n",
       "4397         168460          операции с недвижимостью                     C   \n",
       "7866          48772                 операции с жильем                     D   \n",
       "15822         77552  сделка с подержанным автомобилем                     C   \n",
       "15916        256698              покупка недвижимости                     B   \n",
       "16211        126102             на проведение свадьбы                     C   \n",
       "20452        212545      заняться высшим образованием                     B   \n",
       "20837        204241                             жилье                     B   \n",
       "21156        269068   операции со своей недвижимостью                     B   \n",
       "\n",
       "               purpose_category  \n",
       "3979     операции с автомобилем  \n",
       "4397   операции с недвижимостью  \n",
       "7866   операции с недвижимостью  \n",
       "15822    операции с автомобилем  \n",
       "15916  операции с недвижимостью  \n",
       "16211        проведение свадьбы  \n",
       "20452     получение образования  \n",
       "20837  операции с недвижимостью  \n",
       "21156  операции с недвижимостью  "
      ]
     },
     "execution_count": 25,
     "metadata": {},
     "output_type": "execute_result"
    }
   ],
   "source": [
    "data[data['children'] == 5]"
   ]
  },
  {
   "cell_type": "markdown",
   "id": "2eb9088e",
   "metadata": {
    "deletable": false,
    "id": "2eb9088e"
   },
   "source": [
    "**Вывод:\n",
    "Процент людей имеющих задолженность варьируется в пределах 2% у людей имеющих от 0 до 4 детей. При этом он резко снижается до 0% у людей, имеющих 5 детей. Так как данных о клиентах, имеющих 3, 4 и 5 детей, крайне мало, полученную в результате анализа этих клиентов информацию о корреляции между количеством детей и возвратом кредита в срок навряд ли можно назвать репрезентативной для этой группы. Нулевой процент задолженности у людей, имеющих 5 детей может быть просто совпадением. При возрастании количества детей с 0 до 2-х мы видим постепенный рост процента задолженности на 1%. Таким образом в целом можно утверждать, что зависимость между количеством детей и ростом веротности появления задолженности имеется. Чем больше в семье детей, тем в среднем выше риск возникновения задолженности. Этот вывод сделан на основании анализа данных о клиентах с 0, 1 и 2 детьми. Для экстраполяции исследования на клиентов с 3, 4 и 5 детьми требуется больше записей по таким клиентам. Имеющееся количество не является в полной мере репрезентативным.** "
   ]
  },
  {
   "cell_type": "markdown",
   "id": "74c9b3a7",
   "metadata": {
    "deletable": false,
    "editable": false,
    "id": "74c9b3a7"
   },
   "source": [
    "#### 3.2 Есть ли зависимость между семейным положением и возвратом кредита в срок?"
   ]
  },
  {
   "cell_type": "markdown",
   "id": "dca4bc0e",
   "metadata": {},
   "source": [
    "**Посчитаем сколько записей в данных есть для каждого уникального семейного статуса клиента.**"
   ]
  },
  {
   "cell_type": "code",
   "execution_count": 26,
   "id": "8098ab3b",
   "metadata": {
    "deletable": false,
    "id": "8098ab3b",
    "scrolled": true
   },
   "outputs": [
    {
     "data": {
      "text/plain": [
       "женат / замужем          12261\n",
       "гражданский брак          4134\n",
       "Не женат / не замужем     2796\n",
       "в разводе                 1189\n",
       "вдовец / вдова             951\n",
       "Name: family_status, dtype: int64"
      ]
     },
     "execution_count": 26,
     "metadata": {},
     "output_type": "execute_result"
    }
   ],
   "source": [
    "data['family_status'].value_counts()"
   ]
  },
  {
   "cell_type": "markdown",
   "id": "c0ab40c8",
   "metadata": {},
   "source": [
    "**Данные в целом являются довольно репрезентативными. Подавляющее большинство клиентов составляют люди находящиеся в официальном браке, тогда как меньшинство - овдовевшие.**"
   ]
  },
  {
   "cell_type": "code",
   "execution_count": 27,
   "id": "4dac26f8",
   "metadata": {},
   "outputs": [
    {
     "name": "stdout",
     "output_type": "stream",
     "text": [
      "Процент людей в семейном статусе женат / замужем и имеющих задолженность: 8%\n",
      "Процент людей в семейном статусе гражданский брак и имеющих задолженность: 9%\n",
      "Процент людей в семейном статусе вдовец / вдова и имеющих задолженность: 7%\n",
      "Процент людей в семейном статусе в разводе и имеющих задолженность: 7%\n",
      "Процент людей в семейном статусе Не женат / не замужем и имеющих задолженность: 10%\n"
     ]
    }
   ],
   "source": [
    "by_family = data.groupby('family_status').agg({'debt': ['count', 'sum']})\n",
    "debt_by_family = by_family['debt']['sum'] / by_family['debt']['count']\n",
    "unique_family_statuses = data['family_status'].unique()\n",
    "for status in unique_family_statuses:\n",
    "    print('Процент людей в семейном статусе {} и имеющих задолженность: {:.0%}'.format(\n",
    "        status, debt_by_family[status]\n",
    "    ))"
   ]
  },
  {
   "cell_type": "markdown",
   "id": "c389ca63",
   "metadata": {
    "deletable": false,
    "id": "c389ca63"
   },
   "source": [
    "**Вывод: Можно утверждать, что коллебания по проценту клиентов с задолженностью в рамках семейных групп также не очень велико и составляет 3%. При этом мы всё же можем проследить некоторую незначительную зависимость, согласно которой максимальный процент людей имеющих задолженность (10% от группы) наблюдается среди неженатых / незамужних клиентов.** "
   ]
  },
  {
   "cell_type": "markdown",
   "id": "9529de68",
   "metadata": {
    "deletable": false,
    "editable": false,
    "id": "9529de68"
   },
   "source": [
    "#### 3.3 Есть ли зависимость между уровнем дохода и возвратом кредита в срок?"
   ]
  },
  {
   "cell_type": "markdown",
   "id": "9619fddd",
   "metadata": {},
   "source": [
    "**Посчитаем сколько записей в данных есть для каждой уникальной категории дохода клиента.**"
   ]
  },
  {
   "cell_type": "code",
   "execution_count": 28,
   "id": "8787f44a",
   "metadata": {
    "deletable": false,
    "id": "8787f44a"
   },
   "outputs": [
    {
     "data": {
      "text/plain": [
       "C    15921\n",
       "B     5014\n",
       "D      349\n",
       "A       25\n",
       "E       22\n",
       "Name: total_income_category, dtype: int64"
      ]
     },
     "metadata": {},
     "output_type": "display_data"
    },
    {
     "name": "stdout",
     "output_type": "stream",
     "text": [
      "Процент людей, имеющих доход 30 000 руб. и менее: 0.10%.\n",
      "Процент людей, имеющих доход от 30 001 руб. до 50 000 руб.: 1.74%.\n",
      "Процент людей, имеющих доход более 1 000 000 руб: 0.12%\n"
     ]
    }
   ],
   "source": [
    "display(data['total_income_category'].value_counts())\n",
    "less_than_50000 = data[data['total_income'] <= 50000]['total_income'].count() / data['total_income'].count()\n",
    "less_than_30000 = data[data['total_income'] <= 30000]['total_income'].count() / data['total_income'].count()\n",
    "more_than_1000000 = data[data['total_income'] > 1000000]['total_income'].count() / data['total_income'].count()\n",
    "print('''Процент людей, имеющих доход 30 000 руб. и менее: {:.2%}.\n",
    "Процент людей, имеющих доход от 30 001 руб. до 50 000 руб.: {:.2%}.\n",
    "Процент людей, имеющих доход более 1 000 000 руб: {:.2%}'''.format(\n",
    "    less_than_30000, less_than_50000, more_than_1000000\n",
    "))"
   ]
  },
  {
   "cell_type": "markdown",
   "id": "3f98bcb3",
   "metadata": {},
   "source": [
    "**Как мы видим, доля людей, имеющих доход категории \"А\", \"D\" и \"Е\" крайне невелика и составляет всего 0.12%, 1.74% и 0.10% соответственно. Распределение здесь похоже на расперделение данных о клиентах с детьми. Группы клиентов, относящихся к категориям дохода \"А\", \"D\" и \"Е\" весьма немногочисленны и наврядли могут быть названы репрезентативными.**"
   ]
  },
  {
   "cell_type": "code",
   "execution_count": 29,
   "id": "32fe2ca8",
   "metadata": {},
   "outputs": [
    {
     "name": "stdout",
     "output_type": "stream",
     "text": [
      "Процент людей с доходом категории A (доход: 1 000 001 и выше) и имеющих задолженность: 8%\n",
      "Процент людей с доходом категории B (доход: 200 001 – 1 000 000) и имеющих задолженность: 7%\n",
      "Процент людей с доходом категории C (доход: 50 001 – 200 000) и имеющих задолженность: 8%\n",
      "Процент людей с доходом категории D (доход: 30 001 – 50 000) и имеющих задолженность: 6%\n",
      "Процент людей с доходом категории E (доход: 0 – 30 000) и имеющих задолженность: 9%\n"
     ]
    }
   ],
   "source": [
    "category_num_dict = {\n",
    "    'A': '1 000 001 и выше',\n",
    "    'B': '200 001 – 1 000 000',\n",
    "    'C': '50 001 – 200 000',\n",
    "    'D': '30 001 – 50 000',\n",
    "    'E': '0 – 30 000'\n",
    "}\n",
    "by_income = data.groupby('total_income_category').agg({'debt': ['count', 'sum']})\n",
    "debt_by_category = by_income['debt']['sum'] / by_income['debt']['count']\n",
    "unique_income_categories = sorted(data['total_income_category'].unique())\n",
    "for category in unique_income_categories:\n",
    "    print('Процент людей с доходом категории {} (доход: {}) и имеющих задолженность: {:.0%}'.format(\n",
    "        category, category_num_dict[category], debt_by_category[category]\n",
    "    ))"
   ]
  },
  {
   "cell_type": "markdown",
   "id": "6dd14b57",
   "metadata": {
    "deletable": false,
    "id": "6dd14b57"
   },
   "source": [
    "**Вывод: наименьший процент задолженности наблюдается у людей с доходом от 30 001 до 50 000 руб. Он составляет всего 6%, наибольшее же процентное соотношение клиентов с задолженностью и без наблюдается в группе E (доход: 0 – 30 000), однако эти группы нельзя назвать полностью репрезентативными в силу их малой численности (349 и 22 человека соответственно). Группы с доходами от 50 001 до 200 000 и от 1 000 001 имеют стандартный процент задолженности: 8%, однако группа с доходами от миллиона и выше также весьма малочисленна (25 человек) и нерепрезентативна, тогда как процент задолженности в промежуточной группе (от 200 001 до 1 000 000) чуть ниже и составляет 7%. Ярких отклонений в группах не замечено. Если анализировать самые многочисленные выборки B и C, можно констатировать обратную зависимость между уровнем дохода и уровнем риска возникновения задолженности. Чем доход клиента выше, тем с меньшей вероятностью у него возникнет задолженность.** "
   ]
  },
  {
   "cell_type": "markdown",
   "id": "1dcc9b12",
   "metadata": {
    "deletable": false,
    "editable": false,
    "id": "1dcc9b12"
   },
   "source": [
    "#### 3.4 Как разные цели кредита влияют на его возврат в срок?"
   ]
  },
  {
   "cell_type": "markdown",
   "id": "cb417968",
   "metadata": {},
   "source": [
    "**Посчитаем сколько записей в данных есть для каждой уникальной группы целей клиента.**"
   ]
  },
  {
   "cell_type": "code",
   "execution_count": 30,
   "id": "c602bc8b",
   "metadata": {
    "deletable": false,
    "id": "c602bc8b"
   },
   "outputs": [
    {
     "data": {
      "text/plain": [
       "операции с недвижимостью    10751\n",
       "операции с автомобилем       4279\n",
       "получение образования        3988\n",
       "проведение свадьбы           2313\n",
       "Name: purpose_category, dtype: int64"
      ]
     },
     "execution_count": 30,
     "metadata": {},
     "output_type": "execute_result"
    }
   ],
   "source": [
    "data['purpose_category'].value_counts()"
   ]
  },
  {
   "cell_type": "markdown",
   "id": "352202e3",
   "metadata": {},
   "source": [
    "**Данные в целом являются довольно репрезентативными. Подавляющее большинство клиентов составляют люди, берущие кредит для проведения операций с недвижимостью, тогда как меньшинство оформляет кредит для проведения свадьбы.**"
   ]
  },
  {
   "cell_type": "code",
   "execution_count": 31,
   "id": "616a3581",
   "metadata": {},
   "outputs": [
    {
     "name": "stdout",
     "output_type": "stream",
     "text": [
      "Процент людей с целями в категории \"операции с недвижимостью\" и имеющих задолженность: 7%\n",
      "Процент людей с целями в категории \"операции с автомобилем\" и имеющих задолженность: 9%\n",
      "Процент людей с целями в категории \"получение образования\" и имеющих задолженность: 9%\n",
      "Процент людей с целями в категории \"проведение свадьбы\" и имеющих задолженность: 8%\n"
     ]
    }
   ],
   "source": [
    "by_purpose = data.groupby('purpose_category').agg({'debt': ['count', 'sum']})\n",
    "debt_by_purpose = by_purpose['debt']['sum'] / by_purpose['debt']['count']\n",
    "unique_purposes = data['purpose_category'].unique()\n",
    "for purpose in unique_purposes:\n",
    "    print('Процент людей с целями в категории \"{}\" и имеющих задолженность: {:.0%}'.format(\n",
    "        purpose, debt_by_purpose[purpose]\n",
    "    ))"
   ]
  },
  {
   "cell_type": "markdown",
   "id": "cf05ed63",
   "metadata": {
    "deletable": false,
    "id": "cf05ed63"
   },
   "source": [
    "**Вывод: процент задолженности меньше в категории целей \"операции с недвижимостью\", там он составляет 7%, выше всего процент задолженности в двух категориях: \"получение образования\" и \"операции с автомобилем\" - 9%. Средний процент задолженности у категории целей \"проведение свадьбы\" - 8%. Мы опять же не наблюдаем сильных отклонений от среднего процента по всем данным (8%). Нельзя сказать, что какая-либо ярко выраженная зависимость от одного этого показателя прослеживается в имеющихся данных.** "
   ]
  },
  {
   "cell_type": "markdown",
   "id": "46c1f10b",
   "metadata": {
    "deletable": false,
    "editable": false,
    "id": "46c1f10b"
   },
   "source": [
    "#### 3.5 Приведите возможные причины появления пропусков в исходных данных."
   ]
  },
  {
   "cell_type": "markdown",
   "id": "3697d2a9",
   "metadata": {
    "deletable": false,
    "id": "3697d2a9"
   },
   "source": [
    "*Ответ: в целом пропуски могут возникнуть как из-за технической причины (баг формы сбора данных, отсутствие вопросов в опросном листе), так и из-за человеческого фактора (респондент может отказаться предоставлять сведения). Так как пропуски в исходных данных мы наблюдали только в 2-х колонках и их равное количество в каждой колонке (2174), я могу предположить, что они возникли скорее из-за технической причины. Например, какое-то время POST-запрос не записывал в базу данных ответы на эти два вопроса, либо же вопросы в принципе не отображались/не задавались.* "
   ]
  },
  {
   "cell_type": "markdown",
   "id": "3137d257",
   "metadata": {
    "deletable": false,
    "editable": false,
    "id": "3137d257"
   },
   "source": [
    "#### 3.6 Объясните, почему заполнить пропуски медианным значением — лучшее решение для количественных переменных."
   ]
  },
  {
   "cell_type": "markdown",
   "id": "cf40012a",
   "metadata": {
    "deletable": false,
    "id": "cf40012a"
   },
   "source": [
    "*Ответ: На первый взгляд наиболее оптимальным способом замены пропусков в числовых данных действительно кажется использование медианы. Медиана позволяет избежать искажений, связанных с выбросами в данных. Например, если в количественных данных присутствует небольшой процент цифр со значениями существенно выше или наоборот ниже, чем основная выборка, подсчёт среднего арифметического может быть ощутимо искажён. (E.g. в ряду 1, 1, 1, 1, 10000000 среднее арифметическое не будет отражать превалирующее значение столбца). В этом случае медиана куда более точна. Однако медиану нельзя назвать безапелляционно лучшим решением. Если пропусков в данных какое-то ощутимое количество, то заполнение даже медианой может вызвать искажение всех показателей, характеризующих свойства распределения (кроме среднего значения), а также отразиться в заниженной корреляции и завышенной оценке стандартных отклонений. Существует мнение, что одним из наиболее оптимальных подходов к восстановлению пропусков является применение методов на основе регрессионных моделей, в частности на основе стохастической линейной регрессии. Этот подход позволяет не только отразить в заполненных пропусках линейную зависимость между характеристиками, но и отклонения от линейной зависимости. К сожалению, пока я знаком с этим подходом только в теории и не обладаю достаточными навыками для его применения.* "
   ]
  },
  {
   "cell_type": "markdown",
   "id": "57bc304e",
   "metadata": {
    "deletable": false,
    "editable": false,
    "id": "57bc304e"
   },
   "source": [
    "### Шаг 4: общий вывод."
   ]
  },
  {
   "cell_type": "markdown",
   "id": "1ab75d1c",
   "metadata": {
    "deletable": false,
    "id": "1ab75d1c"
   },
   "source": [
    "**Подводя итог, можно отметить, что в целом по каждой из анализируемых характеристик не выявлено слишком больших отклонений от средней задолженности в 8%. Отклонения колебались в пределах +- 2%. Однако некоторые закономерности мы можем отследить.**\n",
    "- Люди берущие кредит для осуществления операций с недвижимостью, с меньшей вероятностью допускают задолженности, чем люди, берущие его для получения образования или операций с автомобилем;\n",
    "- Чем меньше количество детей у клиента, тем меньше вероятность возникновения задолженности;\n",
    "- Чем доход клиента выше, тем с меньшей вероятностью у него возникнет задолженность;\n",
    "- Максимальный процент людей имеющих задолженность (10% от группы) наблюдается среди неженатых / незамужних клиентов.\n",
    "\n",
    "**Также можно предположить, что нескольких критериев, по которым была замечена чуть меньшая или наоборот большая вероятность задолженности, будут усиливать друг друга, демонстрируя более ярко выраженную корреляцию. Таким образом, данные, полученные на предыдущих этапах могут послужить основой для последующих уже кросс-категориальных исследований.**"
   ]
  }
 ],
 "metadata": {
  "ExecuteTimeLog": [
   {
    "duration": 470,
    "start_time": "2023-07-30T12:17:52.884Z"
   },
   {
    "duration": 32,
    "start_time": "2023-07-30T12:17:53.356Z"
   },
   {
    "duration": 14,
    "start_time": "2023-07-30T12:17:53.390Z"
   },
   {
    "duration": 13,
    "start_time": "2023-07-30T12:17:53.406Z"
   },
   {
    "duration": 54,
    "start_time": "2023-07-30T12:17:53.421Z"
   },
   {
    "duration": 4,
    "start_time": "2023-07-30T12:17:53.477Z"
   },
   {
    "duration": 9,
    "start_time": "2023-07-30T12:17:53.485Z"
   },
   {
    "duration": 6,
    "start_time": "2023-07-30T12:17:53.496Z"
   },
   {
    "duration": 11,
    "start_time": "2023-07-30T12:17:53.504Z"
   },
   {
    "duration": 5,
    "start_time": "2023-07-30T12:17:53.517Z"
   },
   {
    "duration": 66,
    "start_time": "2023-07-30T12:17:53.524Z"
   },
   {
    "duration": 11,
    "start_time": "2023-07-30T12:17:53.592Z"
   },
   {
    "duration": 5,
    "start_time": "2023-07-30T12:17:53.605Z"
   },
   {
    "duration": 12,
    "start_time": "2023-07-30T12:17:53.613Z"
   },
   {
    "duration": 47,
    "start_time": "2023-07-30T12:17:53.626Z"
   },
   {
    "duration": 20,
    "start_time": "2023-07-30T12:17:53.675Z"
   },
   {
    "duration": 4,
    "start_time": "2023-07-30T12:17:53.696Z"
   },
   {
    "duration": 13,
    "start_time": "2023-07-30T12:17:53.702Z"
   },
   {
    "duration": 13,
    "start_time": "2023-07-30T12:17:53.717Z"
   },
   {
    "duration": 4,
    "start_time": "2023-07-30T12:17:53.731Z"
   },
   {
    "duration": 13,
    "start_time": "2023-07-30T12:17:53.761Z"
   },
   {
    "duration": 22,
    "start_time": "2023-07-30T12:17:57.588Z"
   },
   {
    "duration": 11,
    "start_time": "2023-07-30T13:47:24.682Z"
   },
   {
    "duration": 7,
    "start_time": "2023-07-30T13:49:57.957Z"
   },
   {
    "duration": 1771,
    "start_time": "2023-07-30T13:57:46.772Z"
   },
   {
    "duration": 15,
    "start_time": "2023-07-30T13:58:47.503Z"
   },
   {
    "duration": 10,
    "start_time": "2023-07-30T14:00:09.582Z"
   },
   {
    "duration": 3,
    "start_time": "2023-07-30T14:00:38.203Z"
   },
   {
    "duration": 3,
    "start_time": "2023-07-30T14:00:41.151Z"
   },
   {
    "duration": 7,
    "start_time": "2023-07-30T14:00:55.503Z"
   },
   {
    "duration": 4,
    "start_time": "2023-07-30T14:01:13.508Z"
   },
   {
    "duration": 67,
    "start_time": "2023-07-30T14:01:40.366Z"
   },
   {
    "duration": 14,
    "start_time": "2023-07-30T14:01:40.435Z"
   },
   {
    "duration": 15,
    "start_time": "2023-07-30T14:01:40.451Z"
   },
   {
    "duration": 9,
    "start_time": "2023-07-30T14:01:40.468Z"
   },
   {
    "duration": 32,
    "start_time": "2023-07-30T14:01:40.478Z"
   },
   {
    "duration": 3,
    "start_time": "2023-07-30T14:01:40.512Z"
   },
   {
    "duration": 9,
    "start_time": "2023-07-30T14:01:40.516Z"
   },
   {
    "duration": 4,
    "start_time": "2023-07-30T14:01:40.527Z"
   },
   {
    "duration": 6,
    "start_time": "2023-07-30T14:01:40.559Z"
   },
   {
    "duration": 5,
    "start_time": "2023-07-30T14:01:40.567Z"
   },
   {
    "duration": 31,
    "start_time": "2023-07-30T14:01:40.574Z"
   },
   {
    "duration": 10,
    "start_time": "2023-07-30T14:01:40.606Z"
   },
   {
    "duration": 23,
    "start_time": "2023-07-30T14:01:40.617Z"
   },
   {
    "duration": 19,
    "start_time": "2023-07-30T14:01:40.642Z"
   },
   {
    "duration": 22,
    "start_time": "2023-07-30T14:01:40.663Z"
   },
   {
    "duration": 17,
    "start_time": "2023-07-30T14:01:40.686Z"
   },
   {
    "duration": 4,
    "start_time": "2023-07-30T14:01:40.704Z"
   },
   {
    "duration": 16,
    "start_time": "2023-07-30T14:01:40.709Z"
   },
   {
    "duration": 8,
    "start_time": "2023-07-30T14:01:40.727Z"
   },
   {
    "duration": 3,
    "start_time": "2023-07-30T14:01:40.736Z"
   },
   {
    "duration": 8,
    "start_time": "2023-07-30T14:01:40.759Z"
   },
   {
    "duration": 12,
    "start_time": "2023-07-30T14:01:42.763Z"
   },
   {
    "duration": 6,
    "start_time": "2023-07-30T14:05:45.636Z"
   },
   {
    "duration": 18,
    "start_time": "2023-07-30T15:13:22.459Z"
   },
   {
    "duration": 16,
    "start_time": "2023-07-30T20:14:16.100Z"
   },
   {
    "duration": 15,
    "start_time": "2023-07-30T20:16:28.951Z"
   },
   {
    "duration": 108,
    "start_time": "2023-07-30T20:17:37.934Z"
   },
   {
    "duration": 113,
    "start_time": "2023-07-30T20:17:52.786Z"
   },
   {
    "duration": 12,
    "start_time": "2023-07-30T20:17:57.682Z"
   },
   {
    "duration": 10,
    "start_time": "2023-07-30T20:18:16.608Z"
   },
   {
    "duration": 9,
    "start_time": "2023-07-30T20:20:21.082Z"
   },
   {
    "duration": 9,
    "start_time": "2023-07-30T20:23:05.248Z"
   },
   {
    "duration": 9,
    "start_time": "2023-07-30T20:23:11.738Z"
   },
   {
    "duration": 7,
    "start_time": "2023-07-30T20:53:06.516Z"
   },
   {
    "duration": 11,
    "start_time": "2023-07-30T20:55:00.739Z"
   },
   {
    "duration": 11,
    "start_time": "2023-07-30T20:56:48.716Z"
   },
   {
    "duration": 17,
    "start_time": "2023-07-30T20:58:18.052Z"
   },
   {
    "duration": 155,
    "start_time": "2023-07-30T21:19:02.285Z"
   },
   {
    "duration": 51,
    "start_time": "2023-07-31T09:19:18.120Z"
   },
   {
    "duration": 738,
    "start_time": "2023-07-31T09:19:30.424Z"
   },
   {
    "duration": 30,
    "start_time": "2023-07-31T09:19:31.164Z"
   },
   {
    "duration": 43,
    "start_time": "2023-07-31T09:19:31.196Z"
   },
   {
    "duration": 56,
    "start_time": "2023-07-31T09:19:31.241Z"
   },
   {
    "duration": 76,
    "start_time": "2023-07-31T09:19:31.299Z"
   },
   {
    "duration": 12,
    "start_time": "2023-07-31T09:19:31.377Z"
   },
   {
    "duration": 44,
    "start_time": "2023-07-31T09:19:31.390Z"
   },
   {
    "duration": 30,
    "start_time": "2023-07-31T09:19:31.435Z"
   },
   {
    "duration": 62,
    "start_time": "2023-07-31T09:19:31.466Z"
   },
   {
    "duration": 21,
    "start_time": "2023-07-31T09:19:31.531Z"
   },
   {
    "duration": 80,
    "start_time": "2023-07-31T09:19:31.554Z"
   },
   {
    "duration": 13,
    "start_time": "2023-07-31T09:19:31.635Z"
   },
   {
    "duration": 38,
    "start_time": "2023-07-31T09:19:31.650Z"
   },
   {
    "duration": 53,
    "start_time": "2023-07-31T09:19:31.691Z"
   },
   {
    "duration": 72,
    "start_time": "2023-07-31T09:19:31.745Z"
   },
   {
    "duration": 36,
    "start_time": "2023-07-31T09:19:31.819Z"
   },
   {
    "duration": 22,
    "start_time": "2023-07-31T09:19:31.857Z"
   },
   {
    "duration": 69,
    "start_time": "2023-07-31T09:19:31.881Z"
   },
   {
    "duration": 25,
    "start_time": "2023-07-31T09:19:31.952Z"
   },
   {
    "duration": 47,
    "start_time": "2023-07-31T09:19:31.978Z"
   },
   {
    "duration": 37,
    "start_time": "2023-07-31T09:19:32.027Z"
   },
   {
    "duration": 29,
    "start_time": "2023-07-31T09:19:32.066Z"
   },
   {
    "duration": 34,
    "start_time": "2023-07-31T09:19:32.097Z"
   },
   {
    "duration": 34,
    "start_time": "2023-07-31T09:19:32.133Z"
   },
   {
    "duration": 34,
    "start_time": "2023-07-31T09:19:32.169Z"
   },
   {
    "duration": 49,
    "start_time": "2023-07-31T09:19:32.204Z"
   },
   {
    "duration": 7,
    "start_time": "2023-07-31T09:19:33.765Z"
   },
   {
    "duration": 1279,
    "start_time": "2023-07-31T09:30:01.099Z"
   },
   {
    "duration": 119,
    "start_time": "2023-07-31T09:30:26.606Z"
   },
   {
    "duration": 104,
    "start_time": "2023-07-31T09:30:49.161Z"
   },
   {
    "duration": 111,
    "start_time": "2023-07-31T09:30:58.606Z"
   },
   {
    "duration": 16,
    "start_time": "2023-07-31T09:55:24.513Z"
   },
   {
    "duration": 2120,
    "start_time": "2023-07-31T09:56:54.051Z"
   },
   {
    "duration": 90,
    "start_time": "2023-07-31T09:57:12.761Z"
   },
   {
    "duration": 22,
    "start_time": "2023-07-31T09:57:12.854Z"
   },
   {
    "duration": 76,
    "start_time": "2023-07-31T09:57:12.878Z"
   },
   {
    "duration": 25,
    "start_time": "2023-07-31T09:57:12.956Z"
   },
   {
    "duration": 67,
    "start_time": "2023-07-31T09:57:12.984Z"
   },
   {
    "duration": 23,
    "start_time": "2023-07-31T09:57:13.053Z"
   },
   {
    "duration": 79,
    "start_time": "2023-07-31T09:57:13.078Z"
   },
   {
    "duration": 26,
    "start_time": "2023-07-31T09:57:13.159Z"
   },
   {
    "duration": 66,
    "start_time": "2023-07-31T09:57:13.187Z"
   },
   {
    "duration": 39,
    "start_time": "2023-07-31T09:57:13.254Z"
   },
   {
    "duration": 123,
    "start_time": "2023-07-31T09:57:13.295Z"
   },
   {
    "duration": 18,
    "start_time": "2023-07-31T09:57:13.421Z"
   },
   {
    "duration": 16,
    "start_time": "2023-07-31T09:57:13.441Z"
   },
   {
    "duration": 61,
    "start_time": "2023-07-31T09:57:13.460Z"
   },
   {
    "duration": 68,
    "start_time": "2023-07-31T09:57:13.523Z"
   },
   {
    "duration": 75,
    "start_time": "2023-07-31T09:57:13.592Z"
   },
   {
    "duration": 12,
    "start_time": "2023-07-31T09:57:13.669Z"
   },
   {
    "duration": 91,
    "start_time": "2023-07-31T09:57:13.683Z"
   },
   {
    "duration": 67,
    "start_time": "2023-07-31T09:57:13.776Z"
   },
   {
    "duration": 42,
    "start_time": "2023-07-31T09:57:13.845Z"
   },
   {
    "duration": 81,
    "start_time": "2023-07-31T09:57:13.888Z"
   },
   {
    "duration": 50,
    "start_time": "2023-07-31T09:57:13.971Z"
   },
   {
    "duration": 113,
    "start_time": "2023-07-31T09:57:14.027Z"
   },
   {
    "duration": 35,
    "start_time": "2023-07-31T09:57:14.142Z"
   },
   {
    "duration": 58,
    "start_time": "2023-07-31T09:57:14.179Z"
   },
   {
    "duration": 54,
    "start_time": "2023-07-31T09:57:14.241Z"
   },
   {
    "duration": 70,
    "start_time": "2023-07-31T09:57:14.296Z"
   },
   {
    "duration": 2481,
    "start_time": "2023-07-31T09:57:15.081Z"
   },
   {
    "duration": 13,
    "start_time": "2023-07-31T09:58:40.983Z"
   },
   {
    "duration": 13,
    "start_time": "2023-07-31T09:59:07.593Z"
   },
   {
    "duration": 13,
    "start_time": "2023-07-31T09:59:17.422Z"
   },
   {
    "duration": 10,
    "start_time": "2023-07-31T09:59:22.567Z"
   },
   {
    "duration": 17,
    "start_time": "2023-07-31T09:59:35.263Z"
   },
   {
    "duration": 14,
    "start_time": "2023-07-31T10:00:06.383Z"
   },
   {
    "duration": 17,
    "start_time": "2023-07-31T10:00:38.465Z"
   },
   {
    "duration": 17,
    "start_time": "2023-07-31T10:01:57.530Z"
   },
   {
    "duration": 13,
    "start_time": "2023-07-31T10:02:49.520Z"
   },
   {
    "duration": 18,
    "start_time": "2023-07-31T10:05:47.324Z"
   },
   {
    "duration": 7,
    "start_time": "2023-07-31T10:34:01.651Z"
   },
   {
    "duration": 17,
    "start_time": "2023-07-31T10:39:13.641Z"
   },
   {
    "duration": 9,
    "start_time": "2023-07-31T10:39:33.578Z"
   },
   {
    "duration": 248,
    "start_time": "2023-07-31T10:40:30.700Z"
   },
   {
    "duration": 6,
    "start_time": "2023-07-31T10:40:39.479Z"
   },
   {
    "duration": 8,
    "start_time": "2023-07-31T10:40:48.711Z"
   },
   {
    "duration": 19,
    "start_time": "2023-07-31T10:48:18.756Z"
   },
   {
    "duration": 10,
    "start_time": "2023-07-31T10:53:48.084Z"
   },
   {
    "duration": 11,
    "start_time": "2023-07-31T10:54:20.387Z"
   },
   {
    "duration": 19,
    "start_time": "2023-07-31T10:54:52.345Z"
   },
   {
    "duration": 15,
    "start_time": "2023-07-31T14:21:11.043Z"
   },
   {
    "duration": 11,
    "start_time": "2023-07-31T14:21:28.434Z"
   },
   {
    "duration": 100,
    "start_time": "2023-07-31T14:39:26.227Z"
   },
   {
    "duration": 579,
    "start_time": "2023-07-31T15:21:51.790Z"
   },
   {
    "duration": 42,
    "start_time": "2023-07-31T15:21:52.371Z"
   },
   {
    "duration": 30,
    "start_time": "2023-07-31T15:21:52.415Z"
   },
   {
    "duration": 20,
    "start_time": "2023-07-31T15:21:52.448Z"
   },
   {
    "duration": 83,
    "start_time": "2023-07-31T15:21:52.470Z"
   },
   {
    "duration": 4,
    "start_time": "2023-07-31T15:21:52.555Z"
   },
   {
    "duration": 51,
    "start_time": "2023-07-31T15:21:52.561Z"
   },
   {
    "duration": 15,
    "start_time": "2023-07-31T15:21:52.614Z"
   },
   {
    "duration": 66,
    "start_time": "2023-07-31T15:21:52.631Z"
   },
   {
    "duration": 24,
    "start_time": "2023-07-31T15:21:52.700Z"
   },
   {
    "duration": 51,
    "start_time": "2023-07-31T15:21:52.726Z"
   },
   {
    "duration": 18,
    "start_time": "2023-07-31T15:21:52.784Z"
   },
   {
    "duration": 19,
    "start_time": "2023-07-31T15:21:52.804Z"
   },
   {
    "duration": 56,
    "start_time": "2023-07-31T15:21:52.825Z"
   },
   {
    "duration": 30,
    "start_time": "2023-07-31T15:21:52.887Z"
   },
   {
    "duration": 32,
    "start_time": "2023-07-31T15:21:52.919Z"
   },
   {
    "duration": 15,
    "start_time": "2023-07-31T15:21:52.953Z"
   },
   {
    "duration": 52,
    "start_time": "2023-07-31T15:21:52.970Z"
   },
   {
    "duration": 50,
    "start_time": "2023-07-31T15:21:53.024Z"
   },
   {
    "duration": 20,
    "start_time": "2023-07-31T15:21:53.076Z"
   },
   {
    "duration": 22,
    "start_time": "2023-07-31T15:21:53.098Z"
   },
   {
    "duration": 30,
    "start_time": "2023-07-31T15:21:53.121Z"
   },
   {
    "duration": 20,
    "start_time": "2023-07-31T15:21:53.153Z"
   },
   {
    "duration": 16,
    "start_time": "2023-07-31T15:21:53.176Z"
   },
   {
    "duration": 14,
    "start_time": "2023-07-31T15:21:53.195Z"
   },
   {
    "duration": 36,
    "start_time": "2023-07-31T15:21:53.211Z"
   },
   {
    "duration": 52,
    "start_time": "2023-07-31T15:21:53.249Z"
   },
   {
    "duration": 45,
    "start_time": "2023-07-31T15:21:53.305Z"
   },
   {
    "duration": 43,
    "start_time": "2023-07-31T15:21:53.352Z"
   },
   {
    "duration": 24,
    "start_time": "2023-07-31T15:21:53.397Z"
   },
   {
    "duration": 36,
    "start_time": "2023-07-31T15:21:53.424Z"
   },
   {
    "duration": 1049,
    "start_time": "2023-08-04T12:49:51.296Z"
   },
   {
    "duration": 24,
    "start_time": "2023-08-04T12:49:52.347Z"
   },
   {
    "duration": 15,
    "start_time": "2023-08-04T12:49:52.373Z"
   },
   {
    "duration": 11,
    "start_time": "2023-08-04T12:49:52.390Z"
   },
   {
    "duration": 51,
    "start_time": "2023-08-04T12:49:52.403Z"
   },
   {
    "duration": 4,
    "start_time": "2023-08-04T12:49:52.456Z"
   },
   {
    "duration": 25,
    "start_time": "2023-08-04T12:49:52.461Z"
   },
   {
    "duration": 13,
    "start_time": "2023-08-04T12:49:52.488Z"
   },
   {
    "duration": 17,
    "start_time": "2023-08-04T12:49:52.502Z"
   },
   {
    "duration": 11,
    "start_time": "2023-08-04T12:49:52.522Z"
   },
   {
    "duration": 39,
    "start_time": "2023-08-04T12:49:52.535Z"
   },
   {
    "duration": 10,
    "start_time": "2023-08-04T12:49:52.576Z"
   },
   {
    "duration": 12,
    "start_time": "2023-08-04T12:49:52.588Z"
   },
   {
    "duration": 21,
    "start_time": "2023-08-04T12:49:52.601Z"
   },
   {
    "duration": 39,
    "start_time": "2023-08-04T12:49:52.623Z"
   },
   {
    "duration": 24,
    "start_time": "2023-08-04T12:49:52.664Z"
   },
   {
    "duration": 4,
    "start_time": "2023-08-04T12:49:52.690Z"
   },
   {
    "duration": 23,
    "start_time": "2023-08-04T12:49:52.695Z"
   },
   {
    "duration": 14,
    "start_time": "2023-08-04T12:49:52.720Z"
   },
   {
    "duration": 9,
    "start_time": "2023-08-04T12:49:52.735Z"
   },
   {
    "duration": 50,
    "start_time": "2023-08-04T12:49:52.746Z"
   },
   {
    "duration": 12,
    "start_time": "2023-08-04T12:49:52.798Z"
   },
   {
    "duration": 14,
    "start_time": "2023-08-04T12:49:54.935Z"
   },
   {
    "duration": 11,
    "start_time": "2023-08-04T12:50:05.635Z"
   },
   {
    "duration": 11,
    "start_time": "2023-08-04T12:52:23.149Z"
   },
   {
    "duration": 10,
    "start_time": "2023-08-04T12:52:44.033Z"
   },
   {
    "duration": 12,
    "start_time": "2023-08-04T13:42:40.235Z"
   },
   {
    "duration": 657,
    "start_time": "2023-08-04T17:23:16.604Z"
   },
   {
    "duration": 19,
    "start_time": "2023-08-04T17:23:17.263Z"
   },
   {
    "duration": 11,
    "start_time": "2023-08-04T17:23:17.284Z"
   },
   {
    "duration": 8,
    "start_time": "2023-08-04T17:23:17.296Z"
   },
   {
    "duration": 26,
    "start_time": "2023-08-04T17:23:17.306Z"
   },
   {
    "duration": 4,
    "start_time": "2023-08-04T17:23:17.334Z"
   },
   {
    "duration": 10,
    "start_time": "2023-08-04T17:23:17.339Z"
   },
   {
    "duration": 7,
    "start_time": "2023-08-04T17:23:17.350Z"
   },
   {
    "duration": 8,
    "start_time": "2023-08-04T17:23:17.358Z"
   },
   {
    "duration": 3,
    "start_time": "2023-08-04T17:23:17.367Z"
   },
   {
    "duration": 33,
    "start_time": "2023-08-04T17:23:17.371Z"
   },
   {
    "duration": 8,
    "start_time": "2023-08-04T17:23:17.406Z"
   },
   {
    "duration": 22,
    "start_time": "2023-08-04T17:23:17.415Z"
   },
   {
    "duration": 11,
    "start_time": "2023-08-04T17:23:17.440Z"
   },
   {
    "duration": 18,
    "start_time": "2023-08-04T17:23:17.452Z"
   },
   {
    "duration": 14,
    "start_time": "2023-08-04T17:23:17.471Z"
   },
   {
    "duration": 3,
    "start_time": "2023-08-04T17:23:17.487Z"
   },
   {
    "duration": 22,
    "start_time": "2023-08-04T17:23:17.491Z"
   },
   {
    "duration": 11,
    "start_time": "2023-08-04T17:23:17.514Z"
   },
   {
    "duration": 6,
    "start_time": "2023-08-04T17:23:17.526Z"
   },
   {
    "duration": 10,
    "start_time": "2023-08-04T17:23:17.533Z"
   },
   {
    "duration": 8,
    "start_time": "2023-08-04T17:23:17.544Z"
   },
   {
    "duration": 22,
    "start_time": "2023-08-04T17:23:17.554Z"
   },
   {
    "duration": 11,
    "start_time": "2023-08-04T17:23:17.577Z"
   },
   {
    "duration": 35,
    "start_time": "2023-08-04T17:23:17.589Z"
   },
   {
    "duration": 10,
    "start_time": "2023-08-04T17:23:17.626Z"
   },
   {
    "duration": 21,
    "start_time": "2023-08-04T17:23:17.638Z"
   },
   {
    "duration": 9,
    "start_time": "2023-08-04T17:23:17.661Z"
   },
   {
    "duration": 12,
    "start_time": "2023-08-04T17:23:17.671Z"
   },
   {
    "duration": 10,
    "start_time": "2023-08-04T17:23:17.684Z"
   },
   {
    "duration": 16,
    "start_time": "2023-08-04T17:23:17.695Z"
   }
  ],
  "colab": {
   "provenance": []
  },
  "kernelspec": {
   "display_name": "Python 3 (ipykernel)",
   "language": "python",
   "name": "python3"
  },
  "language_info": {
   "codemirror_mode": {
    "name": "ipython",
    "version": 3
   },
   "file_extension": ".py",
   "mimetype": "text/x-python",
   "name": "python",
   "nbconvert_exporter": "python",
   "pygments_lexer": "ipython3",
   "version": "3.11.5"
  },
  "toc": {
   "base_numbering": 1,
   "nav_menu": {},
   "number_sections": true,
   "sideBar": true,
   "skip_h1_title": true,
   "title_cell": "Table of Contents",
   "title_sidebar": "Contents",
   "toc_cell": false,
   "toc_position": {},
   "toc_section_display": true,
   "toc_window_display": false
  }
 },
 "nbformat": 4,
 "nbformat_minor": 5
}
