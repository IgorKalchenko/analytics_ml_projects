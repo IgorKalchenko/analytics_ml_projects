{
 "cells": [
  {
   "cell_type": "markdown",
   "metadata": {},
   "source": [
    "# Рекомендация тарифов"
   ]
  },
  {
   "cell_type": "markdown",
   "metadata": {},
   "source": [
    "В вашем распоряжении данные о поведении клиентов, которые уже перешли на эти тарифы (из проекта курса «Статистический анализ данных»). Нужно построить модель для задачи классификации, которая выберет подходящий тариф. Предобработка данных не понадобится — вы её уже сделали.\n",
    "\n",
    "Постройте модель с максимально большим значением *accuracy*. Чтобы сдать проект успешно, нужно довести долю правильных ответов по крайней мере до 0.75. Проверьте *accuracy* на тестовой выборке самостоятельно."
   ]
  },
  {
   "cell_type": "markdown",
   "metadata": {},
   "source": [
    "## Откройте и изучите файл"
   ]
  },
  {
   "cell_type": "markdown",
   "metadata": {},
   "source": [
    "**Импортируем все необходимые библиотеки**"
   ]
  },
  {
   "cell_type": "code",
   "execution_count": 44,
   "metadata": {},
   "outputs": [],
   "source": [
    "import pandas as pd\n",
    "from sklearn.dummy import DummyClassifier\n",
    "from sklearn.ensemble import RandomForestClassifier\n",
    "from sklearn.linear_model import LogisticRegression\n",
    "from sklearn.metrics import accuracy_score\n",
    "from sklearn.model_selection import train_test_split\n",
    "from sklearn.preprocessing import StandardScaler\n",
    "from sklearn.tree import DecisionTreeClassifier"
   ]
  },
  {
   "cell_type": "markdown",
   "metadata": {},
   "source": [
    "**Рассмотрим основные показатели датасета**"
   ]
  },
  {
   "cell_type": "code",
   "execution_count": 45,
   "metadata": {
    "scrolled": true
   },
   "outputs": [
    {
     "data": {
      "text/html": [
       "<div>\n",
       "<style scoped>\n",
       "    .dataframe tbody tr th:only-of-type {\n",
       "        vertical-align: middle;\n",
       "    }\n",
       "\n",
       "    .dataframe tbody tr th {\n",
       "        vertical-align: top;\n",
       "    }\n",
       "\n",
       "    .dataframe thead th {\n",
       "        text-align: right;\n",
       "    }\n",
       "</style>\n",
       "<table border=\"1\" class=\"dataframe\">\n",
       "  <thead>\n",
       "    <tr style=\"text-align: right;\">\n",
       "      <th></th>\n",
       "      <th>calls</th>\n",
       "      <th>minutes</th>\n",
       "      <th>messages</th>\n",
       "      <th>mb_used</th>\n",
       "      <th>is_ultra</th>\n",
       "    </tr>\n",
       "  </thead>\n",
       "  <tbody>\n",
       "    <tr>\n",
       "      <th>0</th>\n",
       "      <td>40.0</td>\n",
       "      <td>311.90</td>\n",
       "      <td>83.0</td>\n",
       "      <td>19915.42</td>\n",
       "      <td>0</td>\n",
       "    </tr>\n",
       "    <tr>\n",
       "      <th>1</th>\n",
       "      <td>85.0</td>\n",
       "      <td>516.75</td>\n",
       "      <td>56.0</td>\n",
       "      <td>22696.96</td>\n",
       "      <td>0</td>\n",
       "    </tr>\n",
       "    <tr>\n",
       "      <th>2</th>\n",
       "      <td>77.0</td>\n",
       "      <td>467.66</td>\n",
       "      <td>86.0</td>\n",
       "      <td>21060.45</td>\n",
       "      <td>0</td>\n",
       "    </tr>\n",
       "    <tr>\n",
       "      <th>3</th>\n",
       "      <td>106.0</td>\n",
       "      <td>745.53</td>\n",
       "      <td>81.0</td>\n",
       "      <td>8437.39</td>\n",
       "      <td>1</td>\n",
       "    </tr>\n",
       "    <tr>\n",
       "      <th>4</th>\n",
       "      <td>66.0</td>\n",
       "      <td>418.74</td>\n",
       "      <td>1.0</td>\n",
       "      <td>14502.75</td>\n",
       "      <td>0</td>\n",
       "    </tr>\n",
       "  </tbody>\n",
       "</table>\n",
       "</div>"
      ],
      "text/plain": [
       "   calls  minutes  messages   mb_used  is_ultra\n",
       "0   40.0   311.90      83.0  19915.42         0\n",
       "1   85.0   516.75      56.0  22696.96         0\n",
       "2   77.0   467.66      86.0  21060.45         0\n",
       "3  106.0   745.53      81.0   8437.39         1\n",
       "4   66.0   418.74       1.0  14502.75         0"
      ]
     },
     "execution_count": 45,
     "metadata": {},
     "output_type": "execute_result"
    }
   ],
   "source": [
    "df = pd.read_csv('/datasets/users_behavior.csv')\n",
    "df.head()"
   ]
  },
  {
   "cell_type": "code",
   "execution_count": 46,
   "metadata": {},
   "outputs": [
    {
     "name": "stdout",
     "output_type": "stream",
     "text": [
      "<class 'pandas.core.frame.DataFrame'>\n",
      "RangeIndex: 3214 entries, 0 to 3213\n",
      "Data columns (total 5 columns):\n",
      " #   Column    Non-Null Count  Dtype  \n",
      "---  ------    --------------  -----  \n",
      " 0   calls     3214 non-null   float64\n",
      " 1   minutes   3214 non-null   float64\n",
      " 2   messages  3214 non-null   float64\n",
      " 3   mb_used   3214 non-null   float64\n",
      " 4   is_ultra  3214 non-null   int64  \n",
      "dtypes: float64(4), int64(1)\n",
      "memory usage: 125.7 KB\n"
     ]
    }
   ],
   "source": [
    "df.info()"
   ]
  },
  {
   "cell_type": "code",
   "execution_count": 47,
   "metadata": {
    "scrolled": true
   },
   "outputs": [
    {
     "data": {
      "text/html": [
       "<div>\n",
       "<style scoped>\n",
       "    .dataframe tbody tr th:only-of-type {\n",
       "        vertical-align: middle;\n",
       "    }\n",
       "\n",
       "    .dataframe tbody tr th {\n",
       "        vertical-align: top;\n",
       "    }\n",
       "\n",
       "    .dataframe thead th {\n",
       "        text-align: right;\n",
       "    }\n",
       "</style>\n",
       "<table border=\"1\" class=\"dataframe\">\n",
       "  <thead>\n",
       "    <tr style=\"text-align: right;\">\n",
       "      <th></th>\n",
       "      <th>calls</th>\n",
       "      <th>minutes</th>\n",
       "      <th>messages</th>\n",
       "      <th>mb_used</th>\n",
       "      <th>is_ultra</th>\n",
       "    </tr>\n",
       "  </thead>\n",
       "  <tbody>\n",
       "    <tr>\n",
       "      <th>count</th>\n",
       "      <td>3214.000000</td>\n",
       "      <td>3214.000000</td>\n",
       "      <td>3214.000000</td>\n",
       "      <td>3214.000000</td>\n",
       "      <td>3214.000000</td>\n",
       "    </tr>\n",
       "    <tr>\n",
       "      <th>mean</th>\n",
       "      <td>63.038892</td>\n",
       "      <td>438.208787</td>\n",
       "      <td>38.281269</td>\n",
       "      <td>17207.673836</td>\n",
       "      <td>0.306472</td>\n",
       "    </tr>\n",
       "    <tr>\n",
       "      <th>std</th>\n",
       "      <td>33.236368</td>\n",
       "      <td>234.569872</td>\n",
       "      <td>36.148326</td>\n",
       "      <td>7570.968246</td>\n",
       "      <td>0.461100</td>\n",
       "    </tr>\n",
       "    <tr>\n",
       "      <th>min</th>\n",
       "      <td>0.000000</td>\n",
       "      <td>0.000000</td>\n",
       "      <td>0.000000</td>\n",
       "      <td>0.000000</td>\n",
       "      <td>0.000000</td>\n",
       "    </tr>\n",
       "    <tr>\n",
       "      <th>25%</th>\n",
       "      <td>40.000000</td>\n",
       "      <td>274.575000</td>\n",
       "      <td>9.000000</td>\n",
       "      <td>12491.902500</td>\n",
       "      <td>0.000000</td>\n",
       "    </tr>\n",
       "    <tr>\n",
       "      <th>50%</th>\n",
       "      <td>62.000000</td>\n",
       "      <td>430.600000</td>\n",
       "      <td>30.000000</td>\n",
       "      <td>16943.235000</td>\n",
       "      <td>0.000000</td>\n",
       "    </tr>\n",
       "    <tr>\n",
       "      <th>75%</th>\n",
       "      <td>82.000000</td>\n",
       "      <td>571.927500</td>\n",
       "      <td>57.000000</td>\n",
       "      <td>21424.700000</td>\n",
       "      <td>1.000000</td>\n",
       "    </tr>\n",
       "    <tr>\n",
       "      <th>max</th>\n",
       "      <td>244.000000</td>\n",
       "      <td>1632.060000</td>\n",
       "      <td>224.000000</td>\n",
       "      <td>49745.730000</td>\n",
       "      <td>1.000000</td>\n",
       "    </tr>\n",
       "  </tbody>\n",
       "</table>\n",
       "</div>"
      ],
      "text/plain": [
       "             calls      minutes     messages       mb_used     is_ultra\n",
       "count  3214.000000  3214.000000  3214.000000   3214.000000  3214.000000\n",
       "mean     63.038892   438.208787    38.281269  17207.673836     0.306472\n",
       "std      33.236368   234.569872    36.148326   7570.968246     0.461100\n",
       "min       0.000000     0.000000     0.000000      0.000000     0.000000\n",
       "25%      40.000000   274.575000     9.000000  12491.902500     0.000000\n",
       "50%      62.000000   430.600000    30.000000  16943.235000     0.000000\n",
       "75%      82.000000   571.927500    57.000000  21424.700000     1.000000\n",
       "max     244.000000  1632.060000   224.000000  49745.730000     1.000000"
      ]
     },
     "execution_count": 47,
     "metadata": {},
     "output_type": "execute_result"
    }
   ],
   "source": [
    "df.describe()"
   ]
  },
  {
   "cell_type": "markdown",
   "metadata": {},
   "source": [
    "**Посмотрим как распределены классы в колонке is_ultra в нашей выборке.**"
   ]
  },
  {
   "cell_type": "code",
   "execution_count": 48,
   "metadata": {},
   "outputs": [
    {
     "data": {
      "text/plain": [
       "0    2229\n",
       "1     985\n",
       "Name: is_ultra, dtype: int64"
      ]
     },
     "metadata": {},
     "output_type": "display_data"
    },
    {
     "data": {
      "text/plain": [
       "'Доля значений \"True\" в выборке: 0.30647168637212197'"
      ]
     },
     "execution_count": 48,
     "metadata": {},
     "output_type": "execute_result"
    }
   ],
   "source": [
    "display(df['is_ultra'].value_counts())\n",
    "f'Доля значений \"True\" в выборке: {df[\"is_ultra\"].mean()}'"
   ]
  },
  {
   "cell_type": "markdown",
   "metadata": {},
   "source": [
    "**Рассчитаем коэффицент корреляции Пирсона для пар параметров будущей модели**"
   ]
  },
  {
   "cell_type": "code",
   "execution_count": 49,
   "metadata": {},
   "outputs": [
    {
     "name": "stdout",
     "output_type": "stream",
     "text": [
      "Корреляция между колонками calls и minutes равна 0.9820832355742293\n",
      "Корреляция между колонками calls и messages равна 0.1773845012176953\n",
      "Корреляция между колонками calls и mb_used равна 0.28644151203505447\n",
      "Корреляция между колонками minutes и messages равна 0.1731102258096908\n",
      "Корреляция между колонками minutes и mb_used равна 0.2809669350882149\n",
      "Корреляция между колонками messages и mb_used равна 0.19572112095582148\n"
     ]
    }
   ],
   "source": [
    "features = df.drop('is_ultra', axis=1)\n",
    "target = df['is_ultra']\n",
    "for column_1 in range(len(features)):\n",
    "    slice_f = column_1 + 1\n",
    "    for column_2 in features.columns[slice_f:]:\n",
    "        first_col = features.iloc[:, column_1]\n",
    "        second_col = features[column_2]\n",
    "        correlation = first_col.corr(second_col)\n",
    "        print(f'Корреляция между колонками {first_col.name} и {second_col.name} равна {correlation}')"
   ]
  },
  {
   "cell_type": "markdown",
   "metadata": {},
   "source": [
    "**В результате изучения основных характеристик данных можно сделать следующие выводы. В данных отсутствуют пропуски. Каждая колонка содержит 3214 значений. Поведение пользователя характеризуется следующими колонками: calls, minutes, messages, mb_used, is_ultra. 1 строка соответствует данным об 1 пользователе. Признаки для обучения будут храниться во всех колонках кроме целевой - \"is_ultra\". \"is_ultra\" содержит в себе бинарные категориальные данные, соответственно перед нами стоит задача бинарной классификации с помощью обучения с учителем. В данных также наблюдается определённый дисбаланс классов. Значений True в выборке порядка 30%. Это необходимо будет учесть при разделении данных и последующем построении моделей. Существенная корреляция наблюдается только между колонками calls и minutes.**"
   ]
  },
  {
   "cell_type": "markdown",
   "metadata": {},
   "source": [
    "## Разбейте данные на выборки"
   ]
  },
  {
   "cell_type": "markdown",
   "metadata": {},
   "source": [
    "**Разделим данные на выборки и проверим корректность разделения выводом на экран информации о размерности получившихся выборок.**"
   ]
  },
  {
   "cell_type": "code",
   "execution_count": 50,
   "metadata": {},
   "outputs": [
    {
     "name": "stdout",
     "output_type": "stream",
     "text": [
      "Количество строк в выборке features_train: 1928, количество столбцов: 4\n",
      "Количество строк в выборке features_valid: 643, количество столбцов: 4\n",
      "Количество строк в выборке features_test: 643, количество столбцов: 4\n",
      "Количество строк в выборке target_train: 1928, количество столбцов: 1\n",
      "Количество строк в выборке target_valid: 643, количество столбцов: 1\n",
      "Количество строк в выборке target_test: 643, количество столбцов: 1\n"
     ]
    }
   ],
   "source": [
    "features_train, features_valid, target_train, target_valid = train_test_split(\n",
    "    features, target, test_size=0.4, random_state=12345, stratify=target)\n",
    "features_valid, features_test, target_valid, target_test = train_test_split(\n",
    "    features_valid, target_valid, test_size=0.5, random_state=12345, stratify=target_valid)\n",
    "sample_dict = {'features_train': features_train,\n",
    "               'features_valid': features_valid,\n",
    "               'features_test': features_test,\n",
    "               'target_train': target_train,\n",
    "               'target_valid': target_valid,\n",
    "               'target_test': target_test}\n",
    "for name, sample in sample_dict.items():\n",
    "    print(f'Количество строк в выборке {name}: {sample.shape[0]}, \\\n",
    "количество столбцов: {sample.shape[1] if len(sample.shape) > 1 else 1}')"
   ]
  },
  {
   "cell_type": "markdown",
   "metadata": {},
   "source": [
    "**В данных есть числовые признаки (причём резко отличаюшиеся по значению модуля: есть значения около 1 (маленькие, например messages) и десятки тысяч (большие, например mb_used). Такой разброс может резко негативно сказаться на точности прогнозов линейных моделей. Проведём стандартизацию данных.**"
   ]
  },
  {
   "cell_type": "code",
   "execution_count": 51,
   "metadata": {},
   "outputs": [],
   "source": [
    "scaler = StandardScaler()\n",
    "features_train_scaled = scaler.fit_transform(features_train)\n",
    "features_valid_scaled = scaler.transform(features_valid)\n",
    "features_test_scaled = scaler.transform(features_test)"
   ]
  },
  {
   "cell_type": "markdown",
   "metadata": {},
   "source": [
    "**Мы разбили данные на 3 подгруппы: обучающие, валидационные и тестовые в процентном соотнощении 60%:20%:20% соответственно.**"
   ]
  },
  {
   "cell_type": "markdown",
   "metadata": {},
   "source": [
    "## Исследуйте модели"
   ]
  },
  {
   "cell_type": "markdown",
   "metadata": {},
   "source": [
    "**Проверим три модели: DecisionTreeClassifier, RandomForestClassifier, LogisticRegression. Обучим модели на обучающей выборке с различными гиперпараметрами, выберим 3 модели с гиперпараметрами, дающими лучший результат. Сравним данные accuracy по каждой из моделей на валидационной выборке и ранжируем их по эффективности.**"
   ]
  },
  {
   "cell_type": "markdown",
   "metadata": {},
   "source": [
    "### Решающее дерево"
   ]
  },
  {
   "cell_type": "code",
   "execution_count": 52,
   "metadata": {},
   "outputs": [
    {
     "name": "stdout",
     "output_type": "stream",
     "text": [
      "Максимальное качество прогноза:0.7853810264385692. Достигнуто при показателе max_depth = 5 2, min_samples_leaf = 1, min_samples_split = 2\n"
     ]
    }
   ],
   "source": [
    "min_leaf, min_split, best_depth, max_accuracy = 0, 0, 0, 0\n",
    "best_model_tree = None\n",
    "for i in range(1, 6):\n",
    "    for j in range(1, 10):\n",
    "        for k in range(2, 10):\n",
    "            model_tree = DecisionTreeClassifier(max_depth=i, random_state=12345, min_samples_leaf=j, min_samples_split=k)\n",
    "            model_tree.fit(features_train_scaled, target_train)\n",
    "            accuracy = accuracy_score(target_valid, model_tree.predict(features_valid_scaled))\n",
    "            if accuracy > max_accuracy:\n",
    "                max_accuracy = accuracy\n",
    "                best_depth = i\n",
    "                best_model_tree = model_tree\n",
    "                min_split = k\n",
    "                min_leaf = j\n",
    "print(f'Максимальное качество прогноза:{max_accuracy}. \\\n",
    "Достигнуто при показателе max_depth = {best_depth}, \\\n",
    "min_samples_leaf = {min_leaf}, min_samples_split = {min_split}')"
   ]
  },
  {
   "cell_type": "markdown",
   "metadata": {},
   "source": [
    "### Случайный лес"
   ]
  },
  {
   "cell_type": "code",
   "execution_count": 53,
   "metadata": {},
   "outputs": [
    {
     "name": "stdout",
     "output_type": "stream",
     "text": [
      "Максимальное качество прогноза:0.8087091757387247. Достигнуто при показателе n_estimators = 10,  max_depth = 9, min_samples_leaf = 9\n"
     ]
    }
   ],
   "source": [
    "best_model_forest = None\n",
    "best_result = 0\n",
    "best_estimator = 0\n",
    "best_depth = 0\n",
    "best_leaf = 0\n",
    "for est in range(1, 11):\n",
    "    for depth in range (1, 11):\n",
    "        for leaf in range(1, 10):\n",
    "            model_forest = RandomForestClassifier(\n",
    "                random_state=12345, n_estimators=est,\n",
    "                max_depth=depth,\n",
    "                min_samples_leaf=leaf)\n",
    "            model_forest.fit(features_train_scaled, target_train)\n",
    "            accuracy = accuracy_score(target_valid, model_forest.predict(features_valid_scaled))\n",
    "            if accuracy > best_result:\n",
    "                best_model_forest = model_forest\n",
    "                best_result = result\n",
    "                best_estimator = est\n",
    "                best_depth = depth\n",
    "                best_leaf = leaf\n",
    "\n",
    "print(f'Максимальное качество прогноза:{best_result}. \\\n",
    "Достигнуто при показателе n_estimators = {best_estimator},  max_depth = {best_depth}, min_samples_leaf = {best_leaf}')"
   ]
  },
  {
   "cell_type": "markdown",
   "metadata": {},
   "source": [
    "### Логистическая регрессия"
   ]
  },
  {
   "cell_type": "code",
   "execution_count": 54,
   "metadata": {},
   "outputs": [
    {
     "name": "stdout",
     "output_type": "stream",
     "text": [
      "Максимальное качество прогноза:0.7387247278382582. Достигнуто при показателе fit_intercept = 1, solver = liblinear\n"
     ]
    }
   ],
   "source": [
    "best_solver = None\n",
    "is_fit_intercept = 0\n",
    "best_model_logistic = None\n",
    "max_logistic_accuracy = 0\n",
    "for solv in ['liblinear', 'newton-cg', 'lbfgs', 'sag', 'saga']:\n",
    "    for inter in range(2):\n",
    "        model_logistic = LogisticRegression(solver=solv, max_iter=1000, random_state=12345, fit_intercept=inter)\n",
    "        model_logistic.fit(features_train_scaled, target_train)\n",
    "        logistic_accuracy = accuracy_score(target_valid, model_logistic.predict(features_valid_scaled))\n",
    "        if logistic_accuracy > max_logistic_accuracy:\n",
    "            max_logistic_accuracy = logistic_accuracy\n",
    "            best_model_logistic = model_logistic\n",
    "            best_solver = solv\n",
    "            is_fit_intercept = inter\n",
    "print(f'Максимальное качество прогноза:{max_logistic_accuracy}. \\\n",
    "Достигнуто при показателе fit_intercept = {is_fit_intercept}, solver = {best_solver}')"
   ]
  },
  {
   "cell_type": "markdown",
   "metadata": {},
   "source": [
    "**Исходя из приведённых выше рассчётов, по качеству прогнозов на валидационной выборке модели ранжируются следующим образом:**\n",
    "1. Случайный лес\n",
    "2. Решающее дерево\n",
    "3. Логистическая регрессия"
   ]
  },
  {
   "cell_type": "markdown",
   "metadata": {},
   "source": [
    "<div class=\"alert alert-success\">\n",
    "<b>ОТЛИЧНО! 👍</b>\n",
    "\n",
    "Здесь отлично: подобрали для всех наших моделей лучшие гиперпараметры (в данном случае - максимизирующие метрику accuracy_score). Также здесь мы ещё и определили САМУЮ лучшую модель. На валидации ею оказалась модель \"случайного леса\". \n",
    "\n",
    "После того, как гиперпараметры на валидации подобраны - тестируем модели на тестовых данных. По результатам тестирования на тесте (сорри за тавталогию) выбираем модель, которую сможем передать в продакшн. \n",
    "</div>"
   ]
  },
  {
   "cell_type": "markdown",
   "metadata": {},
   "source": [
    "## Проверьте модель на тестовой выборке"
   ]
  },
  {
   "cell_type": "markdown",
   "metadata": {},
   "source": [
    "**Лучшие результаты на валидационной выборке показала модель Случайного леса. Проверим результаты этой модели на тестовой выборке.**"
   ]
  },
  {
   "cell_type": "code",
   "execution_count": 55,
   "metadata": {},
   "outputs": [
    {
     "name": "stdout",
     "output_type": "stream",
     "text": [
      "Качество прогноза на тестовых данных у модели Случайный лес: 0.8118195956454122\n"
     ]
    }
   ],
   "source": [
    "test_accuracy = accuracy_score(target_test, best_model_forest.predict(features_test_scaled))\n",
    "print(f'Качество прогноза на тестовых данных у модели Случайный лес: {test_accuracy}')    "
   ]
  },
  {
   "cell_type": "markdown",
   "metadata": {},
   "source": [
    "**Модель Случайный лес прошла проверку на тестовых данных с результатом accuracy = 0.81.**"
   ]
  },
  {
   "cell_type": "markdown",
   "metadata": {},
   "source": [
    "## Проверьте модели на адекватность"
   ]
  },
  {
   "cell_type": "markdown",
   "metadata": {},
   "source": [
    "**Проверим модель на адекватность сравнив с результатом accuracy_score, которые даёт применение на тестовых данных модели DummyClassifier. Так как данные в целевом признаке неравномерны, будем использовать DummyClassifier с параметром strategy='most_frequent'.**"
   ]
  },
  {
   "cell_type": "code",
   "execution_count": 56,
   "metadata": {},
   "outputs": [
    {
     "name": "stdout",
     "output_type": "stream",
     "text": [
      "Точность модели DummyClassifier = 0.6936236391912908. Разница между предсказаниями составляет 11.82%\n"
     ]
    }
   ],
   "source": [
    "dummy_model = DummyClassifier(strategy='most_frequent', random_state=12345)\n",
    "dummy_model.fit(features_train_scaled, target_train)\n",
    "dummy_accuracy = accuracy_score(target_test, dummy_model.predict(features_test_scaled))\n",
    "dummy_diff = (test_accuracy - dummy_accuracy)\n",
    "print(f'Точность модели DummyClassifier = {dummy_accuracy}. \\\n",
    "Разница между предсказаниями составляет {dummy_diff:.2%}')"
   ]
  },
  {
   "cell_type": "markdown",
   "metadata": {},
   "source": [
    "**В результате проверки модели на адекватность мы выяснили, что выбранная модель показывает результаты на 11.82% лучше примитивной.**"
   ]
  },
  {
   "cell_type": "markdown",
   "metadata": {},
   "source": [
    "## Общий вывод"
   ]
  },
  {
   "cell_type": "markdown",
   "metadata": {},
   "source": [
    "**Для работы с моделями был подготовлен датафрейм с данными о поведении пользователей ряда тарифов мобильной связи. Данные были проанализированы, разбиты на 3 группы выборок: обучающие, валидационные и тестовые в пропорции 3:1:1 соответственно. Признаки были стандартизованы с использованием StandardScaler. В результате проведённой работы было обучено три типа моделей: Решающее дерево, Случайный лес и Логистическая регрессия. Для каждого типа моделей экспериментальным путём были определены оптимальные гиперпараметры. Перед нами стояла задача бинарной классификации по наиболее предпочтительному тарифу. Лучше всего с задачей справилась модель Случайного леса. Она предсказывает поведение пользователей с точностью 0.81 на тестовых данных Это на 11.82% выше, чем показатели примитивной модели DummyClassifier.**"
   ]
  }
 ],
 "metadata": {
  "ExecuteTimeLog": [
   {
    "duration": 45,
    "start_time": "2023-10-08T09:10:15.900Z"
   },
   {
    "duration": 444,
    "start_time": "2023-10-08T09:10:20.063Z"
   },
   {
    "duration": 142,
    "start_time": "2023-10-08T09:10:22.221Z"
   },
   {
    "duration": 23,
    "start_time": "2023-10-08T09:20:15.577Z"
   },
   {
    "duration": 10,
    "start_time": "2023-10-08T09:22:03.179Z"
   },
   {
    "duration": 10,
    "start_time": "2023-10-08T09:30:41.360Z"
   },
   {
    "duration": 12,
    "start_time": "2023-10-08T09:30:45.569Z"
   },
   {
    "duration": 42,
    "start_time": "2023-10-08T11:00:54.153Z"
   },
   {
    "duration": 10,
    "start_time": "2023-10-08T11:01:09.175Z"
   },
   {
    "duration": 969,
    "start_time": "2023-10-08T11:01:16.380Z"
   },
   {
    "duration": 13,
    "start_time": "2023-10-08T11:01:20.149Z"
   },
   {
    "duration": 9,
    "start_time": "2023-10-08T12:17:48.282Z"
   },
   {
    "duration": 11,
    "start_time": "2023-10-08T12:34:15.644Z"
   },
   {
    "duration": 41,
    "start_time": "2023-10-08T12:35:37.001Z"
   },
   {
    "duration": 53,
    "start_time": "2023-10-08T12:41:55.242Z"
   },
   {
    "duration": 4,
    "start_time": "2023-10-08T12:42:19.275Z"
   },
   {
    "duration": 31,
    "start_time": "2023-10-08T12:42:22.255Z"
   },
   {
    "duration": 2,
    "start_time": "2023-10-08T12:42:53.477Z"
   },
   {
    "duration": 11,
    "start_time": "2023-10-08T13:04:12.695Z"
   },
   {
    "duration": 30,
    "start_time": "2023-10-08T13:05:42.075Z"
   },
   {
    "duration": 308,
    "start_time": "2023-10-08T13:41:27.141Z"
   },
   {
    "duration": 36,
    "start_time": "2023-10-08T13:44:30.514Z"
   },
   {
    "duration": 263,
    "start_time": "2023-10-08T13:44:32.518Z"
   },
   {
    "duration": 10,
    "start_time": "2023-10-08T13:45:21.173Z"
   },
   {
    "duration": 3,
    "start_time": "2023-10-08T13:45:41.669Z"
   },
   {
    "duration": 25,
    "start_time": "2023-10-08T13:45:45.387Z"
   },
   {
    "duration": 26,
    "start_time": "2023-10-08T13:46:28.214Z"
   },
   {
    "duration": 1751,
    "start_time": "2023-10-08T13:51:54.430Z"
   },
   {
    "duration": 1647,
    "start_time": "2023-10-08T13:52:07.954Z"
   },
   {
    "duration": 1749,
    "start_time": "2023-10-08T13:52:19.931Z"
   },
   {
    "duration": 1667,
    "start_time": "2023-10-08T13:52:26.760Z"
   },
   {
    "duration": 1631,
    "start_time": "2023-10-08T13:52:37.334Z"
   },
   {
    "duration": 14794,
    "start_time": "2023-10-08T13:56:41.964Z"
   },
   {
    "duration": 23,
    "start_time": "2023-10-08T13:58:03.182Z"
   },
   {
    "duration": 21,
    "start_time": "2023-10-08T13:58:26.655Z"
   },
   {
    "duration": 13444,
    "start_time": "2023-10-08T13:58:41.413Z"
   },
   {
    "duration": 14667,
    "start_time": "2023-10-08T13:59:35.854Z"
   },
   {
    "duration": 22,
    "start_time": "2023-10-08T14:05:15.186Z"
   },
   {
    "duration": 25,
    "start_time": "2023-10-08T14:05:31.090Z"
   },
   {
    "duration": 25,
    "start_time": "2023-10-08T14:05:34.927Z"
   },
   {
    "duration": 14,
    "start_time": "2023-10-08T14:06:01.597Z"
   },
   {
    "duration": 164,
    "start_time": "2023-10-08T14:06:17.413Z"
   },
   {
    "duration": 13,
    "start_time": "2023-10-08T14:06:45.873Z"
   },
   {
    "duration": 162,
    "start_time": "2023-10-08T14:07:21.619Z"
   },
   {
    "duration": 193,
    "start_time": "2023-10-08T14:07:29.053Z"
   },
   {
    "duration": 159,
    "start_time": "2023-10-08T14:07:39.233Z"
   },
   {
    "duration": 34,
    "start_time": "2023-10-08T14:09:14.563Z"
   },
   {
    "duration": 26,
    "start_time": "2023-10-08T14:10:17.021Z"
   },
   {
    "duration": 21,
    "start_time": "2023-10-08T14:10:20.398Z"
   },
   {
    "duration": 23,
    "start_time": "2023-10-08T14:10:48.451Z"
   },
   {
    "duration": 53,
    "start_time": "2023-10-08T14:11:04.605Z"
   },
   {
    "duration": 876,
    "start_time": "2023-10-08T14:37:47.598Z"
   },
   {
    "duration": 976,
    "start_time": "2023-10-08T14:41:24.298Z"
   },
   {
    "duration": 893,
    "start_time": "2023-10-08T14:42:40.644Z"
   },
   {
    "duration": 10,
    "start_time": "2023-10-08T15:11:53.870Z"
   },
   {
    "duration": 4,
    "start_time": "2023-10-08T15:12:32.434Z"
   },
   {
    "duration": 103,
    "start_time": "2023-10-08T15:12:32.451Z"
   },
   {
    "duration": 49,
    "start_time": "2023-10-08T15:12:32.556Z"
   },
   {
    "duration": 58,
    "start_time": "2023-10-08T15:12:32.606Z"
   },
   {
    "duration": 7,
    "start_time": "2023-10-08T15:12:32.666Z"
   },
   {
    "duration": 34,
    "start_time": "2023-10-08T15:12:32.674Z"
   },
   {
    "duration": 14713,
    "start_time": "2023-10-08T15:12:32.710Z"
   },
   {
    "duration": 880,
    "start_time": "2023-10-08T15:12:47.424Z"
   },
   {
    "duration": 9,
    "start_time": "2023-10-08T15:12:48.306Z"
   },
   {
    "duration": 11,
    "start_time": "2023-10-08T15:13:06.543Z"
   },
   {
    "duration": 13,
    "start_time": "2023-10-08T15:13:37.901Z"
   },
   {
    "duration": 2668,
    "start_time": "2023-10-08T17:03:29.671Z"
   },
   {
    "duration": 128,
    "start_time": "2023-10-08T17:03:32.342Z"
   },
   {
    "duration": 12,
    "start_time": "2023-10-08T17:03:32.472Z"
   },
   {
    "duration": 58,
    "start_time": "2023-10-08T17:03:32.486Z"
   },
   {
    "duration": 18,
    "start_time": "2023-10-08T17:03:32.546Z"
   },
   {
    "duration": 82,
    "start_time": "2023-10-08T17:03:32.566Z"
   },
   {
    "duration": 16511,
    "start_time": "2023-10-08T17:03:32.650Z"
   },
   {
    "duration": 1035,
    "start_time": "2023-10-08T17:03:49.163Z"
   },
   {
    "duration": 13,
    "start_time": "2023-10-08T17:03:50.200Z"
   },
   {
    "duration": 49,
    "start_time": "2023-10-09T08:13:03.671Z"
   },
   {
    "duration": 1236,
    "start_time": "2023-10-09T08:13:10.704Z"
   },
   {
    "duration": 81,
    "start_time": "2023-10-09T08:13:11.942Z"
   },
   {
    "duration": 12,
    "start_time": "2023-10-09T08:13:12.025Z"
   },
   {
    "duration": 42,
    "start_time": "2023-10-09T08:13:12.039Z"
   },
   {
    "duration": 71,
    "start_time": "2023-10-09T08:13:15.495Z"
   },
   {
    "duration": 7,
    "start_time": "2023-10-09T08:13:31.929Z"
   },
   {
    "duration": 7,
    "start_time": "2023-10-09T08:19:27.213Z"
   },
   {
    "duration": 8,
    "start_time": "2023-10-09T08:19:43.927Z"
   },
   {
    "duration": 3,
    "start_time": "2023-10-09T11:15:38.517Z"
   },
   {
    "duration": 58,
    "start_time": "2023-10-09T11:15:38.522Z"
   },
   {
    "duration": 10,
    "start_time": "2023-10-09T11:15:38.582Z"
   },
   {
    "duration": 34,
    "start_time": "2023-10-09T11:15:38.594Z"
   },
   {
    "duration": 6,
    "start_time": "2023-10-09T11:15:38.630Z"
   },
   {
    "duration": 35,
    "start_time": "2023-10-09T11:15:38.639Z"
   },
   {
    "duration": 0,
    "start_time": "2023-10-09T11:15:38.676Z"
   },
   {
    "duration": 0,
    "start_time": "2023-10-09T11:15:38.677Z"
   },
   {
    "duration": 0,
    "start_time": "2023-10-09T11:15:38.679Z"
   },
   {
    "duration": 0,
    "start_time": "2023-10-09T11:15:38.680Z"
   },
   {
    "duration": 10,
    "start_time": "2023-10-09T11:16:40.501Z"
   },
   {
    "duration": 12,
    "start_time": "2023-10-09T11:16:51.268Z"
   },
   {
    "duration": 54,
    "start_time": "2023-10-09T11:16:51.283Z"
   },
   {
    "duration": 15181,
    "start_time": "2023-10-09T11:16:51.339Z"
   },
   {
    "duration": 924,
    "start_time": "2023-10-09T11:17:06.522Z"
   },
   {
    "duration": 16,
    "start_time": "2023-10-09T11:17:07.448Z"
   },
   {
    "duration": 20,
    "start_time": "2023-10-09T13:55:17.144Z"
   },
   {
    "duration": 27,
    "start_time": "2023-10-09T13:58:33.206Z"
   },
   {
    "duration": 17,
    "start_time": "2023-10-09T14:05:48.731Z"
   },
   {
    "duration": 14,
    "start_time": "2023-10-09T14:06:25.583Z"
   },
   {
    "duration": 12,
    "start_time": "2023-10-09T14:09:00.141Z"
   },
   {
    "duration": 10,
    "start_time": "2023-10-09T14:09:08.097Z"
   },
   {
    "duration": 10,
    "start_time": "2023-10-09T14:09:19.518Z"
   },
   {
    "duration": 12,
    "start_time": "2023-10-09T14:09:37.625Z"
   },
   {
    "duration": 10,
    "start_time": "2023-10-09T14:09:43.638Z"
   },
   {
    "duration": 89,
    "start_time": "2023-10-09T14:35:49.417Z"
   },
   {
    "duration": 6,
    "start_time": "2023-10-09T14:36:22.285Z"
   },
   {
    "duration": 84,
    "start_time": "2023-10-09T14:36:32.205Z"
   },
   {
    "duration": 7,
    "start_time": "2023-10-09T14:36:45.270Z"
   },
   {
    "duration": 6,
    "start_time": "2023-10-09T14:44:07.578Z"
   },
   {
    "duration": 1661,
    "start_time": "2023-10-09T14:48:47.254Z"
   },
   {
    "duration": 1688,
    "start_time": "2023-10-09T14:54:56.515Z"
   },
   {
    "duration": 19,
    "start_time": "2023-10-09T15:04:07.874Z"
   },
   {
    "duration": 17,
    "start_time": "2023-10-09T15:04:46.807Z"
   },
   {
    "duration": 16,
    "start_time": "2023-10-09T15:05:16.646Z"
   },
   {
    "duration": 19,
    "start_time": "2023-10-09T15:12:02.858Z"
   },
   {
    "duration": 16,
    "start_time": "2023-10-09T15:12:27.618Z"
   },
   {
    "duration": 17,
    "start_time": "2023-10-09T15:13:29.664Z"
   },
   {
    "duration": 13,
    "start_time": "2023-10-09T15:15:01.024Z"
   },
   {
    "duration": 11,
    "start_time": "2023-10-09T15:15:23.443Z"
   },
   {
    "duration": 14,
    "start_time": "2023-10-09T15:15:46.353Z"
   },
   {
    "duration": 18,
    "start_time": "2023-10-09T15:17:36.517Z"
   },
   {
    "duration": 15,
    "start_time": "2023-10-09T15:17:51.321Z"
   },
   {
    "duration": 15,
    "start_time": "2023-10-09T15:18:28.483Z"
   },
   {
    "duration": 15,
    "start_time": "2023-10-09T15:21:01.116Z"
   },
   {
    "duration": 356,
    "start_time": "2023-10-09T15:30:40.500Z"
   },
   {
    "duration": 361,
    "start_time": "2023-10-09T15:30:51.595Z"
   },
   {
    "duration": 19,
    "start_time": "2023-10-09T15:30:57.167Z"
   },
   {
    "duration": 30,
    "start_time": "2023-10-09T15:33:12.620Z"
   },
   {
    "duration": 25,
    "start_time": "2023-10-09T15:34:39.038Z"
   },
   {
    "duration": 19,
    "start_time": "2023-10-09T15:34:47.271Z"
   },
   {
    "duration": 1201,
    "start_time": "2023-10-10T07:40:16.213Z"
   },
   {
    "duration": 136,
    "start_time": "2023-10-10T07:40:17.416Z"
   },
   {
    "duration": 11,
    "start_time": "2023-10-10T07:40:17.553Z"
   },
   {
    "duration": 28,
    "start_time": "2023-10-10T07:40:17.566Z"
   },
   {
    "duration": 12,
    "start_time": "2023-10-10T07:40:17.596Z"
   },
   {
    "duration": 45,
    "start_time": "2023-10-10T07:40:17.610Z"
   },
   {
    "duration": 10,
    "start_time": "2023-10-10T07:40:17.657Z"
   },
   {
    "duration": 114,
    "start_time": "2023-10-10T07:40:17.668Z"
   },
   {
    "duration": 8,
    "start_time": "2023-10-10T07:41:07.115Z"
   },
   {
    "duration": 19,
    "start_time": "2023-10-10T07:41:15.074Z"
   },
   {
    "duration": 12705,
    "start_time": "2023-10-10T07:41:51.239Z"
   },
   {
    "duration": 57,
    "start_time": "2023-10-10T07:55:18.892Z"
   },
   {
    "duration": 49,
    "start_time": "2023-10-10T07:55:35.165Z"
   },
   {
    "duration": 6,
    "start_time": "2023-10-10T07:55:58.604Z"
   },
   {
    "duration": 4,
    "start_time": "2023-10-10T08:04:12.071Z"
   },
   {
    "duration": 24,
    "start_time": "2023-10-10T08:04:51.809Z"
   },
   {
    "duration": 24,
    "start_time": "2023-10-10T08:07:41.556Z"
   },
   {
    "duration": 124,
    "start_time": "2023-10-10T08:18:55.565Z"
   },
   {
    "duration": 113,
    "start_time": "2023-10-10T08:20:58.993Z"
   },
   {
    "duration": 129,
    "start_time": "2023-10-10T08:21:12.888Z"
   },
   {
    "duration": 1097,
    "start_time": "2023-10-10T08:46:59.089Z"
   },
   {
    "duration": 13,
    "start_time": "2023-10-10T08:47:58.265Z"
   },
   {
    "duration": 1003,
    "start_time": "2023-10-10T08:55:13.407Z"
   },
   {
    "duration": 1037,
    "start_time": "2023-10-10T08:55:28.838Z"
   },
   {
    "duration": 13356,
    "start_time": "2023-10-10T09:11:25.401Z"
   },
   {
    "duration": 49,
    "start_time": "2023-10-10T09:13:21.637Z"
   },
   {
    "duration": 7,
    "start_time": "2023-10-10T09:21:42.497Z"
   },
   {
    "duration": 7,
    "start_time": "2023-10-10T09:21:59.068Z"
   },
   {
    "duration": 6,
    "start_time": "2023-10-10T09:22:02.093Z"
   },
   {
    "duration": 6,
    "start_time": "2023-10-10T09:24:38.541Z"
   },
   {
    "duration": 3,
    "start_time": "2023-10-10T09:38:33.073Z"
   },
   {
    "duration": 86,
    "start_time": "2023-10-10T09:44:14.013Z"
   },
   {
    "duration": 84,
    "start_time": "2023-10-10T09:44:30.165Z"
   },
   {
    "duration": 7,
    "start_time": "2023-10-10T09:44:34.068Z"
   },
   {
    "duration": 6,
    "start_time": "2023-10-10T09:44:37.898Z"
   },
   {
    "duration": 6,
    "start_time": "2023-10-10T09:44:51.405Z"
   },
   {
    "duration": 5,
    "start_time": "2023-10-10T09:46:14.631Z"
   },
   {
    "duration": 6,
    "start_time": "2023-10-10T09:46:26.739Z"
   },
   {
    "duration": 12,
    "start_time": "2023-10-10T09:49:49.099Z"
   },
   {
    "duration": 10,
    "start_time": "2023-10-10T09:50:00.572Z"
   },
   {
    "duration": 10,
    "start_time": "2023-10-10T09:50:14.268Z"
   },
   {
    "duration": 14,
    "start_time": "2023-10-10T09:50:26.740Z"
   },
   {
    "duration": 5,
    "start_time": "2023-10-10T09:51:18.001Z"
   },
   {
    "duration": 4,
    "start_time": "2023-10-10T10:12:19.787Z"
   },
   {
    "duration": 54,
    "start_time": "2023-10-10T10:12:19.793Z"
   },
   {
    "duration": 12,
    "start_time": "2023-10-10T10:12:19.849Z"
   },
   {
    "duration": 43,
    "start_time": "2023-10-10T10:12:19.862Z"
   },
   {
    "duration": 7,
    "start_time": "2023-10-10T10:12:19.907Z"
   },
   {
    "duration": 26,
    "start_time": "2023-10-10T10:12:19.915Z"
   },
   {
    "duration": 14,
    "start_time": "2023-10-10T10:12:19.943Z"
   },
   {
    "duration": 13,
    "start_time": "2023-10-10T10:12:19.959Z"
   },
   {
    "duration": 1054,
    "start_time": "2023-10-10T10:12:19.974Z"
   },
   {
    "duration": 12915,
    "start_time": "2023-10-10T10:12:21.030Z"
   },
   {
    "duration": 56,
    "start_time": "2023-10-10T10:12:33.948Z"
   },
   {
    "duration": 8,
    "start_time": "2023-10-10T10:12:34.005Z"
   },
   {
    "duration": 49,
    "start_time": "2023-10-10T10:12:34.014Z"
   }
  ],
  "kernelspec": {
   "display_name": "Python 3 (ipykernel)",
   "language": "python",
   "name": "python3"
  },
  "language_info": {
   "codemirror_mode": {
    "name": "ipython",
    "version": 3
   },
   "file_extension": ".py",
   "mimetype": "text/x-python",
   "name": "python",
   "nbconvert_exporter": "python",
   "pygments_lexer": "ipython3",
   "version": "3.11.5"
  },
  "toc": {
   "base_numbering": 1,
   "nav_menu": {},
   "number_sections": true,
   "sideBar": true,
   "skip_h1_title": true,
   "title_cell": "Table of Contents",
   "title_sidebar": "Contents",
   "toc_cell": false,
   "toc_position": {},
   "toc_section_display": true,
   "toc_window_display": false
  }
 },
 "nbformat": 4,
 "nbformat_minor": 2
}
