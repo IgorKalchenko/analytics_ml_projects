{
 "cells": [
  {
   "cell_type": "markdown",
   "metadata": {},
   "source": [
    "# Исследование закономерностей успешности игр\n",
    "\n",
    "В вашем распоряжении исторические данные о продажах игр, оценки пользователей и экспертов, жанры и платформы (например, Xbox или PlayStation). Необходимо выявить определяющие успешность игры закономерности. Это позволит сделать ставку на потенциально популярный продукт и спланировать рекламные кампании. Данные доступны за промежуток до 2016 года включительно\n",
    "\n",
    "**Цель исследования:**\n",
    "1. Изучить, как менялись продажи по платформам.\n",
    "2. Определить актуальный период.\n",
    "3. Посмотреть, как влияют на продажи внутри одной популярной платформы отзывы пользователей и критиков\n",
    "4. Изучить распределение игр по жанрам\n",
    "\n",
    "**Ход исследования**\n",
    "\n",
    "Данные об играх я получу из файла '/datasets/games.csv.'. О качестве данных ничего неизвестно, поэтому прежде чем приступать к целям исследования, понадобится обзор данных.\n",
    "\n",
    "Данные будут проверены на ошибки, дубликаты и выбросы. Я поищу возможности исправить все ошибки данных, при этом избежав серьёзного искажения конечного результата. Далее будут созданы необходимые для анализа столбцы и будет проведён исследовательский анализ данных.\n",
    "\n",
    "Таким образом, моё исследование будет состоять из следующих этапов:\n",
    "1. Обзор данных\n",
    "2. Предобработка данных\n",
    "3. Рассчёты и добавление результатов в таблицу\n",
    "4. Исследоватльский анализ\n",
    "5. Написание общего вывода"
   ]
  },
  {
   "cell_type": "markdown",
   "metadata": {},
   "source": [
    "## Знакомство с данными.\n",
    "**Познакомимся с первыми строками таблицы**"
   ]
  },
  {
   "cell_type": "code",
   "execution_count": 1,
   "metadata": {},
   "outputs": [
    {
     "data": {
      "text/html": [
       "<div>\n",
       "<style scoped>\n",
       "    .dataframe tbody tr th:only-of-type {\n",
       "        vertical-align: middle;\n",
       "    }\n",
       "\n",
       "    .dataframe tbody tr th {\n",
       "        vertical-align: top;\n",
       "    }\n",
       "\n",
       "    .dataframe thead th {\n",
       "        text-align: right;\n",
       "    }\n",
       "</style>\n",
       "<table border=\"1\" class=\"dataframe\">\n",
       "  <thead>\n",
       "    <tr style=\"text-align: right;\">\n",
       "      <th></th>\n",
       "      <th>Name</th>\n",
       "      <th>Platform</th>\n",
       "      <th>Year_of_Release</th>\n",
       "      <th>Genre</th>\n",
       "      <th>NA_sales</th>\n",
       "      <th>EU_sales</th>\n",
       "      <th>JP_sales</th>\n",
       "      <th>Other_sales</th>\n",
       "      <th>Critic_Score</th>\n",
       "      <th>User_Score</th>\n",
       "      <th>Rating</th>\n",
       "    </tr>\n",
       "  </thead>\n",
       "  <tbody>\n",
       "    <tr>\n",
       "      <th>0</th>\n",
       "      <td>Wii Sports</td>\n",
       "      <td>Wii</td>\n",
       "      <td>2006.0</td>\n",
       "      <td>Sports</td>\n",
       "      <td>41.36</td>\n",
       "      <td>28.96</td>\n",
       "      <td>3.77</td>\n",
       "      <td>8.45</td>\n",
       "      <td>76.0</td>\n",
       "      <td>8</td>\n",
       "      <td>E</td>\n",
       "    </tr>\n",
       "    <tr>\n",
       "      <th>1</th>\n",
       "      <td>Super Mario Bros.</td>\n",
       "      <td>NES</td>\n",
       "      <td>1985.0</td>\n",
       "      <td>Platform</td>\n",
       "      <td>29.08</td>\n",
       "      <td>3.58</td>\n",
       "      <td>6.81</td>\n",
       "      <td>0.77</td>\n",
       "      <td>NaN</td>\n",
       "      <td>NaN</td>\n",
       "      <td>NaN</td>\n",
       "    </tr>\n",
       "    <tr>\n",
       "      <th>2</th>\n",
       "      <td>Mario Kart Wii</td>\n",
       "      <td>Wii</td>\n",
       "      <td>2008.0</td>\n",
       "      <td>Racing</td>\n",
       "      <td>15.68</td>\n",
       "      <td>12.76</td>\n",
       "      <td>3.79</td>\n",
       "      <td>3.29</td>\n",
       "      <td>82.0</td>\n",
       "      <td>8.3</td>\n",
       "      <td>E</td>\n",
       "    </tr>\n",
       "    <tr>\n",
       "      <th>3</th>\n",
       "      <td>Wii Sports Resort</td>\n",
       "      <td>Wii</td>\n",
       "      <td>2009.0</td>\n",
       "      <td>Sports</td>\n",
       "      <td>15.61</td>\n",
       "      <td>10.93</td>\n",
       "      <td>3.28</td>\n",
       "      <td>2.95</td>\n",
       "      <td>80.0</td>\n",
       "      <td>8</td>\n",
       "      <td>E</td>\n",
       "    </tr>\n",
       "    <tr>\n",
       "      <th>4</th>\n",
       "      <td>Pokemon Red/Pokemon Blue</td>\n",
       "      <td>GB</td>\n",
       "      <td>1996.0</td>\n",
       "      <td>Role-Playing</td>\n",
       "      <td>11.27</td>\n",
       "      <td>8.89</td>\n",
       "      <td>10.22</td>\n",
       "      <td>1.00</td>\n",
       "      <td>NaN</td>\n",
       "      <td>NaN</td>\n",
       "      <td>NaN</td>\n",
       "    </tr>\n",
       "  </tbody>\n",
       "</table>\n",
       "</div>"
      ],
      "text/plain": [
       "                       Name Platform  Year_of_Release         Genre  NA_sales  \\\n",
       "0                Wii Sports      Wii           2006.0        Sports     41.36   \n",
       "1         Super Mario Bros.      NES           1985.0      Platform     29.08   \n",
       "2            Mario Kart Wii      Wii           2008.0        Racing     15.68   \n",
       "3         Wii Sports Resort      Wii           2009.0        Sports     15.61   \n",
       "4  Pokemon Red/Pokemon Blue       GB           1996.0  Role-Playing     11.27   \n",
       "\n",
       "   EU_sales  JP_sales  Other_sales  Critic_Score User_Score Rating  \n",
       "0     28.96      3.77         8.45          76.0          8      E  \n",
       "1      3.58      6.81         0.77           NaN        NaN    NaN  \n",
       "2     12.76      3.79         3.29          82.0        8.3      E  \n",
       "3     10.93      3.28         2.95          80.0          8      E  \n",
       "4      8.89     10.22         1.00           NaN        NaN    NaN  "
      ]
     },
     "execution_count": 1,
     "metadata": {},
     "output_type": "execute_result"
    }
   ],
   "source": [
    "from matplotlib import pyplot as plt\n",
    "from numpy import nan\n",
    "import pandas as pd\n",
    "\n",
    "\n",
    "df = pd.read_csv('/datasets/games.csv')\n",
    "df.head()"
   ]
  },
  {
   "cell_type": "markdown",
   "metadata": {},
   "source": [
    "**Получим общие сведения**"
   ]
  },
  {
   "cell_type": "code",
   "execution_count": 2,
   "metadata": {},
   "outputs": [
    {
     "name": "stdout",
     "output_type": "stream",
     "text": [
      "<class 'pandas.core.frame.DataFrame'>\n",
      "RangeIndex: 16715 entries, 0 to 16714\n",
      "Data columns (total 11 columns):\n",
      " #   Column           Non-Null Count  Dtype  \n",
      "---  ------           --------------  -----  \n",
      " 0   Name             16713 non-null  object \n",
      " 1   Platform         16715 non-null  object \n",
      " 2   Year_of_Release  16446 non-null  float64\n",
      " 3   Genre            16713 non-null  object \n",
      " 4   NA_sales         16715 non-null  float64\n",
      " 5   EU_sales         16715 non-null  float64\n",
      " 6   JP_sales         16715 non-null  float64\n",
      " 7   Other_sales      16715 non-null  float64\n",
      " 8   Critic_Score     8137 non-null   float64\n",
      " 9   User_Score       10014 non-null  object \n",
      " 10  Rating           9949 non-null   object \n",
      "dtypes: float64(6), object(5)\n",
      "memory usage: 1.4+ MB\n"
     ]
    }
   ],
   "source": [
    "df.info()"
   ]
  },
  {
   "cell_type": "markdown",
   "metadata": {},
   "source": [
    "**Построим общую гистограмму для всех числовых столбцов таблицы**"
   ]
  },
  {
   "cell_type": "code",
   "execution_count": 3,
   "metadata": {},
   "outputs": [
    {
     "data": {
      "image/png": "[encoded data removed]",
      "text/plain": [
       "<Figure size 1080x1440 with 6 Axes>"
      ]
     },
     "metadata": {
      "needs_background": "light"
     },
     "output_type": "display_data"
    }
   ],
   "source": [
    "df.hist(figsize=(15, 20));"
   ]
  },
  {
   "cell_type": "markdown",
   "metadata": {},
   "source": [
    "**Выше представлена основная информация о данных, включённых в таблицу. Всего в таблице 16715 строк и 11 колонок. В 6 из 11 колонок наблюдаются пропущенные значения. Также в ряде колонок (Other_sales, JP_sales, EU_sales, NA_sales) наблюдается неравномерное распределение записей: основной массив записей находится в небольшом диапазоне, а единичные записи довольно сильно из него выбиваются.**"
   ]
  },
  {
   "cell_type": "markdown",
   "metadata": {},
   "source": [
    "## Предобработка данных"
   ]
  },
  {
   "cell_type": "markdown",
   "metadata": {},
   "source": [
    "### Переименование колонок"
   ]
  },
  {
   "cell_type": "markdown",
   "metadata": {},
   "source": [
    "**Названия колонок не соответствуют общепринятому правилу наименования столбцов в змеином регистре. Приведём названия столбцов к змеиному регистру.**"
   ]
  },
  {
   "cell_type": "code",
   "execution_count": 4,
   "metadata": {},
   "outputs": [],
   "source": [
    "df.columns = df.columns.str.lower()"
   ]
  },
  {
   "cell_type": "markdown",
   "metadata": {},
   "source": [
    "### Устранение неявных дубликатов"
   ]
  },
  {
   "cell_type": "markdown",
   "metadata": {},
   "source": [
    "**Проверим, присутствуют ли в выборке явные дубликаты.**"
   ]
  },
  {
   "cell_type": "code",
   "execution_count": 5,
   "metadata": {},
   "outputs": [
    {
     "data": {
      "text/plain": [
       "0"
      ]
     },
     "execution_count": 5,
     "metadata": {},
     "output_type": "execute_result"
    }
   ],
   "source": [
    "df.duplicated().sum()"
   ]
  },
  {
   "cell_type": "markdown",
   "metadata": {},
   "source": [
    "**Явные дубликаты не обнаружены**"
   ]
  },
  {
   "cell_type": "code",
   "execution_count": 6,
   "metadata": {},
   "outputs": [
    {
     "name": "stdout",
     "output_type": "stream",
     "text": [
      "5\n"
     ]
    },
    {
     "data": {
      "text/plain": [
       "0"
      ]
     },
     "execution_count": 6,
     "metadata": {},
     "output_type": "execute_result"
    }
   ],
   "source": [
    "print(df.duplicated(subset=['name', 'platform']).sum())\n",
    "df = df.drop_duplicates(subset=['name', 'platform'], keep='first')\n",
    "df.duplicated(subset=['name', 'platform']).sum()"
   ]
  },
  {
   "cell_type": "markdown",
   "metadata": {},
   "source": [
    "**Удалено 5 неявных дубликатов: строк, в которых название игры и платформы дублируются. В датасете сохранены данные первой встречающейся записи.**"
   ]
  },
  {
   "cell_type": "markdown",
   "metadata": {},
   "source": [
    "### Обработка пропусков"
   ]
  },
  {
   "cell_type": "markdown",
   "metadata": {},
   "source": [
    "**Выведим количество пропущенных значений для каждого столбца**"
   ]
  },
  {
   "cell_type": "code",
   "execution_count": 7,
   "metadata": {},
   "outputs": [
    {
     "data": {
      "text/plain": [
       "name                  1\n",
       "platform              0\n",
       "year_of_release     268\n",
       "genre                 1\n",
       "na_sales              0\n",
       "eu_sales              0\n",
       "jp_sales              0\n",
       "other_sales           0\n",
       "critic_score       8577\n",
       "user_score         6700\n",
       "rating             6765\n",
       "dtype: int64"
      ]
     },
     "execution_count": 7,
     "metadata": {},
     "output_type": "execute_result"
    }
   ],
   "source": [
    "df.isna().sum()"
   ]
  },
  {
   "cell_type": "markdown",
   "metadata": {},
   "source": [
    "**Один пропуск есть в столбце \"name\". Это ключевое значение, найти какую-либо адекватную замену этому значению не представляется возможным. Наиболее верным представляется удаление этой строки. Также наблюдается относительно небольшое количество пропусков в столбце \"year_of_release\". Отсутствует 268 значений. В рабочем проекте мы бы могли постараться найти открытую базу по играм и попытаться найти в ней данные через скрипт или мануально (при единичных пропусках). Однако так как удельный вес пропусков невелик, удаление строк не должно сильно сказаться на результатах анализа. Удалим также строки с пропусками в \"year_of_release\". Пропуски в этих данных могут быть вызваны несовершенством базы данных, возможно данные об этих играх подтягивались не из тех баз.**"
   ]
  },
  {
   "cell_type": "code",
   "execution_count": 8,
   "metadata": {},
   "outputs": [
    {
     "data": {
      "text/plain": [
       "name                  0\n",
       "platform              0\n",
       "year_of_release       0\n",
       "genre                 0\n",
       "na_sales              0\n",
       "eu_sales              0\n",
       "jp_sales              0\n",
       "other_sales           0\n",
       "critic_score       8461\n",
       "user_score         6605\n",
       "rating             6676\n",
       "dtype: int64"
      ]
     },
     "execution_count": 8,
     "metadata": {},
     "output_type": "execute_result"
    }
   ],
   "source": [
    "df = df.dropna(subset=['name', 'year_of_release'])\n",
    "df.isna().sum()"
   ]
  },
  {
   "cell_type": "markdown",
   "metadata": {},
   "source": [
    "**Пропуски в столбце \"rating\" могут негативно влиять на результаты анализа, заменим их на \"no_data\". Остальное оставим с пропусками**"
   ]
  },
  {
   "cell_type": "code",
   "execution_count": 9,
   "metadata": {},
   "outputs": [],
   "source": [
    "df['rating'] = df['rating'].replace(nan, 'no_data')"
   ]
  },
  {
   "cell_type": "markdown",
   "metadata": {},
   "source": [
    "**Пропуски в стобце \"rating\"**"
   ]
  },
  {
   "cell_type": "markdown",
   "metadata": {},
   "source": [
    "### Корректировка типов данных"
   ]
  },
  {
   "cell_type": "markdown",
   "metadata": {},
   "source": [
    "**Перед корректировкой типов данных необходимо обработать текстовое значение 'tbd' в столбце 'user_score'. Это значение по всей видимости расшифровывается как to be determined, подлежит уточнению. В нашем случае это равносильно отсутствующему значению. Заменим значения 'tbd' на Nan.**"
   ]
  },
  {
   "cell_type": "code",
   "execution_count": 10,
   "metadata": {
    "scrolled": true
   },
   "outputs": [],
   "source": [
    "df['user_score'] = df['user_score'].replace('tbd', nan)"
   ]
  },
  {
   "cell_type": "markdown",
   "metadata": {},
   "source": [
    "**В столбце year_of_release тип данных float, вещественные числа. Это не вполне корректный тип данных для годов. Приведём его к целым числам, int. Тип данных в столбце user_score - object. Это также некорректный тип данных для столбца содержащего вещественные числа. Прведём его к float.**"
   ]
  },
  {
   "cell_type": "code",
   "execution_count": 11,
   "metadata": {},
   "outputs": [],
   "source": [
    "df['year_of_release'] = df['year_of_release'].astype(dtype='int')\n",
    "df['user_score'] = pd.to_numeric(df['user_score'])"
   ]
  },
  {
   "cell_type": "markdown",
   "metadata": {},
   "source": [
    "### Суммарные продажи во всех регионах"
   ]
  },
  {
   "cell_type": "markdown",
   "metadata": {},
   "source": [
    "**Добавим в таблицу столбец с данными по продажам во всех регионах: total_sales.**"
   ]
  },
  {
   "cell_type": "code",
   "execution_count": 12,
   "metadata": {
    "scrolled": true
   },
   "outputs": [
    {
     "data": {
      "text/html": [
       "<div>\n",
       "<style scoped>\n",
       "    .dataframe tbody tr th:only-of-type {\n",
       "        vertical-align: middle;\n",
       "    }\n",
       "\n",
       "    .dataframe tbody tr th {\n",
       "        vertical-align: top;\n",
       "    }\n",
       "\n",
       "    .dataframe thead th {\n",
       "        text-align: right;\n",
       "    }\n",
       "</style>\n",
       "<table border=\"1\" class=\"dataframe\">\n",
       "  <thead>\n",
       "    <tr style=\"text-align: right;\">\n",
       "      <th></th>\n",
       "      <th>name</th>\n",
       "      <th>platform</th>\n",
       "      <th>year_of_release</th>\n",
       "      <th>genre</th>\n",
       "      <th>na_sales</th>\n",
       "      <th>eu_sales</th>\n",
       "      <th>jp_sales</th>\n",
       "      <th>other_sales</th>\n",
       "      <th>critic_score</th>\n",
       "      <th>user_score</th>\n",
       "      <th>rating</th>\n",
       "      <th>total_sales</th>\n",
       "    </tr>\n",
       "  </thead>\n",
       "  <tbody>\n",
       "    <tr>\n",
       "      <th>0</th>\n",
       "      <td>Wii Sports</td>\n",
       "      <td>Wii</td>\n",
       "      <td>2006</td>\n",
       "      <td>Sports</td>\n",
       "      <td>41.36</td>\n",
       "      <td>28.96</td>\n",
       "      <td>3.77</td>\n",
       "      <td>8.45</td>\n",
       "      <td>76.0</td>\n",
       "      <td>8.0</td>\n",
       "      <td>E</td>\n",
       "      <td>82.54</td>\n",
       "    </tr>\n",
       "    <tr>\n",
       "      <th>1</th>\n",
       "      <td>Super Mario Bros.</td>\n",
       "      <td>NES</td>\n",
       "      <td>1985</td>\n",
       "      <td>Platform</td>\n",
       "      <td>29.08</td>\n",
       "      <td>3.58</td>\n",
       "      <td>6.81</td>\n",
       "      <td>0.77</td>\n",
       "      <td>NaN</td>\n",
       "      <td>NaN</td>\n",
       "      <td>no_data</td>\n",
       "      <td>40.24</td>\n",
       "    </tr>\n",
       "    <tr>\n",
       "      <th>2</th>\n",
       "      <td>Mario Kart Wii</td>\n",
       "      <td>Wii</td>\n",
       "      <td>2008</td>\n",
       "      <td>Racing</td>\n",
       "      <td>15.68</td>\n",
       "      <td>12.76</td>\n",
       "      <td>3.79</td>\n",
       "      <td>3.29</td>\n",
       "      <td>82.0</td>\n",
       "      <td>8.3</td>\n",
       "      <td>E</td>\n",
       "      <td>35.52</td>\n",
       "    </tr>\n",
       "    <tr>\n",
       "      <th>3</th>\n",
       "      <td>Wii Sports Resort</td>\n",
       "      <td>Wii</td>\n",
       "      <td>2009</td>\n",
       "      <td>Sports</td>\n",
       "      <td>15.61</td>\n",
       "      <td>10.93</td>\n",
       "      <td>3.28</td>\n",
       "      <td>2.95</td>\n",
       "      <td>80.0</td>\n",
       "      <td>8.0</td>\n",
       "      <td>E</td>\n",
       "      <td>32.77</td>\n",
       "    </tr>\n",
       "    <tr>\n",
       "      <th>4</th>\n",
       "      <td>Pokemon Red/Pokemon Blue</td>\n",
       "      <td>GB</td>\n",
       "      <td>1996</td>\n",
       "      <td>Role-Playing</td>\n",
       "      <td>11.27</td>\n",
       "      <td>8.89</td>\n",
       "      <td>10.22</td>\n",
       "      <td>1.00</td>\n",
       "      <td>NaN</td>\n",
       "      <td>NaN</td>\n",
       "      <td>no_data</td>\n",
       "      <td>31.38</td>\n",
       "    </tr>\n",
       "  </tbody>\n",
       "</table>\n",
       "</div>"
      ],
      "text/plain": [
       "                       name platform  year_of_release         genre  na_sales  \\\n",
       "0                Wii Sports      Wii             2006        Sports     41.36   \n",
       "1         Super Mario Bros.      NES             1985      Platform     29.08   \n",
       "2            Mario Kart Wii      Wii             2008        Racing     15.68   \n",
       "3         Wii Sports Resort      Wii             2009        Sports     15.61   \n",
       "4  Pokemon Red/Pokemon Blue       GB             1996  Role-Playing     11.27   \n",
       "\n",
       "   eu_sales  jp_sales  other_sales  critic_score  user_score   rating  \\\n",
       "0     28.96      3.77         8.45          76.0         8.0        E   \n",
       "1      3.58      6.81         0.77           NaN         NaN  no_data   \n",
       "2     12.76      3.79         3.29          82.0         8.3        E   \n",
       "3     10.93      3.28         2.95          80.0         8.0        E   \n",
       "4      8.89     10.22         1.00           NaN         NaN  no_data   \n",
       "\n",
       "   total_sales  \n",
       "0        82.54  \n",
       "1        40.24  \n",
       "2        35.52  \n",
       "3        32.77  \n",
       "4        31.38  "
      ]
     },
     "execution_count": 12,
     "metadata": {},
     "output_type": "execute_result"
    }
   ],
   "source": [
    "df['total_sales'] = df[['na_sales', 'eu_sales', 'jp_sales', 'other_sales']].sum(axis=1)\n",
    "df.head()"
   ]
  },
  {
   "cell_type": "markdown",
   "metadata": {},
   "source": [
    "**В результате предобработки данных названия колонок были приведены к нижнему регистру. Также были выявлены и устранены несколько неявных дубликатов. Часть столбцов содержала пропуски. В зависимости от количества пропусков и характера данных часть строк с пропусками была удалена, часть пропусков заменена на дефолтные значения, часть - сохранена. Также были скорректированы типы данных.**"
   ]
  },
  {
   "cell_type": "markdown",
   "metadata": {},
   "source": [
    "## Исследовательский анализ данных"
   ]
  },
  {
   "cell_type": "markdown",
   "metadata": {},
   "source": [
    "### Cколько игр выпускалось в разные годы?"
   ]
  },
  {
   "cell_type": "markdown",
   "metadata": {},
   "source": [
    "**Получим данные по количеству игр, выпущенных в различные годы, и отсортируем данные по убыванию, чтобы выделить годы с самым большим количеством данных.**"
   ]
  },
  {
   "cell_type": "code",
   "execution_count": 13,
   "metadata": {
    "scrolled": true
   },
   "outputs": [
    {
     "data": {
      "image/png": "[encoded data removed]",
      "text/plain": [
       "<Figure size 936x360 with 1 Axes>"
      ]
     },
     "metadata": {
      "needs_background": "light"
     },
     "output_type": "display_data"
    }
   ],
   "source": [
    "ax = df.groupby('year_of_release')['name'].count().sort_values(\n",
    "    ascending=False).plot(\n",
    "    kind='bar',\n",
    "    figsize=[13, 5],\n",
    "    xlabel='Годы',\n",
    "    ylabel='Продажи',\n",
    "    title='Распределение продаж по годам',\n",
    ")\n",
    "plt.show()"
   ]
  },
  {
   "cell_type": "markdown",
   "metadata": {},
   "source": [
    "**Как можно заметить, наибольшее количество игр выпускалось после 2000 года за редким исключением. Данные за эти годы и имеет смысл анализировать. Наибольшее количество данных в выборке собрано по следующим годам: 2008, 2009, 2010, 2007, 2011, 2006.**"
   ]
  },
  {
   "cell_type": "markdown",
   "metadata": {},
   "source": [
    "### Как менялись продажи по платформам?"
   ]
  },
  {
   "cell_type": "markdown",
   "metadata": {},
   "source": [
    "**Сгруппируем продажи по платформам, сложим общую сумму продаж и отсортируем по убыванию.**"
   ]
  },
  {
   "cell_type": "code",
   "execution_count": 14,
   "metadata": {},
   "outputs": [
    {
     "data": {
      "image/png": "[encoded data removed]",
      "text/plain": [
       "<Figure size 720x360 with 1 Axes>"
      ]
     },
     "metadata": {
      "needs_background": "light"
     },
     "output_type": "display_data"
    }
   ],
   "source": [
    "grouped_by_platform = df.groupby(\n",
    "    'platform')['total_sales'].sum().sort_values(\n",
    "    ascending=False)\n",
    "grouped_by_platform.plot(\n",
    "    kind='bar',\n",
    "    figsize=[10, 5],\n",
    "    xlabel='Платфрмы',\n",
    "    ylabel='Общие продажи',\n",
    "    title='Распределение продаж по игровым платформам'\n",
    ");"
   ]
  },
  {
   "cell_type": "code",
   "execution_count": 15,
   "metadata": {},
   "outputs": [
    {
     "data": {
      "text/html": [
       "<div>\n",
       "<style scoped>\n",
       "    .dataframe tbody tr th:only-of-type {\n",
       "        vertical-align: middle;\n",
       "    }\n",
       "\n",
       "    .dataframe tbody tr th {\n",
       "        vertical-align: top;\n",
       "    }\n",
       "\n",
       "    .dataframe thead th {\n",
       "        text-align: right;\n",
       "    }\n",
       "</style>\n",
       "<table border=\"1\" class=\"dataframe\">\n",
       "  <thead>\n",
       "    <tr style=\"text-align: right;\">\n",
       "      <th>platform</th>\n",
       "      <th>3DS</th>\n",
       "      <th>DS</th>\n",
       "      <th>GBA</th>\n",
       "      <th>PS</th>\n",
       "      <th>PS2</th>\n",
       "      <th>PS3</th>\n",
       "      <th>PS4</th>\n",
       "      <th>PSP</th>\n",
       "      <th>Wii</th>\n",
       "      <th>X360</th>\n",
       "    </tr>\n",
       "    <tr>\n",
       "      <th>year_of_release</th>\n",
       "      <th></th>\n",
       "      <th></th>\n",
       "      <th></th>\n",
       "      <th></th>\n",
       "      <th></th>\n",
       "      <th></th>\n",
       "      <th></th>\n",
       "      <th></th>\n",
       "      <th></th>\n",
       "      <th></th>\n",
       "    </tr>\n",
       "  </thead>\n",
       "  <tbody>\n",
       "    <tr>\n",
       "      <th>1985</th>\n",
       "      <td>NaN</td>\n",
       "      <td>0.02</td>\n",
       "      <td>NaN</td>\n",
       "      <td>NaN</td>\n",
       "      <td>NaN</td>\n",
       "      <td>NaN</td>\n",
       "      <td>NaN</td>\n",
       "      <td>NaN</td>\n",
       "      <td>NaN</td>\n",
       "      <td>NaN</td>\n",
       "    </tr>\n",
       "    <tr>\n",
       "      <th>1994</th>\n",
       "      <td>NaN</td>\n",
       "      <td>NaN</td>\n",
       "      <td>NaN</td>\n",
       "      <td>6.03</td>\n",
       "      <td>NaN</td>\n",
       "      <td>NaN</td>\n",
       "      <td>NaN</td>\n",
       "      <td>NaN</td>\n",
       "      <td>NaN</td>\n",
       "      <td>NaN</td>\n",
       "    </tr>\n",
       "    <tr>\n",
       "      <th>1995</th>\n",
       "      <td>NaN</td>\n",
       "      <td>NaN</td>\n",
       "      <td>NaN</td>\n",
       "      <td>35.96</td>\n",
       "      <td>NaN</td>\n",
       "      <td>NaN</td>\n",
       "      <td>NaN</td>\n",
       "      <td>NaN</td>\n",
       "      <td>NaN</td>\n",
       "      <td>NaN</td>\n",
       "    </tr>\n",
       "    <tr>\n",
       "      <th>1996</th>\n",
       "      <td>NaN</td>\n",
       "      <td>NaN</td>\n",
       "      <td>NaN</td>\n",
       "      <td>94.70</td>\n",
       "      <td>NaN</td>\n",
       "      <td>NaN</td>\n",
       "      <td>NaN</td>\n",
       "      <td>NaN</td>\n",
       "      <td>NaN</td>\n",
       "      <td>NaN</td>\n",
       "    </tr>\n",
       "    <tr>\n",
       "      <th>1997</th>\n",
       "      <td>NaN</td>\n",
       "      <td>NaN</td>\n",
       "      <td>NaN</td>\n",
       "      <td>136.17</td>\n",
       "      <td>NaN</td>\n",
       "      <td>NaN</td>\n",
       "      <td>NaN</td>\n",
       "      <td>NaN</td>\n",
       "      <td>NaN</td>\n",
       "      <td>NaN</td>\n",
       "    </tr>\n",
       "    <tr>\n",
       "      <th>1998</th>\n",
       "      <td>NaN</td>\n",
       "      <td>NaN</td>\n",
       "      <td>NaN</td>\n",
       "      <td>169.49</td>\n",
       "      <td>NaN</td>\n",
       "      <td>NaN</td>\n",
       "      <td>NaN</td>\n",
       "      <td>NaN</td>\n",
       "      <td>NaN</td>\n",
       "      <td>NaN</td>\n",
       "    </tr>\n",
       "    <tr>\n",
       "      <th>1999</th>\n",
       "      <td>NaN</td>\n",
       "      <td>NaN</td>\n",
       "      <td>NaN</td>\n",
       "      <td>144.53</td>\n",
       "      <td>NaN</td>\n",
       "      <td>NaN</td>\n",
       "      <td>NaN</td>\n",
       "      <td>NaN</td>\n",
       "      <td>NaN</td>\n",
       "      <td>NaN</td>\n",
       "    </tr>\n",
       "    <tr>\n",
       "      <th>2000</th>\n",
       "      <td>NaN</td>\n",
       "      <td>NaN</td>\n",
       "      <td>0.07</td>\n",
       "      <td>96.37</td>\n",
       "      <td>39.17</td>\n",
       "      <td>NaN</td>\n",
       "      <td>NaN</td>\n",
       "      <td>NaN</td>\n",
       "      <td>NaN</td>\n",
       "      <td>NaN</td>\n",
       "    </tr>\n",
       "    <tr>\n",
       "      <th>2001</th>\n",
       "      <td>NaN</td>\n",
       "      <td>NaN</td>\n",
       "      <td>61.53</td>\n",
       "      <td>35.59</td>\n",
       "      <td>166.43</td>\n",
       "      <td>NaN</td>\n",
       "      <td>NaN</td>\n",
       "      <td>NaN</td>\n",
       "      <td>NaN</td>\n",
       "      <td>NaN</td>\n",
       "    </tr>\n",
       "    <tr>\n",
       "      <th>2002</th>\n",
       "      <td>NaN</td>\n",
       "      <td>NaN</td>\n",
       "      <td>74.16</td>\n",
       "      <td>6.67</td>\n",
       "      <td>205.38</td>\n",
       "      <td>NaN</td>\n",
       "      <td>NaN</td>\n",
       "      <td>NaN</td>\n",
       "      <td>NaN</td>\n",
       "      <td>NaN</td>\n",
       "    </tr>\n",
       "    <tr>\n",
       "      <th>2003</th>\n",
       "      <td>NaN</td>\n",
       "      <td>NaN</td>\n",
       "      <td>56.67</td>\n",
       "      <td>2.07</td>\n",
       "      <td>184.31</td>\n",
       "      <td>NaN</td>\n",
       "      <td>NaN</td>\n",
       "      <td>NaN</td>\n",
       "      <td>NaN</td>\n",
       "      <td>NaN</td>\n",
       "    </tr>\n",
       "    <tr>\n",
       "      <th>2004</th>\n",
       "      <td>NaN</td>\n",
       "      <td>17.27</td>\n",
       "      <td>77.91</td>\n",
       "      <td>NaN</td>\n",
       "      <td>211.81</td>\n",
       "      <td>NaN</td>\n",
       "      <td>NaN</td>\n",
       "      <td>7.06</td>\n",
       "      <td>NaN</td>\n",
       "      <td>NaN</td>\n",
       "    </tr>\n",
       "    <tr>\n",
       "      <th>2005</th>\n",
       "      <td>NaN</td>\n",
       "      <td>130.14</td>\n",
       "      <td>33.86</td>\n",
       "      <td>NaN</td>\n",
       "      <td>160.66</td>\n",
       "      <td>NaN</td>\n",
       "      <td>NaN</td>\n",
       "      <td>43.84</td>\n",
       "      <td>NaN</td>\n",
       "      <td>7.00</td>\n",
       "    </tr>\n",
       "    <tr>\n",
       "      <th>2006</th>\n",
       "      <td>NaN</td>\n",
       "      <td>119.81</td>\n",
       "      <td>5.28</td>\n",
       "      <td>NaN</td>\n",
       "      <td>103.42</td>\n",
       "      <td>20.96</td>\n",
       "      <td>NaN</td>\n",
       "      <td>55.32</td>\n",
       "      <td>137.15</td>\n",
       "      <td>51.62</td>\n",
       "    </tr>\n",
       "    <tr>\n",
       "      <th>2007</th>\n",
       "      <td>NaN</td>\n",
       "      <td>146.94</td>\n",
       "      <td>3.40</td>\n",
       "      <td>NaN</td>\n",
       "      <td>75.99</td>\n",
       "      <td>73.19</td>\n",
       "      <td>NaN</td>\n",
       "      <td>46.93</td>\n",
       "      <td>152.77</td>\n",
       "      <td>95.41</td>\n",
       "    </tr>\n",
       "    <tr>\n",
       "      <th>2008</th>\n",
       "      <td>NaN</td>\n",
       "      <td>145.31</td>\n",
       "      <td>NaN</td>\n",
       "      <td>NaN</td>\n",
       "      <td>53.90</td>\n",
       "      <td>118.52</td>\n",
       "      <td>NaN</td>\n",
       "      <td>34.55</td>\n",
       "      <td>171.32</td>\n",
       "      <td>135.26</td>\n",
       "    </tr>\n",
       "    <tr>\n",
       "      <th>2009</th>\n",
       "      <td>NaN</td>\n",
       "      <td>119.54</td>\n",
       "      <td>NaN</td>\n",
       "      <td>NaN</td>\n",
       "      <td>26.40</td>\n",
       "      <td>130.93</td>\n",
       "      <td>NaN</td>\n",
       "      <td>37.78</td>\n",
       "      <td>206.97</td>\n",
       "      <td>120.29</td>\n",
       "    </tr>\n",
       "    <tr>\n",
       "      <th>2010</th>\n",
       "      <td>NaN</td>\n",
       "      <td>85.02</td>\n",
       "      <td>NaN</td>\n",
       "      <td>NaN</td>\n",
       "      <td>5.64</td>\n",
       "      <td>142.17</td>\n",
       "      <td>NaN</td>\n",
       "      <td>35.04</td>\n",
       "      <td>127.95</td>\n",
       "      <td>170.03</td>\n",
       "    </tr>\n",
       "    <tr>\n",
       "      <th>2011</th>\n",
       "      <td>63.20</td>\n",
       "      <td>26.18</td>\n",
       "      <td>NaN</td>\n",
       "      <td>NaN</td>\n",
       "      <td>0.45</td>\n",
       "      <td>156.78</td>\n",
       "      <td>NaN</td>\n",
       "      <td>17.82</td>\n",
       "      <td>59.65</td>\n",
       "      <td>143.84</td>\n",
       "    </tr>\n",
       "    <tr>\n",
       "      <th>2012</th>\n",
       "      <td>51.36</td>\n",
       "      <td>11.01</td>\n",
       "      <td>NaN</td>\n",
       "      <td>NaN</td>\n",
       "      <td>NaN</td>\n",
       "      <td>107.35</td>\n",
       "      <td>NaN</td>\n",
       "      <td>7.69</td>\n",
       "      <td>21.71</td>\n",
       "      <td>99.74</td>\n",
       "    </tr>\n",
       "    <tr>\n",
       "      <th>2013</th>\n",
       "      <td>56.57</td>\n",
       "      <td>1.54</td>\n",
       "      <td>NaN</td>\n",
       "      <td>NaN</td>\n",
       "      <td>NaN</td>\n",
       "      <td>113.25</td>\n",
       "      <td>25.99</td>\n",
       "      <td>3.14</td>\n",
       "      <td>8.59</td>\n",
       "      <td>88.58</td>\n",
       "    </tr>\n",
       "    <tr>\n",
       "      <th>2014</th>\n",
       "      <td>43.76</td>\n",
       "      <td>NaN</td>\n",
       "      <td>NaN</td>\n",
       "      <td>NaN</td>\n",
       "      <td>NaN</td>\n",
       "      <td>47.76</td>\n",
       "      <td>100.00</td>\n",
       "      <td>0.24</td>\n",
       "      <td>3.75</td>\n",
       "      <td>34.74</td>\n",
       "    </tr>\n",
       "    <tr>\n",
       "      <th>2015</th>\n",
       "      <td>27.78</td>\n",
       "      <td>NaN</td>\n",
       "      <td>NaN</td>\n",
       "      <td>NaN</td>\n",
       "      <td>NaN</td>\n",
       "      <td>16.82</td>\n",
       "      <td>118.90</td>\n",
       "      <td>0.12</td>\n",
       "      <td>1.14</td>\n",
       "      <td>11.96</td>\n",
       "    </tr>\n",
       "    <tr>\n",
       "      <th>2016</th>\n",
       "      <td>15.14</td>\n",
       "      <td>NaN</td>\n",
       "      <td>NaN</td>\n",
       "      <td>NaN</td>\n",
       "      <td>NaN</td>\n",
       "      <td>3.60</td>\n",
       "      <td>69.25</td>\n",
       "      <td>NaN</td>\n",
       "      <td>0.18</td>\n",
       "      <td>1.52</td>\n",
       "    </tr>\n",
       "  </tbody>\n",
       "</table>\n",
       "</div>"
      ],
      "text/plain": [
       "platform           3DS      DS    GBA      PS     PS2     PS3     PS4    PSP  \\\n",
       "year_of_release                                                                \n",
       "1985               NaN    0.02    NaN     NaN     NaN     NaN     NaN    NaN   \n",
       "1994               NaN     NaN    NaN    6.03     NaN     NaN     NaN    NaN   \n",
       "1995               NaN     NaN    NaN   35.96     NaN     NaN     NaN    NaN   \n",
       "1996               NaN     NaN    NaN   94.70     NaN     NaN     NaN    NaN   \n",
       "1997               NaN     NaN    NaN  136.17     NaN     NaN     NaN    NaN   \n",
       "1998               NaN     NaN    NaN  169.49     NaN     NaN     NaN    NaN   \n",
       "1999               NaN     NaN    NaN  144.53     NaN     NaN     NaN    NaN   \n",
       "2000               NaN     NaN   0.07   96.37   39.17     NaN     NaN    NaN   \n",
       "2001               NaN     NaN  61.53   35.59  166.43     NaN     NaN    NaN   \n",
       "2002               NaN     NaN  74.16    6.67  205.38     NaN     NaN    NaN   \n",
       "2003               NaN     NaN  56.67    2.07  184.31     NaN     NaN    NaN   \n",
       "2004               NaN   17.27  77.91     NaN  211.81     NaN     NaN   7.06   \n",
       "2005               NaN  130.14  33.86     NaN  160.66     NaN     NaN  43.84   \n",
       "2006               NaN  119.81   5.28     NaN  103.42   20.96     NaN  55.32   \n",
       "2007               NaN  146.94   3.40     NaN   75.99   73.19     NaN  46.93   \n",
       "2008               NaN  145.31    NaN     NaN   53.90  118.52     NaN  34.55   \n",
       "2009               NaN  119.54    NaN     NaN   26.40  130.93     NaN  37.78   \n",
       "2010               NaN   85.02    NaN     NaN    5.64  142.17     NaN  35.04   \n",
       "2011             63.20   26.18    NaN     NaN    0.45  156.78     NaN  17.82   \n",
       "2012             51.36   11.01    NaN     NaN     NaN  107.35     NaN   7.69   \n",
       "2013             56.57    1.54    NaN     NaN     NaN  113.25   25.99   3.14   \n",
       "2014             43.76     NaN    NaN     NaN     NaN   47.76  100.00   0.24   \n",
       "2015             27.78     NaN    NaN     NaN     NaN   16.82  118.90   0.12   \n",
       "2016             15.14     NaN    NaN     NaN     NaN    3.60   69.25    NaN   \n",
       "\n",
       "platform            Wii    X360  \n",
       "year_of_release                  \n",
       "1985                NaN     NaN  \n",
       "1994                NaN     NaN  \n",
       "1995                NaN     NaN  \n",
       "1996                NaN     NaN  \n",
       "1997                NaN     NaN  \n",
       "1998                NaN     NaN  \n",
       "1999                NaN     NaN  \n",
       "2000                NaN     NaN  \n",
       "2001                NaN     NaN  \n",
       "2002                NaN     NaN  \n",
       "2003                NaN     NaN  \n",
       "2004                NaN     NaN  \n",
       "2005                NaN    7.00  \n",
       "2006             137.15   51.62  \n",
       "2007             152.77   95.41  \n",
       "2008             171.32  135.26  \n",
       "2009             206.97  120.29  \n",
       "2010             127.95  170.03  \n",
       "2011              59.65  143.84  \n",
       "2012              21.71   99.74  \n",
       "2013               8.59   88.58  \n",
       "2014               3.75   34.74  \n",
       "2015               1.14   11.96  \n",
       "2016               0.18    1.52  "
      ]
     },
     "execution_count": 15,
     "metadata": {},
     "output_type": "execute_result"
    }
   ],
   "source": [
    "top_platforms = grouped_by_platform.head(10).index\n",
    "top_pivot = df.query('platform in @top_platforms').pivot_table(\n",
    "    index='year_of_release',\n",
    "    columns='platform',\n",
    "    values='total_sales',\n",
    "    aggfunc='sum'\n",
    ")\n",
    "top_pivot"
   ]
  },
  {
   "cell_type": "markdown",
   "metadata": {},
   "source": [
    "**В данных мы видим выброс по платформе DS: данные о продажах за 1985 год, когда эта консоль ещё не была создана(2004). Удалим эти данные и построим визуализацию**"
   ]
  },
  {
   "cell_type": "code",
   "execution_count": 16,
   "metadata": {},
   "outputs": [
    {
     "data": {
      "image/png": "[encoded data removed]",
      "text/plain": [
       "<Figure size 1080x360 with 1 Axes>"
      ]
     },
     "metadata": {
      "needs_background": "light"
     },
     "output_type": "display_data"
    }
   ],
   "source": [
    "df[df['platform'] == 'DS'] = df.query('platform == \"DS\" and year_of_release != 1985')\n",
    "(\n",
    "    top_pivot.plot(\n",
    "        xlabel='Годы',\n",
    "        ylabel='Продажи',\n",
    "        title='Динамика продаж по игровым платформам',\n",
    "        grid=True, figsize=(15, 5)\n",
    "    )\n",
    ")\n",
    "plt.locator_params(nbins=20)\n",
    "plt.xlim(1994, 2016)\n",
    "plt.show()"
   ]
  },
  {
   "cell_type": "markdown",
   "metadata": {},
   "source": [
    "**Из графика выше можно сделать вывод, что в среднем продолжительность жизни ведущих платформ была в районе 10 лет, при этом пика продаж игр они достигали где-то через 2-4 года.**"
   ]
  },
  {
   "cell_type": "markdown",
   "metadata": {},
   "source": [
    "### Какие платформы лидируют на ограниченном временном диапазоне?"
   ]
  },
  {
   "cell_type": "markdown",
   "metadata": {},
   "source": [
    "**Для начала выберем наиболее наиболее актуальный период в рамках которого будем в дальнейшем анализировать все данные. Так как нас интересует прогноз на 2017 и потенциально следующие годы, логичнее будет выбрать порядка 3 лет наиболее приближённых к 2017: 2014-2016. По каждому из этих годов в выборке примерно 500-600 записей. В переменную \"latest_data\" сохраним срез с данными за 2014-2016 гг. В дальнейшем будем проводить анализ этих данных.**"
   ]
  },
  {
   "cell_type": "code",
   "execution_count": 17,
   "metadata": {},
   "outputs": [
    {
     "data": {
      "text/plain": [
       "array([2015., 2014., 2016.])"
      ]
     },
     "execution_count": 17,
     "metadata": {},
     "output_type": "execute_result"
    }
   ],
   "source": [
    "latest_data = df[df['year_of_release'] >= 2014]\n",
    "latest_data['year_of_release'].unique()"
   ]
  },
  {
   "cell_type": "code",
   "execution_count": 18,
   "metadata": {
    "scrolled": true
   },
   "outputs": [
    {
     "data": {
      "text/plain": [
       "platform\n",
       "PS4     288.15\n",
       "XOne    140.36\n",
       "3DS      86.68\n",
       "PS3      68.18\n",
       "X360     48.22\n",
       "WiiU     42.98\n",
       "PC       27.05\n",
       "PSV      22.40\n",
       "Wii       5.07\n",
       "PSP       0.36\n",
       "Name: total_sales, dtype: float64"
      ]
     },
     "execution_count": 18,
     "metadata": {},
     "output_type": "execute_result"
    }
   ],
   "source": [
    "latest_data.groupby('platform')['total_sales'].sum().sort_values(ascending=False)"
   ]
  },
  {
   "cell_type": "markdown",
   "metadata": {},
   "source": [
    "**Из полученных выше данных можно сделать вывод, что первые три места по общим продажам занимают:**\n",
    "1. PS4\n",
    "2. XOne\n",
    "3. 3DS"
   ]
  },
  {
   "cell_type": "code",
   "execution_count": 19,
   "metadata": {},
   "outputs": [
    {
     "data": {
      "image/png": "[encoded data removed]",
      "text/plain": [
       "<Figure size 1080x720 with 1 Axes>"
      ]
     },
     "metadata": {
      "needs_background": "light"
     },
     "output_type": "display_data"
    }
   ],
   "source": [
    "(\n",
    "    latest_data\n",
    "    .pivot_table(index='year_of_release', columns='platform', values='total_sales', aggfunc='sum')\n",
    "    .plot(xlabel='Годы', ylabel='Продажи', title='Динамика продаж по игровым платформам, 2014 - 2016', grid=True, figsize=(15, 10))\n",
    ")\n",
    "plt.show()"
   ]
  },
  {
   "cell_type": "markdown",
   "metadata": {},
   "source": [
    "**На графике мы видим, что уровень продаж игр практически по всем платформам снижается с 2015 по 2016 годы. Это довольно интересная динамика, которая потенциально может свидетельствовать о недостаточности или неполноте данных за 2016 год. При этом можно отметить, что продажи игр на 3DS стабильно снижались на протяжении всех 3-х лет, что может свидетельствовать о том, что эта консоль хоть и находится в лидерах по продажам, но постепенно достигает окончания своего жизненного цикла. Оставим в данных только информацию по 8 наиболее популярным платформам. Продажи по двум последним в рейтинге стремятся к 0.**"
   ]
  },
  {
   "cell_type": "code",
   "execution_count": 20,
   "metadata": {
    "scrolled": true
   },
   "outputs": [
    {
     "data": {
      "text/plain": [
       "array(['PS4', '3DS', 'XOne', 'WiiU', 'PS3', 'X360', 'PC', 'PSV'],\n",
       "      dtype=object)"
      ]
     },
     "execution_count": 20,
     "metadata": {},
     "output_type": "execute_result"
    }
   ],
   "source": [
    "top_platforms = latest_data.groupby('platform')['total_sales'].sum().sort_values(ascending=False).head(8).index\n",
    "latest_data = df.loc[(df['year_of_release'] >= 2014) & (df['platform'].isin(top_platforms))]\n",
    "latest_data['platform'].unique()"
   ]
  },
  {
   "cell_type": "markdown",
   "metadata": {},
   "source": [
    "**Построим диаграммы размаха по глобальным продажам игр в разбивке по платформам.**"
   ]
  },
  {
   "cell_type": "code",
   "execution_count": 21,
   "metadata": {},
   "outputs": [
    {
     "data": {
      "image/png": "[encoded data removed]",
      "text/plain": [
       "<Figure size 1080x720 with 1 Axes>"
      ]
     },
     "metadata": {
      "needs_background": "light"
     },
     "output_type": "display_data"
    }
   ],
   "source": [
    "latest_data.boxplot(column='total_sales', by='platform', figsize=(15, 10))\n",
    "plt.xlabel('Платформы')\n",
    "plt.ylabel('Продажи, млн. штук')\n",
    "plt.suptitle('Диаграммы размаха по глобальным продажам игр в разбивке по платформам')\n",
    "plt.show()"
   ]
  },
  {
   "cell_type": "code",
   "execution_count": 22,
   "metadata": {},
   "outputs": [
    {
     "data": {
      "image/png": "[encoded data removed]",
      "text/plain": [
       "<Figure size 1080x720 with 1 Axes>"
      ]
     },
     "metadata": {
      "needs_background": "light"
     },
     "output_type": "display_data"
    }
   ],
   "source": [
    "\n",
    "latest_data.boxplot(column='total_sales', by='platform', figsize=(15, 10), showfliers=False)\n",
    "plt.xlabel('Платформы')\n",
    "plt.ylabel('Продажи, млн. штук')\n",
    "plt.suptitle('Диаграммы размаха по глобальным продажам игр в разбивке по платформам')\n",
    "plt.show()"
   ]
  },
  {
   "cell_type": "markdown",
   "metadata": {},
   "source": [
    "**Мы видим, что в среднем медиана колеблется между 0.1 и 0.2 млн. проданных копий. При этом у ведущих платформ наблюдается большое количество выбросов вверх. Это может свидетельствовать о существенном количестве крайне популярных игр, которые выходили именно под эти платформы. Можно также заметить прямую зависимость количества выбросов вверх от уровня общих продаж.**"
   ]
  },
  {
   "cell_type": "markdown",
   "metadata": {},
   "source": [
    "### Влияние на продажи внутри одной популярной платформы отзывов пользователей и критиков"
   ]
  },
  {
   "cell_type": "markdown",
   "metadata": {},
   "source": [
    "**Самой популярной платформой среди исследуемых на отрезке 2014-2016 гг. является PS4. Рассмотрим как отзывы критиков и пользователей влияли на продажи игр для этой платформы.**"
   ]
  },
  {
   "cell_type": "code",
   "execution_count": 23,
   "metadata": {},
   "outputs": [
    {
     "data": {
      "text/plain": [
       "'Корреляция между отзывами критиков и общими продажами для PS4 = 0.40266141068104083'"
      ]
     },
     "metadata": {},
     "output_type": "display_data"
    },
    {
     "data": {
      "image/png": "[encoded data removed]",
      "text/plain": [
       "<Figure size 720x360 with 1 Axes>"
      ]
     },
     "metadata": {
      "needs_background": "light"
     },
     "output_type": "display_data"
    }
   ],
   "source": [
    "latest_data_ps4 = latest_data[latest_data['platform'] == 'PS4']\n",
    "ps4_critic_corr = latest_data_ps4['critic_score'].corr(latest_data_ps4['total_sales'])\n",
    "display(f'Корреляция между отзывами критиков и общими продажами для PS4 = {ps4_critic_corr}')\n",
    "latest_data_ps4.plot(\n",
    "    x='critic_score',\n",
    "    y='total_sales',\n",
    "    kind='scatter',\n",
    "    alpha=0.4,\n",
    "    figsize=[10, 5],\n",
    "    xlabel='Общие продажи',\n",
    "    ylabel='Отзывы критиков',\n",
    "    title='Корреляция между отзывами критиков и общими продажами для PS4'\n",
    ");"
   ]
  },
  {
   "cell_type": "code",
   "execution_count": 24,
   "metadata": {},
   "outputs": [
    {
     "data": {
      "text/plain": [
       "'Корреляция между отзывами пользоватлей и общими продажами для PS4 = -0.040131589472697356'"
      ]
     },
     "metadata": {},
     "output_type": "display_data"
    },
    {
     "data": {
      "image/png": "[encoded data removed]",
      "text/plain": [
       "<Figure size 720x360 with 1 Axes>"
      ]
     },
     "metadata": {
      "needs_background": "light"
     },
     "output_type": "display_data"
    }
   ],
   "source": [
    "ps4_user_corr = latest_data_ps4['user_score'].corr(latest_data_ps4['total_sales'])\n",
    "display(f'Корреляция между отзывами пользоватлей и общими продажами для PS4 = {ps4_user_corr}')\n",
    "latest_data_ps4.plot(\n",
    "    x='user_score',\n",
    "    y='total_sales',\n",
    "    kind='scatter',\n",
    "    alpha=0.4,\n",
    "    figsize=[10, 5],\n",
    "    xlabel='Общие продажи',\n",
    "    ylabel='Отзывы пользователей',\n",
    "    title='Корреляция между отзывами пользователей и общими продажами для PS4'\n",
    ");"
   ]
  },
  {
   "cell_type": "markdown",
   "metadata": {},
   "source": [
    "**Проведём аналогичные рассчёты всех платформ**"
   ]
  },
  {
   "cell_type": "code",
   "execution_count": 25,
   "metadata": {},
   "outputs": [
    {
     "data": {
      "text/plain": [
       "'Корреляция между отзывами критиков и общими продажами = 0.328105086966363'"
      ]
     },
     "metadata": {},
     "output_type": "display_data"
    },
    {
     "data": {
      "image/png": "[encoded data removed]",
      "text/plain": [
       "<Figure size 720x360 with 1 Axes>"
      ]
     },
     "metadata": {
      "needs_background": "light"
     },
     "output_type": "display_data"
    }
   ],
   "source": [
    "critic_corr = latest_data['critic_score'].corr(latest_data['total_sales'])\n",
    "display(f'Корреляция между отзывами критиков и общими продажами = {critic_corr}')\n",
    "latest_data.plot(\n",
    "    x='critic_score',\n",
    "    y='total_sales',\n",
    "    kind='scatter',\n",
    "    alpha=0.4,\n",
    "    figsize=[10, 5],\n",
    "    xlabel='Общие продажи',\n",
    "    ylabel='Отзывы критиков',\n",
    "    title='Корреляция между отзывами критиков и общими продажами'\n",
    ");"
   ]
  },
  {
   "cell_type": "code",
   "execution_count": 26,
   "metadata": {},
   "outputs": [
    {
     "data": {
      "text/plain": [
       "'Корреляция между отзывами пользователей и общими продажами = -0.01476927594638269'"
      ]
     },
     "metadata": {},
     "output_type": "display_data"
    },
    {
     "data": {
      "image/png": "[encoded data removed]",
      "text/plain": [
       "<Figure size 720x360 with 1 Axes>"
      ]
     },
     "metadata": {
      "needs_background": "light"
     },
     "output_type": "display_data"
    }
   ],
   "source": [
    "user_corr = latest_data['user_score'].corr(latest_data['total_sales'])\n",
    "display(f'Корреляция между отзывами пользователей и общими продажами = {user_corr}')\n",
    "latest_data.plot(\n",
    "    x='user_score',\n",
    "    y='total_sales',\n",
    "    kind='scatter',\n",
    "    alpha=0.4,\n",
    "    figsize=[10, 5],\n",
    "    xlabel='Общие продажи',\n",
    "    ylabel='Отзывы пользователей',\n",
    "    title='Корреляция между отзывами пользователей и общими продажами'\n",
    ");"
   ]
  },
  {
   "cell_type": "markdown",
   "metadata": {},
   "source": [
    "**Исходя из построенных диаграмм рассеяния и рассчитанных корелляций, можно говорить о том, что как в случае с оценками пользователей, так и в случае с оценками критиков корреляция выражена не очень ярко. Однако если в случае с пользователями она отрицательная и практически равна 0, то в случае с критиками она положительная и составляет примерно 0.32, последнее может свидетельствовать о наличии слабо выраженной зависимости между оценками критиков и продажами игр. Это и всё последующее справедливо и для PS4 отдельно, и для всех других консолей. Тем не менее, важно отметить, что именно в столбцах с оценками пользователей и критиков было наибольшее количество пропусков, вплоть до 50%, поэтому имеющиеся данные нельзя назвать полностью репрезентативными. Такое количество пропусков легко могло привести к критичным искажениям.**"
   ]
  },
  {
   "cell_type": "markdown",
   "metadata": {},
   "source": [
    "### Распространение игр по жанрам"
   ]
  },
  {
   "cell_type": "code",
   "execution_count": 27,
   "metadata": {},
   "outputs": [
    {
     "data": {
      "image/png": "[encoded data removed]",
      "text/plain": [
       "<Figure size 720x360 with 1 Axes>"
      ]
     },
     "metadata": {
      "needs_background": "light"
     },
     "output_type": "display_data"
    }
   ],
   "source": [
    "genre_pivot = latest_data.pivot_table(\n",
    "    index='genre',\n",
    "    values='total_sales',\n",
    "    aggfunc='median'\n",
    ").sort_values(by='total_sales')\n",
    "genre_pivot.plot(\n",
    "    kind='bar',\n",
    "    figsize=[10, 5],\n",
    "    xlabel='Жанры',\n",
    "    ylabel='Общие продажи',\n",
    "    title='Распространение игр по жанрам'\n",
    ");\n"
   ]
  },
  {
   "cell_type": "markdown",
   "metadata": {},
   "source": [
    "**На графике выше мы можем увидеть, что лидерами по продаже являются игры в жанре Shooter, в топ 4 входят также игры в жанрах Sports, Platform, Fighting. Самыми же непопулрными являются жанры Puzzle и Adventure.**"
   ]
  },
  {
   "cell_type": "markdown",
   "metadata": {},
   "source": [
    "## Портрет пользователя каждого региона"
   ]
  },
  {
   "cell_type": "markdown",
   "metadata": {},
   "source": [
    "**Определите для пользователя каждого региона (NA, EU, JP):**\n",
    "- Самые популярные платформы (топ-5)\n",
    "- Самые популярные жанры (топ-5)\n",
    "- Влияет ли рейтинг ESRB на продажи в отдельном регионе?"
   ]
  },
  {
   "cell_type": "code",
   "execution_count": 28,
   "metadata": {},
   "outputs": [
    {
     "data": {
      "image/png": "[encoded data removed]",
      "text/plain": [
       "<Figure size 1224x360 with 3 Axes>"
      ]
     },
     "metadata": {},
     "output_type": "display_data"
    }
   ],
   "source": [
    "def draw_pies(\n",
    "    group_by: str,\n",
    "    regions: list[str],\n",
    "    subtitles: list[str],\n",
    "    region_num: int,\n",
    "    ylabels: list[str]\n",
    ") -> None:\n",
    "    fig, axes = plt.subplots(nrows=(region_num + 2) // 3, ncols=3, figsize=[17, 5])\n",
    "    for i in range(region_num):\n",
    "        all_grouped = latest_data.groupby(by=group_by)[regions[i]].sum().sort_values(ascending=False)\n",
    "        top_grouped = all_grouped.head(5)\n",
    "        if len(all_grouped) > 5:\n",
    "            top_grouped['other'] = all_grouped[5:].sum()\n",
    "        top_grouped.plot(kind='pie', ax=axes[i], autopct='%.0f%%')\n",
    "        axes[i].set_ylabel(ylabels[i], labelpad=20)\n",
    "        axes[i].set_title(subtitles[i])\n",
    "\n",
    "\n",
    "regions = ('na_sales', 'eu_sales', 'jp_sales')\n",
    "ylabels = ('Продажи в Северной Америке', 'Продажи в Европе', 'Продажи в Японии')\n",
    "subtitles_platforms = (\n",
    "    'Популярность платформ в Северной Америке',\n",
    "    'Популярность платформ в Европе',\n",
    "    'Популярность платформ в Японии'\n",
    ")\n",
    "draw_pies(\n",
    "    group_by='platform',\n",
    "    regions=regions,\n",
    "    subtitles=subtitles_platforms,\n",
    "    region_num=3,\n",
    "    ylabels=ylabels\n",
    ")"
   ]
  },
  {
   "cell_type": "markdown",
   "metadata": {},
   "source": [
    "**Мы можем отметить, что показатели популярности платформ в странах Европы и Северной Америки практически совпадают: первое место занимает платформа 3DS, второе место за обобщённой группой \"других\" платформ, не вошедших в top 5. Третье место делят PS4 и PSV, 4 и 5 место за платформами PS3 и WiiU. Ситуация в Японии схожа по позициям в рейтинге, но тут наблюдается ряд важных отличий: первое место всё так же за 3DS, однако её отрыв от других уже существенно выше - 48% от общих продаж. Категория же \"другие\" тут практически не представлена.**"
   ]
  },
  {
   "cell_type": "code",
   "execution_count": 29,
   "metadata": {},
   "outputs": [
    {
     "data": {
      "image/png": "[encoded data removed]",
      "text/plain": [
       "<Figure size 1224x360 with 3 Axes>"
      ]
     },
     "metadata": {},
     "output_type": "display_data"
    }
   ],
   "source": [
    "subtitles_platforms = (\n",
    "    'Популярность жанров в Северной Америке',\n",
    "    'Популярность жанров в Европе',\n",
    "    'Популярность жанров в Японии'\n",
    ")\n",
    "draw_pies(\n",
    "    group_by='genre',\n",
    "    regions=regions,\n",
    "    subtitles=subtitles_platforms,\n",
    "    region_num=3,\n",
    "    ylabels=ylabels\n",
    ")"
   ]
  },
  {
   "cell_type": "markdown",
   "metadata": {},
   "source": [
    "**Согласно графикам, показатели популярности жанров в странах Европы и Северной Америки также весьма схожи, однако тут наблюдается уже больше отличий. В Северной Америке первое место за жанров Shooter, второе - за Action, в Европе наоборот №1 - Action, №2 - Shooter. Далее в обоих случаях 3 и 4 место занимают соответственно Sports и Role-Playing. В Америке на 5-м месте находится Music, в Европе - Racing. Ситуация в Японии ощутимо отличается: первое место занимает Role-Playing, второе - Action, на них приходится 66% общих продаж. Далее небольшие проценты приходятся на 3, 4 и 5 места: Fighting, Music и Shooter соответственно. На другие жанры во всех 3 регионах приходится от 13% до 17% общих продаж. Вышеописанные различия могут быть обусловлены культурными причинами.**"
   ]
  },
  {
   "cell_type": "code",
   "execution_count": 30,
   "metadata": {},
   "outputs": [
    {
     "data": {
      "image/png": "[encoded data removed]",
      "text/plain": [
       "<Figure size 1224x360 with 3 Axes>"
      ]
     },
     "metadata": {},
     "output_type": "display_data"
    }
   ],
   "source": [
    "subtitles_platforms = (\n",
    "    'Популярность рейтинга ESRB в Северной Америке',\n",
    "    'Популярность рейтинга ESRB в Европе',\n",
    "    'Популярность рейтинга ESRB в Японии'\n",
    ")\n",
    "draw_pies(\n",
    "    group_by='rating',\n",
    "    regions=regions,\n",
    "    subtitles=subtitles_platforms,\n",
    "    region_num=3,\n",
    "    ylabels=ylabels\n",
    ")"
   ]
  },
  {
   "cell_type": "markdown",
   "metadata": {},
   "source": [
    "**Мы видим, что в Северной Америке и Европе практически идентичная ситуация:**\n",
    "1. M\n",
    "2. E\n",
    "3. T\n",
    "4. E10+\n",
    "**При этом 22-23% продаж приходится на игры, у которых нет данных по рейтингу ESRB.**\n",
    "\n",
    "**В случае с Японией сложно говорить о каких-то репрезентативных выводах, так как условное 1 место с долей продаж 61% занимают игры у которых нет данных по категории рейтинга ESRB. Далее идут:**\n",
    "1. T\n",
    "2. E\n",
    "3. M\n",
    "4. E10+\n",
    "**Пропусков в данных по всем регионам слишком много, поэтому выводы могут быть ошибочны, однако можно осторожно утверждать, что в Европе и Северной Америке популярнее игры рейтинга М, а в Японии - Т.**"
   ]
  },
  {
   "cell_type": "markdown",
   "metadata": {},
   "source": [
    "## Общий вывод"
   ]
  },
  {
   "cell_type": "markdown",
   "metadata": {},
   "source": [
    "**При работе над этим проектом была выполнена предобработка данных, которая включала в себя заполнение пропусков, выявление явных и неявных дубликатов и их удаление. Была рассчитана общая сумма продаж по всем регионам, которая в дальнейшем использовались для анализа датасета. В рамках аналитической части были рассмотрены вопросы: сколько игр выпускалось в разные годы, как менялись продажи по платформам, как влияют на продажи отзывы пользователей и критиков, что можно сказать о самых прибыльных жанрах.**\n",
    "\n",
    "**В результате исследования мы пришли к следующим выводам:**\n",
    "- **Наибольшее количество игр выпускалось после 2000 года за редким исключением**\n",
    "\n",
    "- **Данные свидетельствуют о наличии слабо выраженной зависимости между оценками критиков и продажами игр. Связь между отзывами пользователей и продажами не выявлена.**\n",
    "\n",
    "- **В среднем продолжительность жизни ведущих платформ была в районе 10 лет, при этом пика продаж игр они достигали где-то через 2-4 года.**\n",
    "\n",
    "- **Из полученных выше данных можно сделать вывод, что первые три места по общим продажам занимают: 1. PS4, 2. XOne, 3. 3DS**\n",
    "\n",
    "- **Глобальными лидерами по продаже являются игры в жанре Shooter, в топ 4 входят также игры в жанрах Sports, Platform, Fighting. Самыми же непопулрными являются жанры Puzzle и Adventure**\n",
    "\n",
    "- **Показатели популярности платформ в странах Европы и Северной Америки практически совпадают: первое место занимает платформа 3DS, второе место за обобщённой группой \"других\" платформ, не вошедших в top 5. Третье место делят PS4 и PSV. В Японии первое место всё так же за 3DS, однако её отрыв от других уже существенно выше - 48% от общих продаж. Категория же \"другие\" тут практически не представлена**\n",
    "\n",
    "- **Показатели популярности жанров в странах Европы и Северной Америки также весьма схожи, однако тут наблюдается уже больше отличий. В Северной Америке первое место за жанров Shooter, второе - за Action, в Европе наоборот №1 - Action, №2 - Shooter. Далее в обоих случаях 3 и 4 место занимают соответственно Sports и Role-Playing. В Америке на 5-м месте находится Music, в Европе - Racing. Ситуация в Японии ощутимо отличается: первое место занимает Role-Playing, второе - Action, на них приходится 66% общих продаж. Далее небольшие проценты приходятся на 3, 4 и 5 места: Fighting, Music и Shooter соответственно. На другие жанры во всех 3 регионах приходится от 13% до 17% общих продаж. Вышеописанные различия могут быть обусловлены культурными причинами**\n",
    "- **В Европе и Северной Америке популярнее игры рейтинга М, а в Японии - Т.**"
   ]
  }
 ],
 "metadata": {
  "ExecuteTimeLog": [
   {
    "duration": 492,
    "start_time": "2023-09-13T18:19:56.418Z"
   },
   {
    "duration": 123,
    "start_time": "2023-09-13T18:20:00.810Z"
   },
   {
    "duration": 77,
    "start_time": "2023-09-13T18:20:07.020Z"
   },
   {
    "duration": 17,
    "start_time": "2023-09-13T18:20:54.876Z"
   },
   {
    "duration": 1280,
    "start_time": "2023-09-13T19:22:01.857Z"
   },
   {
    "duration": 7,
    "start_time": "2023-09-13T19:24:46.563Z"
   },
   {
    "duration": 27,
    "start_time": "2023-09-13T19:24:57.134Z"
   },
   {
    "duration": 7,
    "start_time": "2023-09-13T19:25:11.578Z"
   },
   {
    "duration": 7,
    "start_time": "2023-09-13T19:45:15.365Z"
   },
   {
    "duration": 9,
    "start_time": "2023-09-13T19:45:38.342Z"
   },
   {
    "duration": 18,
    "start_time": "2023-09-13T19:46:08.043Z"
   },
   {
    "duration": 12,
    "start_time": "2023-09-13T19:47:09.541Z"
   },
   {
    "duration": 7,
    "start_time": "2023-09-13T19:47:23.803Z"
   },
   {
    "duration": 8,
    "start_time": "2023-09-13T19:47:36.917Z"
   },
   {
    "duration": 9,
    "start_time": "2023-09-13T19:47:42.411Z"
   },
   {
    "duration": 8,
    "start_time": "2023-09-13T19:48:35.496Z"
   },
   {
    "duration": 8,
    "start_time": "2023-09-13T19:48:56.279Z"
   },
   {
    "duration": 9,
    "start_time": "2023-09-13T19:49:32.196Z"
   },
   {
    "duration": 6,
    "start_time": "2023-09-13T19:50:08.925Z"
   },
   {
    "duration": 73,
    "start_time": "2023-09-13T19:53:11.304Z"
   },
   {
    "duration": 74,
    "start_time": "2023-09-14T14:11:10.593Z"
   },
   {
    "duration": 553,
    "start_time": "2023-09-14T14:11:17.349Z"
   },
   {
    "duration": 24,
    "start_time": "2023-09-14T14:11:17.905Z"
   },
   {
    "duration": 1438,
    "start_time": "2023-09-14T14:11:17.931Z"
   },
   {
    "duration": 17,
    "start_time": "2023-09-14T14:11:19.547Z"
   },
   {
    "duration": 612,
    "start_time": "2023-09-15T07:35:36.002Z"
   },
   {
    "duration": 23,
    "start_time": "2023-09-15T07:35:36.616Z"
   },
   {
    "duration": 1283,
    "start_time": "2023-09-15T07:35:36.641Z"
   },
   {
    "duration": 5,
    "start_time": "2023-09-15T07:35:37.926Z"
   },
   {
    "duration": 1081,
    "start_time": "2023-09-15T07:37:17.602Z"
   },
   {
    "duration": 3695,
    "start_time": "2023-09-15T07:40:32.302Z"
   },
   {
    "duration": 15,
    "start_time": "2023-09-15T07:42:11.496Z"
   },
   {
    "duration": 302,
    "start_time": "2023-09-15T07:47:04.437Z"
   },
   {
    "duration": 6,
    "start_time": "2023-09-15T07:48:32.010Z"
   },
   {
    "duration": 72,
    "start_time": "2023-09-15T07:48:49.928Z"
   },
   {
    "duration": 2122,
    "start_time": "2023-09-15T08:46:46.928Z"
   },
   {
    "duration": 70,
    "start_time": "2023-09-15T08:47:24.696Z"
   },
   {
    "duration": 24,
    "start_time": "2023-09-15T08:47:24.768Z"
   },
   {
    "duration": 881,
    "start_time": "2023-09-15T08:47:24.798Z"
   },
   {
    "duration": 17,
    "start_time": "2023-09-15T08:47:25.681Z"
   },
   {
    "duration": 2346,
    "start_time": "2023-09-15T08:47:26.773Z"
   },
   {
    "duration": 15,
    "start_time": "2023-09-15T08:47:44.528Z"
   },
   {
    "duration": 1671,
    "start_time": "2023-09-15T08:47:54.602Z"
   },
   {
    "duration": 23,
    "start_time": "2023-09-15T09:20:32.509Z"
   },
   {
    "duration": 8,
    "start_time": "2023-09-15T09:42:14.098Z"
   },
   {
    "duration": 7,
    "start_time": "2023-09-15T09:42:28.067Z"
   },
   {
    "duration": 12,
    "start_time": "2023-09-15T09:43:59.727Z"
   },
   {
    "duration": 16,
    "start_time": "2023-09-15T09:44:32.940Z"
   },
   {
    "duration": 16,
    "start_time": "2023-09-15T09:48:43.272Z"
   },
   {
    "duration": 12,
    "start_time": "2023-09-15T09:48:53.844Z"
   },
   {
    "duration": 10,
    "start_time": "2023-09-15T10:28:56.557Z"
   },
   {
    "duration": 14,
    "start_time": "2023-09-15T10:33:19.350Z"
   },
   {
    "duration": 21,
    "start_time": "2023-09-15T10:36:07.743Z"
   },
   {
    "duration": 20,
    "start_time": "2023-09-15T10:36:18.204Z"
   },
   {
    "duration": 12,
    "start_time": "2023-09-15T10:37:58.310Z"
   },
   {
    "duration": 2162,
    "start_time": "2023-09-15T10:39:22.732Z"
   },
   {
    "duration": 8,
    "start_time": "2023-09-15T10:39:40.465Z"
   },
   {
    "duration": 2534,
    "start_time": "2023-09-15T10:42:55.096Z"
   },
   {
    "duration": 17,
    "start_time": "2023-09-15T10:43:22.601Z"
   },
   {
    "duration": 7,
    "start_time": "2023-09-15T10:46:49.706Z"
   },
   {
    "duration": 17,
    "start_time": "2023-09-15T10:47:35.346Z"
   },
   {
    "duration": 9,
    "start_time": "2023-09-15T11:07:34.655Z"
   },
   {
    "duration": 10,
    "start_time": "2023-09-15T11:07:42.545Z"
   },
   {
    "duration": 10,
    "start_time": "2023-09-15T13:47:35.968Z"
   },
   {
    "duration": 24,
    "start_time": "2023-09-15T14:22:32.769Z"
   },
   {
    "duration": 3,
    "start_time": "2023-09-15T15:02:15.641Z"
   },
   {
    "duration": 6,
    "start_time": "2023-09-15T15:03:31.458Z"
   },
   {
    "duration": 1627,
    "start_time": "2023-09-15T15:03:48.287Z"
   },
   {
    "duration": 17,
    "start_time": "2023-09-15T15:07:14.481Z"
   },
   {
    "duration": 7,
    "start_time": "2023-09-15T15:07:22.806Z"
   },
   {
    "duration": 11,
    "start_time": "2023-09-15T19:50:04.413Z"
   },
   {
    "duration": 626,
    "start_time": "2023-09-18T19:38:08.390Z"
   },
   {
    "duration": 21,
    "start_time": "2023-09-18T19:38:09.018Z"
   },
   {
    "duration": 1231,
    "start_time": "2023-09-18T19:38:09.041Z"
   },
   {
    "duration": 7,
    "start_time": "2023-09-18T19:38:10.274Z"
   },
   {
    "duration": 73,
    "start_time": "2023-09-18T19:38:10.283Z"
   },
   {
    "duration": 25,
    "start_time": "2023-09-18T19:38:10.358Z"
   },
   {
    "duration": 11,
    "start_time": "2023-09-18T19:38:10.385Z"
   },
   {
    "duration": 15,
    "start_time": "2023-09-18T19:38:14.006Z"
   },
   {
    "duration": 17,
    "start_time": "2023-09-18T19:43:16.207Z"
   },
   {
    "duration": 921,
    "start_time": "2023-09-18T19:50:46.062Z"
   },
   {
    "duration": 844,
    "start_time": "2023-09-18T19:50:58.969Z"
   },
   {
    "duration": 4,
    "start_time": "2023-09-18T20:31:11.866Z"
   },
   {
    "duration": 813,
    "start_time": "2023-09-18T20:59:39.247Z"
   },
   {
    "duration": 94,
    "start_time": "2023-09-18T20:59:58.289Z"
   },
   {
    "duration": 7160,
    "start_time": "2023-09-18T21:00:06.155Z"
   },
   {
    "duration": 27,
    "start_time": "2023-09-18T21:16:58.299Z"
   },
   {
    "duration": 755,
    "start_time": "2023-09-18T21:17:01.832Z"
   },
   {
    "duration": 4,
    "start_time": "2023-09-18T21:17:42.590Z"
   },
   {
    "duration": 9,
    "start_time": "2023-09-18T21:17:45.275Z"
   },
   {
    "duration": 10,
    "start_time": "2023-09-18T21:19:00.792Z"
   },
   {
    "duration": 540,
    "start_time": "2023-09-20T21:46:36.344Z"
   },
   {
    "duration": 23,
    "start_time": "2023-09-20T21:46:36.886Z"
   },
   {
    "duration": 1557,
    "start_time": "2023-09-20T21:46:36.911Z"
   },
   {
    "duration": 6,
    "start_time": "2023-09-20T21:46:38.471Z"
   },
   {
    "duration": 62,
    "start_time": "2023-09-20T21:46:38.478Z"
   },
   {
    "duration": 27,
    "start_time": "2023-09-20T21:46:38.542Z"
   },
   {
    "duration": 6,
    "start_time": "2023-09-20T21:46:38.571Z"
   },
   {
    "duration": 57,
    "start_time": "2023-09-20T21:46:38.579Z"
   },
   {
    "duration": 43,
    "start_time": "2023-09-20T21:46:38.638Z"
   },
   {
    "duration": 47,
    "start_time": "2023-09-20T21:46:38.685Z"
   },
   {
    "duration": 43,
    "start_time": "2023-09-21T08:09:30.154Z"
   },
   {
    "duration": 508,
    "start_time": "2023-09-21T08:09:38.424Z"
   },
   {
    "duration": 13,
    "start_time": "2023-09-21T08:09:38.933Z"
   },
   {
    "duration": 1155,
    "start_time": "2023-09-21T08:09:38.947Z"
   },
   {
    "duration": 5,
    "start_time": "2023-09-21T08:09:40.104Z"
   },
   {
    "duration": 31,
    "start_time": "2023-09-21T08:09:40.111Z"
   },
   {
    "duration": 19,
    "start_time": "2023-09-21T08:09:40.144Z"
   },
   {
    "duration": 4,
    "start_time": "2023-09-21T08:09:40.164Z"
   },
   {
    "duration": 19,
    "start_time": "2023-09-21T08:09:40.169Z"
   },
   {
    "duration": 15,
    "start_time": "2023-09-21T08:09:40.190Z"
   },
   {
    "duration": 25,
    "start_time": "2023-09-21T08:09:40.207Z"
   },
   {
    "duration": 38,
    "start_time": "2023-09-21T08:09:42.404Z"
   },
   {
    "duration": 6,
    "start_time": "2023-09-21T08:09:53.869Z"
   },
   {
    "duration": 8,
    "start_time": "2023-09-21T08:10:49.796Z"
   },
   {
    "duration": 8,
    "start_time": "2023-09-21T08:10:57.246Z"
   },
   {
    "duration": 13,
    "start_time": "2023-09-21T08:11:11.141Z"
   },
   {
    "duration": 5,
    "start_time": "2023-09-21T08:46:23.481Z"
   },
   {
    "duration": 58,
    "start_time": "2023-09-21T08:47:15.635Z"
   },
   {
    "duration": 0,
    "start_time": "2023-09-21T08:49:53.985Z"
   },
   {
    "duration": 17,
    "start_time": "2023-09-21T08:50:26.370Z"
   },
   {
    "duration": 36,
    "start_time": "2023-09-21T10:04:53.108Z"
   },
   {
    "duration": 5,
    "start_time": "2023-09-21T10:05:18.272Z"
   },
   {
    "duration": 6,
    "start_time": "2023-09-21T10:05:21.741Z"
   },
   {
    "duration": 36,
    "start_time": "2023-09-21T10:05:30.015Z"
   },
   {
    "duration": 10,
    "start_time": "2023-09-21T10:05:50.014Z"
   },
   {
    "duration": 7,
    "start_time": "2023-09-21T10:06:11.024Z"
   },
   {
    "duration": 11,
    "start_time": "2023-09-21T10:06:25.421Z"
   },
   {
    "duration": 9,
    "start_time": "2023-09-21T10:07:39.827Z"
   },
   {
    "duration": 9,
    "start_time": "2023-09-21T10:07:51.284Z"
   },
   {
    "duration": 10,
    "start_time": "2023-09-21T10:23:20.986Z"
   },
   {
    "duration": 10,
    "start_time": "2023-09-21T11:54:12.914Z"
   },
   {
    "duration": 6,
    "start_time": "2023-09-21T11:54:55.766Z"
   },
   {
    "duration": 16,
    "start_time": "2023-09-21T11:55:16.949Z"
   },
   {
    "duration": 22,
    "start_time": "2023-09-21T11:56:37.544Z"
   },
   {
    "duration": 8,
    "start_time": "2023-09-21T11:58:47.561Z"
   },
   {
    "duration": 8,
    "start_time": "2023-09-21T12:24:04.318Z"
   },
   {
    "duration": 4,
    "start_time": "2023-09-21T12:24:10.313Z"
   },
   {
    "duration": 19,
    "start_time": "2023-09-21T12:25:54.384Z"
   },
   {
    "duration": 27,
    "start_time": "2023-09-21T12:32:31.291Z"
   },
   {
    "duration": 8,
    "start_time": "2023-09-21T12:34:08.501Z"
   },
   {
    "duration": 29,
    "start_time": "2023-09-21T12:34:12.369Z"
   },
   {
    "duration": 65,
    "start_time": "2023-09-21T12:34:27.134Z"
   },
   {
    "duration": 21,
    "start_time": "2023-09-21T12:36:11.026Z"
   },
   {
    "duration": 155,
    "start_time": "2023-09-21T12:37:37.526Z"
   },
   {
    "duration": 177,
    "start_time": "2023-09-21T12:37:44.230Z"
   },
   {
    "duration": 148,
    "start_time": "2023-09-21T12:37:49.294Z"
   },
   {
    "duration": 143,
    "start_time": "2023-09-21T12:51:29.084Z"
   },
   {
    "duration": 416,
    "start_time": "2023-09-21T12:52:55.924Z"
   },
   {
    "duration": 139,
    "start_time": "2023-09-21T12:53:30.413Z"
   },
   {
    "duration": 279,
    "start_time": "2023-09-21T12:53:41.275Z"
   },
   {
    "duration": 292,
    "start_time": "2023-09-21T12:53:51.031Z"
   },
   {
    "duration": 298,
    "start_time": "2023-09-21T12:53:57.574Z"
   },
   {
    "duration": 316,
    "start_time": "2023-09-21T12:54:02.002Z"
   },
   {
    "duration": 23,
    "start_time": "2023-09-21T12:55:03.940Z"
   },
   {
    "duration": 318,
    "start_time": "2023-09-21T12:55:13.851Z"
   },
   {
    "duration": 257,
    "start_time": "2023-09-21T12:56:17.844Z"
   },
   {
    "duration": 16,
    "start_time": "2023-09-21T12:56:53.635Z"
   },
   {
    "duration": 15,
    "start_time": "2023-09-21T12:56:58.912Z"
   },
   {
    "duration": 31,
    "start_time": "2023-09-21T12:57:01.689Z"
   },
   {
    "duration": 279,
    "start_time": "2023-09-21T12:57:31.409Z"
   },
   {
    "duration": 2395,
    "start_time": "2023-09-21T13:04:00.972Z"
   },
   {
    "duration": 39,
    "start_time": "2023-09-21T13:04:31.341Z"
   },
   {
    "duration": 2544,
    "start_time": "2023-09-21T13:05:56.125Z"
   },
   {
    "duration": 293,
    "start_time": "2023-09-21T13:21:55.033Z"
   },
   {
    "duration": 320,
    "start_time": "2023-09-21T13:22:24.695Z"
   },
   {
    "duration": 86,
    "start_time": "2023-09-21T13:29:47.285Z"
   },
   {
    "duration": 148,
    "start_time": "2023-09-21T13:29:53.452Z"
   },
   {
    "duration": 279,
    "start_time": "2023-09-21T13:30:20.442Z"
   },
   {
    "duration": 125,
    "start_time": "2023-09-21T13:31:02.862Z"
   },
   {
    "duration": 294,
    "start_time": "2023-09-21T13:31:09.207Z"
   },
   {
    "duration": 305,
    "start_time": "2023-09-21T13:42:35.625Z"
   },
   {
    "duration": 359,
    "start_time": "2023-09-21T13:42:41.783Z"
   },
   {
    "duration": 288,
    "start_time": "2023-09-21T13:42:47.175Z"
   },
   {
    "duration": 347,
    "start_time": "2023-09-21T13:50:57.108Z"
   },
   {
    "duration": 7,
    "start_time": "2023-09-21T14:35:26.798Z"
   },
   {
    "duration": 15,
    "start_time": "2023-09-21T14:35:46.712Z"
   },
   {
    "duration": 49,
    "start_time": "2023-09-21T20:53:35.490Z"
   },
   {
    "duration": 517,
    "start_time": "2023-09-21T20:53:42.516Z"
   },
   {
    "duration": 16,
    "start_time": "2023-09-21T20:53:43.035Z"
   },
   {
    "duration": 1179,
    "start_time": "2023-09-21T20:53:43.053Z"
   },
   {
    "duration": 7,
    "start_time": "2023-09-21T20:53:44.236Z"
   },
   {
    "duration": 48,
    "start_time": "2023-09-21T20:53:44.245Z"
   },
   {
    "duration": 25,
    "start_time": "2023-09-21T20:53:44.295Z"
   },
   {
    "duration": 5,
    "start_time": "2023-09-21T20:53:44.321Z"
   },
   {
    "duration": 48,
    "start_time": "2023-09-21T20:53:44.328Z"
   },
   {
    "duration": 0,
    "start_time": "2023-09-21T20:53:44.378Z"
   },
   {
    "duration": 0,
    "start_time": "2023-09-21T20:53:44.379Z"
   },
   {
    "duration": 0,
    "start_time": "2023-09-21T20:53:44.401Z"
   },
   {
    "duration": 0,
    "start_time": "2023-09-21T20:53:44.402Z"
   },
   {
    "duration": 0,
    "start_time": "2023-09-21T20:53:44.465Z"
   },
   {
    "duration": 0,
    "start_time": "2023-09-21T20:53:44.466Z"
   },
   {
    "duration": 0,
    "start_time": "2023-09-21T20:53:44.468Z"
   },
   {
    "duration": 0,
    "start_time": "2023-09-21T20:53:44.469Z"
   },
   {
    "duration": 8,
    "start_time": "2023-09-21T20:53:46.005Z"
   },
   {
    "duration": 16,
    "start_time": "2023-09-21T20:53:52.596Z"
   },
   {
    "duration": 10,
    "start_time": "2023-09-21T20:53:56.770Z"
   },
   {
    "duration": 64,
    "start_time": "2023-09-21T20:54:33.737Z"
   },
   {
    "duration": 14,
    "start_time": "2023-09-21T20:54:33.803Z"
   },
   {
    "duration": 766,
    "start_time": "2023-09-21T20:54:33.818Z"
   },
   {
    "duration": 17,
    "start_time": "2023-09-21T20:54:34.586Z"
   },
   {
    "duration": 30,
    "start_time": "2023-09-21T20:54:34.606Z"
   },
   {
    "duration": 39,
    "start_time": "2023-09-21T20:54:34.638Z"
   },
   {
    "duration": 17,
    "start_time": "2023-09-21T20:54:34.680Z"
   },
   {
    "duration": 55,
    "start_time": "2023-09-21T20:54:34.698Z"
   },
   {
    "duration": 0,
    "start_time": "2023-09-21T20:54:34.755Z"
   },
   {
    "duration": 0,
    "start_time": "2023-09-21T20:54:34.757Z"
   },
   {
    "duration": 0,
    "start_time": "2023-09-21T20:54:34.758Z"
   },
   {
    "duration": 0,
    "start_time": "2023-09-21T20:54:34.759Z"
   },
   {
    "duration": 0,
    "start_time": "2023-09-21T20:54:34.761Z"
   },
   {
    "duration": 0,
    "start_time": "2023-09-21T20:54:34.762Z"
   },
   {
    "duration": 0,
    "start_time": "2023-09-21T20:54:34.764Z"
   },
   {
    "duration": 16,
    "start_time": "2023-09-21T20:54:38.591Z"
   },
   {
    "duration": 13,
    "start_time": "2023-09-21T20:54:45.228Z"
   },
   {
    "duration": 10,
    "start_time": "2023-09-21T20:55:10.090Z"
   },
   {
    "duration": 59,
    "start_time": "2023-09-21T20:55:26.639Z"
   },
   {
    "duration": 14,
    "start_time": "2023-09-21T20:55:26.700Z"
   },
   {
    "duration": 726,
    "start_time": "2023-09-21T20:55:26.715Z"
   },
   {
    "duration": 5,
    "start_time": "2023-09-21T20:55:27.443Z"
   },
   {
    "duration": 47,
    "start_time": "2023-09-21T20:55:27.449Z"
   },
   {
    "duration": 65,
    "start_time": "2023-09-21T20:55:27.497Z"
   },
   {
    "duration": 28,
    "start_time": "2023-09-21T20:55:27.563Z"
   },
   {
    "duration": 94,
    "start_time": "2023-09-21T20:55:27.592Z"
   },
   {
    "duration": 0,
    "start_time": "2023-09-21T20:55:27.688Z"
   },
   {
    "duration": 0,
    "start_time": "2023-09-21T20:55:27.689Z"
   },
   {
    "duration": 0,
    "start_time": "2023-09-21T20:55:27.691Z"
   },
   {
    "duration": 0,
    "start_time": "2023-09-21T20:55:27.692Z"
   },
   {
    "duration": 0,
    "start_time": "2023-09-21T20:55:27.693Z"
   },
   {
    "duration": 0,
    "start_time": "2023-09-21T20:55:27.694Z"
   },
   {
    "duration": 0,
    "start_time": "2023-09-21T20:55:27.695Z"
   },
   {
    "duration": 0,
    "start_time": "2023-09-21T20:55:27.696Z"
   },
   {
    "duration": 0,
    "start_time": "2023-09-21T20:55:27.698Z"
   },
   {
    "duration": 60,
    "start_time": "2023-09-21T20:56:04.825Z"
   },
   {
    "duration": 13,
    "start_time": "2023-09-21T20:56:04.887Z"
   },
   {
    "duration": 739,
    "start_time": "2023-09-21T20:56:04.902Z"
   },
   {
    "duration": 4,
    "start_time": "2023-09-21T20:56:05.643Z"
   },
   {
    "duration": 30,
    "start_time": "2023-09-21T20:56:05.650Z"
   },
   {
    "duration": 27,
    "start_time": "2023-09-21T20:56:05.682Z"
   },
   {
    "duration": 5,
    "start_time": "2023-09-21T20:56:05.710Z"
   },
   {
    "duration": 31,
    "start_time": "2023-09-21T20:56:05.716Z"
   },
   {
    "duration": 0,
    "start_time": "2023-09-21T20:56:05.749Z"
   },
   {
    "duration": 0,
    "start_time": "2023-09-21T20:56:05.750Z"
   },
   {
    "duration": 0,
    "start_time": "2023-09-21T20:56:05.751Z"
   },
   {
    "duration": 0,
    "start_time": "2023-09-21T20:56:05.752Z"
   },
   {
    "duration": 0,
    "start_time": "2023-09-21T20:56:05.753Z"
   },
   {
    "duration": 0,
    "start_time": "2023-09-21T20:56:05.755Z"
   },
   {
    "duration": 0,
    "start_time": "2023-09-21T20:56:05.756Z"
   },
   {
    "duration": 1,
    "start_time": "2023-09-21T20:56:05.757Z"
   },
   {
    "duration": 5,
    "start_time": "2023-09-21T20:56:48.306Z"
   },
   {
    "duration": 12,
    "start_time": "2023-09-21T20:57:06.997Z"
   },
   {
    "duration": 69,
    "start_time": "2023-09-21T21:00:41.287Z"
   },
   {
    "duration": 14,
    "start_time": "2023-09-21T21:00:41.358Z"
   },
   {
    "duration": 1141,
    "start_time": "2023-09-21T21:00:41.374Z"
   },
   {
    "duration": 5,
    "start_time": "2023-09-21T21:00:42.518Z"
   },
   {
    "duration": 49,
    "start_time": "2023-09-21T21:00:42.526Z"
   },
   {
    "duration": 31,
    "start_time": "2023-09-21T21:00:42.577Z"
   },
   {
    "duration": 17,
    "start_time": "2023-09-21T21:00:42.611Z"
   },
   {
    "duration": 23,
    "start_time": "2023-09-21T21:00:42.631Z"
   },
   {
    "duration": 19,
    "start_time": "2023-09-21T21:00:42.656Z"
   },
   {
    "duration": 31,
    "start_time": "2023-09-21T21:00:42.678Z"
   },
   {
    "duration": 22,
    "start_time": "2023-09-21T21:00:42.712Z"
   },
   {
    "duration": 22,
    "start_time": "2023-09-21T21:00:42.737Z"
   },
   {
    "duration": 11,
    "start_time": "2023-09-21T21:00:42.761Z"
   },
   {
    "duration": 24,
    "start_time": "2023-09-21T21:00:42.774Z"
   },
   {
    "duration": 31,
    "start_time": "2023-09-21T21:00:42.800Z"
   },
   {
    "duration": 0,
    "start_time": "2023-09-21T21:00:42.833Z"
   },
   {
    "duration": 0,
    "start_time": "2023-09-21T21:00:42.835Z"
   },
   {
    "duration": 9,
    "start_time": "2023-09-21T21:01:35.283Z"
   },
   {
    "duration": 359,
    "start_time": "2023-09-21T21:01:37.867Z"
   },
   {
    "duration": 16,
    "start_time": "2023-09-21T21:01:42.229Z"
   },
   {
    "duration": 8,
    "start_time": "2023-09-21T21:01:45.089Z"
   },
   {
    "duration": 741,
    "start_time": "2023-09-25T20:19:29.323Z"
   },
   {
    "duration": 8,
    "start_time": "2023-09-25T20:19:33.900Z"
   },
   {
    "duration": 351,
    "start_time": "2023-09-25T20:19:41.789Z"
   },
   {
    "duration": 15,
    "start_time": "2023-09-25T20:19:42.143Z"
   },
   {
    "duration": 852,
    "start_time": "2023-09-25T20:19:42.160Z"
   },
   {
    "duration": 14,
    "start_time": "2023-09-25T20:19:43.015Z"
   },
   {
    "duration": 26,
    "start_time": "2023-09-25T20:19:43.031Z"
   },
   {
    "duration": 25,
    "start_time": "2023-09-25T20:19:43.058Z"
   },
   {
    "duration": 9,
    "start_time": "2023-09-25T20:19:43.085Z"
   },
   {
    "duration": 46,
    "start_time": "2023-09-25T20:19:43.096Z"
   },
   {
    "duration": 25,
    "start_time": "2023-09-25T20:19:43.144Z"
   },
   {
    "duration": 0,
    "start_time": "2023-09-25T20:19:43.171Z"
   },
   {
    "duration": 0,
    "start_time": "2023-09-25T20:19:43.172Z"
   },
   {
    "duration": 0,
    "start_time": "2023-09-25T20:19:43.174Z"
   },
   {
    "duration": 0,
    "start_time": "2023-09-25T20:19:43.176Z"
   },
   {
    "duration": 0,
    "start_time": "2023-09-25T20:19:43.177Z"
   },
   {
    "duration": 0,
    "start_time": "2023-09-25T20:19:43.179Z"
   },
   {
    "duration": 0,
    "start_time": "2023-09-25T20:19:43.180Z"
   },
   {
    "duration": 0,
    "start_time": "2023-09-25T20:19:43.182Z"
   },
   {
    "duration": 0,
    "start_time": "2023-09-25T20:19:43.184Z"
   },
   {
    "duration": 10,
    "start_time": "2023-09-25T20:19:51.084Z"
   },
   {
    "duration": 15,
    "start_time": "2023-09-25T20:19:54.774Z"
   },
   {
    "duration": 7,
    "start_time": "2023-09-25T20:20:08.986Z"
   },
   {
    "duration": 5,
    "start_time": "2023-09-25T20:20:53.941Z"
   },
   {
    "duration": 5,
    "start_time": "2023-09-25T20:20:58.749Z"
   },
   {
    "duration": 4,
    "start_time": "2023-09-25T20:21:06.615Z"
   },
   {
    "duration": 55,
    "start_time": "2023-09-25T20:21:06.623Z"
   },
   {
    "duration": 194,
    "start_time": "2023-09-25T20:21:06.681Z"
   },
   {
    "duration": 26,
    "start_time": "2023-09-25T20:21:06.877Z"
   },
   {
    "duration": 49,
    "start_time": "2023-09-25T20:21:06.905Z"
   },
   {
    "duration": 454,
    "start_time": "2023-09-25T20:21:06.956Z"
   },
   {
    "duration": 21,
    "start_time": "2023-09-25T20:21:07.411Z"
   },
   {
    "duration": 16,
    "start_time": "2023-09-25T20:21:07.434Z"
   },
   {
    "duration": 343,
    "start_time": "2023-09-25T20:21:07.452Z"
   },
   {
    "duration": 347,
    "start_time": "2023-09-25T20:37:58.038Z"
   },
   {
    "duration": 286,
    "start_time": "2023-09-25T20:38:17.447Z"
   },
   {
    "duration": 324,
    "start_time": "2023-09-25T20:38:47.884Z"
   },
   {
    "duration": 305,
    "start_time": "2023-09-25T20:39:01.304Z"
   },
   {
    "duration": 299,
    "start_time": "2023-09-25T20:39:06.919Z"
   },
   {
    "duration": 8,
    "start_time": "2023-09-25T20:39:27.382Z"
   },
   {
    "duration": 312,
    "start_time": "2023-09-25T20:39:35.098Z"
   },
   {
    "duration": 299,
    "start_time": "2023-09-25T20:39:43.040Z"
   },
   {
    "duration": 391,
    "start_time": "2023-09-25T21:21:30.119Z"
   },
   {
    "duration": 399,
    "start_time": "2023-09-25T21:21:48.891Z"
   },
   {
    "duration": 46,
    "start_time": "2023-09-26T08:56:35.283Z"
   },
   {
    "duration": 6,
    "start_time": "2023-09-26T08:56:48.259Z"
   },
   {
    "duration": 607,
    "start_time": "2023-09-26T08:56:58.424Z"
   },
   {
    "duration": 30,
    "start_time": "2023-09-26T08:56:59.033Z"
   },
   {
    "duration": 1181,
    "start_time": "2023-09-26T08:56:59.064Z"
   },
   {
    "duration": 16,
    "start_time": "2023-09-26T08:57:00.248Z"
   },
   {
    "duration": 57,
    "start_time": "2023-09-26T08:57:00.265Z"
   },
   {
    "duration": 76,
    "start_time": "2023-09-26T08:57:00.324Z"
   },
   {
    "duration": 29,
    "start_time": "2023-09-26T08:57:00.402Z"
   },
   {
    "duration": 53,
    "start_time": "2023-09-26T08:57:00.433Z"
   },
   {
    "duration": 37,
    "start_time": "2023-09-26T08:57:00.488Z"
   },
   {
    "duration": 43,
    "start_time": "2023-09-26T08:57:00.527Z"
   },
   {
    "duration": 65,
    "start_time": "2023-09-26T08:57:00.572Z"
   },
   {
    "duration": 66,
    "start_time": "2023-09-26T08:57:00.639Z"
   },
   {
    "duration": 43,
    "start_time": "2023-09-26T08:57:00.706Z"
   },
   {
    "duration": 59,
    "start_time": "2023-09-26T08:57:00.753Z"
   },
   {
    "duration": 408,
    "start_time": "2023-09-26T08:57:00.814Z"
   },
   {
    "duration": 15,
    "start_time": "2023-09-26T08:57:01.223Z"
   },
   {
    "duration": 46,
    "start_time": "2023-09-26T08:57:01.240Z"
   },
   {
    "duration": 345,
    "start_time": "2023-09-26T08:57:01.287Z"
   },
   {
    "duration": 100,
    "start_time": "2023-09-26T08:58:05.559Z"
   },
   {
    "duration": 622,
    "start_time": "2023-09-26T09:01:21.583Z"
   },
   {
    "duration": 762,
    "start_time": "2023-09-26T09:01:42.670Z"
   },
   {
    "duration": 717,
    "start_time": "2023-09-26T09:03:01.578Z"
   },
   {
    "duration": 802,
    "start_time": "2023-09-26T09:03:08.014Z"
   },
   {
    "duration": 780,
    "start_time": "2023-09-26T09:03:33.704Z"
   },
   {
    "duration": 717,
    "start_time": "2023-09-26T09:03:43.421Z"
   },
   {
    "duration": 884,
    "start_time": "2023-09-26T09:08:48.734Z"
   },
   {
    "duration": 798,
    "start_time": "2023-09-26T09:09:03.872Z"
   },
   {
    "duration": 844,
    "start_time": "2023-09-26T09:09:22.182Z"
   },
   {
    "duration": 812,
    "start_time": "2023-09-26T09:28:15.411Z"
   },
   {
    "duration": 284,
    "start_time": "2023-09-26T09:28:19.560Z"
   },
   {
    "duration": 277,
    "start_time": "2023-09-26T09:36:34.299Z"
   },
   {
    "duration": 297,
    "start_time": "2023-09-26T09:37:01.953Z"
   },
   {
    "duration": 314,
    "start_time": "2023-09-26T09:39:44.319Z"
   },
   {
    "duration": 483,
    "start_time": "2023-09-26T09:42:49.043Z"
   },
   {
    "duration": 296,
    "start_time": "2023-09-26T09:53:54.960Z"
   },
   {
    "duration": 1231,
    "start_time": "2023-09-26T10:05:43.916Z"
   },
   {
    "duration": 850,
    "start_time": "2023-09-26T10:06:17.796Z"
   },
   {
    "duration": 1212,
    "start_time": "2023-09-26T10:06:32.662Z"
   },
   {
    "duration": 742,
    "start_time": "2023-09-26T10:18:02.236Z"
   },
   {
    "duration": 284,
    "start_time": "2023-09-26T10:18:18.536Z"
   },
   {
    "duration": 267,
    "start_time": "2023-09-26T10:23:07.803Z"
   },
   {
    "duration": 267,
    "start_time": "2023-09-26T10:23:48.609Z"
   },
   {
    "duration": 437,
    "start_time": "2023-09-26T10:27:21.836Z"
   },
   {
    "duration": 147,
    "start_time": "2023-09-26T10:30:26.489Z"
   },
   {
    "duration": 135,
    "start_time": "2023-09-26T10:30:37.391Z"
   },
   {
    "duration": 243,
    "start_time": "2023-09-26T10:31:05.522Z"
   },
   {
    "duration": 272,
    "start_time": "2023-09-26T10:32:35.193Z"
   },
   {
    "duration": 270,
    "start_time": "2023-09-26T10:34:47.620Z"
   },
   {
    "duration": 258,
    "start_time": "2023-09-26T10:35:22.339Z"
   },
   {
    "duration": 165,
    "start_time": "2023-09-26T10:36:51.441Z"
   },
   {
    "duration": 274,
    "start_time": "2023-09-26T10:37:36.150Z"
   },
   {
    "duration": 273,
    "start_time": "2023-09-26T10:37:51.527Z"
   },
   {
    "duration": 8,
    "start_time": "2023-09-26T10:38:24.944Z"
   },
   {
    "duration": 7,
    "start_time": "2023-09-26T10:38:29.930Z"
   },
   {
    "duration": 7,
    "start_time": "2023-09-26T10:38:55.671Z"
   },
   {
    "duration": 8,
    "start_time": "2023-09-26T10:39:39.723Z"
   },
   {
    "duration": 11,
    "start_time": "2023-09-26T10:40:56.459Z"
   },
   {
    "duration": 7,
    "start_time": "2023-09-26T10:42:20.522Z"
   },
   {
    "duration": 11,
    "start_time": "2023-09-26T10:43:02.409Z"
   },
   {
    "duration": 11,
    "start_time": "2023-09-26T10:43:32.048Z"
   },
   {
    "duration": 17,
    "start_time": "2023-09-26T10:43:43.695Z"
   },
   {
    "duration": 10,
    "start_time": "2023-09-26T10:43:51.387Z"
   },
   {
    "duration": 10,
    "start_time": "2023-09-26T10:44:50.735Z"
   },
   {
    "duration": 9,
    "start_time": "2023-09-26T10:45:35.343Z"
   },
   {
    "duration": 6,
    "start_time": "2023-09-26T10:45:57.519Z"
   },
   {
    "duration": 6,
    "start_time": "2023-09-26T10:46:02.099Z"
   },
   {
    "duration": 62,
    "start_time": "2023-09-26T10:46:12.157Z"
   },
   {
    "duration": 15,
    "start_time": "2023-09-26T10:46:12.222Z"
   },
   {
    "duration": 852,
    "start_time": "2023-09-26T10:46:12.239Z"
   },
   {
    "duration": 4,
    "start_time": "2023-09-26T10:46:13.093Z"
   },
   {
    "duration": 27,
    "start_time": "2023-09-26T10:46:13.099Z"
   },
   {
    "duration": 26,
    "start_time": "2023-09-26T10:46:13.127Z"
   },
   {
    "duration": 15,
    "start_time": "2023-09-26T10:46:13.154Z"
   },
   {
    "duration": 15,
    "start_time": "2023-09-26T10:46:13.170Z"
   },
   {
    "duration": 17,
    "start_time": "2023-09-26T10:46:13.187Z"
   },
   {
    "duration": 23,
    "start_time": "2023-09-26T10:46:13.206Z"
   },
   {
    "duration": 16,
    "start_time": "2023-09-26T10:46:13.231Z"
   },
   {
    "duration": 26,
    "start_time": "2023-09-26T10:46:13.249Z"
   },
   {
    "duration": 7,
    "start_time": "2023-09-26T10:46:13.276Z"
   },
   {
    "duration": 14,
    "start_time": "2023-09-26T10:46:13.285Z"
   },
   {
    "duration": 315,
    "start_time": "2023-09-26T10:46:13.301Z"
   },
   {
    "duration": 7,
    "start_time": "2023-09-26T10:46:15.519Z"
   },
   {
    "duration": 7,
    "start_time": "2023-09-26T10:46:17.670Z"
   },
   {
    "duration": 287,
    "start_time": "2023-09-26T10:46:21.472Z"
   },
   {
    "duration": 10,
    "start_time": "2023-09-26T10:46:25.514Z"
   },
   {
    "duration": 10,
    "start_time": "2023-09-26T10:46:36.436Z"
   },
   {
    "duration": 232,
    "start_time": "2023-09-26T10:47:42.708Z"
   },
   {
    "duration": 255,
    "start_time": "2023-09-26T13:58:32.622Z"
   },
   {
    "duration": 279,
    "start_time": "2023-09-26T13:59:00.940Z"
   },
   {
    "duration": 236,
    "start_time": "2023-09-26T14:00:35.500Z"
   },
   {
    "duration": 201,
    "start_time": "2023-09-26T14:00:53.765Z"
   },
   {
    "duration": 245,
    "start_time": "2023-09-26T14:01:50.559Z"
   },
   {
    "duration": 264,
    "start_time": "2023-09-26T14:02:46.189Z"
   },
   {
    "duration": 252,
    "start_time": "2023-09-26T14:02:57.318Z"
   },
   {
    "duration": 49,
    "start_time": "2023-09-26T21:54:04.682Z"
   },
   {
    "duration": 566,
    "start_time": "2023-09-26T21:54:11.977Z"
   },
   {
    "duration": 15,
    "start_time": "2023-09-26T21:54:12.545Z"
   },
   {
    "duration": 1083,
    "start_time": "2023-09-26T21:54:12.561Z"
   },
   {
    "duration": 6,
    "start_time": "2023-09-26T21:54:13.646Z"
   },
   {
    "duration": 19,
    "start_time": "2023-09-26T21:54:13.653Z"
   },
   {
    "duration": 17,
    "start_time": "2023-09-26T21:54:13.673Z"
   },
   {
    "duration": 9,
    "start_time": "2023-09-26T21:54:13.692Z"
   },
   {
    "duration": 43,
    "start_time": "2023-09-26T21:54:13.702Z"
   },
   {
    "duration": 5,
    "start_time": "2023-09-26T21:54:13.746Z"
   },
   {
    "duration": 54,
    "start_time": "2023-09-26T21:54:13.754Z"
   },
   {
    "duration": 11,
    "start_time": "2023-09-26T21:54:13.809Z"
   },
   {
    "duration": 36,
    "start_time": "2023-09-26T21:54:13.822Z"
   },
   {
    "duration": 8,
    "start_time": "2023-09-26T21:54:13.859Z"
   },
   {
    "duration": 7,
    "start_time": "2023-09-26T21:54:13.869Z"
   },
   {
    "duration": 381,
    "start_time": "2023-09-26T21:54:13.877Z"
   },
   {
    "duration": 5,
    "start_time": "2023-09-26T21:54:14.259Z"
   },
   {
    "duration": 6,
    "start_time": "2023-09-26T21:54:14.266Z"
   },
   {
    "duration": 266,
    "start_time": "2023-09-26T21:54:14.273Z"
   },
   {
    "duration": 8,
    "start_time": "2023-09-26T21:54:14.544Z"
   },
   {
    "duration": 244,
    "start_time": "2023-09-26T21:54:14.554Z"
   },
   {
    "duration": 242,
    "start_time": "2023-09-26T21:54:14.799Z"
   },
   {
    "duration": 154,
    "start_time": "2023-09-26T21:54:16.231Z"
   },
   {
    "duration": 119,
    "start_time": "2023-09-26T21:54:56.057Z"
   },
   {
    "duration": 106,
    "start_time": "2023-09-26T21:55:26.573Z"
   },
   {
    "duration": 124,
    "start_time": "2023-09-26T21:55:41.329Z"
   },
   {
    "duration": 208,
    "start_time": "2023-09-26T21:55:44.017Z"
   },
   {
    "duration": 142,
    "start_time": "2023-09-26T22:02:34.043Z"
   },
   {
    "duration": 131,
    "start_time": "2023-09-26T22:02:41.669Z"
   },
   {
    "duration": 125,
    "start_time": "2023-09-26T22:02:52.566Z"
   },
   {
    "duration": 119,
    "start_time": "2023-09-26T22:05:37.033Z"
   },
   {
    "duration": 113,
    "start_time": "2023-09-26T22:08:30.262Z"
   },
   {
    "duration": 123,
    "start_time": "2023-09-26T22:08:38.451Z"
   },
   {
    "duration": 108,
    "start_time": "2023-09-26T22:11:58.189Z"
   },
   {
    "duration": 125,
    "start_time": "2023-09-26T22:18:24.657Z"
   },
   {
    "duration": 55,
    "start_time": "2023-09-27T07:31:48.691Z"
   },
   {
    "duration": 569,
    "start_time": "2023-09-27T07:31:54.101Z"
   },
   {
    "duration": 19,
    "start_time": "2023-09-27T07:31:54.672Z"
   },
   {
    "duration": 1355,
    "start_time": "2023-09-27T07:31:54.693Z"
   },
   {
    "duration": 6,
    "start_time": "2023-09-27T07:31:56.052Z"
   },
   {
    "duration": 53,
    "start_time": "2023-09-27T07:31:56.060Z"
   },
   {
    "duration": 49,
    "start_time": "2023-09-27T07:31:56.115Z"
   },
   {
    "duration": 16,
    "start_time": "2023-09-27T07:31:56.166Z"
   },
   {
    "duration": 40,
    "start_time": "2023-09-27T07:31:56.184Z"
   },
   {
    "duration": 38,
    "start_time": "2023-09-27T07:31:56.225Z"
   },
   {
    "duration": 5,
    "start_time": "2023-09-27T07:31:56.331Z"
   },
   {
    "duration": 37,
    "start_time": "2023-09-27T07:31:56.338Z"
   },
   {
    "duration": 26,
    "start_time": "2023-09-27T07:31:56.377Z"
   },
   {
    "duration": 9,
    "start_time": "2023-09-27T07:31:56.405Z"
   },
   {
    "duration": 15,
    "start_time": "2023-09-27T07:31:56.415Z"
   },
   {
    "duration": 386,
    "start_time": "2023-09-27T07:31:56.432Z"
   },
   {
    "duration": 7,
    "start_time": "2023-09-27T07:31:56.820Z"
   },
   {
    "duration": 44,
    "start_time": "2023-09-27T07:31:56.828Z"
   },
   {
    "duration": 441,
    "start_time": "2023-09-27T07:31:56.874Z"
   },
   {
    "duration": 11,
    "start_time": "2023-09-27T07:31:57.316Z"
   },
   {
    "duration": 348,
    "start_time": "2023-09-27T07:31:57.329Z"
   },
   {
    "duration": 268,
    "start_time": "2023-09-27T07:31:57.679Z"
   },
   {
    "duration": 157,
    "start_time": "2023-09-27T07:31:57.949Z"
   },
   {
    "duration": 159,
    "start_time": "2023-09-27T07:31:58.108Z"
   },
   {
    "duration": 161,
    "start_time": "2023-09-27T07:31:58.269Z"
   },
   {
    "duration": 152,
    "start_time": "2023-09-27T07:31:58.432Z"
   },
   {
    "duration": 14,
    "start_time": "2023-09-27T15:13:26.681Z"
   },
   {
    "duration": 642,
    "start_time": "2023-09-27T20:20:09.599Z"
   },
   {
    "duration": 14,
    "start_time": "2023-09-27T20:20:10.244Z"
   },
   {
    "duration": 1144,
    "start_time": "2023-09-27T20:20:10.260Z"
   },
   {
    "duration": 6,
    "start_time": "2023-09-27T20:20:11.406Z"
   },
   {
    "duration": 33,
    "start_time": "2023-09-27T20:20:11.413Z"
   },
   {
    "duration": 20,
    "start_time": "2023-09-27T20:20:11.448Z"
   },
   {
    "duration": 10,
    "start_time": "2023-09-27T20:20:11.470Z"
   },
   {
    "duration": 35,
    "start_time": "2023-09-27T20:20:11.481Z"
   },
   {
    "duration": 7,
    "start_time": "2023-09-27T20:20:11.518Z"
   },
   {
    "duration": 4,
    "start_time": "2023-09-27T20:20:11.601Z"
   },
   {
    "duration": 9,
    "start_time": "2023-09-27T20:20:11.607Z"
   },
   {
    "duration": 27,
    "start_time": "2023-09-27T20:20:11.618Z"
   },
   {
    "duration": 7,
    "start_time": "2023-09-27T20:20:11.647Z"
   },
   {
    "duration": 7,
    "start_time": "2023-09-27T20:20:11.656Z"
   },
   {
    "duration": 357,
    "start_time": "2023-09-27T20:20:11.665Z"
   },
   {
    "duration": 18,
    "start_time": "2023-09-27T20:20:12.024Z"
   },
   {
    "duration": 15,
    "start_time": "2023-09-27T20:20:12.043Z"
   },
   {
    "duration": 299,
    "start_time": "2023-09-27T20:20:12.059Z"
   },
   {
    "duration": 9,
    "start_time": "2023-09-27T20:20:12.360Z"
   },
   {
    "duration": 282,
    "start_time": "2023-09-27T20:20:12.370Z"
   },
   {
    "duration": 293,
    "start_time": "2023-09-27T20:20:12.654Z"
   },
   {
    "duration": 154,
    "start_time": "2023-09-27T20:20:12.949Z"
   },
   {
    "duration": 147,
    "start_time": "2023-09-27T20:20:13.104Z"
   },
   {
    "duration": 163,
    "start_time": "2023-09-27T20:20:13.253Z"
   },
   {
    "duration": 126,
    "start_time": "2023-09-27T20:20:13.418Z"
   },
   {
    "duration": 5,
    "start_time": "2023-09-27T20:20:13.546Z"
   },
   {
    "duration": 219,
    "start_time": "2023-09-27T20:23:39.748Z"
   },
   {
    "duration": 177,
    "start_time": "2023-09-27T20:25:17.493Z"
   },
   {
    "duration": 106,
    "start_time": "2023-09-27T20:26:24.094Z"
   },
   {
    "duration": 13,
    "start_time": "2023-09-27T20:26:32.795Z"
   },
   {
    "duration": 4,
    "start_time": "2023-09-27T20:28:51.591Z"
   },
   {
    "duration": 12,
    "start_time": "2023-09-27T20:29:40.067Z"
   },
   {
    "duration": 14,
    "start_time": "2023-09-27T20:30:03.892Z"
   },
   {
    "duration": 18,
    "start_time": "2023-09-27T20:30:48.571Z"
   },
   {
    "duration": 1440,
    "start_time": "2023-09-27T20:32:02.272Z"
   },
   {
    "duration": 144,
    "start_time": "2023-09-27T20:33:10.503Z"
   },
   {
    "duration": 197,
    "start_time": "2023-09-27T20:33:30.197Z"
   },
   {
    "duration": 22,
    "start_time": "2023-09-27T20:37:02.238Z"
   },
   {
    "duration": 148,
    "start_time": "2023-09-27T20:37:17.167Z"
   },
   {
    "duration": 20,
    "start_time": "2023-09-27T20:37:32.553Z"
   },
   {
    "duration": 149,
    "start_time": "2023-09-27T20:37:59.267Z"
   },
   {
    "duration": 169,
    "start_time": "2023-09-27T21:01:40.166Z"
   },
   {
    "duration": 191,
    "start_time": "2023-09-27T21:01:46.757Z"
   },
   {
    "duration": 16,
    "start_time": "2023-09-27T21:02:00.213Z"
   },
   {
    "duration": 191,
    "start_time": "2023-09-27T21:02:17.991Z"
   },
   {
    "duration": 202,
    "start_time": "2023-09-27T21:02:46.400Z"
   },
   {
    "duration": 62,
    "start_time": "2023-09-29T16:28:31.617Z"
   },
   {
    "duration": 558,
    "start_time": "2023-09-29T16:28:36.648Z"
   },
   {
    "duration": 14,
    "start_time": "2023-09-29T16:28:37.208Z"
   },
   {
    "duration": 1305,
    "start_time": "2023-09-29T16:28:37.223Z"
   },
   {
    "duration": 6,
    "start_time": "2023-09-29T16:28:38.530Z"
   },
   {
    "duration": 32,
    "start_time": "2023-09-29T16:28:38.538Z"
   },
   {
    "duration": 18,
    "start_time": "2023-09-29T16:28:38.572Z"
   },
   {
    "duration": 10,
    "start_time": "2023-09-29T16:28:38.591Z"
   },
   {
    "duration": 30,
    "start_time": "2023-09-29T16:28:38.603Z"
   },
   {
    "duration": 60,
    "start_time": "2023-09-29T16:28:38.650Z"
   },
   {
    "duration": 8,
    "start_time": "2023-09-29T16:28:38.712Z"
   },
   {
    "duration": 15,
    "start_time": "2023-09-29T16:28:38.721Z"
   },
   {
    "duration": 32,
    "start_time": "2023-09-29T16:28:38.737Z"
   },
   {
    "duration": 7,
    "start_time": "2023-09-29T16:28:38.771Z"
   },
   {
    "duration": 24,
    "start_time": "2023-09-29T16:28:38.782Z"
   },
   {
    "duration": 389,
    "start_time": "2023-09-29T16:28:38.807Z"
   },
   {
    "duration": 6,
    "start_time": "2023-09-29T16:28:39.198Z"
   },
   {
    "duration": 38,
    "start_time": "2023-09-29T16:28:39.205Z"
   },
   {
    "duration": 286,
    "start_time": "2023-09-29T16:28:39.245Z"
   },
   {
    "duration": 8,
    "start_time": "2023-09-29T16:28:39.533Z"
   },
   {
    "duration": 280,
    "start_time": "2023-09-29T16:28:39.549Z"
   },
   {
    "duration": 265,
    "start_time": "2023-09-29T16:28:39.830Z"
   },
   {
    "duration": 166,
    "start_time": "2023-09-29T16:28:40.096Z"
   },
   {
    "duration": 141,
    "start_time": "2023-09-29T16:28:40.264Z"
   },
   {
    "duration": 174,
    "start_time": "2023-09-29T16:28:40.407Z"
   },
   {
    "duration": 132,
    "start_time": "2023-09-29T16:28:40.583Z"
   },
   {
    "duration": 258,
    "start_time": "2023-09-29T16:28:40.717Z"
   },
   {
    "duration": 36,
    "start_time": "2023-09-29T16:28:40.977Z"
   },
   {
    "duration": 8,
    "start_time": "2023-09-29T16:28:50.863Z"
   },
   {
    "duration": 7,
    "start_time": "2023-09-29T16:32:13.987Z"
   },
   {
    "duration": 6,
    "start_time": "2023-09-29T16:32:30.531Z"
   },
   {
    "duration": 91,
    "start_time": "2023-09-29T16:41:00.290Z"
   },
   {
    "duration": 193,
    "start_time": "2023-09-29T16:42:23.298Z"
   },
   {
    "duration": 198,
    "start_time": "2023-09-29T16:43:34.388Z"
   },
   {
    "duration": 283,
    "start_time": "2023-09-29T16:44:16.489Z"
   },
   {
    "duration": 208,
    "start_time": "2023-09-29T16:45:18.465Z"
   },
   {
    "duration": 222,
    "start_time": "2023-09-29T16:45:30.894Z"
   },
   {
    "duration": 191,
    "start_time": "2023-09-29T16:45:58.067Z"
   },
   {
    "duration": 202,
    "start_time": "2023-09-29T16:46:16.156Z"
   },
   {
    "duration": 206,
    "start_time": "2023-09-29T22:23:32.984Z"
   },
   {
    "duration": 59,
    "start_time": "2023-09-29T22:26:18.621Z"
   },
   {
    "duration": 13,
    "start_time": "2023-09-29T22:26:18.681Z"
   },
   {
    "duration": 718,
    "start_time": "2023-09-29T22:26:18.696Z"
   },
   {
    "duration": 4,
    "start_time": "2023-09-29T22:26:19.415Z"
   },
   {
    "duration": 23,
    "start_time": "2023-09-29T22:26:19.421Z"
   },
   {
    "duration": 34,
    "start_time": "2023-09-29T22:26:19.446Z"
   },
   {
    "duration": 11,
    "start_time": "2023-09-29T22:26:19.481Z"
   },
   {
    "duration": 44,
    "start_time": "2023-09-29T22:26:19.494Z"
   },
   {
    "duration": 23,
    "start_time": "2023-09-29T22:26:19.539Z"
   },
   {
    "duration": 23,
    "start_time": "2023-09-29T22:26:19.563Z"
   },
   {
    "duration": 32,
    "start_time": "2023-09-29T22:26:19.587Z"
   },
   {
    "duration": 33,
    "start_time": "2023-09-29T22:26:19.620Z"
   },
   {
    "duration": 11,
    "start_time": "2023-09-29T22:26:19.654Z"
   },
   {
    "duration": 13,
    "start_time": "2023-09-29T22:26:19.667Z"
   },
   {
    "duration": 289,
    "start_time": "2023-09-29T22:26:19.681Z"
   },
   {
    "duration": 5,
    "start_time": "2023-09-29T22:26:19.972Z"
   },
   {
    "duration": 38,
    "start_time": "2023-09-29T22:26:19.979Z"
   },
   {
    "duration": 312,
    "start_time": "2023-09-29T22:26:20.019Z"
   },
   {
    "duration": 17,
    "start_time": "2023-09-29T22:26:20.333Z"
   },
   {
    "duration": 235,
    "start_time": "2023-09-29T22:26:20.352Z"
   },
   {
    "duration": 227,
    "start_time": "2023-09-29T22:26:20.589Z"
   },
   {
    "duration": 131,
    "start_time": "2023-09-29T22:26:20.818Z"
   },
   {
    "duration": 206,
    "start_time": "2023-09-29T22:26:20.951Z"
   },
   {
    "duration": 128,
    "start_time": "2023-09-29T22:26:21.159Z"
   },
   {
    "duration": 125,
    "start_time": "2023-09-29T22:26:21.289Z"
   },
   {
    "duration": 167,
    "start_time": "2023-09-29T22:26:21.416Z"
   },
   {
    "duration": 217,
    "start_time": "2023-09-29T22:26:21.585Z"
   },
   {
    "duration": 212,
    "start_time": "2023-09-29T22:26:33.930Z"
   },
   {
    "duration": 218,
    "start_time": "2023-09-29T22:29:46.968Z"
   },
   {
    "duration": 216,
    "start_time": "2023-09-29T22:30:20.987Z"
   },
   {
    "duration": 291,
    "start_time": "2023-09-29T22:30:52.937Z"
   },
   {
    "duration": 234,
    "start_time": "2023-09-29T22:32:22.417Z"
   },
   {
    "duration": 227,
    "start_time": "2023-09-29T22:33:41.026Z"
   },
   {
    "duration": 223,
    "start_time": "2023-09-29T22:33:55.488Z"
   },
   {
    "duration": 237,
    "start_time": "2023-09-29T22:34:13.101Z"
   },
   {
    "duration": 231,
    "start_time": "2023-09-29T22:34:25.688Z"
   },
   {
    "duration": 294,
    "start_time": "2023-09-29T22:35:04.043Z"
   },
   {
    "duration": 212,
    "start_time": "2023-09-29T22:35:54.713Z"
   },
   {
    "duration": 87,
    "start_time": "2023-09-30T19:21:52.811Z"
   },
   {
    "duration": 581,
    "start_time": "2023-09-30T19:21:57.630Z"
   },
   {
    "duration": 17,
    "start_time": "2023-09-30T19:21:58.214Z"
   },
   {
    "duration": 1295,
    "start_time": "2023-09-30T19:21:58.233Z"
   },
   {
    "duration": 6,
    "start_time": "2023-09-30T19:21:59.531Z"
   },
   {
    "duration": 38,
    "start_time": "2023-09-30T19:21:59.538Z"
   },
   {
    "duration": 41,
    "start_time": "2023-09-30T19:21:59.578Z"
   },
   {
    "duration": 11,
    "start_time": "2023-09-30T19:21:59.620Z"
   },
   {
    "duration": 38,
    "start_time": "2023-09-30T19:21:59.633Z"
   },
   {
    "duration": 8,
    "start_time": "2023-09-30T19:21:59.672Z"
   },
   {
    "duration": 5,
    "start_time": "2023-09-30T19:21:59.758Z"
   },
   {
    "duration": 14,
    "start_time": "2023-09-30T19:21:59.764Z"
   },
   {
    "duration": 34,
    "start_time": "2023-09-30T19:21:59.780Z"
   },
   {
    "duration": 8,
    "start_time": "2023-09-30T19:21:59.815Z"
   },
   {
    "duration": 19,
    "start_time": "2023-09-30T19:21:59.824Z"
   },
   {
    "duration": 415,
    "start_time": "2023-09-30T19:21:59.844Z"
   },
   {
    "duration": 8,
    "start_time": "2023-09-30T19:22:00.261Z"
   },
   {
    "duration": 27,
    "start_time": "2023-09-30T19:22:00.271Z"
   },
   {
    "duration": 334,
    "start_time": "2023-09-30T19:22:00.299Z"
   },
   {
    "duration": 11,
    "start_time": "2023-09-30T19:22:00.635Z"
   },
   {
    "duration": 325,
    "start_time": "2023-09-30T19:22:00.648Z"
   },
   {
    "duration": 324,
    "start_time": "2023-09-30T19:22:00.976Z"
   },
   {
    "duration": 173,
    "start_time": "2023-09-30T19:22:01.302Z"
   },
   {
    "duration": 181,
    "start_time": "2023-09-30T19:22:01.477Z"
   },
   {
    "duration": 167,
    "start_time": "2023-09-30T19:22:01.661Z"
   },
   {
    "duration": 150,
    "start_time": "2023-09-30T19:22:01.830Z"
   },
   {
    "duration": 303,
    "start_time": "2023-09-30T19:22:01.982Z"
   },
   {
    "duration": 449,
    "start_time": "2023-09-30T19:22:02.288Z"
   },
   {
    "duration": 353,
    "start_time": "2023-09-30T19:22:12.566Z"
   },
   {
    "duration": 345,
    "start_time": "2023-09-30T19:26:36.544Z"
   },
   {
    "duration": 318,
    "start_time": "2023-09-30T19:27:27.618Z"
   },
   {
    "duration": 281,
    "start_time": "2023-09-30T19:27:37.259Z"
   },
   {
    "duration": 349,
    "start_time": "2023-09-30T19:28:52.646Z"
   },
   {
    "duration": 379,
    "start_time": "2023-09-30T19:29:10.508Z"
   },
   {
    "duration": 299,
    "start_time": "2023-09-30T19:29:19.349Z"
   },
   {
    "duration": 291,
    "start_time": "2023-09-30T19:29:26.768Z"
   },
   {
    "duration": 273,
    "start_time": "2023-09-30T19:29:33.100Z"
   },
   {
    "duration": 327,
    "start_time": "2023-09-30T19:32:06.727Z"
   },
   {
    "duration": 539,
    "start_time": "2023-09-30T19:35:23.930Z"
   },
   {
    "duration": 599,
    "start_time": "2023-09-30T19:35:38.462Z"
   },
   {
    "duration": 480,
    "start_time": "2023-09-30T19:35:50.606Z"
   },
   {
    "duration": 354,
    "start_time": "2023-09-30T19:37:30.072Z"
   },
   {
    "duration": 350,
    "start_time": "2023-09-30T19:38:20.193Z"
   },
   {
    "duration": 419,
    "start_time": "2023-09-30T19:39:14.233Z"
   },
   {
    "duration": 557,
    "start_time": "2023-09-30T20:18:55.744Z"
   },
   {
    "duration": 503,
    "start_time": "2023-09-30T20:21:35.950Z"
   },
   {
    "duration": 429,
    "start_time": "2023-09-30T20:31:01.763Z"
   },
   {
    "duration": 116,
    "start_time": "2023-09-30T20:31:23.537Z"
   },
   {
    "duration": 389,
    "start_time": "2023-09-30T20:31:28.254Z"
   },
   {
    "duration": 454,
    "start_time": "2023-09-30T20:32:32.935Z"
   },
   {
    "duration": 418,
    "start_time": "2023-09-30T20:33:03.033Z"
   },
   {
    "duration": 50,
    "start_time": "2023-10-01T06:53:27.026Z"
   },
   {
    "duration": 11,
    "start_time": "2023-10-01T06:53:49.669Z"
   },
   {
    "duration": 551,
    "start_time": "2023-10-01T06:53:56.490Z"
   },
   {
    "duration": 15,
    "start_time": "2023-10-01T06:53:57.043Z"
   },
   {
    "duration": 1198,
    "start_time": "2023-10-01T06:53:57.060Z"
   },
   {
    "duration": 6,
    "start_time": "2023-10-01T06:53:58.260Z"
   },
   {
    "duration": 19,
    "start_time": "2023-10-01T06:53:58.268Z"
   },
   {
    "duration": 21,
    "start_time": "2023-10-01T06:53:58.300Z"
   },
   {
    "duration": 11,
    "start_time": "2023-10-01T06:53:58.323Z"
   },
   {
    "duration": 41,
    "start_time": "2023-10-01T06:53:58.336Z"
   },
   {
    "duration": 18,
    "start_time": "2023-10-01T06:53:58.379Z"
   },
   {
    "duration": 69,
    "start_time": "2023-10-01T06:53:58.399Z"
   },
   {
    "duration": 21,
    "start_time": "2023-10-01T06:53:58.469Z"
   },
   {
    "duration": 32,
    "start_time": "2023-10-01T06:53:58.492Z"
   },
   {
    "duration": 10,
    "start_time": "2023-10-01T06:53:58.526Z"
   },
   {
    "duration": 16,
    "start_time": "2023-10-01T06:53:58.540Z"
   },
   {
    "duration": 392,
    "start_time": "2023-10-01T06:53:58.558Z"
   },
   {
    "duration": 7,
    "start_time": "2023-10-01T06:53:58.953Z"
   },
   {
    "duration": 14,
    "start_time": "2023-10-01T06:53:58.962Z"
   },
   {
    "duration": 349,
    "start_time": "2023-10-01T06:53:58.978Z"
   },
   {
    "duration": 10,
    "start_time": "2023-10-01T06:53:59.329Z"
   },
   {
    "duration": 397,
    "start_time": "2023-10-01T06:53:59.341Z"
   },
   {
    "duration": 263,
    "start_time": "2023-10-01T06:53:59.740Z"
   },
   {
    "duration": 160,
    "start_time": "2023-10-01T06:54:00.005Z"
   },
   {
    "duration": 147,
    "start_time": "2023-10-01T06:54:00.166Z"
   },
   {
    "duration": 221,
    "start_time": "2023-10-01T06:54:00.314Z"
   },
   {
    "duration": 146,
    "start_time": "2023-10-01T06:54:00.536Z"
   },
   {
    "duration": 276,
    "start_time": "2023-10-01T06:54:00.684Z"
   },
   {
    "duration": 313,
    "start_time": "2023-10-01T06:54:00.961Z"
   },
   {
    "duration": 0,
    "start_time": "2023-10-01T06:54:01.276Z"
   },
   {
    "duration": 260,
    "start_time": "2023-10-01T06:54:35.791Z"
   },
   {
    "duration": 311,
    "start_time": "2023-10-01T06:54:50.427Z"
   },
   {
    "duration": 330,
    "start_time": "2023-10-01T06:54:53.902Z"
   },
   {
    "duration": 315,
    "start_time": "2023-10-01T06:55:19.081Z"
   },
   {
    "duration": 381,
    "start_time": "2023-10-01T06:55:25.858Z"
   },
   {
    "duration": 279,
    "start_time": "2023-10-01T07:05:52.838Z"
   },
   {
    "duration": 293,
    "start_time": "2023-10-01T07:25:05.873Z"
   },
   {
    "duration": 65,
    "start_time": "2023-10-01T08:20:09.030Z"
   },
   {
    "duration": 15,
    "start_time": "2023-10-01T08:20:09.097Z"
   },
   {
    "duration": 850,
    "start_time": "2023-10-01T08:20:09.114Z"
   },
   {
    "duration": 5,
    "start_time": "2023-10-01T08:20:09.965Z"
   },
   {
    "duration": 33,
    "start_time": "2023-10-01T08:20:09.972Z"
   },
   {
    "duration": 21,
    "start_time": "2023-10-01T08:20:10.007Z"
   },
   {
    "duration": 10,
    "start_time": "2023-10-01T08:20:10.030Z"
   },
   {
    "duration": 30,
    "start_time": "2023-10-01T08:20:10.042Z"
   },
   {
    "duration": 10,
    "start_time": "2023-10-01T08:20:10.074Z"
   },
   {
    "duration": 28,
    "start_time": "2023-10-01T08:20:10.085Z"
   },
   {
    "duration": 18,
    "start_time": "2023-10-01T08:20:10.115Z"
   },
   {
    "duration": 21,
    "start_time": "2023-10-01T08:20:10.134Z"
   },
   {
    "duration": 7,
    "start_time": "2023-10-01T08:20:10.157Z"
   },
   {
    "duration": 9,
    "start_time": "2023-10-01T08:20:10.168Z"
   },
   {
    "duration": 373,
    "start_time": "2023-10-01T08:20:10.179Z"
   },
   {
    "duration": 9,
    "start_time": "2023-10-01T08:20:10.555Z"
   },
   {
    "duration": 10,
    "start_time": "2023-10-01T08:20:10.567Z"
   },
   {
    "duration": 419,
    "start_time": "2023-10-01T08:20:10.601Z"
   },
   {
    "duration": 11,
    "start_time": "2023-10-01T08:20:11.022Z"
   },
   {
    "duration": 291,
    "start_time": "2023-10-01T08:20:11.034Z"
   },
   {
    "duration": 260,
    "start_time": "2023-10-01T08:20:11.326Z"
   },
   {
    "duration": 170,
    "start_time": "2023-10-01T08:20:11.589Z"
   },
   {
    "duration": 155,
    "start_time": "2023-10-01T08:20:11.761Z"
   },
   {
    "duration": 159,
    "start_time": "2023-10-01T08:20:11.917Z"
   },
   {
    "duration": 141,
    "start_time": "2023-10-01T08:20:12.078Z"
   },
   {
    "duration": 214,
    "start_time": "2023-10-01T08:20:12.220Z"
   },
   {
    "duration": 438,
    "start_time": "2023-10-01T08:20:12.436Z"
   },
   {
    "duration": 360,
    "start_time": "2023-10-01T08:20:12.877Z"
   },
   {
    "duration": 301,
    "start_time": "2023-10-01T08:20:13.238Z"
   },
   {
    "duration": 576,
    "start_time": "2023-10-01T11:17:19.315Z"
   },
   {
    "duration": 21,
    "start_time": "2023-10-01T11:17:19.894Z"
   },
   {
    "duration": 1354,
    "start_time": "2023-10-01T11:17:19.918Z"
   },
   {
    "duration": 6,
    "start_time": "2023-10-01T11:17:21.274Z"
   },
   {
    "duration": 45,
    "start_time": "2023-10-01T11:17:21.282Z"
   },
   {
    "duration": 25,
    "start_time": "2023-10-01T11:17:21.329Z"
   },
   {
    "duration": 12,
    "start_time": "2023-10-01T11:17:21.356Z"
   },
   {
    "duration": 45,
    "start_time": "2023-10-01T11:17:21.370Z"
   },
   {
    "duration": 8,
    "start_time": "2023-10-01T11:17:21.418Z"
   },
   {
    "duration": 15,
    "start_time": "2023-10-01T11:17:21.498Z"
   },
   {
    "duration": 19,
    "start_time": "2023-10-01T11:17:21.517Z"
   },
   {
    "duration": 39,
    "start_time": "2023-10-01T11:17:21.538Z"
   },
   {
    "duration": 10,
    "start_time": "2023-10-01T11:17:21.578Z"
   },
   {
    "duration": 28,
    "start_time": "2023-10-01T11:17:21.590Z"
   },
   {
    "duration": 418,
    "start_time": "2023-10-01T11:17:21.621Z"
   },
   {
    "duration": 7,
    "start_time": "2023-10-01T11:17:22.041Z"
   },
   {
    "duration": 50,
    "start_time": "2023-10-01T11:17:22.050Z"
   },
   {
    "duration": 394,
    "start_time": "2023-10-01T11:17:22.102Z"
   },
   {
    "duration": 25,
    "start_time": "2023-10-01T11:17:22.499Z"
   },
   {
    "duration": 401,
    "start_time": "2023-10-01T11:17:22.526Z"
   },
   {
    "duration": 308,
    "start_time": "2023-10-01T11:17:22.929Z"
   },
   {
    "duration": 167,
    "start_time": "2023-10-01T11:17:23.239Z"
   },
   {
    "duration": 160,
    "start_time": "2023-10-01T11:17:23.409Z"
   },
   {
    "duration": 169,
    "start_time": "2023-10-01T11:17:23.571Z"
   },
   {
    "duration": 156,
    "start_time": "2023-10-01T11:17:23.742Z"
   },
   {
    "duration": 280,
    "start_time": "2023-10-01T11:17:23.899Z"
   },
   {
    "duration": 367,
    "start_time": "2023-10-01T11:17:24.180Z"
   },
   {
    "duration": 371,
    "start_time": "2023-10-01T11:17:24.550Z"
   },
   {
    "duration": 342,
    "start_time": "2023-10-01T11:17:24.927Z"
   },
   {
    "duration": 565,
    "start_time": "2023-10-01T11:20:07.361Z"
   },
   {
    "duration": 22,
    "start_time": "2023-10-01T11:20:07.932Z"
   },
   {
    "duration": 1262,
    "start_time": "2023-10-01T11:20:07.956Z"
   },
   {
    "duration": 8,
    "start_time": "2023-10-01T11:20:09.226Z"
   },
   {
    "duration": 32,
    "start_time": "2023-10-01T11:20:09.236Z"
   },
   {
    "duration": 21,
    "start_time": "2023-10-01T11:20:09.271Z"
   },
   {
    "duration": 42,
    "start_time": "2023-10-01T11:20:09.294Z"
   },
   {
    "duration": 16,
    "start_time": "2023-10-01T11:20:09.339Z"
   },
   {
    "duration": 19,
    "start_time": "2023-10-01T11:20:09.358Z"
   },
   {
    "duration": 39,
    "start_time": "2023-10-01T11:20:09.381Z"
   },
   {
    "duration": 6,
    "start_time": "2023-10-01T11:20:09.428Z"
   },
   {
    "duration": 12,
    "start_time": "2023-10-01T11:20:09.436Z"
   },
   {
    "duration": 21,
    "start_time": "2023-10-01T11:20:09.450Z"
   },
   {
    "duration": 9,
    "start_time": "2023-10-01T11:20:09.473Z"
   },
   {
    "duration": 31,
    "start_time": "2023-10-01T11:20:09.483Z"
   },
   {
    "duration": 460,
    "start_time": "2023-10-01T11:20:09.523Z"
   },
   {
    "duration": 7,
    "start_time": "2023-10-01T11:20:09.984Z"
   },
   {
    "duration": 23,
    "start_time": "2023-10-01T11:20:09.992Z"
   },
   {
    "duration": 424,
    "start_time": "2023-10-01T11:20:10.020Z"
   },
   {
    "duration": 12,
    "start_time": "2023-10-01T11:20:10.446Z"
   },
   {
    "duration": 403,
    "start_time": "2023-10-01T11:20:10.459Z"
   },
   {
    "duration": 287,
    "start_time": "2023-10-01T11:20:10.864Z"
   },
   {
    "duration": 170,
    "start_time": "2023-10-01T11:20:11.153Z"
   },
   {
    "duration": 151,
    "start_time": "2023-10-01T11:20:11.325Z"
   },
   {
    "duration": 174,
    "start_time": "2023-10-01T11:20:11.477Z"
   },
   {
    "duration": 152,
    "start_time": "2023-10-01T11:20:11.652Z"
   },
   {
    "duration": 435,
    "start_time": "2023-10-01T11:20:11.806Z"
   },
   {
    "duration": 1011,
    "start_time": "2023-10-01T11:20:12.244Z"
   },
   {
    "duration": 736,
    "start_time": "2023-10-01T11:20:13.310Z"
   },
   {
    "duration": 413,
    "start_time": "2023-10-01T11:20:14.048Z"
   },
   {
    "duration": 14,
    "start_time": "2023-10-01T11:20:26.458Z"
   },
   {
    "duration": 525,
    "start_time": "2023-10-01T11:20:31.858Z"
   },
   {
    "duration": 25,
    "start_time": "2023-10-01T11:20:32.386Z"
   },
   {
    "duration": 1252,
    "start_time": "2023-10-01T11:20:32.414Z"
   },
   {
    "duration": 5,
    "start_time": "2023-10-01T11:20:33.668Z"
   },
   {
    "duration": 32,
    "start_time": "2023-10-01T11:20:33.676Z"
   },
   {
    "duration": 26,
    "start_time": "2023-10-01T11:20:33.711Z"
   },
   {
    "duration": 33,
    "start_time": "2023-10-01T11:20:33.739Z"
   },
   {
    "duration": 12,
    "start_time": "2023-10-01T11:20:33.773Z"
   },
   {
    "duration": 43,
    "start_time": "2023-10-01T11:20:33.786Z"
   },
   {
    "duration": 5,
    "start_time": "2023-10-01T11:20:33.831Z"
   },
   {
    "duration": 10,
    "start_time": "2023-10-01T11:20:33.838Z"
   },
   {
    "duration": 13,
    "start_time": "2023-10-01T11:20:33.850Z"
   },
   {
    "duration": 23,
    "start_time": "2023-10-01T11:20:33.865Z"
   },
   {
    "duration": 34,
    "start_time": "2023-10-01T11:20:33.891Z"
   },
   {
    "duration": 10,
    "start_time": "2023-10-01T11:20:33.927Z"
   },
   {
    "duration": 496,
    "start_time": "2023-10-01T11:20:33.939Z"
   },
   {
    "duration": 7,
    "start_time": "2023-10-01T11:20:34.437Z"
   },
   {
    "duration": 84,
    "start_time": "2023-10-01T11:20:34.446Z"
   },
   {
    "duration": 385,
    "start_time": "2023-10-01T11:20:34.532Z"
   },
   {
    "duration": 11,
    "start_time": "2023-10-01T11:20:34.925Z"
   },
   {
    "duration": 316,
    "start_time": "2023-10-01T11:20:34.938Z"
   },
   {
    "duration": 329,
    "start_time": "2023-10-01T11:20:35.256Z"
   },
   {
    "duration": 189,
    "start_time": "2023-10-01T11:20:35.587Z"
   },
   {
    "duration": 170,
    "start_time": "2023-10-01T11:20:35.778Z"
   },
   {
    "duration": 178,
    "start_time": "2023-10-01T11:20:35.950Z"
   },
   {
    "duration": 164,
    "start_time": "2023-10-01T11:20:36.129Z"
   },
   {
    "duration": 233,
    "start_time": "2023-10-01T11:20:36.295Z"
   },
   {
    "duration": 437,
    "start_time": "2023-10-01T11:20:36.530Z"
   },
   {
    "duration": 363,
    "start_time": "2023-10-01T11:20:36.969Z"
   },
   {
    "duration": 330,
    "start_time": "2023-10-01T11:20:37.334Z"
   },
   {
    "duration": 49,
    "start_time": "2023-10-02T12:41:37.082Z"
   },
   {
    "duration": 1094,
    "start_time": "2023-10-02T12:41:43.809Z"
   },
   {
    "duration": 17,
    "start_time": "2023-10-02T12:41:44.905Z"
   },
   {
    "duration": 932,
    "start_time": "2023-10-02T12:41:44.923Z"
   },
   {
    "duration": 4,
    "start_time": "2023-10-02T12:41:45.857Z"
   },
   {
    "duration": 41,
    "start_time": "2023-10-02T12:41:45.863Z"
   },
   {
    "duration": 37,
    "start_time": "2023-10-02T12:41:45.906Z"
   },
   {
    "duration": 34,
    "start_time": "2023-10-02T12:41:45.945Z"
   },
   {
    "duration": 44,
    "start_time": "2023-10-02T12:41:45.981Z"
   },
   {
    "duration": 5,
    "start_time": "2023-10-02T12:41:46.027Z"
   },
   {
    "duration": 11,
    "start_time": "2023-10-02T12:41:46.035Z"
   },
   {
    "duration": 29,
    "start_time": "2023-10-02T12:41:46.048Z"
   },
   {
    "duration": 28,
    "start_time": "2023-10-02T12:41:46.079Z"
   },
   {
    "duration": 406,
    "start_time": "2023-10-02T12:41:46.108Z"
   },
   {
    "duration": 12,
    "start_time": "2023-10-02T12:41:46.516Z"
   },
   {
    "duration": 617,
    "start_time": "2023-10-02T12:41:46.531Z"
   },
   {
    "duration": 17,
    "start_time": "2023-10-02T12:41:47.154Z"
   },
   {
    "duration": 12,
    "start_time": "2023-10-02T12:41:47.179Z"
   },
   {
    "duration": 362,
    "start_time": "2023-10-02T12:41:47.195Z"
   },
   {
    "duration": 29,
    "start_time": "2023-10-02T12:41:47.563Z"
   },
   {
    "duration": 299,
    "start_time": "2023-10-02T12:41:47.598Z"
   },
   {
    "duration": 286,
    "start_time": "2023-10-02T12:41:47.899Z"
   },
   {
    "duration": 176,
    "start_time": "2023-10-02T12:41:48.187Z"
   },
   {
    "duration": 154,
    "start_time": "2023-10-02T12:41:48.364Z"
   },
   {
    "duration": 206,
    "start_time": "2023-10-02T12:41:48.520Z"
   },
   {
    "duration": 227,
    "start_time": "2023-10-02T12:41:48.728Z"
   },
   {
    "duration": 240,
    "start_time": "2023-10-02T12:41:48.957Z"
   },
   {
    "duration": 342,
    "start_time": "2023-10-02T12:41:49.200Z"
   },
   {
    "duration": 360,
    "start_time": "2023-10-02T12:41:49.553Z"
   },
   {
    "duration": 325,
    "start_time": "2023-10-02T12:41:49.915Z"
   },
   {
    "duration": 301,
    "start_time": "2023-10-02T12:41:59.506Z"
   },
   {
    "duration": 391,
    "start_time": "2023-10-02T12:42:28.221Z"
   },
   {
    "duration": 343,
    "start_time": "2023-10-02T12:43:13.104Z"
   },
   {
    "duration": 313,
    "start_time": "2023-10-02T12:43:23.774Z"
   },
   {
    "duration": 323,
    "start_time": "2023-10-02T12:43:29.695Z"
   },
   {
    "duration": 305,
    "start_time": "2023-10-02T12:43:33.533Z"
   },
   {
    "duration": 296,
    "start_time": "2023-10-02T12:45:21.835Z"
   },
   {
    "duration": 37,
    "start_time": "2023-10-02T12:46:31.290Z"
   },
   {
    "duration": 8,
    "start_time": "2023-10-02T12:46:33.734Z"
   },
   {
    "duration": 372,
    "start_time": "2023-10-02T12:47:08.548Z"
   },
   {
    "duration": 271,
    "start_time": "2023-10-02T12:47:12.840Z"
   },
   {
    "duration": 10,
    "start_time": "2023-10-02T12:47:18.530Z"
   },
   {
    "duration": 309,
    "start_time": "2023-10-02T12:47:59.477Z"
   },
   {
    "duration": 376,
    "start_time": "2023-10-02T12:49:12.615Z"
   },
   {
    "duration": 298,
    "start_time": "2023-10-02T12:49:22.643Z"
   },
   {
    "duration": 277,
    "start_time": "2023-10-02T12:49:36.944Z"
   },
   {
    "duration": 516,
    "start_time": "2023-10-02T12:49:40.819Z"
   },
   {
    "duration": 35,
    "start_time": "2023-10-02T12:51:34.486Z"
   },
   {
    "duration": 253,
    "start_time": "2023-10-02T12:52:04.576Z"
   },
   {
    "duration": 262,
    "start_time": "2023-10-02T12:52:14.071Z"
   },
   {
    "duration": 344,
    "start_time": "2023-10-02T12:52:27.086Z"
   },
   {
    "duration": 166,
    "start_time": "2023-10-02T12:52:51.649Z"
   },
   {
    "duration": 33,
    "start_time": "2023-10-02T12:52:56.910Z"
   },
   {
    "duration": 31,
    "start_time": "2023-10-02T13:27:56.873Z"
   },
   {
    "duration": 12,
    "start_time": "2023-10-02T13:28:19.214Z"
   },
   {
    "duration": 15,
    "start_time": "2023-10-02T13:28:36.677Z"
   },
   {
    "duration": 15,
    "start_time": "2023-10-02T13:32:29.826Z"
   },
   {
    "duration": 362,
    "start_time": "2023-10-02T13:33:00.422Z"
   },
   {
    "duration": 346,
    "start_time": "2023-10-02T13:33:12.061Z"
   },
   {
    "duration": 310,
    "start_time": "2023-10-02T13:33:23.702Z"
   },
   {
    "duration": 339,
    "start_time": "2023-10-02T13:33:30.237Z"
   },
   {
    "duration": 405,
    "start_time": "2023-10-02T13:33:35.478Z"
   },
   {
    "duration": 580,
    "start_time": "2023-10-02T14:00:45.856Z"
   },
   {
    "duration": 353,
    "start_time": "2023-10-02T14:00:55.986Z"
   },
   {
    "duration": 311,
    "start_time": "2023-10-02T14:01:48.981Z"
   },
   {
    "duration": 76,
    "start_time": "2023-10-02T14:02:54.234Z"
   },
   {
    "duration": 117,
    "start_time": "2023-10-02T14:03:07.330Z"
   },
   {
    "duration": 31,
    "start_time": "2023-10-02T14:03:32.929Z"
   },
   {
    "duration": 285,
    "start_time": "2023-10-02T14:03:55.500Z"
   },
   {
    "duration": 213,
    "start_time": "2023-10-02T14:56:32.198Z"
   },
   {
    "duration": 258,
    "start_time": "2023-10-02T14:58:30.377Z"
   },
   {
    "duration": 251,
    "start_time": "2023-10-02T14:58:52.602Z"
   },
   {
    "duration": 298,
    "start_time": "2023-10-02T14:59:30.881Z"
   },
   {
    "duration": 389,
    "start_time": "2023-10-02T14:59:48.143Z"
   },
   {
    "duration": 303,
    "start_time": "2023-10-02T14:59:58.540Z"
   },
   {
    "duration": 16,
    "start_time": "2023-10-02T15:00:09.285Z"
   },
   {
    "duration": 332,
    "start_time": "2023-10-02T15:00:12.867Z"
   },
   {
    "duration": 320,
    "start_time": "2023-10-02T15:01:17.498Z"
   },
   {
    "duration": 306,
    "start_time": "2023-10-02T15:03:18.665Z"
   },
   {
    "duration": 344,
    "start_time": "2023-10-02T15:12:26.563Z"
   },
   {
    "duration": 292,
    "start_time": "2023-10-02T15:13:09.502Z"
   },
   {
    "duration": 312,
    "start_time": "2023-10-02T15:13:25.829Z"
   },
   {
    "duration": 335,
    "start_time": "2023-10-02T15:14:46.727Z"
   },
   {
    "duration": 240,
    "start_time": "2023-10-02T15:15:40.672Z"
   },
   {
    "duration": 144,
    "start_time": "2023-10-02T15:17:06.333Z"
   },
   {
    "duration": 117,
    "start_time": "2023-10-02T15:17:28.131Z"
   },
   {
    "duration": 165,
    "start_time": "2023-10-02T15:17:35.810Z"
   },
   {
    "duration": 196,
    "start_time": "2023-10-02T15:18:27.557Z"
   },
   {
    "duration": 153,
    "start_time": "2023-10-02T15:19:19.977Z"
   },
   {
    "duration": 141,
    "start_time": "2023-10-02T15:19:26.675Z"
   },
   {
    "duration": 133,
    "start_time": "2023-10-02T15:19:54.557Z"
   },
   {
    "duration": 4,
    "start_time": "2023-10-02T15:22:57.108Z"
   },
   {
    "duration": 195,
    "start_time": "2023-10-02T15:23:06.936Z"
   },
   {
    "duration": 261,
    "start_time": "2023-10-02T15:26:19.030Z"
   },
   {
    "duration": 307,
    "start_time": "2023-10-02T15:26:34.400Z"
   },
   {
    "duration": 8,
    "start_time": "2023-10-02T15:29:38.813Z"
   },
   {
    "duration": 314,
    "start_time": "2023-10-02T15:29:44.939Z"
   },
   {
    "duration": 453,
    "start_time": "2023-10-02T15:29:55.796Z"
   },
   {
    "duration": 318,
    "start_time": "2023-10-02T15:30:01.525Z"
   },
   {
    "duration": 277,
    "start_time": "2023-10-02T15:30:05.089Z"
   },
   {
    "duration": 327,
    "start_time": "2023-10-02T15:30:20.241Z"
   },
   {
    "duration": 314,
    "start_time": "2023-10-02T15:30:23.441Z"
   },
   {
    "duration": 304,
    "start_time": "2023-10-02T15:30:26.576Z"
   },
   {
    "duration": 260,
    "start_time": "2023-10-02T15:37:01.226Z"
   },
   {
    "duration": 206,
    "start_time": "2023-10-02T15:37:50.821Z"
   },
   {
    "duration": 189,
    "start_time": "2023-10-02T15:42:24.847Z"
   },
   {
    "duration": 168,
    "start_time": "2023-10-02T15:42:30.683Z"
   },
   {
    "duration": 60,
    "start_time": "2023-10-02T15:46:34.198Z"
   },
   {
    "duration": 17,
    "start_time": "2023-10-02T15:46:34.260Z"
   },
   {
    "duration": 721,
    "start_time": "2023-10-02T15:46:34.278Z"
   },
   {
    "duration": 3,
    "start_time": "2023-10-02T15:46:35.001Z"
   },
   {
    "duration": 58,
    "start_time": "2023-10-02T15:46:35.006Z"
   },
   {
    "duration": 38,
    "start_time": "2023-10-02T15:46:35.066Z"
   },
   {
    "duration": 38,
    "start_time": "2023-10-02T15:46:35.106Z"
   },
   {
    "duration": 28,
    "start_time": "2023-10-02T15:46:35.145Z"
   },
   {
    "duration": 44,
    "start_time": "2023-10-02T15:46:35.174Z"
   },
   {
    "duration": 50,
    "start_time": "2023-10-02T15:46:35.220Z"
   },
   {
    "duration": 59,
    "start_time": "2023-10-02T15:46:35.272Z"
   },
   {
    "duration": 113,
    "start_time": "2023-10-02T15:46:35.332Z"
   },
   {
    "duration": 352,
    "start_time": "2023-10-02T15:46:35.447Z"
   },
   {
    "duration": 271,
    "start_time": "2023-10-02T15:46:35.800Z"
   },
   {
    "duration": 40,
    "start_time": "2023-10-02T15:46:36.073Z"
   },
   {
    "duration": 463,
    "start_time": "2023-10-02T15:46:36.115Z"
   },
   {
    "duration": 9,
    "start_time": "2023-10-02T15:46:36.580Z"
   },
   {
    "duration": 16,
    "start_time": "2023-10-02T15:46:36.590Z"
   },
   {
    "duration": 366,
    "start_time": "2023-10-02T15:46:36.608Z"
   },
   {
    "duration": 9,
    "start_time": "2023-10-02T15:46:36.975Z"
   },
   {
    "duration": 262,
    "start_time": "2023-10-02T15:46:36.985Z"
   },
   {
    "duration": 238,
    "start_time": "2023-10-02T15:46:37.249Z"
   },
   {
    "duration": 164,
    "start_time": "2023-10-02T15:46:37.488Z"
   },
   {
    "duration": 155,
    "start_time": "2023-10-02T15:46:37.654Z"
   },
   {
    "duration": 179,
    "start_time": "2023-10-02T15:46:37.811Z"
   },
   {
    "duration": 173,
    "start_time": "2023-10-02T15:46:37.991Z"
   },
   {
    "duration": 190,
    "start_time": "2023-10-02T15:46:38.166Z"
   },
   {
    "duration": 374,
    "start_time": "2023-10-02T15:46:38.359Z"
   },
   {
    "duration": 298,
    "start_time": "2023-10-02T15:46:38.735Z"
   },
   {
    "duration": 297,
    "start_time": "2023-10-02T15:46:39.035Z"
   },
   {
    "duration": 1023,
    "start_time": "2023-10-02T18:30:59.665Z"
   },
   {
    "duration": 18,
    "start_time": "2023-10-02T18:31:00.690Z"
   },
   {
    "duration": 904,
    "start_time": "2023-10-02T18:31:00.710Z"
   },
   {
    "duration": 4,
    "start_time": "2023-10-02T18:31:01.618Z"
   },
   {
    "duration": 753,
    "start_time": "2023-10-02T18:31:01.624Z"
   },
   {
    "duration": 123,
    "start_time": "2023-10-02T18:31:02.379Z"
   },
   {
    "duration": 63,
    "start_time": "2023-10-02T18:31:02.503Z"
   },
   {
    "duration": 48,
    "start_time": "2023-10-02T18:31:02.568Z"
   },
   {
    "duration": 68,
    "start_time": "2023-10-02T18:31:02.619Z"
   },
   {
    "duration": 76,
    "start_time": "2023-10-02T18:31:02.691Z"
   },
   {
    "duration": 59,
    "start_time": "2023-10-02T18:31:02.769Z"
   },
   {
    "duration": 29,
    "start_time": "2023-10-02T18:31:02.830Z"
   },
   {
    "duration": 421,
    "start_time": "2023-10-02T18:31:02.860Z"
   },
   {
    "duration": 303,
    "start_time": "2023-10-02T18:31:03.283Z"
   },
   {
    "duration": 51,
    "start_time": "2023-10-02T18:31:03.588Z"
   },
   {
    "duration": 417,
    "start_time": "2023-10-02T18:31:03.641Z"
   },
   {
    "duration": 8,
    "start_time": "2023-10-02T18:31:04.060Z"
   },
   {
    "duration": 41,
    "start_time": "2023-10-02T18:31:04.070Z"
   },
   {
    "duration": 369,
    "start_time": "2023-10-02T18:31:04.113Z"
   },
   {
    "duration": 25,
    "start_time": "2023-10-02T18:31:04.484Z"
   },
   {
    "duration": 418,
    "start_time": "2023-10-02T18:31:04.511Z"
   },
   {
    "duration": 279,
    "start_time": "2023-10-02T18:31:04.931Z"
   },
   {
    "duration": 190,
    "start_time": "2023-10-02T18:31:05.212Z"
   },
   {
    "duration": 279,
    "start_time": "2023-10-02T18:31:05.404Z"
   },
   {
    "duration": 200,
    "start_time": "2023-10-02T18:31:05.685Z"
   },
   {
    "duration": 182,
    "start_time": "2023-10-02T18:31:05.887Z"
   },
   {
    "duration": 229,
    "start_time": "2023-10-02T18:31:06.072Z"
   },
   {
    "duration": 613,
    "start_time": "2023-10-02T18:31:06.304Z"
   },
   {
    "duration": 706,
    "start_time": "2023-10-02T18:31:06.919Z"
   },
   {
    "duration": 677,
    "start_time": "2023-10-02T18:31:07.627Z"
   }
  ],
  "kernelspec": {
   "display_name": "Python 3 (ipykernel)",
   "language": "python",
   "name": "python3"
  },
  "language_info": {
   "codemirror_mode": {
    "name": "ipython",
    "version": 3
   },
   "file_extension": ".py",
   "mimetype": "text/x-python",
   "name": "python",
   "nbconvert_exporter": "python",
   "pygments_lexer": "ipython3",
   "version": "3.11.5"
  },
  "toc": {
   "base_numbering": 1,
   "nav_menu": {},
   "number_sections": true,
   "sideBar": true,
   "skip_h1_title": true,
   "title_cell": "Table of Contents",
   "title_sidebar": "Contents",
   "toc_cell": false,
   "toc_position": {
    "height": "calc(100% - 180px)",
    "left": "10px",
    "top": "150px",
    "width": "395.294098px"
   },
   "toc_section_display": true,
   "toc_window_display": true
  }
 },
 "nbformat": 4,
 "nbformat_minor": 2
}
