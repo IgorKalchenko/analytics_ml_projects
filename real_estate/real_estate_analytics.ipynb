{
 "cells": [
  {
   "cell_type": "markdown",
   "metadata": {},
   "source": [
    "# Исследование объявлений о продаже квартир\n",
    "\n",
    "В вашем распоряжении данные сервиса Яндекс.Недвижимость — архив объявлений о продаже квартир в Санкт-Петербурге и соседних населённых пунктов за несколько лет. Нужно научиться определять рыночную стоимость объектов недвижимости. Ваша задача — установить параметры. Это позволит построить автоматизированную систему: она отследит аномалии и мошенническую деятельность. \n",
    "\n",
    "По каждой квартире на продажу доступны два вида данных. Первые вписаны пользователем, вторые — получены автоматически на основе картографических данных. Например, расстояние до центра, аэропорта, ближайшего парка и водоёма.\n",
    "\n",
    "**Цель исследования:**\n",
    "1. Изучить, как быстро продавались квартиры.\n",
    "2. Определить какие факторы больше всего влияют на общую (полную) стоимость объекта.\n",
    "3. Посчитать среднюю цену одного квадратного метра в 10 населённых пунктах с наибольшим числом объявлений.\n",
    "4. Вычислить среднюю цену каждого километра удаления квартиры от центра Санкт-Петербурга\n",
    "\n",
    "**Ход исследования**\n",
    "\n",
    "Данные о недвижимости я получу из файла '/datasets/real_estate_data.csv'. О качестве данных ничего неизвестно, поэтому прежде чем приступать к целям исследования, понадобится обзор данных.\n",
    "\n",
    "Данные будут проверены на ошибки, дубликаты и выбросы. Я поищу возможности исправить все ошибки данных, при этом избежав серьёзного искажения конечного результата. Далее будут созданы необходимые для анализа столбцы и будет проведён исследовательский анализ данных.\n",
    "\n",
    "Таким образом, моё исследование будет состоять из следующих этапов:\n",
    "1. Обзор данных\n",
    "2. Предобработка данных\n",
    "3. Рассчёты и добавление результатов в таблицу\n",
    "4. Исследоватльский анализ\n",
    "5. Написание общего вывода"
   ]
  },
  {
   "cell_type": "markdown",
   "metadata": {},
   "source": [
    "## Знакомство с данными "
   ]
  },
  {
   "cell_type": "markdown",
   "metadata": {},
   "source": [
    "**Познакомимся с первыми строками таблицы**"
   ]
  },
  {
   "cell_type": "code",
   "execution_count": 1,
   "metadata": {},
   "outputs": [
    {
     "data": {
      "text/html": [
       "<div>\n",
       "<style scoped>\n",
       "    .dataframe tbody tr th:only-of-type {\n",
       "        vertical-align: middle;\n",
       "    }\n",
       "\n",
       "    .dataframe tbody tr th {\n",
       "        vertical-align: top;\n",
       "    }\n",
       "\n",
       "    .dataframe thead th {\n",
       "        text-align: right;\n",
       "    }\n",
       "</style>\n",
       "<table border=\"1\" class=\"dataframe\">\n",
       "  <thead>\n",
       "    <tr style=\"text-align: right;\">\n",
       "      <th></th>\n",
       "      <th>total_images</th>\n",
       "      <th>last_price</th>\n",
       "      <th>total_area</th>\n",
       "      <th>first_day_exposition</th>\n",
       "      <th>rooms</th>\n",
       "      <th>ceiling_height</th>\n",
       "      <th>floors_total</th>\n",
       "      <th>living_area</th>\n",
       "      <th>floor</th>\n",
       "      <th>is_apartment</th>\n",
       "      <th>...</th>\n",
       "      <th>kitchen_area</th>\n",
       "      <th>balcony</th>\n",
       "      <th>locality_name</th>\n",
       "      <th>airports_nearest</th>\n",
       "      <th>cityCenters_nearest</th>\n",
       "      <th>parks_around3000</th>\n",
       "      <th>parks_nearest</th>\n",
       "      <th>ponds_around3000</th>\n",
       "      <th>ponds_nearest</th>\n",
       "      <th>days_exposition</th>\n",
       "    </tr>\n",
       "  </thead>\n",
       "  <tbody>\n",
       "    <tr>\n",
       "      <th>0</th>\n",
       "      <td>20</td>\n",
       "      <td>13000000.0</td>\n",
       "      <td>108.0</td>\n",
       "      <td>2019-03-07T00:00:00</td>\n",
       "      <td>3</td>\n",
       "      <td>2.70</td>\n",
       "      <td>16.0</td>\n",
       "      <td>51.0</td>\n",
       "      <td>8</td>\n",
       "      <td>NaN</td>\n",
       "      <td>...</td>\n",
       "      <td>25.0</td>\n",
       "      <td>NaN</td>\n",
       "      <td>Санкт-Петербург</td>\n",
       "      <td>18863.0</td>\n",
       "      <td>16028.0</td>\n",
       "      <td>1.0</td>\n",
       "      <td>482.0</td>\n",
       "      <td>2.0</td>\n",
       "      <td>755.0</td>\n",
       "      <td>NaN</td>\n",
       "    </tr>\n",
       "    <tr>\n",
       "      <th>1</th>\n",
       "      <td>7</td>\n",
       "      <td>3350000.0</td>\n",
       "      <td>40.4</td>\n",
       "      <td>2018-12-04T00:00:00</td>\n",
       "      <td>1</td>\n",
       "      <td>NaN</td>\n",
       "      <td>11.0</td>\n",
       "      <td>18.6</td>\n",
       "      <td>1</td>\n",
       "      <td>NaN</td>\n",
       "      <td>...</td>\n",
       "      <td>11.0</td>\n",
       "      <td>2.0</td>\n",
       "      <td>посёлок Шушары</td>\n",
       "      <td>12817.0</td>\n",
       "      <td>18603.0</td>\n",
       "      <td>0.0</td>\n",
       "      <td>NaN</td>\n",
       "      <td>0.0</td>\n",
       "      <td>NaN</td>\n",
       "      <td>81.0</td>\n",
       "    </tr>\n",
       "    <tr>\n",
       "      <th>2</th>\n",
       "      <td>10</td>\n",
       "      <td>5196000.0</td>\n",
       "      <td>56.0</td>\n",
       "      <td>2015-08-20T00:00:00</td>\n",
       "      <td>2</td>\n",
       "      <td>NaN</td>\n",
       "      <td>5.0</td>\n",
       "      <td>34.3</td>\n",
       "      <td>4</td>\n",
       "      <td>NaN</td>\n",
       "      <td>...</td>\n",
       "      <td>8.3</td>\n",
       "      <td>0.0</td>\n",
       "      <td>Санкт-Петербург</td>\n",
       "      <td>21741.0</td>\n",
       "      <td>13933.0</td>\n",
       "      <td>1.0</td>\n",
       "      <td>90.0</td>\n",
       "      <td>2.0</td>\n",
       "      <td>574.0</td>\n",
       "      <td>558.0</td>\n",
       "    </tr>\n",
       "    <tr>\n",
       "      <th>3</th>\n",
       "      <td>0</td>\n",
       "      <td>64900000.0</td>\n",
       "      <td>159.0</td>\n",
       "      <td>2015-07-24T00:00:00</td>\n",
       "      <td>3</td>\n",
       "      <td>NaN</td>\n",
       "      <td>14.0</td>\n",
       "      <td>NaN</td>\n",
       "      <td>9</td>\n",
       "      <td>NaN</td>\n",
       "      <td>...</td>\n",
       "      <td>NaN</td>\n",
       "      <td>0.0</td>\n",
       "      <td>Санкт-Петербург</td>\n",
       "      <td>28098.0</td>\n",
       "      <td>6800.0</td>\n",
       "      <td>2.0</td>\n",
       "      <td>84.0</td>\n",
       "      <td>3.0</td>\n",
       "      <td>234.0</td>\n",
       "      <td>424.0</td>\n",
       "    </tr>\n",
       "    <tr>\n",
       "      <th>4</th>\n",
       "      <td>2</td>\n",
       "      <td>10000000.0</td>\n",
       "      <td>100.0</td>\n",
       "      <td>2018-06-19T00:00:00</td>\n",
       "      <td>2</td>\n",
       "      <td>3.03</td>\n",
       "      <td>14.0</td>\n",
       "      <td>32.0</td>\n",
       "      <td>13</td>\n",
       "      <td>NaN</td>\n",
       "      <td>...</td>\n",
       "      <td>41.0</td>\n",
       "      <td>NaN</td>\n",
       "      <td>Санкт-Петербург</td>\n",
       "      <td>31856.0</td>\n",
       "      <td>8098.0</td>\n",
       "      <td>2.0</td>\n",
       "      <td>112.0</td>\n",
       "      <td>1.0</td>\n",
       "      <td>48.0</td>\n",
       "      <td>121.0</td>\n",
       "    </tr>\n",
       "  </tbody>\n",
       "</table>\n",
       "<p>5 rows × 22 columns</p>\n",
       "</div>"
      ],
      "text/plain": [
       "   total_images  last_price  total_area first_day_exposition  rooms  \\\n",
       "0            20  13000000.0       108.0  2019-03-07T00:00:00      3   \n",
       "1             7   3350000.0        40.4  2018-12-04T00:00:00      1   \n",
       "2            10   5196000.0        56.0  2015-08-20T00:00:00      2   \n",
       "3             0  64900000.0       159.0  2015-07-24T00:00:00      3   \n",
       "4             2  10000000.0       100.0  2018-06-19T00:00:00      2   \n",
       "\n",
       "   ceiling_height  floors_total  living_area  floor is_apartment  ...  \\\n",
       "0            2.70          16.0         51.0      8          NaN  ...   \n",
       "1             NaN          11.0         18.6      1          NaN  ...   \n",
       "2             NaN           5.0         34.3      4          NaN  ...   \n",
       "3             NaN          14.0          NaN      9          NaN  ...   \n",
       "4            3.03          14.0         32.0     13          NaN  ...   \n",
       "\n",
       "   kitchen_area  balcony    locality_name  airports_nearest  \\\n",
       "0          25.0      NaN  Санкт-Петербург           18863.0   \n",
       "1          11.0      2.0   посёлок Шушары           12817.0   \n",
       "2           8.3      0.0  Санкт-Петербург           21741.0   \n",
       "3           NaN      0.0  Санкт-Петербург           28098.0   \n",
       "4          41.0      NaN  Санкт-Петербург           31856.0   \n",
       "\n",
       "  cityCenters_nearest  parks_around3000  parks_nearest  ponds_around3000  \\\n",
       "0             16028.0               1.0          482.0               2.0   \n",
       "1             18603.0               0.0            NaN               0.0   \n",
       "2             13933.0               1.0           90.0               2.0   \n",
       "3              6800.0               2.0           84.0               3.0   \n",
       "4              8098.0               2.0          112.0               1.0   \n",
       "\n",
       "   ponds_nearest  days_exposition  \n",
       "0          755.0              NaN  \n",
       "1            NaN             81.0  \n",
       "2          574.0            558.0  \n",
       "3          234.0            424.0  \n",
       "4           48.0            121.0  \n",
       "\n",
       "[5 rows x 22 columns]"
      ]
     },
     "execution_count": 1,
     "metadata": {},
     "output_type": "execute_result"
    }
   ],
   "source": [
    "import pandas as pd\n",
    "df = pd.read_csv('/datasets/real_estate_data.csv', sep='\\t')\n",
    "df.head()"
   ]
  },
  {
   "cell_type": "markdown",
   "metadata": {},
   "source": [
    "**Получим общие сведения**"
   ]
  },
  {
   "cell_type": "code",
   "execution_count": 2,
   "metadata": {},
   "outputs": [
    {
     "name": "stdout",
     "output_type": "stream",
     "text": [
      "<class 'pandas.core.frame.DataFrame'>\n",
      "RangeIndex: 23699 entries, 0 to 23698\n",
      "Data columns (total 22 columns):\n",
      " #   Column                Non-Null Count  Dtype  \n",
      "---  ------                --------------  -----  \n",
      " 0   total_images          23699 non-null  int64  \n",
      " 1   last_price            23699 non-null  float64\n",
      " 2   total_area            23699 non-null  float64\n",
      " 3   first_day_exposition  23699 non-null  object \n",
      " 4   rooms                 23699 non-null  int64  \n",
      " 5   ceiling_height        14504 non-null  float64\n",
      " 6   floors_total          23613 non-null  float64\n",
      " 7   living_area           21796 non-null  float64\n",
      " 8   floor                 23699 non-null  int64  \n",
      " 9   is_apartment          2775 non-null   object \n",
      " 10  studio                23699 non-null  bool   \n",
      " 11  open_plan             23699 non-null  bool   \n",
      " 12  kitchen_area          21421 non-null  float64\n",
      " 13  balcony               12180 non-null  float64\n",
      " 14  locality_name         23650 non-null  object \n",
      " 15  airports_nearest      18157 non-null  float64\n",
      " 16  cityCenters_nearest   18180 non-null  float64\n",
      " 17  parks_around3000      18181 non-null  float64\n",
      " 18  parks_nearest         8079 non-null   float64\n",
      " 19  ponds_around3000      18181 non-null  float64\n",
      " 20  ponds_nearest         9110 non-null   float64\n",
      " 21  days_exposition       20518 non-null  float64\n",
      "dtypes: bool(2), float64(14), int64(3), object(3)\n",
      "memory usage: 3.7+ MB\n"
     ]
    }
   ],
   "source": [
    "df.info()"
   ]
  },
  {
   "cell_type": "markdown",
   "metadata": {},
   "source": [
    "**Построим общую гистограмму для всех числовых столбцов таблицы**"
   ]
  },
  {
   "cell_type": "code",
   "execution_count": 3,
   "metadata": {},
   "outputs": [
    {
     "data": {
      "image/png": "[encoded data removed]",
      "text/plain": [
       "<Figure size 1080x1440 with 20 Axes>"
      ]
     },
     "metadata": {
      "needs_background": "light"
     },
     "output_type": "display_data"
    }
   ],
   "source": [
    "df.hist(figsize=(15, 20));"
   ]
  },
  {
   "cell_type": "markdown",
   "metadata": {},
   "source": [
    "**Выше представлена основная информация о данных, включённых в таблицу. Всего в таблице 23699 строк и 22 колонки. Во многих колонках наблюдаются пропущенные значения. Также в ряде колонок (ceiling_height, kitchen_area, days_exposition, last_price, total_area, living_area и некоторых других) наблюдается неравномерное распределение записей: основной массив записей находится в небольшом диапазоне, а единичные записи довольно сильно из него выбиваются.**"
   ]
  },
  {
   "cell_type": "markdown",
   "metadata": {},
   "source": []
  },
  {
   "cell_type": "markdown",
   "metadata": {},
   "source": [
    "## Предобработка данных"
   ]
  },
  {
   "cell_type": "markdown",
   "metadata": {},
   "source": [
    "### Обработка пропусков"
   ]
  },
  {
   "cell_type": "markdown",
   "metadata": {},
   "source": [
    "**Выведим количество пропущенных значений для каждого столбца**"
   ]
  },
  {
   "cell_type": "code",
   "execution_count": 4,
   "metadata": {
    "scrolled": true
   },
   "outputs": [
    {
     "data": {
      "text/plain": [
       "total_images                0\n",
       "last_price                  0\n",
       "total_area                  0\n",
       "first_day_exposition        0\n",
       "rooms                       0\n",
       "ceiling_height           9195\n",
       "floors_total               86\n",
       "living_area              1903\n",
       "floor                       0\n",
       "is_apartment            20924\n",
       "studio                      0\n",
       "open_plan                   0\n",
       "kitchen_area             2278\n",
       "balcony                 11519\n",
       "locality_name              49\n",
       "airports_nearest         5542\n",
       "cityCenters_nearest      5519\n",
       "parks_around3000         5518\n",
       "parks_nearest           15620\n",
       "ponds_around3000         5518\n",
       "ponds_nearest           14589\n",
       "days_exposition          3181\n",
       "dtype: int64"
      ]
     },
     "execution_count": 4,
     "metadata": {},
     "output_type": "execute_result"
    }
   ],
   "source": [
    "df.isna().sum()"
   ]
  },
  {
   "cell_type": "markdown",
   "metadata": {},
   "source": [
    "**На данный момент пропуски наблюдаются в ячейках:**\n",
    "- ceiling_height, \n",
    "- floors_total,\n",
    "- living_area,\n",
    "- is_apartment,\n",
    "- kitchen_area,\n",
    "- balcony,\n",
    "- locality_name,\n",
    "- airports_nearest,\n",
    "- cityCenters_nearest,\n",
    "- parks_around3000,\n",
    "- parks_nearest,\n",
    "- ponds_around3000,\n",
    "- ponds_nearest,\n",
    "- days_exposition.\n",
    "\n",
    "**Проанализируем каждый из этих столбцов и заполним пропуски, где это возможно.**"
   ]
  },
  {
   "cell_type": "markdown",
   "metadata": {},
   "source": [
    "**Обратимся к столбцу \"ceiling_height\". На данный момент в нём наблюдается три типа отклонений: слишком маленькие значения, слишком большие и отсутствующие. Так как высота потолков зачастую довольно слабо варьируется, заполним все эти значения медианой. В качестве слишком малых примем значения ниже 2.2 метров, в качестве слишком больших - больше 6 метров. Так как в данных собрана информация именно о продаже квартир, мы не рассматриваем возможность появления в выборке складских помещений, для которых характерна высота потолков до 18 метров. Сначала присвоим значениям-выбросам Nan, после заменим все Nan на медиану.**"
   ]
  },
  {
   "cell_type": "code",
   "execution_count": 5,
   "metadata": {},
   "outputs": [
    {
     "data": {
      "text/plain": [
       "9195"
      ]
     },
     "execution_count": 5,
     "metadata": {},
     "output_type": "execute_result"
    }
   ],
   "source": [
    "df['ceiling_height'].isna().sum()"
   ]
  },
  {
   "cell_type": "code",
   "execution_count": 6,
   "metadata": {},
   "outputs": [],
   "source": [
    "df['ceiling_height'] = df['ceiling_height'].where(df['ceiling_height'] <= 6, None)\n",
    "df['ceiling_height'] = df['ceiling_height'].where(df['ceiling_height'] >= 2.2, None)"
   ]
  },
  {
   "cell_type": "code",
   "execution_count": 7,
   "metadata": {},
   "outputs": [
    {
     "data": {
      "text/plain": [
       "9238"
      ]
     },
     "execution_count": 7,
     "metadata": {},
     "output_type": "execute_result"
    }
   ],
   "source": [
    "df['ceiling_height'].isna().sum()"
   ]
  },
  {
   "cell_type": "code",
   "execution_count": 8,
   "metadata": {},
   "outputs": [
    {
     "data": {
      "text/plain": [
       "0"
      ]
     },
     "execution_count": 8,
     "metadata": {},
     "output_type": "execute_result"
    }
   ],
   "source": [
    "df['ceiling_height'].fillna(df['ceiling_height'].median(), inplace=True)\n",
    "df['ceiling_height'].isna().sum()"
   ]
  },
  {
   "cell_type": "markdown",
   "metadata": {},
   "source": [
    "**Итого мы избавились от 43 экстремальных значений и заменили все пропуски на медиану**"
   ]
  },
  {
   "cell_type": "markdown",
   "metadata": {},
   "source": [
    "**Обратимся к столбцу \"floors_total\". В нём небольшое количество пропусков: всего 86. Количество этажей - довольно ограниченная величина, поэтому заполним её медианой, а там, где этаж квартиры больше медианы, присвоим значение этажа квартиры + 1.**"
   ]
  },
  {
   "cell_type": "code",
   "execution_count": 9,
   "metadata": {},
   "outputs": [
    {
     "data": {
      "text/plain": [
       "0"
      ]
     },
     "execution_count": 9,
     "metadata": {},
     "output_type": "execute_result"
    }
   ],
   "source": [
    "floors_median = df['floors_total'].median()\n",
    "df.loc[df['floor'] <= floors_median, 'floors_total'] = df.loc[\n",
    "    df['floor'] <= floors_median, 'floors_total'].fillna(floors_median)\n",
    "df.loc[(df['floor'] > floors_median) & (df['floors_total'].isna()), 'floors_total'] = df.loc[\n",
    "    (df['floor'] > floors_median) & (df['floors_total'].isna()), 'floor'] + 1\n",
    "df['floors_total'].isna().sum()"
   ]
  },
  {
   "cell_type": "markdown",
   "metadata": {},
   "source": [
    "**Обратимся к столбцам \"living_area\" и \"kitchen_area\". Проверим, существует ли аномалия, когда сумма площадей \"living_area\" и \"kitchen_area\" больше \"total_area\"**"
   ]
  },
  {
   "cell_type": "code",
   "execution_count": 10,
   "metadata": {},
   "outputs": [
    {
     "data": {
      "text/plain": [
       "64"
      ]
     },
     "execution_count": 10,
     "metadata": {},
     "output_type": "execute_result"
    }
   ],
   "source": [
    "len(df.query('living_area + kitchen_area > total_area'))"
   ]
  },
  {
   "cell_type": "markdown",
   "metadata": {},
   "source": [
    "**Обнаружено 64 подобных значения. Постараемся рассчитать медианную долю, которую занимает living_area и kitchen_area для квартир с различным количеством комнат. Проверим есть ли квартиры, где количество комнат равно 0.**"
   ]
  },
  {
   "cell_type": "code",
   "execution_count": 11,
   "metadata": {},
   "outputs": [
    {
     "data": {
      "text/plain": [
       "197"
      ]
     },
     "metadata": {},
     "output_type": "display_data"
    },
    {
     "data": {
      "text/plain": [
       "138"
      ]
     },
     "execution_count": 11,
     "metadata": {},
     "output_type": "execute_result"
    }
   ],
   "source": [
    "display(len(df.query('rooms == 0')))\n",
    "len(df.query('rooms == 0 and studio == True'))"
   ]
  },
  {
   "cell_type": "markdown",
   "metadata": {},
   "source": [
    "**Таких квартир 197 при этом подавляющее большинство из них помечены как студии (138). Квартиры совсем без комнат быть не может, поэтому заменим 0 на 1.**"
   ]
  },
  {
   "cell_type": "code",
   "execution_count": 12,
   "metadata": {},
   "outputs": [
    {
     "data": {
      "text/plain": [
       "0"
      ]
     },
     "execution_count": 12,
     "metadata": {},
     "output_type": "execute_result"
    }
   ],
   "source": [
    "df['rooms'] = df['rooms'].replace(0, 1)\n",
    "len(df.query('rooms == 0'))"
   ]
  },
  {
   "cell_type": "code",
   "execution_count": 13,
   "metadata": {},
   "outputs": [
    {
     "data": {
      "text/plain": [
       "156"
      ]
     },
     "metadata": {},
     "output_type": "display_data"
    },
    {
     "data": {
      "text/plain": [
       "0"
      ]
     },
     "metadata": {},
     "output_type": "display_data"
    },
    {
     "data": {
      "text/plain": [
       "0"
      ]
     },
     "metadata": {},
     "output_type": "display_data"
    },
    {
     "data": {
      "text/plain": [
       "0"
      ]
     },
     "execution_count": 13,
     "metadata": {},
     "output_type": "execute_result"
    }
   ],
   "source": [
    "# Считаем коэффицент для площади кухни и жилой площади\n",
    "pivot_total = df.pivot_table(index='rooms', values='total_area', aggfunc='median')\n",
    "pivot_living = df.pivot_table(index='rooms', values='living_area', aggfunc='median')\n",
    "pivot_kitchen = df.pivot_table(index='rooms', values='kitchen_area', aggfunc='median')\n",
    "living_coef = pivot_living['living_area'] / pivot_total['total_area']\n",
    "kitchen_coef = pivot_kitchen['kitchen_area'] / pivot_total['total_area']\n",
    "# Заменяем отсутствующие значения на произведение total_area на соответствующие коэффиценты\n",
    "df.loc[df['living_area'].isna(), 'living_area'] = df[df['living_area'].isna()].apply(\n",
    "    lambda x: living_coef[x['rooms']] * x['total_area'], axis=1\n",
    ")\n",
    "df.loc[df['kitchen_area'].isna(), 'kitchen_area'] = df[df['kitchen_area'].isna()].apply(\n",
    "    lambda x: kitchen_coef[x['rooms']] * x['total_area'], axis=1\n",
    ")\n",
    "# Проверяем появилась ли аномалия, когда сумма площадей \"living_area\" и \"kitchen_area\" больше \"total_area\".\n",
    "# Если появилась, устраняем, отнимая от total_area living_area.\n",
    "display(len(df.query('living_area + kitchen_area > total_area')))\n",
    "df.loc[(df['kitchen_area'] + df['living_area'] > df['total_area']), 'kitchen_area'] = df.loc[\n",
    "    (df['kitchen_area'] + df['living_area'] > df['total_area'])\n",
    "].apply(\n",
    "    lambda x: x['total_area'] - x['living_area'], axis=1\n",
    ")\n",
    "display(len(df.loc[df['living_area'].isna()]))\n",
    "display(len(df.loc[df['kitchen_area'].isna()]))\n",
    "len(df.query('living_area + kitchen_area > total_area'))\n"
   ]
  },
  {
   "cell_type": "markdown",
   "metadata": {},
   "source": [
    "**Заменили пропуски в столбцах living_area и kitchen_area на произведение total_area на соответствующие коэффиценты. Обработали аномалии.**"
   ]
  },
  {
   "cell_type": "markdown",
   "metadata": {},
   "source": [
    "**Обратимся к столбцам \"is_apartment\" и \"balcony\". Это столбцы с бинарными значениями. В столбце \"is_apartment\" критически много пропусков: 20924, в столбце \"balcony\" количество пропусков также весьма велико. Можно предположить, что в квартирах, где не описан параметр \"balcony\", балкон отсутствует, а квартиры, с пропущенным параметром \"is_apartment\" не являются аппартаментами. Исходя из этого, заполним пропуски в этих столбцах значением 0.**"
   ]
  },
  {
   "cell_type": "code",
   "execution_count": 14,
   "metadata": {},
   "outputs": [
    {
     "data": {
      "text/plain": [
       "0"
      ]
     },
     "metadata": {},
     "output_type": "display_data"
    },
    {
     "data": {
      "text/plain": [
       "0"
      ]
     },
     "execution_count": 14,
     "metadata": {},
     "output_type": "execute_result"
    }
   ],
   "source": [
    "df['is_apartment'].fillna(0, inplace=True)\n",
    "df['balcony'].fillna(0, inplace=True)\n",
    "display(df['is_apartment'].isna().sum())\n",
    "df['balcony'].isna().sum()"
   ]
  },
  {
   "cell_type": "markdown",
   "metadata": {},
   "source": [
    "**Столбцы \"days_exposition\", \"locality_name\" содержат критически важные для нас данные о длительности публикации объявления. Отсутствие данных в них может объясняться различными причинами: от технического сбоя, до того, что на момент выгрузки объявление ещё не снято с продажи. Для заполнения отсутствующих значений сложно придумать какой-либо логичный алгоритм, так как слишком много факторов может влиять на время снятия объявления с публикации, а название места также тяжело предсказать. Поэтому мы удалим строки, в которых отсутствуют эти данные.**"
   ]
  },
  {
   "cell_type": "code",
   "execution_count": 15,
   "metadata": {},
   "outputs": [
    {
     "data": {
      "text/plain": [
       "0"
      ]
     },
     "metadata": {},
     "output_type": "display_data"
    },
    {
     "data": {
      "text/plain": [
       "0"
      ]
     },
     "execution_count": 15,
     "metadata": {},
     "output_type": "execute_result"
    }
   ],
   "source": [
    "df = df.dropna(subset=['days_exposition', 'locality_name'])\n",
    "display(df['days_exposition'].isna().sum())\n",
    "df['locality_name'].isna().sum()"
   ]
  },
  {
   "cell_type": "markdown",
   "metadata": {},
   "source": [
    "**Столбца с картографическими данными мы не сможем заполнить корректно, избежав при этом существенных искажений. Поэтому мы оставим пропуски в столбцах:**\n",
    "- airports_nearest,\n",
    "- cityCenters_nearest,\n",
    "- parks_around3000,\n",
    "- parks_nearest,\n",
    "- ponds_around3000,\n",
    "- ponds_nearest."
   ]
  },
  {
   "cell_type": "markdown",
   "metadata": {},
   "source": [
    "**Возможные причины, по которым отсутствует часть данных, добавляемых пользователями:**\n",
    "- пункты не являются или не являлись обязательными,\n",
    "- некорректно работает валидация данных на стороне фронтэнда или бэкэнда,\n",
    "- пользователи не понимают значение каких-то столбцов, поэтому оставляют их незаполненными (например, чем отличаются аппартаменты от квартиры).\n",
    "\n",
    "**Возможные причины, по которым отсутствует часть картаграфических данных:**\n",
    "- некорректно работают алгоритмы автоматического заполнения данных. Например не обрабатываются какие-то кейсы и вместо значения (наименование/расстояние/True/False) функция возвращает None"
   ]
  },
  {
   "cell_type": "markdown",
   "metadata": {},
   "source": [
    "### Корректировка типов данных"
   ]
  },
  {
   "cell_type": "markdown",
   "metadata": {},
   "source": [
    "**Преобразуем данные в столбцах 'floors_total', 'balcony' и 'days_exposition' в тип int (эти данные могут быть только целыми), в столбце 'is_apartment' - в тип bool (столбец содержит только True/False значения), в столбце 'first_day_exposition' в тип datetime. Это позволит нам более комфортно работать с данными на этапе анализа.**"
   ]
  },
  {
   "cell_type": "code",
   "execution_count": 16,
   "metadata": {
    "scrolled": false
   },
   "outputs": [
    {
     "name": "stdout",
     "output_type": "stream",
     "text": [
      "<class 'pandas.core.frame.DataFrame'>\n",
      "Int64Index: 20470 entries, 1 to 23697\n",
      "Data columns (total 22 columns):\n",
      " #   Column                Non-Null Count  Dtype         \n",
      "---  ------                --------------  -----         \n",
      " 0   total_images          20470 non-null  int64         \n",
      " 1   last_price            20470 non-null  float64       \n",
      " 2   total_area            20470 non-null  float64       \n",
      " 3   first_day_exposition  20470 non-null  datetime64[ns]\n",
      " 4   rooms                 20470 non-null  int64         \n",
      " 5   ceiling_height        20470 non-null  float64       \n",
      " 6   floors_total          20470 non-null  int64         \n",
      " 7   living_area           20470 non-null  float64       \n",
      " 8   floor                 20470 non-null  int64         \n",
      " 9   is_apartment          20470 non-null  bool          \n",
      " 10  studio                20470 non-null  bool          \n",
      " 11  open_plan             20470 non-null  bool          \n",
      " 12  kitchen_area          20470 non-null  float64       \n",
      " 13  balcony               20470 non-null  int64         \n",
      " 14  locality_name         20470 non-null  object        \n",
      " 15  airports_nearest      15802 non-null  float64       \n",
      " 16  cityCenters_nearest   15824 non-null  float64       \n",
      " 17  parks_around3000      15824 non-null  float64       \n",
      " 18  parks_nearest         6919 non-null   float64       \n",
      " 19  ponds_around3000      15824 non-null  float64       \n",
      " 20  ponds_nearest         7869 non-null   float64       \n",
      " 21  days_exposition       20470 non-null  int64         \n",
      "dtypes: bool(3), datetime64[ns](1), float64(11), int64(6), object(1)\n",
      "memory usage: 3.2+ MB\n"
     ]
    }
   ],
   "source": [
    "df = df.astype({\n",
    "    'floors_total': 'int',\n",
    "    'is_apartment': 'bool',\n",
    "    'balcony': 'int',\n",
    "    'days_exposition': 'int'\n",
    "})\n",
    "df['first_day_exposition'] = pd.to_datetime(df['first_day_exposition'], format='%Y-%m-%dT%H:%M:%S')\n",
    "df.info()\n"
   ]
  },
  {
   "cell_type": "markdown",
   "metadata": {},
   "source": [
    "### Устранение неявных дубликатов"
   ]
  },
  {
   "cell_type": "markdown",
   "metadata": {},
   "source": [
    "**Проверим, присутствуют ли в выборке явные дубликаты.**"
   ]
  },
  {
   "cell_type": "code",
   "execution_count": 17,
   "metadata": {},
   "outputs": [
    {
     "data": {
      "text/plain": [
       "0"
      ]
     },
     "execution_count": 17,
     "metadata": {},
     "output_type": "execute_result"
    }
   ],
   "source": [
    "df.duplicated().sum()"
   ]
  },
  {
   "cell_type": "markdown",
   "metadata": {},
   "source": [
    "**Явные дубликаты не обнаружены**"
   ]
  },
  {
   "cell_type": "markdown",
   "metadata": {},
   "source": [
    "**Большая часть неявных дубликатов связана с различными вариантами написания характеристик населённых пунктов, например, \"поселок\" и \"посёлок\". Удалим всё, кроме непосредственно названий мест.**"
   ]
  },
  {
   "cell_type": "code",
   "execution_count": 18,
   "metadata": {},
   "outputs": [
    {
     "name": "stdout",
     "output_type": "stream",
     "text": [
      "330\n"
     ]
    },
    {
     "data": {
      "text/plain": [
       "281"
      ]
     },
     "execution_count": 18,
     "metadata": {},
     "output_type": "execute_result"
    }
   ],
   "source": [
    "print(len(df['locality_name'].unique()))\n",
    "replace_list = [\n",
    "    'деревня ', 'поселок ', 'посёлок ',\n",
    "    'посёлок городского типа ', 'городского типа ', 'коттеджный посёлок ',\n",
    "    'коттеджный поселок ', 'село ', 'городской ', 'коттеджный ', 'садовое товарищество ',\n",
    "    'станции ', 'садоводческое некоммерческое товарищество ', 'при железнодорожной '\n",
    "]\n",
    "df['locality_name'] = df['locality_name'].replace(replace_list, '', regex=True)\n",
    "len(df['locality_name'].unique())"
   ]
  },
  {
   "cell_type": "markdown",
   "metadata": {},
   "source": [
    "**Проанализируем столбцы на предмет аномальных значений. Выше мы уже скорректировали некоторые аномальные значения в столбцах, описывающих высоту потолков и жилые и кухонные площади. Однако у нас есть ещё один критичный столбец для анализа: стоимость квартир. Посмотри на наличие в нём выбросов с помощью диаграммы размаха**"
   ]
  },
  {
   "cell_type": "code",
   "execution_count": 19,
   "metadata": {},
   "outputs": [
    {
     "data": {
      "image/png": "[encoded data removed]",
      "text/plain": [
       "<Figure size 432x288 with 1 Axes>"
      ]
     },
     "metadata": {
      "needs_background": "light"
     },
     "output_type": "display_data"
    },
    {
     "data": {
      "image/png": "[encoded data removed]",
      "text/plain": [
       "<Figure size 432x288 with 1 Axes>"
      ]
     },
     "metadata": {
      "needs_background": "light"
     },
     "output_type": "display_data"
    }
   ],
   "source": [
    "import matplotlib.pyplot as plt\n",
    "df.boxplot(column='last_price')\n",
    "plt.show()\n",
    "plt.ylim(70000, 100000000)\n",
    "df.boxplot(column='last_price')\n",
    "plt.show()"
   ]
  },
  {
   "cell_type": "markdown",
   "metadata": {},
   "source": [
    "**Как мы можем заметить, на данных диаграммах присутствует определённое количество аномально больших цен. Эти цены вполне могут быть реальными, однако их экстремальные значения могут негативно сказаться на результатах последующего анализа, исказив данные. Удалим аномальные значения цены, которое меньше 40 000 руб или больше 50 000 000 руб.**"
   ]
  },
  {
   "cell_type": "code",
   "execution_count": 20,
   "metadata": {},
   "outputs": [
    {
     "data": {
      "image/png": "[encoded data removed]",
      "text/plain": [
       "<Figure size 432x288 with 1 Axes>"
      ]
     },
     "metadata": {
      "needs_background": "light"
     },
     "output_type": "display_data"
    }
   ],
   "source": [
    "df = df[(df.last_price > 40000) & (df.last_price < 50000000)]\n",
    "df.boxplot(column='last_price')\n",
    "plt.show()"
   ]
  },
  {
   "cell_type": "markdown",
   "metadata": {},
   "source": [
    "**В результате этого этапа мы заменили пропуски в пользовательских данных, часть данных с пропусками в столбцах days_exposition и locality_name была удалена, так как в них содержится относительно несущественное количество данных, которые крайне сложно корректно заменить. Были скорректированы данные в столбцах living_area и kitchen_area, которые в сумме превышали значение столбца total_area, также были заменены аномальные значения в столбце ceiling_height, и исключены столбцы с аномально высокой или низкой стоимостью квартир. Явных дубликатов не было обнаружено. Неявные дубликаты в столбце locality_name исключены, количество уникальных строк сократилось с 330 до 281.**"
   ]
  },
  {
   "cell_type": "markdown",
   "metadata": {},
   "source": [
    "## Посчитайте и добавьте в таблицу новые столбцы"
   ]
  },
  {
   "cell_type": "markdown",
   "metadata": {},
   "source": [
    "**Добавим в таблицу следующие столбцы:**\n",
    "- 'sq_metre_price' - цена одного квадратного метра\n",
    "- 'day_exposition' - день публикации объявления (0 - понедельник, 1 - вторник и т.д.)\n",
    "- 'month_exposition' - месяц публикации объявления\n",
    "- 'year_exposition' - год публикации объявления\n",
    "- 'floor_category' - тип этажа квартиры (значения — «первый», «последний», «другой»)\n",
    "- 'cityCenters_km' -  расстояние в км до центра города"
   ]
  },
  {
   "cell_type": "code",
   "execution_count": 21,
   "metadata": {},
   "outputs": [
    {
     "data": {
      "text/html": [
       "<div>\n",
       "<style scoped>\n",
       "    .dataframe tbody tr th:only-of-type {\n",
       "        vertical-align: middle;\n",
       "    }\n",
       "\n",
       "    .dataframe tbody tr th {\n",
       "        vertical-align: top;\n",
       "    }\n",
       "\n",
       "    .dataframe thead th {\n",
       "        text-align: right;\n",
       "    }\n",
       "</style>\n",
       "<table border=\"1\" class=\"dataframe\">\n",
       "  <thead>\n",
       "    <tr style=\"text-align: right;\">\n",
       "      <th></th>\n",
       "      <th>total_images</th>\n",
       "      <th>last_price</th>\n",
       "      <th>total_area</th>\n",
       "      <th>first_day_exposition</th>\n",
       "      <th>rooms</th>\n",
       "      <th>ceiling_height</th>\n",
       "      <th>floors_total</th>\n",
       "      <th>living_area</th>\n",
       "      <th>floor</th>\n",
       "      <th>is_apartment</th>\n",
       "      <th>...</th>\n",
       "      <th>parks_nearest</th>\n",
       "      <th>ponds_around3000</th>\n",
       "      <th>ponds_nearest</th>\n",
       "      <th>days_exposition</th>\n",
       "      <th>sq_metre_price</th>\n",
       "      <th>day_exposition</th>\n",
       "      <th>month_exposition</th>\n",
       "      <th>year_exposition</th>\n",
       "      <th>floor_category</th>\n",
       "      <th>cityCenters_km</th>\n",
       "    </tr>\n",
       "  </thead>\n",
       "  <tbody>\n",
       "    <tr>\n",
       "      <th>1</th>\n",
       "      <td>7</td>\n",
       "      <td>3350000.0</td>\n",
       "      <td>40.4</td>\n",
       "      <td>2018-12-04</td>\n",
       "      <td>1</td>\n",
       "      <td>2.65</td>\n",
       "      <td>11</td>\n",
       "      <td>18.6</td>\n",
       "      <td>1</td>\n",
       "      <td>False</td>\n",
       "      <td>...</td>\n",
       "      <td>NaN</td>\n",
       "      <td>0.0</td>\n",
       "      <td>NaN</td>\n",
       "      <td>81</td>\n",
       "      <td>82920.792079</td>\n",
       "      <td>1</td>\n",
       "      <td>12</td>\n",
       "      <td>2018</td>\n",
       "      <td>первый</td>\n",
       "      <td>18.0</td>\n",
       "    </tr>\n",
       "    <tr>\n",
       "      <th>2</th>\n",
       "      <td>10</td>\n",
       "      <td>5196000.0</td>\n",
       "      <td>56.0</td>\n",
       "      <td>2015-08-20</td>\n",
       "      <td>2</td>\n",
       "      <td>2.65</td>\n",
       "      <td>5</td>\n",
       "      <td>34.3</td>\n",
       "      <td>4</td>\n",
       "      <td>False</td>\n",
       "      <td>...</td>\n",
       "      <td>90.0</td>\n",
       "      <td>2.0</td>\n",
       "      <td>574.0</td>\n",
       "      <td>558</td>\n",
       "      <td>92785.714286</td>\n",
       "      <td>3</td>\n",
       "      <td>8</td>\n",
       "      <td>2015</td>\n",
       "      <td>другой</td>\n",
       "      <td>13.0</td>\n",
       "    </tr>\n",
       "    <tr>\n",
       "      <th>4</th>\n",
       "      <td>2</td>\n",
       "      <td>10000000.0</td>\n",
       "      <td>100.0</td>\n",
       "      <td>2018-06-19</td>\n",
       "      <td>2</td>\n",
       "      <td>3.03</td>\n",
       "      <td>14</td>\n",
       "      <td>32.0</td>\n",
       "      <td>13</td>\n",
       "      <td>False</td>\n",
       "      <td>...</td>\n",
       "      <td>112.0</td>\n",
       "      <td>1.0</td>\n",
       "      <td>48.0</td>\n",
       "      <td>121</td>\n",
       "      <td>100000.000000</td>\n",
       "      <td>1</td>\n",
       "      <td>6</td>\n",
       "      <td>2018</td>\n",
       "      <td>другой</td>\n",
       "      <td>8.0</td>\n",
       "    </tr>\n",
       "    <tr>\n",
       "      <th>5</th>\n",
       "      <td>10</td>\n",
       "      <td>2890000.0</td>\n",
       "      <td>30.4</td>\n",
       "      <td>2018-09-10</td>\n",
       "      <td>1</td>\n",
       "      <td>2.65</td>\n",
       "      <td>12</td>\n",
       "      <td>14.4</td>\n",
       "      <td>5</td>\n",
       "      <td>False</td>\n",
       "      <td>...</td>\n",
       "      <td>NaN</td>\n",
       "      <td>NaN</td>\n",
       "      <td>NaN</td>\n",
       "      <td>55</td>\n",
       "      <td>95065.789474</td>\n",
       "      <td>0</td>\n",
       "      <td>9</td>\n",
       "      <td>2018</td>\n",
       "      <td>другой</td>\n",
       "      <td>NaN</td>\n",
       "    </tr>\n",
       "    <tr>\n",
       "      <th>6</th>\n",
       "      <td>6</td>\n",
       "      <td>3700000.0</td>\n",
       "      <td>37.3</td>\n",
       "      <td>2017-11-02</td>\n",
       "      <td>1</td>\n",
       "      <td>2.65</td>\n",
       "      <td>26</td>\n",
       "      <td>10.6</td>\n",
       "      <td>6</td>\n",
       "      <td>False</td>\n",
       "      <td>...</td>\n",
       "      <td>NaN</td>\n",
       "      <td>0.0</td>\n",
       "      <td>NaN</td>\n",
       "      <td>155</td>\n",
       "      <td>99195.710456</td>\n",
       "      <td>3</td>\n",
       "      <td>11</td>\n",
       "      <td>2017</td>\n",
       "      <td>другой</td>\n",
       "      <td>19.0</td>\n",
       "    </tr>\n",
       "  </tbody>\n",
       "</table>\n",
       "<p>5 rows × 28 columns</p>\n",
       "</div>"
      ],
      "text/plain": [
       "   total_images  last_price  total_area first_day_exposition  rooms  \\\n",
       "1             7   3350000.0        40.4           2018-12-04      1   \n",
       "2            10   5196000.0        56.0           2015-08-20      2   \n",
       "4             2  10000000.0       100.0           2018-06-19      2   \n",
       "5            10   2890000.0        30.4           2018-09-10      1   \n",
       "6             6   3700000.0        37.3           2017-11-02      1   \n",
       "\n",
       "   ceiling_height  floors_total  living_area  floor  is_apartment  ...  \\\n",
       "1            2.65            11         18.6      1         False  ...   \n",
       "2            2.65             5         34.3      4         False  ...   \n",
       "4            3.03            14         32.0     13         False  ...   \n",
       "5            2.65            12         14.4      5         False  ...   \n",
       "6            2.65            26         10.6      6         False  ...   \n",
       "\n",
       "   parks_nearest  ponds_around3000  ponds_nearest  days_exposition  \\\n",
       "1            NaN               0.0            NaN               81   \n",
       "2           90.0               2.0          574.0              558   \n",
       "4          112.0               1.0           48.0              121   \n",
       "5            NaN               NaN            NaN               55   \n",
       "6            NaN               0.0            NaN              155   \n",
       "\n",
       "  sq_metre_price  day_exposition  month_exposition  year_exposition  \\\n",
       "1   82920.792079               1                12             2018   \n",
       "2   92785.714286               3                 8             2015   \n",
       "4  100000.000000               1                 6             2018   \n",
       "5   95065.789474               0                 9             2018   \n",
       "6   99195.710456               3                11             2017   \n",
       "\n",
       "   floor_category  cityCenters_km  \n",
       "1          первый            18.0  \n",
       "2          другой            13.0  \n",
       "4          другой             8.0  \n",
       "5          другой             NaN  \n",
       "6          другой            19.0  \n",
       "\n",
       "[5 rows x 28 columns]"
      ]
     },
     "execution_count": 21,
     "metadata": {},
     "output_type": "execute_result"
    }
   ],
   "source": [
    "df['sq_metre_price'] = df['last_price'] / df['total_area']\n",
    "df['day_exposition'] = pd.DatetimeIndex(df['first_day_exposition']).dayofweek\n",
    "df['month_exposition'] = pd.DatetimeIndex(df['first_day_exposition']).month\n",
    "df['year_exposition'] = pd.DatetimeIndex(df['first_day_exposition']).year\n",
    "def categorize_floor(line):\n",
    "    if line['floor'] == 1:\n",
    "        return 'первый'\n",
    "    elif line['floor'] == line['floors_total']:\n",
    "        return 'последний'\n",
    "    else:\n",
    "        return 'другой'\n",
    "df['floor_category'] = df.apply(categorize_floor, axis=1)\n",
    "df['cityCenters_km'] = df['cityCenters_nearest'] // 1000\n",
    "df.head()"
   ]
  },
  {
   "cell_type": "markdown",
   "metadata": {},
   "source": [
    "## Проведите исследовательский анализ данных"
   ]
  },
  {
   "cell_type": "markdown",
   "metadata": {},
   "source": [
    "### Изучим отдельные ячейки таблицы"
   ]
  },
  {
   "cell_type": "markdown",
   "metadata": {},
   "source": [
    "#### Общая площадь"
   ]
  },
  {
   "cell_type": "code",
   "execution_count": 22,
   "metadata": {},
   "outputs": [
    {
     "data": {
      "image/png": "[encoded data removed]",
      "text/plain": [
       "<Figure size 432x288 with 1 Axes>"
      ]
     },
     "metadata": {
      "needs_background": "light"
     },
     "output_type": "display_data"
    }
   ],
   "source": [
    "df['total_area'].hist(bins=100);"
   ]
  },
  {
   "cell_type": "code",
   "execution_count": 23,
   "metadata": {
    "scrolled": true
   },
   "outputs": [
    {
     "data": {
      "image/png": "[encoded data removed]",
      "text/plain": [
       "<Figure size 432x288 with 1 Axes>"
      ]
     },
     "metadata": {
      "needs_background": "light"
     },
     "output_type": "display_data"
    }
   ],
   "source": [
    "df['total_area'].hist(bins=100, range=(20, 100));"
   ]
  },
  {
   "cell_type": "markdown",
   "metadata": {},
   "source": [
    "**Исходя из гистограммы подавляющее большинство квартир имеют общую площадь от 30 до 100 метров. Лишь единицы квартир находятся в диапазоне < 20 / > 100. Есть квартира с рекордной площадью ~ 500 метров квадратных. Самое частое значение - ~45 м.**"
   ]
  },
  {
   "cell_type": "markdown",
   "metadata": {},
   "source": [
    "#### Жилая площадь"
   ]
  },
  {
   "cell_type": "code",
   "execution_count": 24,
   "metadata": {
    "scrolled": true
   },
   "outputs": [
    {
     "data": {
      "image/png": "[encoded data removed]",
      "text/plain": [
       "<Figure size 432x288 with 1 Axes>"
      ]
     },
     "metadata": {
      "needs_background": "light"
     },
     "output_type": "display_data"
    }
   ],
   "source": [
    "df['living_area'].hist(bins=100);"
   ]
  },
  {
   "cell_type": "code",
   "execution_count": 25,
   "metadata": {
    "scrolled": true
   },
   "outputs": [
    {
     "data": {
      "image/png": "[encoded data removed]",
      "text/plain": [
       "<Figure size 432x288 with 1 Axes>"
      ]
     },
     "metadata": {
      "needs_background": "light"
     },
     "output_type": "display_data"
    }
   ],
   "source": [
    "df['living_area'].hist(bins=100, range=(1, 100));"
   ]
  },
  {
   "cell_type": "markdown",
   "metadata": {},
   "source": [
    "**Исходя из гистограммы подавляющее большинство квартир имеют жилую площадь от 15 до 60 метров. Лишь единицы квартир находятся в диапазоне < 15 / > 60. Есть квартира с рекордной жилой площадью ~ 400 метров квадратных. Самое частое значение - ~18 м.**"
   ]
  },
  {
   "cell_type": "markdown",
   "metadata": {},
   "source": [
    "#### Площадь кухни"
   ]
  },
  {
   "cell_type": "code",
   "execution_count": 26,
   "metadata": {
    "scrolled": true
   },
   "outputs": [
    {
     "data": {
      "image/png": "[encoded data removed]",
      "text/plain": [
       "<Figure size 432x288 with 1 Axes>"
      ]
     },
     "metadata": {
      "needs_background": "light"
     },
     "output_type": "display_data"
    }
   ],
   "source": [
    "df['kitchen_area'].hist(bins=100);"
   ]
  },
  {
   "cell_type": "code",
   "execution_count": 27,
   "metadata": {
    "scrolled": true
   },
   "outputs": [
    {
     "data": {
      "image/png": "[encoded data removed]",
      "text/plain": [
       "<Figure size 432x288 with 1 Axes>"
      ]
     },
     "metadata": {
      "needs_background": "light"
     },
     "output_type": "display_data"
    }
   ],
   "source": [
    "df['kitchen_area'].hist(bins=100, range=(1, 30));"
   ]
  },
  {
   "cell_type": "markdown",
   "metadata": {},
   "source": [
    "**Исходя из гистограммы подавляющее большинство квартир имеют площадь кухни от 5 до 15 метров. Лишь единицы квартир находятся в диапазоне < 5 / > 15. Есть квартира с рекордной площадью кухни ~ 120 метров квадратных. Самое частое значение - ~ 6 м.**"
   ]
  },
  {
   "cell_type": "markdown",
   "metadata": {},
   "source": [
    "#### Цена объекта"
   ]
  },
  {
   "cell_type": "code",
   "execution_count": 28,
   "metadata": {
    "scrolled": true
   },
   "outputs": [
    {
     "data": {
      "image/png": "[encoded data removed]",
      "text/plain": [
       "<Figure size 432x288 with 1 Axes>"
      ]
     },
     "metadata": {
      "needs_background": "light"
     },
     "output_type": "display_data"
    }
   ],
   "source": [
    "df['last_price'].hist(bins=100);"
   ]
  },
  {
   "cell_type": "code",
   "execution_count": 29,
   "metadata": {},
   "outputs": [
    {
     "data": {
      "image/png": "[encoded data removed]",
      "text/plain": [
       "<Figure size 432x288 with 1 Axes>"
      ]
     },
     "metadata": {
      "needs_background": "light"
     },
     "output_type": "display_data"
    }
   ],
   "source": [
    "df['last_price'].hist(bins=100, range=(1, 10000000));"
   ]
  },
  {
   "cell_type": "code",
   "execution_count": 30,
   "metadata": {},
   "outputs": [
    {
     "data": {
      "text/plain": [
       "49968900.0"
      ]
     },
     "execution_count": 30,
     "metadata": {},
     "output_type": "execute_result"
    }
   ],
   "source": [
    "df['last_price'].max()"
   ]
  },
  {
   "cell_type": "markdown",
   "metadata": {},
   "source": [
    "**Исходя из гистограммы подавляющее большинство квартир продавались за стоимось в диапазоне от 1.5 млн. руб. до 10 млн. руб. Однако на графике мы можем наблюдать и цены менее 1 млн. / более 10. Самое частое значение - ~ 4 млн. руб.**"
   ]
  },
  {
   "cell_type": "markdown",
   "metadata": {},
   "source": [
    "#### Количество комнат"
   ]
  },
  {
   "cell_type": "code",
   "execution_count": 31,
   "metadata": {},
   "outputs": [
    {
     "data": {
      "image/png": "[encoded data removed]",
      "text/plain": [
       "<Figure size 432x288 with 1 Axes>"
      ]
     },
     "metadata": {
      "needs_background": "light"
     },
     "output_type": "display_data"
    }
   ],
   "source": [
    "df['rooms'].hist(bins=30);"
   ]
  },
  {
   "cell_type": "code",
   "execution_count": 32,
   "metadata": {},
   "outputs": [
    {
     "data": {
      "text/plain": [
       "19"
      ]
     },
     "execution_count": 32,
     "metadata": {},
     "output_type": "execute_result"
    }
   ],
   "source": [
    "df['rooms'].max()"
   ]
  },
  {
   "cell_type": "markdown",
   "metadata": {},
   "source": [
    "**Исходя из гистограммы больше всего квартир имеют одну комнату. На втором месте двухкомнатные квартиры, их в выборке чуть меньше 7 000, 3 место занимают трёхкомнатные квартиры. Есть также и единичные квартиры с количеством комнат до 19.**"
   ]
  },
  {
   "cell_type": "markdown",
   "metadata": {},
   "source": [
    "#### Высота потолков"
   ]
  },
  {
   "cell_type": "code",
   "execution_count": 33,
   "metadata": {},
   "outputs": [
    {
     "data": {
      "image/png": "[encoded data removed]",
      "text/plain": [
       "<Figure size 432x288 with 1 Axes>"
      ]
     },
     "metadata": {
      "needs_background": "light"
     },
     "output_type": "display_data"
    }
   ],
   "source": [
    "df['ceiling_height'].hist(bins=30);"
   ]
  },
  {
   "cell_type": "markdown",
   "metadata": {},
   "source": [
    "**Подавляющее число квартир имеет высоту потолка в диапазоне от 2.4 до 2.7 м. с пиком в 2.6 м. Есть и квартиры с более высокими потолками вплоть до ~ 6 м., однако их единицы.**"
   ]
  },
  {
   "cell_type": "markdown",
   "metadata": {},
   "source": [
    "#### Этаж квартиры"
   ]
  },
  {
   "cell_type": "code",
   "execution_count": 34,
   "metadata": {},
   "outputs": [
    {
     "data": {
      "image/png": "[encoded data removed]",
      "text/plain": [
       "<Figure size 432x288 with 1 Axes>"
      ]
     },
     "metadata": {
      "needs_background": "light"
     },
     "output_type": "display_data"
    }
   ],
   "source": [
    "df['floor'].hist(bins=50);"
   ]
  },
  {
   "cell_type": "markdown",
   "metadata": {},
   "source": [
    "**Наибольшее число квартир в выборке находится на 2-м этаже, далее идут квартиры на 3-м, 1-м, 4-м и 5-м этажах по убыванию числа квартир. Самый высокий этаж, на котором располагаются квартиры в выборке - 33-й.**"
   ]
  },
  {
   "cell_type": "markdown",
   "metadata": {},
   "source": [
    "#### Тип этажа квартиры («первый», «последний», «другой»)"
   ]
  },
  {
   "cell_type": "code",
   "execution_count": 35,
   "metadata": {},
   "outputs": [
    {
     "data": {
      "image/png": "[encoded data removed]",
      "text/plain": [
       "<Figure size 432x288 with 1 Axes>"
      ]
     },
     "metadata": {
      "needs_background": "light"
     },
     "output_type": "display_data"
    }
   ],
   "source": [
    "df['floor_category'].hist(bins=3);"
   ]
  },
  {
   "cell_type": "code",
   "execution_count": 36,
   "metadata": {},
   "outputs": [
    {
     "data": {
      "text/plain": [
       "другой       15108\n",
       "последний     2791\n",
       "первый        2463\n",
       "Name: floor_category, dtype: int64"
      ]
     },
     "execution_count": 36,
     "metadata": {},
     "output_type": "execute_result"
    }
   ],
   "source": [
    "df['floor_category'].value_counts()"
   ]
  },
  {
   "cell_type": "markdown",
   "metadata": {},
   "source": [
    "**Большая часть квартир расположена в категории этажа \"другой\", квартиры на первом и последнем этаже близки по количеству в выборке, однако квартир на последнем этаже всё-таки на 352 больше.**"
   ]
  },
  {
   "cell_type": "markdown",
   "metadata": {},
   "source": [
    "#### Общее количество этажей в доме"
   ]
  },
  {
   "cell_type": "code",
   "execution_count": 37,
   "metadata": {},
   "outputs": [
    {
     "data": {
      "image/png": "[encoded data removed]",
      "text/plain": [
       "<Figure size 432x288 with 1 Axes>"
      ]
     },
     "metadata": {
      "needs_background": "light"
     },
     "output_type": "display_data"
    }
   ],
   "source": [
    "df['floors_total'].hist(bins=30);"
   ]
  },
  {
   "cell_type": "code",
   "execution_count": 38,
   "metadata": {},
   "outputs": [
    {
     "data": {
      "image/png": "[encoded data removed]",
      "text/plain": [
       "<Figure size 432x288 with 1 Axes>"
      ]
     },
     "metadata": {
      "needs_background": "light"
     },
     "output_type": "display_data"
    }
   ],
   "source": [
    "df['floors_total'].hist(bins=30, range=(1, 30));"
   ]
  },
  {
   "cell_type": "markdown",
   "metadata": {},
   "source": [
    "**Подавляющее большинство квартир расположены в домах с 5 этажами, на втором месте - девятиэтажки, далее 12 и 16 этажей. Есть 1 кейс квартиры в 60-ти этажном доме. Основной диапазон - от 3 до 25 этажей.**"
   ]
  },
  {
   "cell_type": "markdown",
   "metadata": {},
   "source": [
    "#### Расстояние до центра города в метрах"
   ]
  },
  {
   "cell_type": "code",
   "execution_count": 39,
   "metadata": {},
   "outputs": [
    {
     "data": {
      "image/png": "[encoded data removed]",
      "text/plain": [
       "<Figure size 432x288 with 1 Axes>"
      ]
     },
     "metadata": {
      "needs_background": "light"
     },
     "output_type": "display_data"
    }
   ],
   "source": [
    "df['cityCenters_nearest'].hist(bins=30);"
   ]
  },
  {
   "cell_type": "markdown",
   "metadata": {},
   "source": [
    "**Пик значений приходится примерно на 11 000 метров, основной разброс значений находится между примерно 1 000 и 30 000 метров.**"
   ]
  },
  {
   "cell_type": "markdown",
   "metadata": {},
   "source": [
    "#### Расстояние до ближайшего аэропорта"
   ]
  },
  {
   "cell_type": "code",
   "execution_count": 40,
   "metadata": {},
   "outputs": [
    {
     "data": {
      "image/png": "[encoded data removed]",
      "text/plain": [
       "<Figure size 432x288 with 1 Axes>"
      ]
     },
     "metadata": {
      "needs_background": "light"
     },
     "output_type": "display_data"
    }
   ],
   "source": [
    "df['airports_nearest'].hist(bins=30);"
   ]
  },
  {
   "cell_type": "markdown",
   "metadata": {},
   "source": [
    "**Пик значений приходится примерно на 19 000 м. и 22 000 м., основной разброс значений находится между примерно 10 000 и 52 000 метров.**"
   ]
  },
  {
   "cell_type": "markdown",
   "metadata": {},
   "source": [
    "#### Расстояние до ближайшего парка"
   ]
  },
  {
   "cell_type": "code",
   "execution_count": 41,
   "metadata": {
    "scrolled": true
   },
   "outputs": [
    {
     "data": {
      "image/png": "[encoded data removed]",
      "text/plain": [
       "<Figure size 432x288 with 1 Axes>"
      ]
     },
     "metadata": {
      "needs_background": "light"
     },
     "output_type": "display_data"
    }
   ],
   "source": [
    "df['parks_nearest'].hist(bins=30);"
   ]
  },
  {
   "cell_type": "markdown",
   "metadata": {},
   "source": [
    "**Пик значений приходится примерно на 500 м., основной разброс значений находится между примерно 150 и 800 метров.**"
   ]
  },
  {
   "cell_type": "markdown",
   "metadata": {},
   "source": [
    "#### День публикации объявления"
   ]
  },
  {
   "cell_type": "code",
   "execution_count": 42,
   "metadata": {
    "scrolled": true
   },
   "outputs": [
    {
     "data": {
      "image/png": "[encoded data removed]",
      "text/plain": [
       "<Figure size 432x288 with 1 Axes>"
      ]
     },
     "metadata": {
      "needs_background": "light"
     },
     "output_type": "display_data"
    }
   ],
   "source": [
    "df['day_exposition'].hist(bins=30);"
   ]
  },
  {
   "cell_type": "markdown",
   "metadata": {},
   "source": [
    "**Пик значений приходится на четверг, однако распределение по будним дням в целом скорее равномерное. Существенный спад в публикациях наблюдается в выходные дни.**"
   ]
  },
  {
   "cell_type": "markdown",
   "metadata": {},
   "source": [
    "#### Месяц публикации объявления"
   ]
  },
  {
   "cell_type": "code",
   "execution_count": 43,
   "metadata": {
    "scrolled": true
   },
   "outputs": [
    {
     "data": {
      "image/png": "[encoded data removed]",
      "text/plain": [
       "<Figure size 432x288 with 1 Axes>"
      ]
     },
     "metadata": {
      "needs_background": "light"
     },
     "output_type": "display_data"
    }
   ],
   "source": [
    "df['month_exposition'].hist(bins=12);"
   ]
  },
  {
   "cell_type": "markdown",
   "metadata": {},
   "source": [
    "**Пик значений приходится на февраль, однако распределение по месяцам скорее равномерное. Заметные спады в публикациях наблюдается в январе, мае и декабре. Это может быть обусловлено большим количеством праздников в эти месяцы.** "
   ]
  },
  {
   "cell_type": "markdown",
   "metadata": {},
   "source": [
    "### Изучим, как быстро продавались квартиры."
   ]
  },
  {
   "cell_type": "code",
   "execution_count": 44,
   "metadata": {},
   "outputs": [
    {
     "data": {
      "image/png": "[encoded data removed]",
      "text/plain": [
       "<Figure size 432x288 with 1 Axes>"
      ]
     },
     "metadata": {
      "needs_background": "light"
     },
     "output_type": "display_data"
    }
   ],
   "source": [
    "df['days_exposition'].hist(bins=50);"
   ]
  },
  {
   "cell_type": "code",
   "execution_count": 45,
   "metadata": {},
   "outputs": [
    {
     "data": {
      "image/png": "[encoded data removed]",
      "text/plain": [
       "<Figure size 432x288 with 1 Axes>"
      ]
     },
     "metadata": {
      "needs_background": "light"
     },
     "output_type": "display_data"
    }
   ],
   "source": [
    "df['days_exposition'].hist(bins=100, range=(1, 450));"
   ]
  },
  {
   "cell_type": "code",
   "execution_count": 46,
   "metadata": {},
   "outputs": [
    {
     "data": {
      "text/plain": [
       "count    20362.000000\n",
       "mean       180.001817\n",
       "std        219.211037\n",
       "min          1.000000\n",
       "25%         45.000000\n",
       "50%         95.000000\n",
       "75%        230.000000\n",
       "max       1580.000000\n",
       "Name: days_exposition, dtype: float64"
      ]
     },
     "execution_count": 46,
     "metadata": {},
     "output_type": "execute_result"
    }
   ],
   "source": [
    "df['days_exposition'].describe()"
   ]
  },
  {
   "cell_type": "markdown",
   "metadata": {},
   "source": [
    "**Чаще всего в выборке данных встречается длительность продажи квартиры в 45 дней, это число дней также является первым квартилем. Всё, что меньше 45 дней, соответственно, можно назвать аномально быстрой скоростью продажи. Медианное значение при этом - 95, а среднее - 181. Среднее почти в 2 раза больше медианы, это можно объяснить тем, что в выборке присутствуют необычно долгие значения вплоть до 1580 дней. Межквартильный размах (значения от 45 до 230 дней) можно назвать нормальным временем продажи, а всё выше третьего квартиля (230 дней) можно считать аномально долгой продажей.**"
   ]
  },
  {
   "cell_type": "markdown",
   "metadata": {},
   "source": [
    "### Какие факторы больше всего влияют на общую (полную) стоимость объекта?"
   ]
  },
  {
   "cell_type": "markdown",
   "metadata": {},
   "source": [
    "**Построим диаграммы рассеяния для каждого типа зависимостей**"
   ]
  },
  {
   "cell_type": "code",
   "execution_count": 47,
   "metadata": {},
   "outputs": [
    {
     "data": {
      "text/plain": [
       "0.7823573937570751"
      ]
     },
     "metadata": {},
     "output_type": "display_data"
    },
    {
     "name": "stderr",
     "output_type": "stream",
     "text": [
      "/opt/conda/lib/python3.9/site-packages/pandas/plotting/_matplotlib/core.py:1041: UserWarning: No data for colormapping provided via 'c'. Parameters 'cmap' will be ignored\n",
      "  scatter = ax.scatter(\n"
     ]
    },
    {
     "data": {
      "image/png": "[encoded data removed]",
      "text/plain": [
       "<Figure size 432x288 with 1 Axes>"
      ]
     },
     "metadata": {
      "needs_background": "light"
     },
     "output_type": "display_data"
    }
   ],
   "source": [
    "display(df['total_area'].corr(df['last_price']))\n",
    "df.plot(x='total_area', y='last_price', kind='scatter', alpha=0.3);"
   ]
  },
  {
   "cell_type": "code",
   "execution_count": 48,
   "metadata": {},
   "outputs": [
    {
     "data": {
      "text/plain": [
       "0.6914833598833038"
      ]
     },
     "metadata": {},
     "output_type": "display_data"
    },
    {
     "data": {
      "image/png": "[encoded data removed]",
      "text/plain": [
       "<Figure size 432x288 with 1 Axes>"
      ]
     },
     "metadata": {
      "needs_background": "light"
     },
     "output_type": "display_data"
    }
   ],
   "source": [
    "display(df['living_area'].corr(df['last_price']))\n",
    "df.plot(x='living_area', y='last_price', kind='scatter', alpha=0.3);"
   ]
  },
  {
   "cell_type": "code",
   "execution_count": 49,
   "metadata": {},
   "outputs": [
    {
     "data": {
      "text/plain": [
       "0.6076100251053053"
      ]
     },
     "metadata": {},
     "output_type": "display_data"
    },
    {
     "data": {
      "image/png": "[encoded data removed]",
      "text/plain": [
       "<Figure size 432x288 with 1 Axes>"
      ]
     },
     "metadata": {
      "needs_background": "light"
     },
     "output_type": "display_data"
    }
   ],
   "source": [
    "display(df['kitchen_area'].corr(df['last_price']))\n",
    "df.plot(x='kitchen_area', y='last_price', kind='scatter', alpha=0.3);"
   ]
  },
  {
   "cell_type": "code",
   "execution_count": 60,
   "metadata": {},
   "outputs": [
    {
     "name": "stderr",
     "output_type": "stream",
     "text": [
      "/opt/conda/lib/python3.9/site-packages/pandas/plotting/_matplotlib/core.py:1041: UserWarning: No data for colormapping provided via 'c'. Parameters 'cmap' will be ignored\n",
      "  scatter = ax.scatter(\n"
     ]
    },
    {
     "data": {
      "image/png": "[encoded data removed]",
      "text/plain": [
       "<Figure size 432x288 with 1 Axes>"
      ]
     },
     "metadata": {
      "needs_background": "light"
     },
     "output_type": "display_data"
    }
   ],
   "source": [
    "rooms_pivot = df.pivot_table(index='rooms', values='last_price').reset_index()\n",
    "#display(rooms_pivot['rooms'].corr(rooms_pivot['last_price']))\n",
    "rooms_pivot.plot(x='rooms', y='last_price', kind='scatter');"
   ]
  },
  {
   "cell_type": "code",
   "execution_count": 51,
   "metadata": {
    "scrolled": true
   },
   "outputs": [
    {
     "name": "stderr",
     "output_type": "stream",
     "text": [
      "/opt/conda/lib/python3.9/site-packages/pandas/plotting/_matplotlib/core.py:1041: UserWarning: No data for colormapping provided via 'c'. Parameters 'cmap' will be ignored\n",
      "  scatter = ax.scatter(\n"
     ]
    },
    {
     "data": {
      "image/png": "[encoded data removed]",
      "text/plain": [
       "<Figure size 432x288 with 1 Axes>"
      ]
     },
     "metadata": {
      "needs_background": "light"
     },
     "output_type": "display_data"
    }
   ],
   "source": [
    "floor_category_pivot = df.pivot_table(index='floor_category', values='last_price').reset_index()\n",
    "floor_category_pivot.plot(x='floor_category', y='last_price', kind='scatter');"
   ]
  },
  {
   "cell_type": "code",
   "execution_count": 52,
   "metadata": {},
   "outputs": [
    {
     "name": "stderr",
     "output_type": "stream",
     "text": [
      "/opt/conda/lib/python3.9/site-packages/pandas/plotting/_matplotlib/core.py:1041: UserWarning: No data for colormapping provided via 'c'. Parameters 'cmap' will be ignored\n",
      "  scatter = ax.scatter(\n"
     ]
    },
    {
     "data": {
      "image/png": "[encoded data removed]",
      "text/plain": [
       "<Figure size 432x288 with 1 Axes>"
      ]
     },
     "metadata": {
      "needs_background": "light"
     },
     "output_type": "display_data"
    }
   ],
   "source": [
    "day_exposition_pivot = df.pivot_table(index='day_exposition', values='last_price').reset_index()\n",
    "day_exposition_pivot.plot(x='day_exposition', y='last_price', kind='scatter');"
   ]
  },
  {
   "cell_type": "code",
   "execution_count": 53,
   "metadata": {},
   "outputs": [
    {
     "name": "stderr",
     "output_type": "stream",
     "text": [
      "/opt/conda/lib/python3.9/site-packages/pandas/plotting/_matplotlib/core.py:1041: UserWarning: No data for colormapping provided via 'c'. Parameters 'cmap' will be ignored\n",
      "  scatter = ax.scatter(\n"
     ]
    },
    {
     "data": {
      "image/png": "[encoded data removed]",
      "text/plain": [
       "<Figure size 432x288 with 1 Axes>"
      ]
     },
     "metadata": {
      "needs_background": "light"
     },
     "output_type": "display_data"
    }
   ],
   "source": [
    "month_exposition_pivot = df.pivot_table(index='month_exposition', values='last_price').reset_index()\n",
    "month_exposition_pivot.plot(x='month_exposition', y='last_price', kind='scatter');"
   ]
  },
  {
   "cell_type": "code",
   "execution_count": 54,
   "metadata": {},
   "outputs": [
    {
     "name": "stderr",
     "output_type": "stream",
     "text": [
      "/opt/conda/lib/python3.9/site-packages/pandas/plotting/_matplotlib/core.py:1041: UserWarning: No data for colormapping provided via 'c'. Parameters 'cmap' will be ignored\n",
      "  scatter = ax.scatter(\n"
     ]
    },
    {
     "data": {
      "image/png": "[encoded data removed]",
      "text/plain": [
       "<Figure size 432x288 with 1 Axes>"
      ]
     },
     "metadata": {
      "needs_background": "light"
     },
     "output_type": "display_data"
    }
   ],
   "source": [
    "year_exposition_pivot = df.pivot_table(index='year_exposition', values='last_price').reset_index()\n",
    "year_exposition_pivot.plot(x='year_exposition', y='last_price', kind='scatter');"
   ]
  },
  {
   "cell_type": "markdown",
   "metadata": {},
   "source": [
    "**Исходя из построенных графиков, мы можем увидеть, что сильная зависимость есть между ценой и следующими параметрами: общая площадь, жилая площадь, площадь кухни, количество комнат. В случае с вышеперечисленными параметрами наблюдается прямая зависимость. Обратная зависимость наблюдается с годом продажи. Средняя стоимость квартир была выше в более ранние годы и постепенно снижалась. Ярко выраженной зависимость от дня и месяца публикации не наблюдается.**"
   ]
  },
  {
   "cell_type": "markdown",
   "metadata": {},
   "source": []
  },
  {
   "cell_type": "markdown",
   "metadata": {},
   "source": [
    "### Посчитаем среднюю цену одного квадратного метра в 10 населённых пунктах с наибольшим числом объявлений. Выделим населённые пункты с самой высокой и низкой стоимостью квадратного метра"
   ]
  },
  {
   "cell_type": "code",
   "execution_count": 55,
   "metadata": {},
   "outputs": [
    {
     "data": {
      "text/html": [
       "<div>\n",
       "<style scoped>\n",
       "    .dataframe tbody tr th:only-of-type {\n",
       "        vertical-align: middle;\n",
       "    }\n",
       "\n",
       "    .dataframe tbody tr th {\n",
       "        vertical-align: top;\n",
       "    }\n",
       "\n",
       "    .dataframe thead th {\n",
       "        text-align: right;\n",
       "    }\n",
       "</style>\n",
       "<table border=\"1\" class=\"dataframe\">\n",
       "  <thead>\n",
       "    <tr style=\"text-align: right;\">\n",
       "      <th></th>\n",
       "      <th>balcony</th>\n",
       "      <th>sq_metre_price</th>\n",
       "    </tr>\n",
       "    <tr>\n",
       "      <th>locality_name</th>\n",
       "      <th></th>\n",
       "      <th></th>\n",
       "    </tr>\n",
       "  </thead>\n",
       "  <tbody>\n",
       "    <tr>\n",
       "      <th>Санкт-Петербург</th>\n",
       "      <td>13530</td>\n",
       "      <td>109886.352564</td>\n",
       "    </tr>\n",
       "    <tr>\n",
       "      <th>Мурино</th>\n",
       "      <td>551</td>\n",
       "      <td>85743.233293</td>\n",
       "    </tr>\n",
       "    <tr>\n",
       "      <th>Кудрово</th>\n",
       "      <td>441</td>\n",
       "      <td>94408.041602</td>\n",
       "    </tr>\n",
       "    <tr>\n",
       "      <th>Шушары</th>\n",
       "      <td>408</td>\n",
       "      <td>78010.167480</td>\n",
       "    </tr>\n",
       "    <tr>\n",
       "      <th>Всеволожск</th>\n",
       "      <td>339</td>\n",
       "      <td>68570.615292</td>\n",
       "    </tr>\n",
       "    <tr>\n",
       "      <th>Колпино</th>\n",
       "      <td>308</td>\n",
       "      <td>74865.364347</td>\n",
       "    </tr>\n",
       "    <tr>\n",
       "      <th>Пушкин</th>\n",
       "      <td>307</td>\n",
       "      <td>102074.629153</td>\n",
       "    </tr>\n",
       "    <tr>\n",
       "      <th>Парголово</th>\n",
       "      <td>302</td>\n",
       "      <td>89505.043917</td>\n",
       "    </tr>\n",
       "    <tr>\n",
       "      <th>Гатчина</th>\n",
       "      <td>268</td>\n",
       "      <td>67928.326990</td>\n",
       "    </tr>\n",
       "    <tr>\n",
       "      <th>Выборг</th>\n",
       "      <td>208</td>\n",
       "      <td>57084.582948</td>\n",
       "    </tr>\n",
       "  </tbody>\n",
       "</table>\n",
       "</div>"
      ],
      "text/plain": [
       "                 balcony  sq_metre_price\n",
       "locality_name                           \n",
       "Санкт-Петербург    13530   109886.352564\n",
       "Мурино               551    85743.233293\n",
       "Кудрово              441    94408.041602\n",
       "Шушары               408    78010.167480\n",
       "Всеволожск           339    68570.615292\n",
       "Колпино              308    74865.364347\n",
       "Пушкин               307   102074.629153\n",
       "Парголово            302    89505.043917\n",
       "Гатчина              268    67928.326990\n",
       "Выборг               208    57084.582948"
      ]
     },
     "execution_count": 55,
     "metadata": {},
     "output_type": "execute_result"
    }
   ],
   "source": [
    "df.groupby('locality_name').agg({'balcony':'count', 'sq_metre_price':'mean'}) \\\n",
    "    .sort_values(by = 'balcony', ascending = False) \\\n",
    "    .head(10)"
   ]
  },
  {
   "cell_type": "markdown",
   "metadata": {},
   "source": [
    "**В таблице выше представлены топ 10 городов с наибольшим количеством объявлений о продаже жилья. Населённым пунктом с самой высокой стоимостью квадратного метра является Санкт-Петербург, где средняя стоимость 1 кв. м. составляет 109 886 руб. Самая низкая стоимость 1 кв. м. наблюдается в Выборге и составляет 57 084 руб.**"
   ]
  },
  {
   "cell_type": "code",
   "execution_count": 56,
   "metadata": {},
   "outputs": [
    {
     "data": {
      "text/html": [
       "<div>\n",
       "<style scoped>\n",
       "    .dataframe tbody tr th:only-of-type {\n",
       "        vertical-align: middle;\n",
       "    }\n",
       "\n",
       "    .dataframe tbody tr th {\n",
       "        vertical-align: top;\n",
       "    }\n",
       "\n",
       "    .dataframe thead th {\n",
       "        text-align: right;\n",
       "    }\n",
       "</style>\n",
       "<table border=\"1\" class=\"dataframe\">\n",
       "  <thead>\n",
       "    <tr style=\"text-align: right;\">\n",
       "      <th></th>\n",
       "      <th>balcony</th>\n",
       "      <th>sq_metre_price</th>\n",
       "    </tr>\n",
       "    <tr>\n",
       "      <th>locality_name</th>\n",
       "      <th></th>\n",
       "      <th></th>\n",
       "    </tr>\n",
       "  </thead>\n",
       "  <tbody>\n",
       "    <tr>\n",
       "      <th>Санкт-Петербург</th>\n",
       "      <td>13530</td>\n",
       "      <td>102865.353038</td>\n",
       "    </tr>\n",
       "    <tr>\n",
       "      <th>Мурино</th>\n",
       "      <td>551</td>\n",
       "      <td>86075.949367</td>\n",
       "    </tr>\n",
       "    <tr>\n",
       "      <th>Кудрово</th>\n",
       "      <td>441</td>\n",
       "      <td>94594.594595</td>\n",
       "    </tr>\n",
       "    <tr>\n",
       "      <th>Шушары</th>\n",
       "      <td>408</td>\n",
       "      <td>76220.394737</td>\n",
       "    </tr>\n",
       "    <tr>\n",
       "      <th>Всеволожск</th>\n",
       "      <td>339</td>\n",
       "      <td>65789.473684</td>\n",
       "    </tr>\n",
       "    <tr>\n",
       "      <th>Колпино</th>\n",
       "      <td>308</td>\n",
       "      <td>74005.089610</td>\n",
       "    </tr>\n",
       "    <tr>\n",
       "      <th>Пушкин</th>\n",
       "      <td>307</td>\n",
       "      <td>97938.144330</td>\n",
       "    </tr>\n",
       "    <tr>\n",
       "      <th>Парголово</th>\n",
       "      <td>302</td>\n",
       "      <td>91387.362637</td>\n",
       "    </tr>\n",
       "    <tr>\n",
       "      <th>Гатчина</th>\n",
       "      <td>268</td>\n",
       "      <td>67180.706522</td>\n",
       "    </tr>\n",
       "    <tr>\n",
       "      <th>Выборг</th>\n",
       "      <td>208</td>\n",
       "      <td>56960.594315</td>\n",
       "    </tr>\n",
       "  </tbody>\n",
       "</table>\n",
       "</div>"
      ],
      "text/plain": [
       "                 balcony  sq_metre_price\n",
       "locality_name                           \n",
       "Санкт-Петербург    13530   102865.353038\n",
       "Мурино               551    86075.949367\n",
       "Кудрово              441    94594.594595\n",
       "Шушары               408    76220.394737\n",
       "Всеволожск           339    65789.473684\n",
       "Колпино              308    74005.089610\n",
       "Пушкин               307    97938.144330\n",
       "Парголово            302    91387.362637\n",
       "Гатчина              268    67180.706522\n",
       "Выборг               208    56960.594315"
      ]
     },
     "execution_count": 56,
     "metadata": {},
     "output_type": "execute_result"
    }
   ],
   "source": [
    "df.groupby('locality_name').agg({'balcony':'count', 'sq_metre_price':'median'}) \\\n",
    "    .sort_values(by = 'balcony', ascending = False) \\\n",
    "    .head(10)"
   ]
  },
  {
   "cell_type": "markdown",
   "metadata": {},
   "source": [
    "### Вычислим среднюю цену каждого километра от центра города в Санкт-Петербурге."
   ]
  },
  {
   "cell_type": "markdown",
   "metadata": {},
   "source": [
    "**Посмотрим на медианное значение стоимости квартир в зависимости от удаленности от центра**"
   ]
  },
  {
   "cell_type": "code",
   "execution_count": 57,
   "metadata": {},
   "outputs": [
    {
     "data": {
      "text/html": [
       "<div>\n",
       "<style scoped>\n",
       "    .dataframe tbody tr th:only-of-type {\n",
       "        vertical-align: middle;\n",
       "    }\n",
       "\n",
       "    .dataframe tbody tr th {\n",
       "        vertical-align: top;\n",
       "    }\n",
       "\n",
       "    .dataframe thead th {\n",
       "        text-align: right;\n",
       "    }\n",
       "</style>\n",
       "<table border=\"1\" class=\"dataframe\">\n",
       "  <thead>\n",
       "    <tr style=\"text-align: right;\">\n",
       "      <th></th>\n",
       "      <th>cityCenters_km</th>\n",
       "      <th>last_price</th>\n",
       "    </tr>\n",
       "  </thead>\n",
       "  <tbody>\n",
       "    <tr>\n",
       "      <th>0</th>\n",
       "      <td>0.0</td>\n",
       "      <td>9900000.0</td>\n",
       "    </tr>\n",
       "    <tr>\n",
       "      <th>1</th>\n",
       "      <td>1.0</td>\n",
       "      <td>9970000.0</td>\n",
       "    </tr>\n",
       "    <tr>\n",
       "      <th>2</th>\n",
       "      <td>2.0</td>\n",
       "      <td>8860000.0</td>\n",
       "    </tr>\n",
       "    <tr>\n",
       "      <th>3</th>\n",
       "      <td>3.0</td>\n",
       "      <td>8000000.0</td>\n",
       "    </tr>\n",
       "    <tr>\n",
       "      <th>4</th>\n",
       "      <td>4.0</td>\n",
       "      <td>9400000.0</td>\n",
       "    </tr>\n",
       "    <tr>\n",
       "      <th>5</th>\n",
       "      <td>5.0</td>\n",
       "      <td>8500000.0</td>\n",
       "    </tr>\n",
       "    <tr>\n",
       "      <th>6</th>\n",
       "      <td>6.0</td>\n",
       "      <td>7300000.0</td>\n",
       "    </tr>\n",
       "    <tr>\n",
       "      <th>7</th>\n",
       "      <td>7.0</td>\n",
       "      <td>7000000.0</td>\n",
       "    </tr>\n",
       "    <tr>\n",
       "      <th>8</th>\n",
       "      <td>8.0</td>\n",
       "      <td>6220000.0</td>\n",
       "    </tr>\n",
       "    <tr>\n",
       "      <th>9</th>\n",
       "      <td>9.0</td>\n",
       "      <td>4900000.0</td>\n",
       "    </tr>\n",
       "    <tr>\n",
       "      <th>10</th>\n",
       "      <td>10.0</td>\n",
       "      <td>4900000.0</td>\n",
       "    </tr>\n",
       "    <tr>\n",
       "      <th>11</th>\n",
       "      <td>11.0</td>\n",
       "      <td>4900000.0</td>\n",
       "    </tr>\n",
       "    <tr>\n",
       "      <th>12</th>\n",
       "      <td>12.0</td>\n",
       "      <td>4900000.0</td>\n",
       "    </tr>\n",
       "    <tr>\n",
       "      <th>13</th>\n",
       "      <td>13.0</td>\n",
       "      <td>5100000.0</td>\n",
       "    </tr>\n",
       "    <tr>\n",
       "      <th>14</th>\n",
       "      <td>14.0</td>\n",
       "      <td>4700000.0</td>\n",
       "    </tr>\n",
       "    <tr>\n",
       "      <th>15</th>\n",
       "      <td>15.0</td>\n",
       "      <td>4700000.0</td>\n",
       "    </tr>\n",
       "    <tr>\n",
       "      <th>16</th>\n",
       "      <td>16.0</td>\n",
       "      <td>4550000.0</td>\n",
       "    </tr>\n",
       "    <tr>\n",
       "      <th>17</th>\n",
       "      <td>17.0</td>\n",
       "      <td>4400000.0</td>\n",
       "    </tr>\n",
       "    <tr>\n",
       "      <th>18</th>\n",
       "      <td>18.0</td>\n",
       "      <td>4300000.0</td>\n",
       "    </tr>\n",
       "    <tr>\n",
       "      <th>19</th>\n",
       "      <td>19.0</td>\n",
       "      <td>4300000.0</td>\n",
       "    </tr>\n",
       "    <tr>\n",
       "      <th>20</th>\n",
       "      <td>20.0</td>\n",
       "      <td>5625000.0</td>\n",
       "    </tr>\n",
       "    <tr>\n",
       "      <th>21</th>\n",
       "      <td>21.0</td>\n",
       "      <td>4600000.0</td>\n",
       "    </tr>\n",
       "    <tr>\n",
       "      <th>22</th>\n",
       "      <td>22.0</td>\n",
       "      <td>4650000.0</td>\n",
       "    </tr>\n",
       "    <tr>\n",
       "      <th>23</th>\n",
       "      <td>23.0</td>\n",
       "      <td>4100000.0</td>\n",
       "    </tr>\n",
       "    <tr>\n",
       "      <th>24</th>\n",
       "      <td>24.0</td>\n",
       "      <td>3480000.0</td>\n",
       "    </tr>\n",
       "    <tr>\n",
       "      <th>25</th>\n",
       "      <td>25.0</td>\n",
       "      <td>3406166.5</td>\n",
       "    </tr>\n",
       "    <tr>\n",
       "      <th>26</th>\n",
       "      <td>26.0</td>\n",
       "      <td>3975000.0</td>\n",
       "    </tr>\n",
       "    <tr>\n",
       "      <th>27</th>\n",
       "      <td>27.0</td>\n",
       "      <td>8300000.0</td>\n",
       "    </tr>\n",
       "    <tr>\n",
       "      <th>28</th>\n",
       "      <td>28.0</td>\n",
       "      <td>4775000.0</td>\n",
       "    </tr>\n",
       "    <tr>\n",
       "      <th>29</th>\n",
       "      <td>29.0</td>\n",
       "      <td>3325000.0</td>\n",
       "    </tr>\n",
       "  </tbody>\n",
       "</table>\n",
       "</div>"
      ],
      "text/plain": [
       "    cityCenters_km  last_price\n",
       "0              0.0   9900000.0\n",
       "1              1.0   9970000.0\n",
       "2              2.0   8860000.0\n",
       "3              3.0   8000000.0\n",
       "4              4.0   9400000.0\n",
       "5              5.0   8500000.0\n",
       "6              6.0   7300000.0\n",
       "7              7.0   7000000.0\n",
       "8              8.0   6220000.0\n",
       "9              9.0   4900000.0\n",
       "10            10.0   4900000.0\n",
       "11            11.0   4900000.0\n",
       "12            12.0   4900000.0\n",
       "13            13.0   5100000.0\n",
       "14            14.0   4700000.0\n",
       "15            15.0   4700000.0\n",
       "16            16.0   4550000.0\n",
       "17            17.0   4400000.0\n",
       "18            18.0   4300000.0\n",
       "19            19.0   4300000.0\n",
       "20            20.0   5625000.0\n",
       "21            21.0   4600000.0\n",
       "22            22.0   4650000.0\n",
       "23            23.0   4100000.0\n",
       "24            24.0   3480000.0\n",
       "25            25.0   3406166.5\n",
       "26            26.0   3975000.0\n",
       "27            27.0   8300000.0\n",
       "28            28.0   4775000.0\n",
       "29            29.0   3325000.0"
      ]
     },
     "execution_count": 57,
     "metadata": {},
     "output_type": "execute_result"
    }
   ],
   "source": [
    "listing_spb = df[df['locality_name'] == 'Санкт-Петербург']\n",
    "listing_spb_pivot = listing_spb.pivot_table(\n",
    "    index='cityCenters_km', values='last_price', aggfunc='median'\n",
    ")\n",
    "listing_spb_pivot.reset_index()"
   ]
  },
  {
   "cell_type": "code",
   "execution_count": 58,
   "metadata": {
    "scrolled": false
   },
   "outputs": [
    {
     "data": {
      "image/png": "[encoded data removed]",
      "text/plain": [
       "<Figure size 432x288 with 1 Axes>"
      ]
     },
     "metadata": {
      "needs_background": "light"
     },
     "output_type": "display_data"
    }
   ],
   "source": [
    "listing_spb_pivot.plot(grid = True, title = 'Цена и удалённость от центра');"
   ]
  },
  {
   "cell_type": "markdown",
   "metadata": {},
   "source": [
    "**Как мы видим в среднем медианная стоимость квартиры снижается в зависимости от удалённости от центра. Пик наблюдается только на 27 км. Однако это может быть вызвано наличием значительного числа элитных ЖК в этом районе. Для рассчёта средней цены 1 км. удалённости от центра вычтим из медианной цены квартиры на 0 км. медианную цену на 29-м км. и поделим получившуюся цифру на количество километров.**"
   ]
  },
  {
   "cell_type": "code",
   "execution_count": 59,
   "metadata": {},
   "outputs": [
    {
     "data": {
      "text/plain": [
       "last_price    226724.137931\n",
       "dtype: float64"
      ]
     },
     "execution_count": 59,
     "metadata": {},
     "output_type": "execute_result"
    }
   ],
   "source": [
    "(listing_spb_pivot.loc[0] - listing_spb_pivot.loc[29]) / listing_spb_pivot.index[-1]"
   ]
  },
  {
   "cell_type": "markdown",
   "metadata": {},
   "source": [
    "**Таким образом каждый километр приближающей квартиру к центру в среднем добавляет её стоимости 226 724 руб.**"
   ]
  },
  {
   "cell_type": "markdown",
   "metadata": {},
   "source": [
    "## Общий вывод"
   ]
  },
  {
   "cell_type": "markdown",
   "metadata": {},
   "source": [
    "**При работе над этим проектом была выполнена предобработка данных, которая включала в себя заполнение пропусков, выявление явных и неявных дубликатов и их удаление, а также ликвидация аномальных значений данных. Был рассчитан ряд показателей, которые в дальнейшем использовались для анализа датасета (см. пункт 3). В рамках аналитической части были рассмотрены вопросы: как быстро продавались квартиры, Какие факторы больше всего влияют на общую (полную) стоимость объекта, какова средняя цена одного квадратного метра в 10 населённых пунктах с наибольшим числом объявлений, какова средняя цена каждого километра удаления от центра Санкт-Петербурга.**\n",
    "\n",
    "**В результате исследования мы пришли к следующим выводам:**\n",
    "\n",
    "- **Чаще всего в выборке данных встречается длительность продажи квартиры в 45 дней. На встором месте 60 дней. Медианное значение при этом - 95, а среднее - 181. В целом аномально длительными можно назвать значения от 600 дней, аномально маленькими - значения до 10 дней.**\n",
    "\n",
    "- **В результате мы можем отметить, что была обнаружена прямая связь между ценой и следующими параметрами: общая площадь, жилая площадь, площадь кухни, количество комнат. Обратная зависимость существует с годом продажи. Самые высокие цены были в самом раннем году среди всех наблюдений, в 2014. Ярко выраженной зависимость от дня и месяца публикации не наблюдается.**\n",
    "\n",
    "- **Населённым пунктом с самой высокой стоимостью квадратного метра является Санкт-Петербург, где средняя стоимость 1 кв. м. составляет 109 886 руб. Самая низкая стоимость 1 кв. м. наблюдается в Выборге и составляет 57 084 руб.**\n",
    "\n",
    "- **Каждый километр приближающей квартиру к центру Санкт-Петербурга в среднем добавляет её стоимости 226 724 руб.**\n"
   ]
  }
 ],
 "metadata": {
  "ExecuteTimeLog": [
   {
    "duration": 559,
    "start_time": "2023-08-15T18:43:55.975Z"
   },
   {
    "duration": 103,
    "start_time": "2023-08-15T18:47:30.795Z"
   },
   {
    "duration": 136,
    "start_time": "2023-08-15T18:48:19.677Z"
   },
   {
    "duration": 23,
    "start_time": "2023-08-15T18:50:39.286Z"
   },
   {
    "duration": 103,
    "start_time": "2023-08-15T18:52:46.759Z"
   },
   {
    "duration": 2678,
    "start_time": "2023-08-15T18:54:21.159Z"
   },
   {
    "duration": 2165,
    "start_time": "2023-08-15T18:54:40.587Z"
   },
   {
    "duration": 2321,
    "start_time": "2023-08-15T18:54:50.023Z"
   },
   {
    "duration": 10,
    "start_time": "2023-08-15T21:43:40.106Z"
   },
   {
    "duration": 190,
    "start_time": "2023-08-15T21:44:43.649Z"
   },
   {
    "duration": 6,
    "start_time": "2023-08-15T21:47:16.846Z"
   },
   {
    "duration": 67,
    "start_time": "2023-08-15T21:47:33.424Z"
   },
   {
    "duration": 10,
    "start_time": "2023-08-15T21:47:42.250Z"
   },
   {
    "duration": 6,
    "start_time": "2023-08-15T21:48:14.037Z"
   },
   {
    "duration": 9,
    "start_time": "2023-08-15T21:50:44.494Z"
   },
   {
    "duration": 6,
    "start_time": "2023-08-15T21:51:13.320Z"
   },
   {
    "duration": 7,
    "start_time": "2023-08-15T21:51:34.558Z"
   },
   {
    "duration": 6,
    "start_time": "2023-08-15T21:51:44.885Z"
   },
   {
    "duration": 7,
    "start_time": "2023-08-15T21:52:05.477Z"
   },
   {
    "duration": 7,
    "start_time": "2023-08-15T21:52:25.507Z"
   },
   {
    "duration": 7,
    "start_time": "2023-08-15T21:53:22.237Z"
   },
   {
    "duration": 47,
    "start_time": "2023-08-16T07:45:10.106Z"
   },
   {
    "duration": 6,
    "start_time": "2023-08-16T08:17:40.079Z"
   },
   {
    "duration": 1131,
    "start_time": "2023-08-16T08:17:49.898Z"
   },
   {
    "duration": 14,
    "start_time": "2023-08-16T08:17:51.030Z"
   },
   {
    "duration": 2235,
    "start_time": "2023-08-16T08:17:51.046Z"
   },
   {
    "duration": 13,
    "start_time": "2023-08-16T08:17:53.283Z"
   },
   {
    "duration": 7,
    "start_time": "2023-08-16T08:17:53.487Z"
   },
   {
    "duration": 39,
    "start_time": "2023-08-16T08:18:34.340Z"
   },
   {
    "duration": 3,
    "start_time": "2023-08-16T08:18:42.832Z"
   },
   {
    "duration": 6,
    "start_time": "2023-08-16T08:18:53.513Z"
   },
   {
    "duration": 6,
    "start_time": "2023-08-16T08:19:27.598Z"
   },
   {
    "duration": 6,
    "start_time": "2023-08-16T08:19:50.129Z"
   },
   {
    "duration": 5,
    "start_time": "2023-08-16T08:20:59.813Z"
   },
   {
    "duration": 5,
    "start_time": "2023-08-16T08:22:03.994Z"
   },
   {
    "duration": 14,
    "start_time": "2023-08-16T08:22:20.508Z"
   },
   {
    "duration": 6,
    "start_time": "2023-08-16T09:39:20.867Z"
   },
   {
    "duration": 7,
    "start_time": "2023-08-16T09:39:43.549Z"
   },
   {
    "duration": 7,
    "start_time": "2023-08-16T09:39:49.471Z"
   },
   {
    "duration": 14,
    "start_time": "2023-08-16T09:43:25.266Z"
   },
   {
    "duration": 36,
    "start_time": "2023-08-16T09:43:41.936Z"
   },
   {
    "duration": 12,
    "start_time": "2023-08-16T09:44:25.457Z"
   },
   {
    "duration": 10,
    "start_time": "2023-08-16T09:44:32.349Z"
   },
   {
    "duration": 10,
    "start_time": "2023-08-16T09:44:51.818Z"
   },
   {
    "duration": 9,
    "start_time": "2023-08-16T09:45:41.293Z"
   },
   {
    "duration": 9,
    "start_time": "2023-08-16T09:46:07.478Z"
   },
   {
    "duration": 4,
    "start_time": "2023-08-16T09:54:24.418Z"
   },
   {
    "duration": 8,
    "start_time": "2023-08-16T10:59:11.160Z"
   },
   {
    "duration": 345,
    "start_time": "2023-08-16T11:00:20.548Z"
   },
   {
    "duration": 50,
    "start_time": "2023-08-16T11:00:26.307Z"
   },
   {
    "duration": 39,
    "start_time": "2023-08-16T11:00:50.291Z"
   },
   {
    "duration": 21,
    "start_time": "2023-08-16T11:04:26.101Z"
   },
   {
    "duration": 34,
    "start_time": "2023-08-16T11:09:10.508Z"
   },
   {
    "duration": 31,
    "start_time": "2023-08-16T11:09:21.081Z"
   },
   {
    "duration": 38,
    "start_time": "2023-08-16T11:16:35.228Z"
   },
   {
    "duration": 53,
    "start_time": "2023-08-16T11:19:10.240Z"
   },
   {
    "duration": 42,
    "start_time": "2023-08-16T11:19:36.450Z"
   },
   {
    "duration": 367,
    "start_time": "2023-08-16T11:24:43.594Z"
   },
   {
    "duration": 8,
    "start_time": "2023-08-16T11:25:07.047Z"
   },
   {
    "duration": 7,
    "start_time": "2023-08-16T11:25:18.253Z"
   },
   {
    "duration": 9,
    "start_time": "2023-08-16T11:25:48.134Z"
   },
   {
    "duration": 46,
    "start_time": "2023-08-16T11:26:25.265Z"
   },
   {
    "duration": 7,
    "start_time": "2023-08-16T11:26:54.239Z"
   },
   {
    "duration": 6,
    "start_time": "2023-08-16T11:26:59.790Z"
   },
   {
    "duration": 42,
    "start_time": "2023-08-16T11:27:02.847Z"
   },
   {
    "duration": 6,
    "start_time": "2023-08-16T11:27:24.819Z"
   },
   {
    "duration": 14,
    "start_time": "2023-08-16T11:27:29.058Z"
   },
   {
    "duration": 12,
    "start_time": "2023-08-16T11:27:50.097Z"
   },
   {
    "duration": 86,
    "start_time": "2023-08-16T11:27:58.929Z"
   },
   {
    "duration": 3012,
    "start_time": "2023-08-16T11:28:02.107Z"
   },
   {
    "duration": 9,
    "start_time": "2023-08-16T11:28:48.391Z"
   },
   {
    "duration": 7,
    "start_time": "2023-08-16T11:28:51.492Z"
   },
   {
    "duration": 4,
    "start_time": "2023-08-16T11:29:12.135Z"
   },
   {
    "duration": 8,
    "start_time": "2023-08-16T11:29:42.318Z"
   },
   {
    "duration": 107,
    "start_time": "2023-08-16T11:30:36.791Z"
   },
   {
    "duration": 12,
    "start_time": "2023-08-16T11:30:36.899Z"
   },
   {
    "duration": 1693,
    "start_time": "2023-08-16T11:30:36.913Z"
   },
   {
    "duration": 8,
    "start_time": "2023-08-16T11:30:38.608Z"
   },
   {
    "duration": 7,
    "start_time": "2023-08-16T11:30:41.152Z"
   },
   {
    "duration": 5,
    "start_time": "2023-08-16T11:30:43.225Z"
   },
   {
    "duration": 6,
    "start_time": "2023-08-16T11:30:59.676Z"
   },
   {
    "duration": 102,
    "start_time": "2023-08-16T11:31:06.132Z"
   },
   {
    "duration": 13,
    "start_time": "2023-08-16T11:31:06.236Z"
   },
   {
    "duration": 1772,
    "start_time": "2023-08-16T11:31:06.250Z"
   },
   {
    "duration": 16,
    "start_time": "2023-08-16T11:31:08.023Z"
   },
   {
    "duration": 4,
    "start_time": "2023-08-16T11:31:09.399Z"
   },
   {
    "duration": 8,
    "start_time": "2023-08-16T11:31:16.796Z"
   },
   {
    "duration": 4,
    "start_time": "2023-08-16T11:31:28.504Z"
   },
   {
    "duration": 6,
    "start_time": "2023-08-16T11:31:32.970Z"
   },
   {
    "duration": 5,
    "start_time": "2023-08-16T11:31:37.083Z"
   },
   {
    "duration": 8,
    "start_time": "2023-08-16T11:31:42.786Z"
   },
   {
    "duration": 5,
    "start_time": "2023-08-16T11:31:45.912Z"
   },
   {
    "duration": 11,
    "start_time": "2023-08-16T11:40:53.038Z"
   },
   {
    "duration": 6,
    "start_time": "2023-08-16T11:41:41.000Z"
   },
   {
    "duration": 5,
    "start_time": "2023-08-16T11:41:52.278Z"
   },
   {
    "duration": 99,
    "start_time": "2023-08-16T11:57:38.977Z"
   },
   {
    "duration": 13,
    "start_time": "2023-08-16T11:57:39.077Z"
   },
   {
    "duration": 1636,
    "start_time": "2023-08-16T11:57:39.091Z"
   },
   {
    "duration": 13,
    "start_time": "2023-08-16T11:57:40.729Z"
   },
   {
    "duration": 4,
    "start_time": "2023-08-16T11:57:40.744Z"
   },
   {
    "duration": 10,
    "start_time": "2023-08-16T11:57:40.749Z"
   },
   {
    "duration": 5,
    "start_time": "2023-08-16T11:57:40.760Z"
   },
   {
    "duration": 14,
    "start_time": "2023-08-16T11:57:40.766Z"
   },
   {
    "duration": 7,
    "start_time": "2023-08-16T11:58:24.526Z"
   },
   {
    "duration": 4,
    "start_time": "2023-08-16T13:00:26.672Z"
   },
   {
    "duration": 5,
    "start_time": "2023-08-16T13:03:28.550Z"
   },
   {
    "duration": 25,
    "start_time": "2023-08-16T13:05:47.806Z"
   },
   {
    "duration": 112,
    "start_time": "2023-08-16T13:06:24.374Z"
   },
   {
    "duration": 15,
    "start_time": "2023-08-16T13:06:24.488Z"
   },
   {
    "duration": 1796,
    "start_time": "2023-08-16T13:06:24.506Z"
   },
   {
    "duration": 8,
    "start_time": "2023-08-16T13:06:26.303Z"
   },
   {
    "duration": 6,
    "start_time": "2023-08-16T13:06:26.313Z"
   },
   {
    "duration": 10,
    "start_time": "2023-08-16T13:06:26.338Z"
   },
   {
    "duration": 12,
    "start_time": "2023-08-16T13:06:26.350Z"
   },
   {
    "duration": 22,
    "start_time": "2023-08-16T13:06:26.363Z"
   },
   {
    "duration": 114,
    "start_time": "2023-08-16T13:07:01.923Z"
   },
   {
    "duration": 162,
    "start_time": "2023-08-16T13:07:11.053Z"
   },
   {
    "duration": 84,
    "start_time": "2023-08-16T13:08:55.115Z"
   },
   {
    "duration": 11,
    "start_time": "2023-08-16T13:11:51.854Z"
   },
   {
    "duration": 8,
    "start_time": "2023-08-16T13:12:22.574Z"
   },
   {
    "duration": 11,
    "start_time": "2023-08-16T13:12:58.419Z"
   },
   {
    "duration": 11,
    "start_time": "2023-08-16T13:13:01.092Z"
   },
   {
    "duration": 11,
    "start_time": "2023-08-16T13:14:34.693Z"
   },
   {
    "duration": 11,
    "start_time": "2023-08-16T13:15:03.644Z"
   },
   {
    "duration": 7,
    "start_time": "2023-08-16T13:15:22.626Z"
   },
   {
    "duration": 7,
    "start_time": "2023-08-16T13:15:40.456Z"
   },
   {
    "duration": 7,
    "start_time": "2023-08-16T13:15:42.823Z"
   },
   {
    "duration": 110,
    "start_time": "2023-08-16T13:16:38.086Z"
   },
   {
    "duration": 9,
    "start_time": "2023-08-16T13:17:01.050Z"
   },
   {
    "duration": 8,
    "start_time": "2023-08-16T13:17:38.265Z"
   },
   {
    "duration": 1509,
    "start_time": "2023-08-16T13:18:55.234Z"
   },
   {
    "duration": 18,
    "start_time": "2023-08-16T13:19:16.979Z"
   },
   {
    "duration": 8,
    "start_time": "2023-08-16T13:20:16.945Z"
   },
   {
    "duration": 9,
    "start_time": "2023-08-16T13:20:57.454Z"
   },
   {
    "duration": 8,
    "start_time": "2023-08-16T13:50:05.739Z"
   },
   {
    "duration": 23,
    "start_time": "2023-08-16T13:50:12.302Z"
   },
   {
    "duration": 19,
    "start_time": "2023-08-16T13:50:21.328Z"
   },
   {
    "duration": 15,
    "start_time": "2023-08-16T13:50:27.860Z"
   },
   {
    "duration": 16,
    "start_time": "2023-08-16T13:50:34.341Z"
   },
   {
    "duration": 8,
    "start_time": "2023-08-16T15:03:10.983Z"
   },
   {
    "duration": 6,
    "start_time": "2023-08-16T15:04:13.751Z"
   },
   {
    "duration": 16,
    "start_time": "2023-08-16T15:21:17.292Z"
   },
   {
    "duration": 14,
    "start_time": "2023-08-16T15:21:21.370Z"
   },
   {
    "duration": 27,
    "start_time": "2023-08-16T15:21:24.555Z"
   },
   {
    "duration": 79,
    "start_time": "2023-08-16T15:22:24.117Z"
   },
   {
    "duration": 73,
    "start_time": "2023-08-16T15:23:53.497Z"
   },
   {
    "duration": 14,
    "start_time": "2023-08-16T15:25:47.704Z"
   },
   {
    "duration": 22,
    "start_time": "2023-08-16T15:25:52.425Z"
   },
   {
    "duration": 32,
    "start_time": "2023-08-16T15:28:33.026Z"
   },
   {
    "duration": 6,
    "start_time": "2023-08-16T15:41:49.858Z"
   },
   {
    "duration": 5,
    "start_time": "2023-08-16T15:46:27.247Z"
   },
   {
    "duration": 7,
    "start_time": "2023-08-16T15:48:41.199Z"
   },
   {
    "duration": 106,
    "start_time": "2023-08-17T08:11:00.157Z"
   },
   {
    "duration": 40,
    "start_time": "2023-08-17T08:11:08.980Z"
   },
   {
    "duration": 706,
    "start_time": "2023-08-17T08:11:22.701Z"
   },
   {
    "duration": 13,
    "start_time": "2023-08-17T08:11:23.409Z"
   },
   {
    "duration": 2193,
    "start_time": "2023-08-17T08:11:23.423Z"
   },
   {
    "duration": 10,
    "start_time": "2023-08-17T08:11:25.619Z"
   },
   {
    "duration": 35,
    "start_time": "2023-08-17T08:11:25.630Z"
   },
   {
    "duration": 56,
    "start_time": "2023-08-17T08:11:25.667Z"
   },
   {
    "duration": 10,
    "start_time": "2023-08-17T08:11:25.725Z"
   },
   {
    "duration": 50,
    "start_time": "2023-08-17T08:11:25.736Z"
   },
   {
    "duration": 53,
    "start_time": "2023-08-17T08:11:25.788Z"
   },
   {
    "duration": 57,
    "start_time": "2023-08-17T08:11:25.844Z"
   },
   {
    "duration": 58,
    "start_time": "2023-08-17T08:11:25.951Z"
   },
   {
    "duration": 11,
    "start_time": "2023-08-17T08:11:37.061Z"
   },
   {
    "duration": 33,
    "start_time": "2023-08-17T10:40:48.645Z"
   },
   {
    "duration": 8,
    "start_time": "2023-08-17T10:40:58.493Z"
   },
   {
    "duration": 7,
    "start_time": "2023-08-17T10:41:07.070Z"
   },
   {
    "duration": 20,
    "start_time": "2023-08-17T13:16:20.030Z"
   },
   {
    "duration": 18,
    "start_time": "2023-08-17T13:18:04.861Z"
   },
   {
    "duration": 16,
    "start_time": "2023-08-17T13:18:12.475Z"
   },
   {
    "duration": 20,
    "start_time": "2023-08-17T13:52:40.153Z"
   },
   {
    "duration": 21,
    "start_time": "2023-08-17T13:57:12.598Z"
   },
   {
    "duration": 23,
    "start_time": "2023-08-17T13:57:31.474Z"
   },
   {
    "duration": 25,
    "start_time": "2023-08-17T13:58:05.524Z"
   },
   {
    "duration": 26,
    "start_time": "2023-08-17T13:58:30.208Z"
   },
   {
    "duration": 30,
    "start_time": "2023-08-17T13:58:46.431Z"
   },
   {
    "duration": 24,
    "start_time": "2023-08-17T13:58:57.817Z"
   },
   {
    "duration": 25,
    "start_time": "2023-08-17T14:00:19.732Z"
   },
   {
    "duration": 34,
    "start_time": "2023-08-17T14:00:37.558Z"
   },
   {
    "duration": 28,
    "start_time": "2023-08-17T14:11:34.039Z"
   },
   {
    "duration": 28,
    "start_time": "2023-08-17T14:14:04.808Z"
   },
   {
    "duration": 40,
    "start_time": "2023-08-17T14:14:30.853Z"
   },
   {
    "duration": 1070,
    "start_time": "2023-08-17T14:31:21.248Z"
   },
   {
    "duration": 45,
    "start_time": "2023-08-17T14:33:49.795Z"
   },
   {
    "duration": 44,
    "start_time": "2023-08-17T14:34:14.947Z"
   },
   {
    "duration": 1275,
    "start_time": "2023-08-17T14:36:09.425Z"
   },
   {
    "duration": 53,
    "start_time": "2023-08-17T14:36:40.391Z"
   },
   {
    "duration": 52,
    "start_time": "2023-08-17T14:37:05.755Z"
   },
   {
    "duration": 55,
    "start_time": "2023-08-17T14:38:17.430Z"
   },
   {
    "duration": 52,
    "start_time": "2023-08-17T14:38:49.340Z"
   },
   {
    "duration": 43,
    "start_time": "2023-08-17T14:39:30.361Z"
   },
   {
    "duration": 23,
    "start_time": "2023-08-17T14:39:44.323Z"
   },
   {
    "duration": 55,
    "start_time": "2023-08-17T14:53:05.625Z"
   },
   {
    "duration": 28,
    "start_time": "2023-08-17T14:54:05.234Z"
   },
   {
    "duration": 32,
    "start_time": "2023-08-17T14:55:05.293Z"
   },
   {
    "duration": 58,
    "start_time": "2023-08-17T14:56:14.880Z"
   },
   {
    "duration": 38,
    "start_time": "2023-08-17T14:58:56.962Z"
   },
   {
    "duration": 8,
    "start_time": "2023-08-17T15:01:24.157Z"
   },
   {
    "duration": 1350,
    "start_time": "2023-08-17T15:01:35.022Z"
   },
   {
    "duration": 33,
    "start_time": "2023-08-17T15:01:51.724Z"
   },
   {
    "duration": 33,
    "start_time": "2023-08-17T15:02:06.011Z"
   },
   {
    "duration": 35,
    "start_time": "2023-08-17T15:21:36.681Z"
   },
   {
    "duration": 39,
    "start_time": "2023-08-17T15:21:56.117Z"
   },
   {
    "duration": 40,
    "start_time": "2023-08-17T15:28:58.656Z"
   },
   {
    "duration": 105,
    "start_time": "2023-08-17T15:29:24.457Z"
   },
   {
    "duration": 14,
    "start_time": "2023-08-17T15:29:24.564Z"
   },
   {
    "duration": 1775,
    "start_time": "2023-08-17T15:29:24.580Z"
   },
   {
    "duration": 9,
    "start_time": "2023-08-17T15:29:26.357Z"
   },
   {
    "duration": 4,
    "start_time": "2023-08-17T15:29:26.369Z"
   },
   {
    "duration": 17,
    "start_time": "2023-08-17T15:29:26.375Z"
   },
   {
    "duration": 7,
    "start_time": "2023-08-17T15:29:26.393Z"
   },
   {
    "duration": 32,
    "start_time": "2023-08-17T15:29:26.401Z"
   },
   {
    "duration": 23,
    "start_time": "2023-08-17T15:29:26.434Z"
   },
   {
    "duration": 8,
    "start_time": "2023-08-17T15:29:26.458Z"
   },
   {
    "duration": 10,
    "start_time": "2023-08-17T15:29:26.468Z"
   },
   {
    "duration": 7,
    "start_time": "2023-08-17T15:29:26.479Z"
   },
   {
    "duration": 116,
    "start_time": "2023-08-17T15:29:26.487Z"
   },
   {
    "duration": 38,
    "start_time": "2023-08-17T15:29:50.976Z"
   },
   {
    "duration": 110,
    "start_time": "2023-08-17T15:30:05.901Z"
   },
   {
    "duration": 18,
    "start_time": "2023-08-17T15:30:06.013Z"
   },
   {
    "duration": 1778,
    "start_time": "2023-08-17T15:30:06.033Z"
   },
   {
    "duration": 8,
    "start_time": "2023-08-17T15:30:07.813Z"
   },
   {
    "duration": 33,
    "start_time": "2023-08-17T15:30:07.823Z"
   },
   {
    "duration": 19,
    "start_time": "2023-08-17T15:30:07.857Z"
   },
   {
    "duration": 18,
    "start_time": "2023-08-17T15:30:07.877Z"
   },
   {
    "duration": 18,
    "start_time": "2023-08-17T15:30:07.896Z"
   },
   {
    "duration": 10,
    "start_time": "2023-08-17T15:30:07.915Z"
   },
   {
    "duration": 27,
    "start_time": "2023-08-17T15:30:07.927Z"
   },
   {
    "duration": 11,
    "start_time": "2023-08-17T15:30:07.955Z"
   },
   {
    "duration": 22,
    "start_time": "2023-08-17T15:30:07.968Z"
   },
   {
    "duration": 90,
    "start_time": "2023-08-17T15:30:07.991Z"
   },
   {
    "duration": 16,
    "start_time": "2023-08-17T16:56:45.378Z"
   },
   {
    "duration": 44,
    "start_time": "2023-08-17T18:00:01.375Z"
   },
   {
    "duration": 8,
    "start_time": "2023-08-17T18:00:28.189Z"
   },
   {
    "duration": 63,
    "start_time": "2023-08-17T21:41:15.730Z"
   },
   {
    "duration": 1137,
    "start_time": "2023-08-17T21:41:32.289Z"
   },
   {
    "duration": 15,
    "start_time": "2023-08-17T21:41:33.427Z"
   },
   {
    "duration": 2600,
    "start_time": "2023-08-17T21:41:33.443Z"
   },
   {
    "duration": 11,
    "start_time": "2023-08-17T21:41:36.046Z"
   },
   {
    "duration": 17,
    "start_time": "2023-08-17T21:41:36.058Z"
   },
   {
    "duration": 18,
    "start_time": "2023-08-17T21:41:36.077Z"
   },
   {
    "duration": 9,
    "start_time": "2023-08-17T21:41:36.097Z"
   },
   {
    "duration": 15,
    "start_time": "2023-08-17T21:41:36.108Z"
   },
   {
    "duration": 15,
    "start_time": "2023-08-17T21:41:36.125Z"
   },
   {
    "duration": 12,
    "start_time": "2023-08-17T21:41:36.143Z"
   },
   {
    "duration": 13,
    "start_time": "2023-08-17T21:41:36.157Z"
   },
   {
    "duration": 9,
    "start_time": "2023-08-17T21:41:36.171Z"
   },
   {
    "duration": 116,
    "start_time": "2023-08-17T21:41:36.210Z"
   },
   {
    "duration": 17,
    "start_time": "2023-08-17T21:41:36.328Z"
   },
   {
    "duration": 19,
    "start_time": "2023-08-17T21:41:36.347Z"
   },
   {
    "duration": 76,
    "start_time": "2023-08-17T21:41:36.367Z"
   },
   {
    "duration": 8,
    "start_time": "2023-08-17T21:44:45.327Z"
   },
   {
    "duration": 5,
    "start_time": "2023-08-17T21:45:11.562Z"
   },
   {
    "duration": 11,
    "start_time": "2023-08-17T21:46:29.748Z"
   },
   {
    "duration": 12,
    "start_time": "2023-08-17T21:46:40.392Z"
   },
   {
    "duration": 11,
    "start_time": "2023-08-17T21:47:09.148Z"
   },
   {
    "duration": 11,
    "start_time": "2023-08-17T21:48:47.651Z"
   },
   {
    "duration": 11,
    "start_time": "2023-08-17T21:50:03.572Z"
   },
   {
    "duration": 21,
    "start_time": "2023-08-17T21:50:53.099Z"
   },
   {
    "duration": 48,
    "start_time": "2023-08-17T21:51:53.904Z"
   },
   {
    "duration": 41,
    "start_time": "2023-08-17T21:54:17.097Z"
   },
   {
    "duration": 42,
    "start_time": "2023-08-17T21:54:59.579Z"
   },
   {
    "duration": 13,
    "start_time": "2023-08-17T21:56:29.904Z"
   },
   {
    "duration": 11,
    "start_time": "2023-08-17T21:57:26.047Z"
   },
   {
    "duration": 24,
    "start_time": "2023-08-17T21:57:55.714Z"
   },
   {
    "duration": 16,
    "start_time": "2023-08-17T21:58:27.301Z"
   },
   {
    "duration": 126,
    "start_time": "2023-08-17T21:59:13.511Z"
   },
   {
    "duration": 15,
    "start_time": "2023-08-17T21:59:16.827Z"
   },
   {
    "duration": 44,
    "start_time": "2023-08-17T21:59:36.107Z"
   },
   {
    "duration": 41,
    "start_time": "2023-08-17T22:00:18.599Z"
   },
   {
    "duration": 12,
    "start_time": "2023-08-17T22:01:07.273Z"
   },
   {
    "duration": 13,
    "start_time": "2023-08-17T22:01:31.978Z"
   },
   {
    "duration": 18,
    "start_time": "2023-08-17T22:01:47.210Z"
   },
   {
    "duration": 13,
    "start_time": "2023-08-17T22:02:29.593Z"
   },
   {
    "duration": 15,
    "start_time": "2023-08-17T22:03:02.229Z"
   },
   {
    "duration": 10,
    "start_time": "2023-08-17T22:03:18.875Z"
   },
   {
    "duration": 154,
    "start_time": "2023-08-17T22:03:30.968Z"
   },
   {
    "duration": 18,
    "start_time": "2023-08-17T22:03:31.127Z"
   },
   {
    "duration": 2458,
    "start_time": "2023-08-17T22:03:31.147Z"
   },
   {
    "duration": 19,
    "start_time": "2023-08-17T22:03:33.611Z"
   },
   {
    "duration": 12,
    "start_time": "2023-08-17T22:03:33.634Z"
   },
   {
    "duration": 13,
    "start_time": "2023-08-17T22:03:33.647Z"
   },
   {
    "duration": 9,
    "start_time": "2023-08-17T22:03:33.662Z"
   },
   {
    "duration": 43,
    "start_time": "2023-08-17T22:03:33.673Z"
   },
   {
    "duration": 12,
    "start_time": "2023-08-17T22:03:33.717Z"
   },
   {
    "duration": 13,
    "start_time": "2023-08-17T22:04:01.858Z"
   },
   {
    "duration": 132,
    "start_time": "2023-08-17T22:04:08.013Z"
   },
   {
    "duration": 14,
    "start_time": "2023-08-17T22:04:08.147Z"
   },
   {
    "duration": 2404,
    "start_time": "2023-08-17T22:04:08.163Z"
   },
   {
    "duration": 10,
    "start_time": "2023-08-17T22:04:10.568Z"
   },
   {
    "duration": 7,
    "start_time": "2023-08-17T22:04:10.581Z"
   },
   {
    "duration": 36,
    "start_time": "2023-08-17T22:04:10.589Z"
   },
   {
    "duration": 27,
    "start_time": "2023-08-17T22:04:10.628Z"
   },
   {
    "duration": 77,
    "start_time": "2023-08-17T22:04:10.657Z"
   },
   {
    "duration": 41,
    "start_time": "2023-08-17T22:04:10.735Z"
   },
   {
    "duration": 118,
    "start_time": "2023-08-17T22:04:40.242Z"
   },
   {
    "duration": 15,
    "start_time": "2023-08-17T22:04:40.363Z"
   },
   {
    "duration": 2119,
    "start_time": "2023-08-17T22:04:40.380Z"
   },
   {
    "duration": 13,
    "start_time": "2023-08-17T22:04:42.501Z"
   },
   {
    "duration": 5,
    "start_time": "2023-08-17T22:04:42.516Z"
   },
   {
    "duration": 15,
    "start_time": "2023-08-17T22:04:42.522Z"
   },
   {
    "duration": 5,
    "start_time": "2023-08-17T22:04:42.538Z"
   },
   {
    "duration": 16,
    "start_time": "2023-08-17T22:04:42.545Z"
   },
   {
    "duration": 12,
    "start_time": "2023-08-17T22:04:42.563Z"
   },
   {
    "duration": 49,
    "start_time": "2023-08-17T22:04:42.578Z"
   },
   {
    "duration": 32,
    "start_time": "2023-08-17T22:04:42.629Z"
   },
   {
    "duration": 8,
    "start_time": "2023-08-17T22:04:42.662Z"
   },
   {
    "duration": 106,
    "start_time": "2023-08-17T22:04:42.672Z"
   },
   {
    "duration": 30,
    "start_time": "2023-08-17T22:04:42.779Z"
   },
   {
    "duration": 10,
    "start_time": "2023-08-17T22:04:42.811Z"
   },
   {
    "duration": 20,
    "start_time": "2023-08-17T22:04:42.822Z"
   },
   {
    "duration": 126,
    "start_time": "2023-08-17T22:08:15.029Z"
   },
   {
    "duration": 36,
    "start_time": "2023-08-17T22:08:29.599Z"
   },
   {
    "duration": 30,
    "start_time": "2023-08-17T22:13:05.027Z"
   },
   {
    "duration": 20,
    "start_time": "2023-08-17T22:21:03.099Z"
   },
   {
    "duration": 6,
    "start_time": "2023-08-17T22:21:11.058Z"
   },
   {
    "duration": 8,
    "start_time": "2023-08-17T22:21:52.127Z"
   },
   {
    "duration": 7,
    "start_time": "2023-08-17T22:23:59.314Z"
   },
   {
    "duration": 10,
    "start_time": "2023-08-17T22:24:11.255Z"
   },
   {
    "duration": 19,
    "start_time": "2023-08-17T22:24:22.703Z"
   },
   {
    "duration": 14,
    "start_time": "2023-08-17T22:24:27.707Z"
   },
   {
    "duration": 19,
    "start_time": "2023-08-17T22:26:28.960Z"
   },
   {
    "duration": 22,
    "start_time": "2023-08-17T22:26:43.595Z"
   },
   {
    "duration": 28,
    "start_time": "2023-08-17T22:27:50.837Z"
   },
   {
    "duration": 29,
    "start_time": "2023-08-17T22:28:04.932Z"
   },
   {
    "duration": 40,
    "start_time": "2023-08-17T22:28:25.503Z"
   },
   {
    "duration": 26,
    "start_time": "2023-08-17T22:28:45.576Z"
   },
   {
    "duration": 31,
    "start_time": "2023-08-17T22:28:55.026Z"
   },
   {
    "duration": 563,
    "start_time": "2023-08-18T07:26:57.901Z"
   },
   {
    "duration": 16,
    "start_time": "2023-08-18T07:26:58.466Z"
   },
   {
    "duration": 2522,
    "start_time": "2023-08-18T07:26:58.483Z"
   },
   {
    "duration": 11,
    "start_time": "2023-08-18T07:27:01.007Z"
   },
   {
    "duration": 98,
    "start_time": "2023-08-18T07:27:01.021Z"
   },
   {
    "duration": 54,
    "start_time": "2023-08-18T07:27:01.121Z"
   },
   {
    "duration": 58,
    "start_time": "2023-08-18T07:27:01.177Z"
   },
   {
    "duration": 57,
    "start_time": "2023-08-18T07:27:01.238Z"
   },
   {
    "duration": 61,
    "start_time": "2023-08-18T07:27:01.296Z"
   },
   {
    "duration": 97,
    "start_time": "2023-08-18T07:27:01.359Z"
   },
   {
    "duration": 92,
    "start_time": "2023-08-18T07:27:01.458Z"
   },
   {
    "duration": 74,
    "start_time": "2023-08-18T07:27:01.552Z"
   },
   {
    "duration": 160,
    "start_time": "2023-08-18T07:27:01.627Z"
   },
   {
    "duration": 17,
    "start_time": "2023-08-18T07:27:01.789Z"
   },
   {
    "duration": 181,
    "start_time": "2023-08-18T07:27:01.808Z"
   },
   {
    "duration": 137,
    "start_time": "2023-08-18T07:27:01.990Z"
   },
   {
    "duration": 120,
    "start_time": "2023-08-18T07:28:29.818Z"
   },
   {
    "duration": 142,
    "start_time": "2023-08-18T07:28:58.637Z"
   },
   {
    "duration": 136,
    "start_time": "2023-08-18T07:29:13.360Z"
   },
   {
    "duration": 135,
    "start_time": "2023-08-18T07:29:26.248Z"
   },
   {
    "duration": 208,
    "start_time": "2023-08-18T07:29:47.516Z"
   },
   {
    "duration": 134,
    "start_time": "2023-08-18T07:29:57.930Z"
   },
   {
    "duration": 142,
    "start_time": "2023-08-18T07:30:18.693Z"
   },
   {
    "duration": 135,
    "start_time": "2023-08-18T07:30:27.278Z"
   },
   {
    "duration": 130,
    "start_time": "2023-08-18T07:30:40.850Z"
   },
   {
    "duration": 140,
    "start_time": "2023-08-18T07:45:02.766Z"
   },
   {
    "duration": 151,
    "start_time": "2023-08-18T07:45:20.361Z"
   },
   {
    "duration": 167,
    "start_time": "2023-08-18T07:45:50.639Z"
   },
   {
    "duration": 188,
    "start_time": "2023-08-18T07:46:23.694Z"
   },
   {
    "duration": 207,
    "start_time": "2023-08-18T07:46:52.702Z"
   },
   {
    "duration": 112,
    "start_time": "2023-08-18T07:47:13.430Z"
   },
   {
    "duration": 15,
    "start_time": "2023-08-18T07:47:13.544Z"
   },
   {
    "duration": 2093,
    "start_time": "2023-08-18T07:47:13.567Z"
   },
   {
    "duration": 12,
    "start_time": "2023-08-18T07:47:15.661Z"
   },
   {
    "duration": 6,
    "start_time": "2023-08-18T07:47:15.676Z"
   },
   {
    "duration": 18,
    "start_time": "2023-08-18T07:47:15.683Z"
   },
   {
    "duration": 6,
    "start_time": "2023-08-18T07:47:15.702Z"
   },
   {
    "duration": 13,
    "start_time": "2023-08-18T07:47:15.710Z"
   },
   {
    "duration": 11,
    "start_time": "2023-08-18T07:47:15.725Z"
   },
   {
    "duration": 21,
    "start_time": "2023-08-18T07:47:15.766Z"
   },
   {
    "duration": 28,
    "start_time": "2023-08-18T07:47:15.789Z"
   },
   {
    "duration": 10,
    "start_time": "2023-08-18T07:47:15.819Z"
   },
   {
    "duration": 110,
    "start_time": "2023-08-18T07:47:15.831Z"
   },
   {
    "duration": 33,
    "start_time": "2023-08-18T07:47:15.944Z"
   },
   {
    "duration": 14,
    "start_time": "2023-08-18T07:47:15.979Z"
   },
   {
    "duration": 23,
    "start_time": "2023-08-18T07:47:15.995Z"
   },
   {
    "duration": 213,
    "start_time": "2023-08-18T07:47:20.702Z"
   },
   {
    "duration": 15,
    "start_time": "2023-08-18T07:50:04.610Z"
   },
   {
    "duration": 112,
    "start_time": "2023-08-18T07:50:23.446Z"
   },
   {
    "duration": 16,
    "start_time": "2023-08-18T07:50:23.561Z"
   },
   {
    "duration": 2103,
    "start_time": "2023-08-18T07:50:23.579Z"
   },
   {
    "duration": 11,
    "start_time": "2023-08-18T07:50:25.684Z"
   },
   {
    "duration": 8,
    "start_time": "2023-08-18T07:50:25.697Z"
   },
   {
    "duration": 16,
    "start_time": "2023-08-18T07:50:25.706Z"
   },
   {
    "duration": 5,
    "start_time": "2023-08-18T07:50:25.724Z"
   },
   {
    "duration": 20,
    "start_time": "2023-08-18T07:50:25.731Z"
   },
   {
    "duration": 17,
    "start_time": "2023-08-18T07:50:25.768Z"
   },
   {
    "duration": 29,
    "start_time": "2023-08-18T07:50:25.786Z"
   },
   {
    "duration": 31,
    "start_time": "2023-08-18T07:50:25.816Z"
   },
   {
    "duration": 15,
    "start_time": "2023-08-18T07:50:25.849Z"
   },
   {
    "duration": 109,
    "start_time": "2023-08-18T07:50:25.866Z"
   },
   {
    "duration": 17,
    "start_time": "2023-08-18T07:50:25.977Z"
   },
   {
    "duration": 47,
    "start_time": "2023-08-18T07:50:25.995Z"
   },
   {
    "duration": 49,
    "start_time": "2023-08-18T07:50:26.044Z"
   },
   {
    "duration": 212,
    "start_time": "2023-08-18T07:50:26.095Z"
   },
   {
    "duration": 233,
    "start_time": "2023-08-18T07:54:12.560Z"
   },
   {
    "duration": 235,
    "start_time": "2023-08-18T07:54:45.662Z"
   },
   {
    "duration": 7,
    "start_time": "2023-08-18T08:53:38.951Z"
   },
   {
    "duration": 8,
    "start_time": "2023-08-18T08:54:07.102Z"
   },
   {
    "duration": 16,
    "start_time": "2023-08-18T08:54:27.076Z"
   },
   {
    "duration": 16,
    "start_time": "2023-08-18T08:54:34.508Z"
   },
   {
    "duration": 16,
    "start_time": "2023-08-18T08:54:37.838Z"
   },
   {
    "duration": 27,
    "start_time": "2023-08-18T08:54:40.350Z"
   },
   {
    "duration": 37,
    "start_time": "2023-08-18T08:55:09.032Z"
   },
   {
    "duration": 16,
    "start_time": "2023-08-18T08:58:05.837Z"
   },
   {
    "duration": 46,
    "start_time": "2023-08-18T08:58:08.087Z"
   },
   {
    "duration": 40,
    "start_time": "2023-08-18T08:58:34.682Z"
   },
   {
    "duration": 24,
    "start_time": "2023-08-18T08:58:41.802Z"
   },
   {
    "duration": 17,
    "start_time": "2023-08-18T08:58:54.248Z"
   },
   {
    "duration": 23,
    "start_time": "2023-08-18T08:58:57.578Z"
   },
   {
    "duration": 43,
    "start_time": "2023-08-18T08:59:01.162Z"
   },
   {
    "duration": 41,
    "start_time": "2023-08-18T09:00:01.883Z"
   },
   {
    "duration": 23,
    "start_time": "2023-08-18T09:00:21.863Z"
   },
   {
    "duration": 80,
    "start_time": "2023-08-18T09:01:19.382Z"
   },
   {
    "duration": 90,
    "start_time": "2023-08-18T09:01:38.518Z"
   },
   {
    "duration": 66,
    "start_time": "2023-08-18T09:03:12.110Z"
   },
   {
    "duration": 64,
    "start_time": "2023-08-18T09:03:32.595Z"
   },
   {
    "duration": 64,
    "start_time": "2023-08-18T09:04:36.100Z"
   },
   {
    "duration": 64,
    "start_time": "2023-08-18T09:04:40.969Z"
   },
   {
    "duration": 88,
    "start_time": "2023-08-18T09:05:43.212Z"
   },
   {
    "duration": 17,
    "start_time": "2023-08-18T09:07:19.810Z"
   },
   {
    "duration": 15,
    "start_time": "2023-08-18T09:07:33.118Z"
   },
   {
    "duration": 6,
    "start_time": "2023-08-18T09:08:05.314Z"
   },
   {
    "duration": 34,
    "start_time": "2023-08-18T09:10:00.468Z"
   },
   {
    "duration": 35,
    "start_time": "2023-08-18T09:19:25.147Z"
   },
   {
    "duration": 111,
    "start_time": "2023-08-18T09:19:53.210Z"
   },
   {
    "duration": 14,
    "start_time": "2023-08-18T09:19:53.323Z"
   },
   {
    "duration": 2155,
    "start_time": "2023-08-18T09:19:53.338Z"
   },
   {
    "duration": 9,
    "start_time": "2023-08-18T09:19:55.495Z"
   },
   {
    "duration": 4,
    "start_time": "2023-08-18T09:19:55.506Z"
   },
   {
    "duration": 26,
    "start_time": "2023-08-18T09:19:55.512Z"
   },
   {
    "duration": 8,
    "start_time": "2023-08-18T09:19:55.540Z"
   },
   {
    "duration": 29,
    "start_time": "2023-08-18T09:19:55.550Z"
   },
   {
    "duration": 26,
    "start_time": "2023-08-18T09:19:55.581Z"
   },
   {
    "duration": 35,
    "start_time": "2023-08-18T09:19:55.609Z"
   },
   {
    "duration": 27,
    "start_time": "2023-08-18T09:19:55.646Z"
   },
   {
    "duration": 28,
    "start_time": "2023-08-18T09:19:55.675Z"
   },
   {
    "duration": 112,
    "start_time": "2023-08-18T09:19:55.704Z"
   },
   {
    "duration": 17,
    "start_time": "2023-08-18T09:19:55.818Z"
   },
   {
    "duration": 32,
    "start_time": "2023-08-18T09:19:55.837Z"
   },
   {
    "duration": 45,
    "start_time": "2023-08-18T09:19:55.871Z"
   },
   {
    "duration": 232,
    "start_time": "2023-08-18T09:19:55.918Z"
   },
   {
    "duration": 61,
    "start_time": "2023-08-18T09:19:56.152Z"
   },
   {
    "duration": 33,
    "start_time": "2023-08-18T09:20:13.468Z"
   },
   {
    "duration": 54,
    "start_time": "2023-08-18T09:21:36.719Z"
   },
   {
    "duration": 52,
    "start_time": "2023-08-18T09:21:44.495Z"
   },
   {
    "duration": 21,
    "start_time": "2023-08-18T09:52:14.453Z"
   },
   {
    "duration": 28,
    "start_time": "2023-08-18T09:52:22.327Z"
   },
   {
    "duration": 6,
    "start_time": "2023-08-18T09:52:36.134Z"
   },
   {
    "duration": 10,
    "start_time": "2023-08-18T10:12:43.536Z"
   },
   {
    "duration": 5,
    "start_time": "2023-08-18T10:12:50.202Z"
   },
   {
    "duration": 18,
    "start_time": "2023-08-18T10:14:03.790Z"
   },
   {
    "duration": 12,
    "start_time": "2023-08-18T10:14:10.688Z"
   },
   {
    "duration": 14,
    "start_time": "2023-08-18T10:31:38.392Z"
   },
   {
    "duration": 11,
    "start_time": "2023-08-18T10:36:45.200Z"
   },
   {
    "duration": 14,
    "start_time": "2023-08-18T10:37:32.145Z"
   },
   {
    "duration": 16,
    "start_time": "2023-08-18T10:37:40.735Z"
   },
   {
    "duration": 16,
    "start_time": "2023-08-18T10:37:46.218Z"
   },
   {
    "duration": 515,
    "start_time": "2023-08-18T10:50:35.892Z"
   },
   {
    "duration": 336,
    "start_time": "2023-08-18T12:14:24.548Z"
   },
   {
    "duration": 430,
    "start_time": "2023-08-18T12:15:08.244Z"
   },
   {
    "duration": 370,
    "start_time": "2023-08-18T12:15:25.710Z"
   },
   {
    "duration": 447,
    "start_time": "2023-08-18T12:19:01.657Z"
   },
   {
    "duration": 141,
    "start_time": "2023-08-18T13:02:39.445Z"
   },
   {
    "duration": 191,
    "start_time": "2023-08-18T13:03:54.007Z"
   },
   {
    "duration": 174,
    "start_time": "2023-08-18T13:04:07.986Z"
   },
   {
    "duration": 249,
    "start_time": "2023-08-18T13:04:13.611Z"
   },
   {
    "duration": 286,
    "start_time": "2023-08-18T13:04:42.011Z"
   },
   {
    "duration": 609,
    "start_time": "2023-08-18T13:05:12.227Z"
   },
   {
    "duration": 367,
    "start_time": "2023-08-18T13:05:29.285Z"
   },
   {
    "duration": 288,
    "start_time": "2023-08-18T13:06:11.292Z"
   },
   {
    "duration": 242,
    "start_time": "2023-08-18T13:06:26.002Z"
   },
   {
    "duration": 3,
    "start_time": "2023-08-18T13:06:48.479Z"
   },
   {
    "duration": 2,
    "start_time": "2023-08-18T13:06:54.901Z"
   },
   {
    "duration": 263,
    "start_time": "2023-08-18T13:07:24.357Z"
   },
   {
    "duration": 283,
    "start_time": "2023-08-18T13:49:28.182Z"
   },
   {
    "duration": 274,
    "start_time": "2023-08-18T13:52:26.998Z"
   },
   {
    "duration": 531,
    "start_time": "2023-08-18T13:52:37.613Z"
   },
   {
    "duration": 298,
    "start_time": "2023-08-18T13:53:11.960Z"
   },
   {
    "duration": 2,
    "start_time": "2023-08-18T14:10:40.229Z"
   },
   {
    "duration": 355,
    "start_time": "2023-08-18T14:12:33.524Z"
   },
   {
    "duration": 428,
    "start_time": "2023-08-18T14:24:22.913Z"
   },
   {
    "duration": 6,
    "start_time": "2023-08-18T14:27:55.191Z"
   },
   {
    "duration": 5,
    "start_time": "2023-08-18T14:28:03.648Z"
   },
   {
    "duration": 285,
    "start_time": "2023-08-18T14:29:20.279Z"
   },
   {
    "duration": 6,
    "start_time": "2023-08-18T14:29:36.751Z"
   },
   {
    "duration": 273,
    "start_time": "2023-08-18T14:34:29.085Z"
   },
   {
    "duration": 284,
    "start_time": "2023-08-18T14:34:35.812Z"
   },
   {
    "duration": 272,
    "start_time": "2023-08-18T14:34:40.972Z"
   },
   {
    "duration": 264,
    "start_time": "2023-08-18T14:34:47.733Z"
   },
   {
    "duration": 270,
    "start_time": "2023-08-18T14:50:59.521Z"
   },
   {
    "duration": 164,
    "start_time": "2023-08-18T14:51:08.731Z"
   },
   {
    "duration": 438,
    "start_time": "2023-08-18T14:51:42.183Z"
   },
   {
    "duration": 158,
    "start_time": "2023-08-18T14:52:11.196Z"
   },
   {
    "duration": 150,
    "start_time": "2023-08-18T14:52:21.178Z"
   },
   {
    "duration": 249,
    "start_time": "2023-08-18T14:52:29.219Z"
   },
   {
    "duration": 225,
    "start_time": "2023-08-18T14:52:40.167Z"
   },
   {
    "duration": 172,
    "start_time": "2023-08-18T14:52:48.340Z"
   },
   {
    "duration": 157,
    "start_time": "2023-08-18T14:53:17.477Z"
   },
   {
    "duration": 173,
    "start_time": "2023-08-18T14:53:30.294Z"
   },
   {
    "duration": 47,
    "start_time": "2023-08-18T19:43:27.513Z"
   },
   {
    "duration": 576,
    "start_time": "2023-08-18T19:43:35.211Z"
   },
   {
    "duration": 13,
    "start_time": "2023-08-18T19:43:35.789Z"
   },
   {
    "duration": 2244,
    "start_time": "2023-08-18T19:43:35.803Z"
   },
   {
    "duration": 10,
    "start_time": "2023-08-18T19:43:38.049Z"
   },
   {
    "duration": 15,
    "start_time": "2023-08-18T19:43:38.060Z"
   },
   {
    "duration": 16,
    "start_time": "2023-08-18T19:43:38.077Z"
   },
   {
    "duration": 6,
    "start_time": "2023-08-18T19:43:38.095Z"
   },
   {
    "duration": 16,
    "start_time": "2023-08-18T19:43:38.103Z"
   },
   {
    "duration": 18,
    "start_time": "2023-08-18T19:43:38.120Z"
   },
   {
    "duration": 34,
    "start_time": "2023-08-18T19:43:38.142Z"
   },
   {
    "duration": 16,
    "start_time": "2023-08-18T19:43:38.178Z"
   },
   {
    "duration": 8,
    "start_time": "2023-08-18T19:43:38.195Z"
   },
   {
    "duration": 124,
    "start_time": "2023-08-18T19:43:38.204Z"
   },
   {
    "duration": 14,
    "start_time": "2023-08-18T19:43:38.330Z"
   },
   {
    "duration": 29,
    "start_time": "2023-08-18T19:43:38.346Z"
   },
   {
    "duration": 65,
    "start_time": "2023-08-18T19:43:38.377Z"
   },
   {
    "duration": 218,
    "start_time": "2023-08-18T19:43:38.444Z"
   },
   {
    "duration": 12,
    "start_time": "2023-08-18T19:43:38.664Z"
   },
   {
    "duration": 278,
    "start_time": "2023-08-18T19:43:38.678Z"
   },
   {
    "duration": 217,
    "start_time": "2023-08-18T19:43:38.958Z"
   },
   {
    "duration": 299,
    "start_time": "2023-08-18T19:43:39.177Z"
   },
   {
    "duration": 233,
    "start_time": "2023-08-18T19:43:39.478Z"
   },
   {
    "duration": 254,
    "start_time": "2023-08-18T19:43:39.713Z"
   },
   {
    "duration": 288,
    "start_time": "2023-08-18T19:43:39.968Z"
   },
   {
    "duration": 343,
    "start_time": "2023-08-18T19:43:40.258Z"
   },
   {
    "duration": 350,
    "start_time": "2023-08-18T19:43:40.603Z"
   },
   {
    "duration": 224,
    "start_time": "2023-08-18T19:43:40.955Z"
   },
   {
    "duration": 4,
    "start_time": "2023-08-18T19:43:41.182Z"
   },
   {
    "duration": 165,
    "start_time": "2023-08-18T19:43:41.187Z"
   },
   {
    "duration": 5,
    "start_time": "2023-08-18T19:43:44.288Z"
   },
   {
    "duration": 166,
    "start_time": "2023-08-18T19:46:02.573Z"
   },
   {
    "duration": 145,
    "start_time": "2023-08-18T19:57:11.031Z"
   },
   {
    "duration": 6,
    "start_time": "2023-08-18T19:58:12.295Z"
   },
   {
    "duration": 141,
    "start_time": "2023-08-18T19:58:44.995Z"
   },
   {
    "duration": 139,
    "start_time": "2023-08-18T19:58:59.252Z"
   },
   {
    "duration": 185,
    "start_time": "2023-08-18T19:59:43.071Z"
   },
   {
    "duration": 193,
    "start_time": "2023-08-18T19:59:54.888Z"
   },
   {
    "duration": 5,
    "start_time": "2023-08-18T20:02:17.428Z"
   },
   {
    "duration": 111,
    "start_time": "2023-08-18T20:42:08.165Z"
   },
   {
    "duration": 7,
    "start_time": "2023-08-18T20:42:43.038Z"
   },
   {
    "duration": 99,
    "start_time": "2023-08-18T21:37:25.948Z"
   },
   {
    "duration": 230,
    "start_time": "2023-08-18T21:56:27.425Z"
   },
   {
    "duration": 6,
    "start_time": "2023-08-18T21:56:51.473Z"
   },
   {
    "duration": 139,
    "start_time": "2023-08-18T22:12:14.545Z"
   },
   {
    "duration": 143,
    "start_time": "2023-08-18T22:24:09.812Z"
   },
   {
    "duration": 129,
    "start_time": "2023-08-18T22:28:57.510Z"
   },
   {
    "duration": 147,
    "start_time": "2023-08-18T22:29:02.640Z"
   },
   {
    "duration": 141,
    "start_time": "2023-08-18T22:29:08.969Z"
   },
   {
    "duration": 143,
    "start_time": "2023-08-18T22:29:12.018Z"
   },
   {
    "duration": 147,
    "start_time": "2023-08-18T22:31:27.960Z"
   },
   {
    "duration": 145,
    "start_time": "2023-08-18T22:31:38.135Z"
   },
   {
    "duration": 154,
    "start_time": "2023-08-18T22:31:48.659Z"
   },
   {
    "duration": 6,
    "start_time": "2023-08-18T22:36:13.478Z"
   },
   {
    "duration": 152,
    "start_time": "2023-08-18T22:36:41.451Z"
   },
   {
    "duration": 153,
    "start_time": "2023-08-18T22:36:52.810Z"
   },
   {
    "duration": 106,
    "start_time": "2023-08-18T22:39:40.824Z"
   },
   {
    "duration": 57,
    "start_time": "2023-08-19T06:39:35.563Z"
   },
   {
    "duration": 763,
    "start_time": "2023-08-19T06:39:43.160Z"
   },
   {
    "duration": 18,
    "start_time": "2023-08-19T06:39:43.933Z"
   },
   {
    "duration": 2509,
    "start_time": "2023-08-19T06:39:43.953Z"
   },
   {
    "duration": 10,
    "start_time": "2023-08-19T06:39:46.464Z"
   },
   {
    "duration": 35,
    "start_time": "2023-08-19T06:39:46.477Z"
   },
   {
    "duration": 57,
    "start_time": "2023-08-19T06:39:46.514Z"
   },
   {
    "duration": 70,
    "start_time": "2023-08-19T06:39:46.573Z"
   },
   {
    "duration": 58,
    "start_time": "2023-08-19T06:39:46.645Z"
   },
   {
    "duration": 16,
    "start_time": "2023-08-19T06:39:46.705Z"
   },
   {
    "duration": 66,
    "start_time": "2023-08-19T06:39:46.723Z"
   },
   {
    "duration": 55,
    "start_time": "2023-08-19T06:39:46.791Z"
   },
   {
    "duration": 22,
    "start_time": "2023-08-19T06:39:46.848Z"
   },
   {
    "duration": 116,
    "start_time": "2023-08-19T06:39:46.872Z"
   },
   {
    "duration": 15,
    "start_time": "2023-08-19T06:39:46.990Z"
   },
   {
    "duration": 42,
    "start_time": "2023-08-19T06:39:47.006Z"
   },
   {
    "duration": 34,
    "start_time": "2023-08-19T06:39:47.050Z"
   },
   {
    "duration": 271,
    "start_time": "2023-08-19T06:39:47.086Z"
   },
   {
    "duration": 4,
    "start_time": "2023-08-19T06:39:47.359Z"
   },
   {
    "duration": 364,
    "start_time": "2023-08-19T06:39:47.365Z"
   },
   {
    "duration": 228,
    "start_time": "2023-08-19T06:39:47.730Z"
   },
   {
    "duration": 329,
    "start_time": "2023-08-19T06:39:47.960Z"
   },
   {
    "duration": 261,
    "start_time": "2023-08-19T06:39:48.291Z"
   },
   {
    "duration": 253,
    "start_time": "2023-08-19T06:39:48.554Z"
   },
   {
    "duration": 279,
    "start_time": "2023-08-19T06:39:48.808Z"
   },
   {
    "duration": 271,
    "start_time": "2023-08-19T06:39:49.089Z"
   },
   {
    "duration": 382,
    "start_time": "2023-08-19T06:39:49.362Z"
   },
   {
    "duration": 267,
    "start_time": "2023-08-19T06:39:49.746Z"
   },
   {
    "duration": 15,
    "start_time": "2023-08-19T06:39:50.014Z"
   },
   {
    "duration": 212,
    "start_time": "2023-08-19T06:39:50.031Z"
   },
   {
    "duration": 4,
    "start_time": "2023-08-19T06:39:50.245Z"
   },
   {
    "duration": 236,
    "start_time": "2023-08-19T06:39:50.251Z"
   },
   {
    "duration": 195,
    "start_time": "2023-08-19T06:39:50.489Z"
   },
   {
    "duration": 130,
    "start_time": "2023-08-19T06:39:50.686Z"
   },
   {
    "duration": 13,
    "start_time": "2023-08-19T06:39:50.817Z"
   },
   {
    "duration": 178,
    "start_time": "2023-08-19T06:39:50.832Z"
   },
   {
    "duration": 165,
    "start_time": "2023-08-19T06:39:51.012Z"
   },
   {
    "duration": 199,
    "start_time": "2023-08-19T06:39:51.178Z"
   },
   {
    "duration": 214,
    "start_time": "2023-08-19T06:39:51.379Z"
   },
   {
    "duration": 196,
    "start_time": "2023-08-19T06:39:51.595Z"
   },
   {
    "duration": 356,
    "start_time": "2023-08-19T06:39:51.793Z"
   },
   {
    "duration": 162,
    "start_time": "2023-08-19T06:39:52.153Z"
   },
   {
    "duration": 286,
    "start_time": "2023-08-19T06:39:52.317Z"
   },
   {
    "duration": 232,
    "start_time": "2023-08-19T06:40:40.599Z"
   },
   {
    "duration": 222,
    "start_time": "2023-08-19T06:40:52.146Z"
   },
   {
    "duration": 5,
    "start_time": "2023-08-19T06:41:06.388Z"
   },
   {
    "duration": 247,
    "start_time": "2023-08-19T06:41:14.218Z"
   },
   {
    "duration": 72,
    "start_time": "2023-08-19T06:55:33.927Z"
   },
   {
    "duration": 8,
    "start_time": "2023-08-19T06:56:00.426Z"
   },
   {
    "duration": 5,
    "start_time": "2023-08-19T06:56:35.426Z"
   },
   {
    "duration": 6,
    "start_time": "2023-08-19T06:58:06.018Z"
   },
   {
    "duration": 6,
    "start_time": "2023-08-19T07:08:46.014Z"
   },
   {
    "duration": 270,
    "start_time": "2023-08-19T07:09:54.576Z"
   },
   {
    "duration": 297,
    "start_time": "2023-08-19T07:10:11.156Z"
   },
   {
    "duration": 43,
    "start_time": "2023-08-19T14:38:13.791Z"
   },
   {
    "duration": 722,
    "start_time": "2023-08-19T14:38:26.874Z"
   },
   {
    "duration": 15,
    "start_time": "2023-08-19T14:38:27.597Z"
   },
   {
    "duration": 2174,
    "start_time": "2023-08-19T14:38:27.613Z"
   },
   {
    "duration": 10,
    "start_time": "2023-08-19T14:38:29.789Z"
   },
   {
    "duration": 4,
    "start_time": "2023-08-19T14:38:29.801Z"
   },
   {
    "duration": 13,
    "start_time": "2023-08-19T14:38:29.807Z"
   },
   {
    "duration": 4,
    "start_time": "2023-08-19T14:38:29.822Z"
   },
   {
    "duration": 10,
    "start_time": "2023-08-19T14:38:29.828Z"
   },
   {
    "duration": 21,
    "start_time": "2023-08-19T14:38:29.839Z"
   },
   {
    "duration": 10,
    "start_time": "2023-08-19T14:38:29.861Z"
   },
   {
    "duration": 13,
    "start_time": "2023-08-19T14:38:29.872Z"
   },
   {
    "duration": 7,
    "start_time": "2023-08-19T14:38:29.887Z"
   },
   {
    "duration": 117,
    "start_time": "2023-08-19T14:38:29.895Z"
   },
   {
    "duration": 17,
    "start_time": "2023-08-19T14:38:30.015Z"
   },
   {
    "duration": 58,
    "start_time": "2023-08-19T14:38:30.034Z"
   },
   {
    "duration": 47,
    "start_time": "2023-08-19T14:38:30.094Z"
   },
   {
    "duration": 231,
    "start_time": "2023-08-19T14:38:30.143Z"
   },
   {
    "duration": 5,
    "start_time": "2023-08-19T14:38:30.375Z"
   },
   {
    "duration": 377,
    "start_time": "2023-08-19T14:38:30.381Z"
   },
   {
    "duration": 211,
    "start_time": "2023-08-19T14:38:30.760Z"
   },
   {
    "duration": 294,
    "start_time": "2023-08-19T14:38:30.973Z"
   },
   {
    "duration": 232,
    "start_time": "2023-08-19T14:38:31.269Z"
   },
   {
    "duration": 240,
    "start_time": "2023-08-19T14:38:31.503Z"
   },
   {
    "duration": 236,
    "start_time": "2023-08-19T14:38:31.745Z"
   },
   {
    "duration": 243,
    "start_time": "2023-08-19T14:38:31.983Z"
   },
   {
    "duration": 329,
    "start_time": "2023-08-19T14:38:32.227Z"
   },
   {
    "duration": 226,
    "start_time": "2023-08-19T14:38:32.558Z"
   },
   {
    "duration": 5,
    "start_time": "2023-08-19T14:38:32.786Z"
   },
   {
    "duration": 167,
    "start_time": "2023-08-19T14:38:32.793Z"
   },
   {
    "duration": 4,
    "start_time": "2023-08-19T14:38:32.962Z"
   },
   {
    "duration": 161,
    "start_time": "2023-08-19T14:38:32.967Z"
   },
   {
    "duration": 169,
    "start_time": "2023-08-19T14:38:33.129Z"
   },
   {
    "duration": 113,
    "start_time": "2023-08-19T14:38:33.299Z"
   },
   {
    "duration": 7,
    "start_time": "2023-08-19T14:38:33.414Z"
   },
   {
    "duration": 161,
    "start_time": "2023-08-19T14:38:33.422Z"
   },
   {
    "duration": 148,
    "start_time": "2023-08-19T14:38:33.585Z"
   },
   {
    "duration": 153,
    "start_time": "2023-08-19T14:38:33.734Z"
   },
   {
    "duration": 156,
    "start_time": "2023-08-19T14:38:33.889Z"
   },
   {
    "duration": 151,
    "start_time": "2023-08-19T14:38:34.052Z"
   },
   {
    "duration": 260,
    "start_time": "2023-08-19T14:38:34.205Z"
   },
   {
    "duration": 120,
    "start_time": "2023-08-19T14:38:34.468Z"
   },
   {
    "duration": 205,
    "start_time": "2023-08-19T14:38:34.590Z"
   },
   {
    "duration": 218,
    "start_time": "2023-08-19T14:38:34.796Z"
   },
   {
    "duration": 5,
    "start_time": "2023-08-19T14:38:35.016Z"
   },
   {
    "duration": 7,
    "start_time": "2023-08-19T14:38:35.022Z"
   },
   {
    "duration": 10,
    "start_time": "2023-08-19T14:38:35.031Z"
   },
   {
    "duration": 4,
    "start_time": "2023-08-19T14:38:35.052Z"
   },
   {
    "duration": 23,
    "start_time": "2023-08-19T14:38:35.058Z"
   },
   {
    "duration": 45,
    "start_time": "2023-08-19T14:40:19.873Z"
   },
   {
    "duration": 1444,
    "start_time": "2023-08-19T14:53:04.908Z"
   },
   {
    "duration": 48,
    "start_time": "2023-08-19T14:53:18.707Z"
   },
   {
    "duration": 49,
    "start_time": "2023-08-19T14:53:31.428Z"
   },
   {
    "duration": 43,
    "start_time": "2023-08-19T14:53:44.506Z"
   },
   {
    "duration": 1774,
    "start_time": "2023-08-19T14:54:24.606Z"
   },
   {
    "duration": 142,
    "start_time": "2023-08-19T14:56:22.197Z"
   },
   {
    "duration": 153,
    "start_time": "2023-08-19T14:57:06.478Z"
   },
   {
    "duration": 138,
    "start_time": "2023-08-19T14:59:36.033Z"
   },
   {
    "duration": 48,
    "start_time": "2023-08-19T15:12:24.816Z"
   },
   {
    "duration": 1774,
    "start_time": "2023-08-19T15:13:06.001Z"
   },
   {
    "duration": 1658,
    "start_time": "2023-08-19T15:16:27.021Z"
   },
   {
    "duration": 1924,
    "start_time": "2023-08-19T15:17:29.015Z"
   },
   {
    "duration": 1553,
    "start_time": "2023-08-19T15:17:46.312Z"
   },
   {
    "duration": 204,
    "start_time": "2023-08-19T15:25:03.164Z"
   },
   {
    "duration": 53,
    "start_time": "2023-08-19T15:25:31.953Z"
   },
   {
    "duration": 54,
    "start_time": "2023-08-19T15:25:52.555Z"
   },
   {
    "duration": 174,
    "start_time": "2023-08-19T15:26:04.765Z"
   },
   {
    "duration": 165,
    "start_time": "2023-08-19T15:26:58.788Z"
   },
   {
    "duration": 180,
    "start_time": "2023-08-19T15:27:23.544Z"
   },
   {
    "duration": 6,
    "start_time": "2023-08-19T15:37:02.067Z"
   },
   {
    "duration": 6,
    "start_time": "2023-08-19T15:38:56.278Z"
   },
   {
    "duration": 127,
    "start_time": "2023-08-19T15:39:35.274Z"
   },
   {
    "duration": 14,
    "start_time": "2023-08-19T15:39:35.402Z"
   },
   {
    "duration": 2131,
    "start_time": "2023-08-19T15:39:35.417Z"
   },
   {
    "duration": 15,
    "start_time": "2023-08-19T15:39:37.549Z"
   },
   {
    "duration": 8,
    "start_time": "2023-08-19T15:39:37.566Z"
   },
   {
    "duration": 9,
    "start_time": "2023-08-19T15:39:37.576Z"
   },
   {
    "duration": 4,
    "start_time": "2023-08-19T15:39:37.587Z"
   },
   {
    "duration": 12,
    "start_time": "2023-08-19T15:39:37.592Z"
   },
   {
    "duration": 11,
    "start_time": "2023-08-19T15:39:37.605Z"
   },
   {
    "duration": 14,
    "start_time": "2023-08-19T15:39:37.653Z"
   },
   {
    "duration": 11,
    "start_time": "2023-08-19T15:39:37.670Z"
   },
   {
    "duration": 7,
    "start_time": "2023-08-19T15:39:37.683Z"
   },
   {
    "duration": 131,
    "start_time": "2023-08-19T15:39:37.692Z"
   },
   {
    "duration": 15,
    "start_time": "2023-08-19T15:39:37.825Z"
   },
   {
    "duration": 30,
    "start_time": "2023-08-19T15:39:37.841Z"
   },
   {
    "duration": 24,
    "start_time": "2023-08-19T15:39:37.874Z"
   },
   {
    "duration": 286,
    "start_time": "2023-08-19T15:39:37.900Z"
   },
   {
    "duration": 7,
    "start_time": "2023-08-19T15:39:38.187Z"
   },
   {
    "duration": 381,
    "start_time": "2023-08-19T15:39:38.195Z"
   },
   {
    "duration": 226,
    "start_time": "2023-08-19T15:39:38.578Z"
   },
   {
    "duration": 441,
    "start_time": "2023-08-19T15:39:38.805Z"
   },
   {
    "duration": 271,
    "start_time": "2023-08-19T15:39:39.252Z"
   },
   {
    "duration": 256,
    "start_time": "2023-08-19T15:39:39.524Z"
   },
   {
    "duration": 261,
    "start_time": "2023-08-19T15:39:39.782Z"
   },
   {
    "duration": 263,
    "start_time": "2023-08-19T15:39:40.045Z"
   },
   {
    "duration": 242,
    "start_time": "2023-08-19T15:39:40.310Z"
   },
   {
    "duration": 253,
    "start_time": "2023-08-19T15:39:40.554Z"
   },
   {
    "duration": 4,
    "start_time": "2023-08-19T15:39:40.809Z"
   },
   {
    "duration": 174,
    "start_time": "2023-08-19T15:39:40.814Z"
   },
   {
    "duration": 4,
    "start_time": "2023-08-19T15:39:40.990Z"
   },
   {
    "duration": 184,
    "start_time": "2023-08-19T15:39:40.995Z"
   },
   {
    "duration": 195,
    "start_time": "2023-08-19T15:39:41.181Z"
   },
   {
    "duration": 131,
    "start_time": "2023-08-19T15:39:41.378Z"
   },
   {
    "duration": 7,
    "start_time": "2023-08-19T15:39:41.511Z"
   },
   {
    "duration": 191,
    "start_time": "2023-08-19T15:39:41.520Z"
   },
   {
    "duration": 343,
    "start_time": "2023-08-19T15:39:41.713Z"
   },
   {
    "duration": 169,
    "start_time": "2023-08-19T15:39:42.058Z"
   },
   {
    "duration": 176,
    "start_time": "2023-08-19T15:39:42.228Z"
   },
   {
    "duration": 170,
    "start_time": "2023-08-19T15:39:42.406Z"
   },
   {
    "duration": 164,
    "start_time": "2023-08-19T15:39:42.578Z"
   },
   {
    "duration": 142,
    "start_time": "2023-08-19T15:39:42.752Z"
   },
   {
    "duration": 232,
    "start_time": "2023-08-19T15:39:42.897Z"
   },
   {
    "duration": 246,
    "start_time": "2023-08-19T15:39:43.130Z"
   },
   {
    "duration": 6,
    "start_time": "2023-08-19T15:39:43.377Z"
   },
   {
    "duration": 4,
    "start_time": "2023-08-19T15:39:43.384Z"
   },
   {
    "duration": 7,
    "start_time": "2023-08-19T15:39:43.390Z"
   },
   {
    "duration": 4,
    "start_time": "2023-08-19T15:39:43.398Z"
   },
   {
    "duration": 220,
    "start_time": "2023-08-19T15:39:43.403Z"
   },
   {
    "duration": 10,
    "start_time": "2023-08-19T15:42:41.750Z"
   },
   {
    "duration": 250,
    "start_time": "2023-08-19T15:43:42.275Z"
   },
   {
    "duration": 10,
    "start_time": "2023-08-19T15:44:52.642Z"
   },
   {
    "duration": 220,
    "start_time": "2023-08-19T15:45:47.499Z"
   },
   {
    "duration": 12,
    "start_time": "2023-08-19T15:50:34.933Z"
   },
   {
    "duration": 116,
    "start_time": "2023-08-19T15:52:18.972Z"
   },
   {
    "duration": 13,
    "start_time": "2023-08-19T15:52:19.090Z"
   },
   {
    "duration": 2013,
    "start_time": "2023-08-19T15:52:19.105Z"
   },
   {
    "duration": 10,
    "start_time": "2023-08-19T15:52:21.121Z"
   },
   {
    "duration": 20,
    "start_time": "2023-08-19T15:52:21.133Z"
   },
   {
    "duration": 11,
    "start_time": "2023-08-19T15:52:21.155Z"
   },
   {
    "duration": 6,
    "start_time": "2023-08-19T15:52:21.168Z"
   },
   {
    "duration": 20,
    "start_time": "2023-08-19T15:52:21.176Z"
   },
   {
    "duration": 15,
    "start_time": "2023-08-19T15:52:21.197Z"
   },
   {
    "duration": 13,
    "start_time": "2023-08-19T15:52:21.216Z"
   },
   {
    "duration": 18,
    "start_time": "2023-08-19T15:52:21.251Z"
   },
   {
    "duration": 20,
    "start_time": "2023-08-19T15:52:21.272Z"
   },
   {
    "duration": 122,
    "start_time": "2023-08-19T15:52:21.294Z"
   },
   {
    "duration": 16,
    "start_time": "2023-08-19T15:52:21.417Z"
   },
   {
    "duration": 32,
    "start_time": "2023-08-19T15:52:21.434Z"
   },
   {
    "duration": 25,
    "start_time": "2023-08-19T15:52:21.468Z"
   },
   {
    "duration": 242,
    "start_time": "2023-08-19T15:52:21.494Z"
   },
   {
    "duration": 14,
    "start_time": "2023-08-19T15:52:21.738Z"
   },
   {
    "duration": 305,
    "start_time": "2023-08-19T15:52:21.753Z"
   },
   {
    "duration": 225,
    "start_time": "2023-08-19T15:52:22.060Z"
   },
   {
    "duration": 255,
    "start_time": "2023-08-19T15:52:22.287Z"
   },
   {
    "duration": 236,
    "start_time": "2023-08-19T15:52:22.544Z"
   },
   {
    "duration": 236,
    "start_time": "2023-08-19T15:52:22.782Z"
   },
   {
    "duration": 270,
    "start_time": "2023-08-19T15:52:23.019Z"
   },
   {
    "duration": 244,
    "start_time": "2023-08-19T15:52:23.291Z"
   },
   {
    "duration": 223,
    "start_time": "2023-08-19T15:52:23.536Z"
   },
   {
    "duration": 242,
    "start_time": "2023-08-19T15:52:23.761Z"
   },
   {
    "duration": 3,
    "start_time": "2023-08-19T15:52:24.006Z"
   },
   {
    "duration": 171,
    "start_time": "2023-08-19T15:52:24.011Z"
   },
   {
    "duration": 4,
    "start_time": "2023-08-19T15:52:24.183Z"
   },
   {
    "duration": 179,
    "start_time": "2023-08-19T15:52:24.189Z"
   },
   {
    "duration": 188,
    "start_time": "2023-08-19T15:52:24.370Z"
   },
   {
    "duration": 383,
    "start_time": "2023-08-19T15:52:24.560Z"
   },
   {
    "duration": 7,
    "start_time": "2023-08-19T15:52:24.953Z"
   },
   {
    "duration": 172,
    "start_time": "2023-08-19T15:52:24.962Z"
   },
   {
    "duration": 159,
    "start_time": "2023-08-19T15:52:25.136Z"
   },
   {
    "duration": 170,
    "start_time": "2023-08-19T15:52:25.297Z"
   },
   {
    "duration": 153,
    "start_time": "2023-08-19T15:52:25.469Z"
   },
   {
    "duration": 154,
    "start_time": "2023-08-19T15:52:25.624Z"
   },
   {
    "duration": 167,
    "start_time": "2023-08-19T15:52:25.780Z"
   },
   {
    "duration": 131,
    "start_time": "2023-08-19T15:52:25.949Z"
   },
   {
    "duration": 199,
    "start_time": "2023-08-19T15:52:26.082Z"
   },
   {
    "duration": 233,
    "start_time": "2023-08-19T15:52:26.283Z"
   },
   {
    "duration": 5,
    "start_time": "2023-08-19T15:52:26.518Z"
   },
   {
    "duration": 5,
    "start_time": "2023-08-19T15:52:26.525Z"
   },
   {
    "duration": 39,
    "start_time": "2023-08-19T15:52:26.532Z"
   },
   {
    "duration": 4,
    "start_time": "2023-08-19T15:52:26.573Z"
   },
   {
    "duration": 183,
    "start_time": "2023-08-19T15:52:58.448Z"
   },
   {
    "duration": 122,
    "start_time": "2023-08-19T15:55:52.903Z"
   },
   {
    "duration": 139,
    "start_time": "2023-08-19T15:56:12.094Z"
   },
   {
    "duration": 1396,
    "start_time": "2023-08-19T15:56:31.817Z"
   },
   {
    "duration": 160,
    "start_time": "2023-08-19T15:57:43.253Z"
   },
   {
    "duration": 1590,
    "start_time": "2023-08-19T15:57:59.884Z"
   },
   {
    "duration": 142,
    "start_time": "2023-08-19T15:58:11.240Z"
   },
   {
    "duration": 1416,
    "start_time": "2023-08-19T15:59:05.119Z"
   },
   {
    "duration": 1436,
    "start_time": "2023-08-19T15:59:24.645Z"
   },
   {
    "duration": 165,
    "start_time": "2023-08-19T15:59:55.730Z"
   },
   {
    "duration": 47,
    "start_time": "2023-08-19T16:00:51.964Z"
   },
   {
    "duration": 165,
    "start_time": "2023-08-19T16:01:04.135Z"
   },
   {
    "duration": 155,
    "start_time": "2023-08-19T16:01:17.834Z"
   },
   {
    "duration": 56,
    "start_time": "2023-08-20T20:40:52.494Z"
   },
   {
    "duration": 15,
    "start_time": "2023-08-20T20:43:23.140Z"
   },
   {
    "duration": 950,
    "start_time": "2023-08-20T20:43:28.568Z"
   },
   {
    "duration": 16,
    "start_time": "2023-08-20T20:43:29.520Z"
   },
   {
    "duration": 2998,
    "start_time": "2023-08-20T20:43:29.537Z"
   },
   {
    "duration": 11,
    "start_time": "2023-08-20T20:43:32.538Z"
   },
   {
    "duration": 24,
    "start_time": "2023-08-20T20:43:32.551Z"
   },
   {
    "duration": 20,
    "start_time": "2023-08-20T20:43:32.584Z"
   },
   {
    "duration": 5,
    "start_time": "2023-08-20T20:43:32.607Z"
   },
   {
    "duration": 19,
    "start_time": "2023-08-20T20:43:32.614Z"
   },
   {
    "duration": 18,
    "start_time": "2023-08-20T20:43:32.635Z"
   },
   {
    "duration": 47,
    "start_time": "2023-08-20T20:43:32.656Z"
   },
   {
    "duration": 36,
    "start_time": "2023-08-20T20:43:32.705Z"
   },
   {
    "duration": 12,
    "start_time": "2023-08-20T20:43:32.743Z"
   },
   {
    "duration": 162,
    "start_time": "2023-08-20T20:43:32.757Z"
   },
   {
    "duration": 52,
    "start_time": "2023-08-20T20:43:32.922Z"
   },
   {
    "duration": 27,
    "start_time": "2023-08-20T20:43:32.976Z"
   },
   {
    "duration": 25,
    "start_time": "2023-08-20T20:43:33.004Z"
   },
   {
    "duration": 306,
    "start_time": "2023-08-20T20:43:33.031Z"
   },
   {
    "duration": 19,
    "start_time": "2023-08-20T20:43:33.338Z"
   },
   {
    "duration": 427,
    "start_time": "2023-08-20T20:43:33.364Z"
   },
   {
    "duration": 252,
    "start_time": "2023-08-20T20:43:33.801Z"
   },
   {
    "duration": 360,
    "start_time": "2023-08-20T20:43:34.061Z"
   },
   {
    "duration": 285,
    "start_time": "2023-08-20T20:43:34.422Z"
   },
   {
    "duration": 295,
    "start_time": "2023-08-20T20:43:34.709Z"
   },
   {
    "duration": 309,
    "start_time": "2023-08-20T20:43:35.006Z"
   },
   {
    "duration": 310,
    "start_time": "2023-08-20T20:43:35.317Z"
   },
   {
    "duration": 427,
    "start_time": "2023-08-20T20:43:35.629Z"
   },
   {
    "duration": 281,
    "start_time": "2023-08-20T20:43:36.074Z"
   },
   {
    "duration": 7,
    "start_time": "2023-08-20T20:43:36.359Z"
   },
   {
    "duration": 224,
    "start_time": "2023-08-20T20:43:36.373Z"
   },
   {
    "duration": 12,
    "start_time": "2023-08-20T20:43:36.607Z"
   },
   {
    "duration": 199,
    "start_time": "2023-08-20T20:43:36.621Z"
   },
   {
    "duration": 219,
    "start_time": "2023-08-20T20:43:36.822Z"
   },
   {
    "duration": 180,
    "start_time": "2023-08-20T20:43:37.043Z"
   },
   {
    "duration": 8,
    "start_time": "2023-08-20T20:43:37.225Z"
   },
   {
    "duration": 180,
    "start_time": "2023-08-20T20:43:37.235Z"
   },
   {
    "duration": 197,
    "start_time": "2023-08-20T20:43:37.418Z"
   },
   {
    "duration": 208,
    "start_time": "2023-08-20T20:43:37.618Z"
   },
   {
    "duration": 236,
    "start_time": "2023-08-20T20:43:37.828Z"
   },
   {
    "duration": 227,
    "start_time": "2023-08-20T20:43:38.066Z"
   },
   {
    "duration": 421,
    "start_time": "2023-08-20T20:43:38.295Z"
   },
   {
    "duration": 174,
    "start_time": "2023-08-20T20:43:38.724Z"
   },
   {
    "duration": 361,
    "start_time": "2023-08-20T20:43:38.899Z"
   },
   {
    "duration": 363,
    "start_time": "2023-08-20T20:43:39.262Z"
   },
   {
    "duration": 6,
    "start_time": "2023-08-20T20:43:39.627Z"
   },
   {
    "duration": 6,
    "start_time": "2023-08-20T20:43:39.635Z"
   },
   {
    "duration": 6,
    "start_time": "2023-08-20T20:43:39.643Z"
   },
   {
    "duration": 19,
    "start_time": "2023-08-20T20:43:39.653Z"
   },
   {
    "duration": 49,
    "start_time": "2023-08-20T20:44:30.295Z"
   },
   {
    "duration": 75,
    "start_time": "2023-08-20T20:44:33.679Z"
   },
   {
    "duration": 165,
    "start_time": "2023-08-20T20:44:36.478Z"
   },
   {
    "duration": 157,
    "start_time": "2023-08-20T20:51:56.244Z"
   },
   {
    "duration": 150,
    "start_time": "2023-08-20T20:53:01.887Z"
   },
   {
    "duration": 154,
    "start_time": "2023-08-20T20:53:42.834Z"
   },
   {
    "duration": 158,
    "start_time": "2023-08-20T20:53:53.668Z"
   },
   {
    "duration": 378,
    "start_time": "2023-08-20T20:55:51.143Z"
   },
   {
    "duration": 149,
    "start_time": "2023-08-20T20:56:20.646Z"
   },
   {
    "duration": 180,
    "start_time": "2023-08-20T21:00:44.506Z"
   },
   {
    "duration": 158,
    "start_time": "2023-08-20T21:01:10.011Z"
   },
   {
    "duration": 150,
    "start_time": "2023-08-20T21:01:48.751Z"
   },
   {
    "duration": 154,
    "start_time": "2023-08-20T21:03:42.982Z"
   },
   {
    "duration": 159,
    "start_time": "2023-08-20T21:03:51.874Z"
   },
   {
    "duration": 153,
    "start_time": "2023-08-20T21:05:01.378Z"
   },
   {
    "duration": 144,
    "start_time": "2023-08-20T21:05:48.586Z"
   },
   {
    "duration": 145,
    "start_time": "2023-08-20T21:05:57.507Z"
   },
   {
    "duration": 11,
    "start_time": "2023-08-20T21:42:44.933Z"
   },
   {
    "duration": 23,
    "start_time": "2023-08-20T21:42:54.760Z"
   },
   {
    "duration": 17,
    "start_time": "2023-08-20T21:43:08.143Z"
   },
   {
    "duration": 15,
    "start_time": "2023-08-20T21:43:27.520Z"
   },
   {
    "duration": 16,
    "start_time": "2023-08-20T21:43:43.082Z"
   },
   {
    "duration": 26,
    "start_time": "2023-08-20T21:44:00.657Z"
   },
   {
    "duration": 14,
    "start_time": "2023-08-20T21:44:20.184Z"
   },
   {
    "duration": 22,
    "start_time": "2023-08-20T21:45:25.177Z"
   },
   {
    "duration": 59,
    "start_time": "2023-08-20T21:47:11.441Z"
   },
   {
    "duration": 35,
    "start_time": "2023-08-20T21:48:02.341Z"
   },
   {
    "duration": 36,
    "start_time": "2023-08-20T21:48:50.960Z"
   },
   {
    "duration": 28,
    "start_time": "2023-08-20T21:49:05.240Z"
   },
   {
    "duration": 20,
    "start_time": "2023-08-20T22:02:53.405Z"
   },
   {
    "duration": 23,
    "start_time": "2023-08-20T22:03:21.607Z"
   },
   {
    "duration": 8,
    "start_time": "2023-08-20T22:08:58.933Z"
   },
   {
    "duration": 30,
    "start_time": "2023-08-20T22:09:08.550Z"
   },
   {
    "duration": 171,
    "start_time": "2023-08-20T22:09:11.547Z"
   },
   {
    "duration": 1739,
    "start_time": "2023-08-20T22:14:53.677Z"
   },
   {
    "duration": 1627,
    "start_time": "2023-08-20T22:15:24.516Z"
   },
   {
    "duration": 4,
    "start_time": "2023-08-20T22:16:12.119Z"
   },
   {
    "duration": 1657,
    "start_time": "2023-08-20T22:16:45.707Z"
   },
   {
    "duration": 21,
    "start_time": "2023-08-20T22:18:19.620Z"
   },
   {
    "duration": 327,
    "start_time": "2023-08-20T22:18:24.638Z"
   },
   {
    "duration": 1768,
    "start_time": "2023-08-20T22:18:46.750Z"
   },
   {
    "duration": 157,
    "start_time": "2023-08-20T22:18:56.640Z"
   },
   {
    "duration": 1715,
    "start_time": "2023-08-20T22:18:59.421Z"
   },
   {
    "duration": 8,
    "start_time": "2023-08-20T22:19:18.605Z"
   },
   {
    "duration": 7,
    "start_time": "2023-08-20T22:20:11.208Z"
   },
   {
    "duration": 5,
    "start_time": "2023-08-20T22:20:45.502Z"
   },
   {
    "duration": 7,
    "start_time": "2023-08-20T22:21:06.480Z"
   },
   {
    "duration": 7,
    "start_time": "2023-08-20T22:21:28.388Z"
   },
   {
    "duration": 8,
    "start_time": "2023-08-20T22:21:54.747Z"
   },
   {
    "duration": 517,
    "start_time": "2023-08-20T23:09:57.093Z"
   },
   {
    "duration": 14,
    "start_time": "2023-08-20T23:09:57.612Z"
   },
   {
    "duration": 2090,
    "start_time": "2023-08-20T23:09:57.627Z"
   },
   {
    "duration": 10,
    "start_time": "2023-08-20T23:09:59.718Z"
   },
   {
    "duration": 12,
    "start_time": "2023-08-20T23:09:59.730Z"
   },
   {
    "duration": 30,
    "start_time": "2023-08-20T23:09:59.743Z"
   },
   {
    "duration": 24,
    "start_time": "2023-08-20T23:09:59.774Z"
   },
   {
    "duration": 17,
    "start_time": "2023-08-20T23:09:59.800Z"
   },
   {
    "duration": 15,
    "start_time": "2023-08-20T23:09:59.818Z"
   },
   {
    "duration": 10,
    "start_time": "2023-08-20T23:09:59.835Z"
   },
   {
    "duration": 15,
    "start_time": "2023-08-20T23:09:59.847Z"
   },
   {
    "duration": 20,
    "start_time": "2023-08-20T23:09:59.864Z"
   },
   {
    "duration": 120,
    "start_time": "2023-08-20T23:09:59.886Z"
   },
   {
    "duration": 109,
    "start_time": "2023-08-20T23:10:00.009Z"
   },
   {
    "duration": 436,
    "start_time": "2023-08-20T23:10:00.120Z"
   },
   {
    "duration": 482,
    "start_time": "2023-08-20T23:10:00.557Z"
   },
   {
    "duration": 352,
    "start_time": "2023-08-20T23:10:01.041Z"
   },
   {
    "duration": 6,
    "start_time": "2023-08-20T23:10:01.395Z"
   },
   {
    "duration": 343,
    "start_time": "2023-08-20T23:10:01.403Z"
   },
   {
    "duration": 242,
    "start_time": "2023-08-20T23:10:01.747Z"
   },
   {
    "duration": 314,
    "start_time": "2023-08-20T23:10:01.990Z"
   },
   {
    "duration": 248,
    "start_time": "2023-08-20T23:10:02.306Z"
   },
   {
    "duration": 261,
    "start_time": "2023-08-20T23:10:02.556Z"
   },
   {
    "duration": 241,
    "start_time": "2023-08-20T23:10:02.819Z"
   },
   {
    "duration": 261,
    "start_time": "2023-08-20T23:10:03.062Z"
   },
   {
    "duration": 232,
    "start_time": "2023-08-20T23:10:03.325Z"
   },
   {
    "duration": 322,
    "start_time": "2023-08-20T23:10:03.559Z"
   },
   {
    "duration": 5,
    "start_time": "2023-08-20T23:10:03.883Z"
   },
   {
    "duration": 185,
    "start_time": "2023-08-20T23:10:03.889Z"
   },
   {
    "duration": 5,
    "start_time": "2023-08-20T23:10:04.080Z"
   },
   {
    "duration": 172,
    "start_time": "2023-08-20T23:10:04.086Z"
   },
   {
    "duration": 193,
    "start_time": "2023-08-20T23:10:04.260Z"
   },
   {
    "duration": 129,
    "start_time": "2023-08-20T23:10:04.455Z"
   },
   {
    "duration": 9,
    "start_time": "2023-08-20T23:10:04.586Z"
   },
   {
    "duration": 176,
    "start_time": "2023-08-20T23:10:04.597Z"
   },
   {
    "duration": 165,
    "start_time": "2023-08-20T23:10:04.775Z"
   },
   {
    "duration": 181,
    "start_time": "2023-08-20T23:10:04.942Z"
   },
   {
    "duration": 160,
    "start_time": "2023-08-20T23:10:05.125Z"
   },
   {
    "duration": 166,
    "start_time": "2023-08-20T23:10:05.287Z"
   },
   {
    "duration": 177,
    "start_time": "2023-08-20T23:10:05.455Z"
   },
   {
    "duration": 237,
    "start_time": "2023-08-20T23:10:05.636Z"
   },
   {
    "duration": 207,
    "start_time": "2023-08-20T23:10:05.875Z"
   },
   {
    "duration": 250,
    "start_time": "2023-08-20T23:10:06.084Z"
   },
   {
    "duration": 6,
    "start_time": "2023-08-20T23:10:06.336Z"
   },
   {
    "duration": 7,
    "start_time": "2023-08-20T23:10:06.344Z"
   },
   {
    "duration": 30,
    "start_time": "2023-08-20T23:10:06.352Z"
   },
   {
    "duration": 4,
    "start_time": "2023-08-20T23:10:06.384Z"
   },
   {
    "duration": 54,
    "start_time": "2023-08-20T23:10:06.390Z"
   },
   {
    "duration": 160,
    "start_time": "2023-08-20T23:10:06.445Z"
   },
   {
    "duration": 174,
    "start_time": "2023-08-20T23:10:06.607Z"
   },
   {
    "duration": 170,
    "start_time": "2023-08-20T23:10:06.783Z"
   },
   {
    "duration": 146,
    "start_time": "2023-08-20T23:10:06.955Z"
   },
   {
    "duration": 148,
    "start_time": "2023-08-20T23:10:07.102Z"
   },
   {
    "duration": 176,
    "start_time": "2023-08-20T23:10:07.252Z"
   },
   {
    "duration": 154,
    "start_time": "2023-08-20T23:10:07.430Z"
   },
   {
    "duration": 143,
    "start_time": "2023-08-20T23:10:07.586Z"
   },
   {
    "duration": 28,
    "start_time": "2023-08-20T23:10:07.731Z"
   },
   {
    "duration": 39,
    "start_time": "2023-08-20T23:10:07.761Z"
   },
   {
    "duration": 183,
    "start_time": "2023-08-20T23:10:07.803Z"
   },
   {
    "duration": 7,
    "start_time": "2023-08-20T23:10:07.988Z"
   },
   {
    "duration": 71,
    "start_time": "2023-08-20T23:11:58.490Z"
   },
   {
    "duration": 7,
    "start_time": "2023-08-20T23:12:01.298Z"
   },
   {
    "duration": 7,
    "start_time": "2023-08-20T23:12:03.600Z"
   },
   {
    "duration": 84,
    "start_time": "2023-08-20T23:12:05.471Z"
   },
   {
    "duration": 11,
    "start_time": "2023-08-20T23:14:41.973Z"
   },
   {
    "duration": 9,
    "start_time": "2023-08-20T23:16:32.332Z"
   },
   {
    "duration": 13,
    "start_time": "2023-08-20T23:16:34.837Z"
   },
   {
    "duration": 145,
    "start_time": "2023-08-20T23:16:49.742Z"
   },
   {
    "duration": 44,
    "start_time": "2023-08-21T05:42:04.109Z"
   },
   {
    "duration": 685,
    "start_time": "2023-08-21T05:42:11.680Z"
   },
   {
    "duration": 12,
    "start_time": "2023-08-21T05:42:12.367Z"
   },
   {
    "duration": 2158,
    "start_time": "2023-08-21T05:42:21.598Z"
   },
   {
    "duration": 628,
    "start_time": "2023-08-21T07:55:02.105Z"
   },
   {
    "duration": 16,
    "start_time": "2023-08-21T07:55:02.735Z"
   },
   {
    "duration": 2568,
    "start_time": "2023-08-21T07:55:02.755Z"
   },
   {
    "duration": 12,
    "start_time": "2023-08-21T07:55:05.324Z"
   },
   {
    "duration": 32,
    "start_time": "2023-08-21T07:55:05.338Z"
   },
   {
    "duration": 35,
    "start_time": "2023-08-21T07:55:05.372Z"
   },
   {
    "duration": 16,
    "start_time": "2023-08-21T07:55:05.409Z"
   },
   {
    "duration": 56,
    "start_time": "2023-08-21T07:55:05.426Z"
   },
   {
    "duration": 29,
    "start_time": "2023-08-21T07:55:05.484Z"
   },
   {
    "duration": 21,
    "start_time": "2023-08-21T07:55:05.515Z"
   },
   {
    "duration": 21,
    "start_time": "2023-08-21T07:55:05.538Z"
   },
   {
    "duration": 16,
    "start_time": "2023-08-21T07:55:05.561Z"
   },
   {
    "duration": 131,
    "start_time": "2023-08-21T07:55:05.580Z"
   },
   {
    "duration": 16,
    "start_time": "2023-08-21T07:55:05.714Z"
   },
   {
    "duration": 115,
    "start_time": "2023-08-21T07:55:05.731Z"
   },
   {
    "duration": 67,
    "start_time": "2023-08-21T07:55:05.848Z"
   },
   {
    "duration": 304,
    "start_time": "2023-08-21T07:55:05.917Z"
   },
   {
    "duration": 6,
    "start_time": "2023-08-21T07:55:06.223Z"
   },
   {
    "duration": 364,
    "start_time": "2023-08-21T07:55:06.231Z"
   },
   {
    "duration": 258,
    "start_time": "2023-08-21T07:55:06.598Z"
   },
   {
    "duration": 358,
    "start_time": "2023-08-21T07:55:06.858Z"
   },
   {
    "duration": 280,
    "start_time": "2023-08-21T07:55:07.217Z"
   },
   {
    "duration": 247,
    "start_time": "2023-08-21T07:55:07.498Z"
   },
   {
    "duration": 260,
    "start_time": "2023-08-21T07:55:07.747Z"
   },
   {
    "duration": 264,
    "start_time": "2023-08-21T07:55:08.009Z"
   },
   {
    "duration": 335,
    "start_time": "2023-08-21T07:55:08.275Z"
   },
   {
    "duration": 280,
    "start_time": "2023-08-21T07:55:08.612Z"
   },
   {
    "duration": 6,
    "start_time": "2023-08-21T07:55:08.895Z"
   },
   {
    "duration": 254,
    "start_time": "2023-08-21T07:55:08.904Z"
   },
   {
    "duration": 5,
    "start_time": "2023-08-21T07:55:09.160Z"
   },
   {
    "duration": 180,
    "start_time": "2023-08-21T07:55:09.167Z"
   },
   {
    "duration": 193,
    "start_time": "2023-08-21T07:55:09.349Z"
   },
   {
    "duration": 133,
    "start_time": "2023-08-21T07:55:09.544Z"
   },
   {
    "duration": 7,
    "start_time": "2023-08-21T07:55:09.679Z"
   },
   {
    "duration": 178,
    "start_time": "2023-08-21T07:55:09.688Z"
   },
   {
    "duration": 164,
    "start_time": "2023-08-21T07:55:09.868Z"
   },
   {
    "duration": 181,
    "start_time": "2023-08-21T07:55:10.034Z"
   },
   {
    "duration": 184,
    "start_time": "2023-08-21T07:55:10.218Z"
   },
   {
    "duration": 289,
    "start_time": "2023-08-21T07:55:10.404Z"
   },
   {
    "duration": 180,
    "start_time": "2023-08-21T07:55:10.694Z"
   },
   {
    "duration": 144,
    "start_time": "2023-08-21T07:55:10.878Z"
   },
   {
    "duration": 244,
    "start_time": "2023-08-21T07:55:11.024Z"
   },
   {
    "duration": 251,
    "start_time": "2023-08-21T07:55:11.269Z"
   },
   {
    "duration": 4,
    "start_time": "2023-08-21T07:55:11.522Z"
   },
   {
    "duration": 31,
    "start_time": "2023-08-21T07:55:11.528Z"
   },
   {
    "duration": 21,
    "start_time": "2023-08-21T07:55:11.561Z"
   },
   {
    "duration": 13,
    "start_time": "2023-08-21T07:55:11.584Z"
   },
   {
    "duration": 67,
    "start_time": "2023-08-21T07:55:11.600Z"
   },
   {
    "duration": 159,
    "start_time": "2023-08-21T07:55:11.669Z"
   },
   {
    "duration": 172,
    "start_time": "2023-08-21T07:55:11.830Z"
   },
   {
    "duration": 167,
    "start_time": "2023-08-21T07:55:12.005Z"
   },
   {
    "duration": 160,
    "start_time": "2023-08-21T07:55:12.174Z"
   },
   {
    "duration": 146,
    "start_time": "2023-08-21T07:55:12.336Z"
   },
   {
    "duration": 163,
    "start_time": "2023-08-21T07:55:12.484Z"
   },
   {
    "duration": 158,
    "start_time": "2023-08-21T07:55:12.649Z"
   },
   {
    "duration": 148,
    "start_time": "2023-08-21T07:55:12.808Z"
   },
   {
    "duration": 27,
    "start_time": "2023-08-21T07:55:12.958Z"
   },
   {
    "duration": 13,
    "start_time": "2023-08-21T07:55:12.987Z"
   },
   {
    "duration": 20,
    "start_time": "2023-08-21T07:55:13.002Z"
   },
   {
    "duration": 294,
    "start_time": "2023-08-21T07:55:28.107Z"
   },
   {
    "duration": 153,
    "start_time": "2023-08-21T07:55:51.650Z"
   },
   {
    "duration": 62,
    "start_time": "2023-08-21T21:16:22.810Z"
   },
   {
    "duration": 781,
    "start_time": "2023-08-21T21:16:27.815Z"
   },
   {
    "duration": 21,
    "start_time": "2023-08-21T21:16:28.598Z"
   },
   {
    "duration": 2496,
    "start_time": "2023-08-21T21:16:28.630Z"
   },
   {
    "duration": 63,
    "start_time": "2023-08-21T21:16:31.130Z"
   },
   {
    "duration": 142,
    "start_time": "2023-08-21T21:20:28.102Z"
   },
   {
    "duration": 16,
    "start_time": "2023-08-21T21:20:28.245Z"
   },
   {
    "duration": 2140,
    "start_time": "2023-08-21T21:20:28.263Z"
   },
   {
    "duration": 26,
    "start_time": "2023-08-21T21:20:30.405Z"
   },
   {
    "duration": 16,
    "start_time": "2023-08-21T21:20:30.432Z"
   },
   {
    "duration": 35,
    "start_time": "2023-08-21T21:20:30.450Z"
   },
   {
    "duration": 40,
    "start_time": "2023-08-21T21:20:30.487Z"
   },
   {
    "duration": 24,
    "start_time": "2023-08-21T21:20:30.529Z"
   },
   {
    "duration": 20,
    "start_time": "2023-08-21T21:20:30.555Z"
   },
   {
    "duration": 24,
    "start_time": "2023-08-21T21:20:30.578Z"
   },
   {
    "duration": 46,
    "start_time": "2023-08-21T21:20:30.603Z"
   },
   {
    "duration": 22,
    "start_time": "2023-08-21T21:20:30.652Z"
   },
   {
    "duration": 106,
    "start_time": "2023-08-21T21:20:30.675Z"
   },
   {
    "duration": 39,
    "start_time": "2023-08-21T21:20:30.782Z"
   },
   {
    "duration": 13,
    "start_time": "2023-08-21T21:20:30.825Z"
   },
   {
    "duration": 57,
    "start_time": "2023-08-21T21:20:30.839Z"
   },
   {
    "duration": 121,
    "start_time": "2023-08-21T21:20:32.369Z"
   },
   {
    "duration": 261,
    "start_time": "2023-08-21T21:20:51.437Z"
   },
   {
    "duration": 21,
    "start_time": "2023-08-21T21:23:50.748Z"
   },
   {
    "duration": 19,
    "start_time": "2023-08-21T21:23:57.564Z"
   },
   {
    "duration": 19,
    "start_time": "2023-08-21T21:24:37.753Z"
   },
   {
    "duration": 41,
    "start_time": "2023-08-21T21:39:14.085Z"
   },
   {
    "duration": 10,
    "start_time": "2023-08-21T21:40:47.846Z"
   },
   {
    "duration": 112,
    "start_time": "2023-08-21T21:54:38.039Z"
   },
   {
    "duration": 110,
    "start_time": "2023-08-21T22:00:24.180Z"
   },
   {
    "duration": 100,
    "start_time": "2023-08-21T22:00:49.318Z"
   },
   {
    "duration": 98,
    "start_time": "2023-08-21T22:01:01.945Z"
   },
   {
    "duration": 108,
    "start_time": "2023-08-21T22:01:11.178Z"
   },
   {
    "duration": 105,
    "start_time": "2023-08-21T22:11:08.290Z"
   },
   {
    "duration": 220,
    "start_time": "2023-08-21T22:11:16.640Z"
   },
   {
    "duration": 132,
    "start_time": "2023-08-21T22:15:42.819Z"
   },
   {
    "duration": 114,
    "start_time": "2023-08-21T22:16:16.197Z"
   },
   {
    "duration": 240,
    "start_time": "2023-08-21T22:18:59.979Z"
   },
   {
    "duration": 264,
    "start_time": "2023-08-21T22:19:05.914Z"
   },
   {
    "duration": 246,
    "start_time": "2023-08-21T22:19:52.643Z"
   },
   {
    "duration": 291,
    "start_time": "2023-08-21T22:20:02.218Z"
   },
   {
    "duration": 197,
    "start_time": "2023-08-21T22:30:38.152Z"
   },
   {
    "duration": 120,
    "start_time": "2023-08-21T22:30:57.627Z"
   },
   {
    "duration": 676,
    "start_time": "2023-08-22T10:37:59.040Z"
   },
   {
    "duration": 15,
    "start_time": "2023-08-22T10:37:59.719Z"
   },
   {
    "duration": 2661,
    "start_time": "2023-08-22T10:37:59.736Z"
   },
   {
    "duration": 11,
    "start_time": "2023-08-22T10:38:09.354Z"
   },
   {
    "duration": 62,
    "start_time": "2023-08-22T10:38:22.736Z"
   },
   {
    "duration": 14,
    "start_time": "2023-08-22T10:38:44.930Z"
   },
   {
    "duration": 128,
    "start_time": "2023-08-22T10:43:33.012Z"
   },
   {
    "duration": 31,
    "start_time": "2023-08-22T10:43:33.143Z"
   },
   {
    "duration": 2197,
    "start_time": "2023-08-22T10:43:33.176Z"
   },
   {
    "duration": 11,
    "start_time": "2023-08-22T10:43:35.376Z"
   },
   {
    "duration": 10,
    "start_time": "2023-08-22T10:43:35.389Z"
   },
   {
    "duration": 12,
    "start_time": "2023-08-22T10:43:35.401Z"
   },
   {
    "duration": 14,
    "start_time": "2023-08-22T10:43:35.415Z"
   },
   {
    "duration": 39,
    "start_time": "2023-08-22T10:43:35.430Z"
   },
   {
    "duration": 21,
    "start_time": "2023-08-22T10:43:35.472Z"
   },
   {
    "duration": 28,
    "start_time": "2023-08-22T10:43:35.497Z"
   },
   {
    "duration": 29,
    "start_time": "2023-08-22T10:43:35.528Z"
   },
   {
    "duration": 13,
    "start_time": "2023-08-22T10:43:35.559Z"
   },
   {
    "duration": 127,
    "start_time": "2023-08-22T10:43:35.574Z"
   },
   {
    "duration": 19,
    "start_time": "2023-08-22T10:43:35.702Z"
   },
   {
    "duration": 51,
    "start_time": "2023-08-22T10:43:35.723Z"
   },
   {
    "duration": 35,
    "start_time": "2023-08-22T10:43:35.776Z"
   },
   {
    "duration": 18,
    "start_time": "2023-08-22T10:43:35.813Z"
   },
   {
    "duration": 277,
    "start_time": "2023-08-22T10:43:35.856Z"
   },
   {
    "duration": 135,
    "start_time": "2023-08-22T11:07:13.300Z"
   },
   {
    "duration": 34,
    "start_time": "2023-08-22T11:07:13.437Z"
   },
   {
    "duration": 2504,
    "start_time": "2023-08-22T11:07:13.474Z"
   },
   {
    "duration": 13,
    "start_time": "2023-08-22T11:07:15.982Z"
   },
   {
    "duration": 17,
    "start_time": "2023-08-22T11:07:15.997Z"
   },
   {
    "duration": 20,
    "start_time": "2023-08-22T11:07:16.017Z"
   },
   {
    "duration": 28,
    "start_time": "2023-08-22T11:07:16.039Z"
   },
   {
    "duration": 23,
    "start_time": "2023-08-22T11:07:16.071Z"
   },
   {
    "duration": 18,
    "start_time": "2023-08-22T11:07:16.097Z"
   },
   {
    "duration": 11,
    "start_time": "2023-08-22T11:07:16.118Z"
   },
   {
    "duration": 37,
    "start_time": "2023-08-22T11:07:16.131Z"
   },
   {
    "duration": 16,
    "start_time": "2023-08-22T11:07:16.175Z"
   },
   {
    "duration": 126,
    "start_time": "2023-08-22T11:07:16.195Z"
   },
   {
    "duration": 39,
    "start_time": "2023-08-22T11:07:16.323Z"
   },
   {
    "duration": 21,
    "start_time": "2023-08-22T11:07:16.364Z"
   },
   {
    "duration": 33,
    "start_time": "2023-08-22T11:07:16.389Z"
   },
   {
    "duration": 18,
    "start_time": "2023-08-22T11:07:16.424Z"
   },
   {
    "duration": 297,
    "start_time": "2023-08-22T11:07:16.444Z"
   },
   {
    "duration": 259,
    "start_time": "2023-08-22T11:07:16.743Z"
   },
   {
    "duration": 127,
    "start_time": "2023-08-22T11:07:17.004Z"
   },
   {
    "duration": 547,
    "start_time": "2023-08-22T11:07:17.133Z"
   },
   {
    "duration": 317,
    "start_time": "2023-08-22T11:07:17.681Z"
   },
   {
    "duration": 406,
    "start_time": "2023-08-22T11:07:21.403Z"
   },
   {
    "duration": 204,
    "start_time": "2023-08-22T11:13:26.574Z"
   },
   {
    "duration": 151,
    "start_time": "2023-08-22T11:13:35.709Z"
   },
   {
    "duration": 18,
    "start_time": "2023-08-22T11:13:35.863Z"
   },
   {
    "duration": 2121,
    "start_time": "2023-08-22T11:13:35.883Z"
   },
   {
    "duration": 11,
    "start_time": "2023-08-22T11:13:38.006Z"
   },
   {
    "duration": 5,
    "start_time": "2023-08-22T11:13:38.019Z"
   },
   {
    "duration": 35,
    "start_time": "2023-08-22T11:13:38.025Z"
   },
   {
    "duration": 8,
    "start_time": "2023-08-22T11:13:38.061Z"
   },
   {
    "duration": 18,
    "start_time": "2023-08-22T11:13:38.071Z"
   },
   {
    "duration": 13,
    "start_time": "2023-08-22T11:13:38.091Z"
   },
   {
    "duration": 8,
    "start_time": "2023-08-22T11:13:38.106Z"
   },
   {
    "duration": 42,
    "start_time": "2023-08-22T11:13:38.116Z"
   },
   {
    "duration": 13,
    "start_time": "2023-08-22T11:13:38.161Z"
   },
   {
    "duration": 135,
    "start_time": "2023-08-22T11:13:38.176Z"
   },
   {
    "duration": 15,
    "start_time": "2023-08-22T11:13:38.313Z"
   },
   {
    "duration": 38,
    "start_time": "2023-08-22T11:13:38.329Z"
   },
   {
    "duration": 32,
    "start_time": "2023-08-22T11:13:38.369Z"
   },
   {
    "duration": 22,
    "start_time": "2023-08-22T11:13:38.404Z"
   },
   {
    "duration": 278,
    "start_time": "2023-08-22T11:13:38.428Z"
   },
   {
    "duration": 268,
    "start_time": "2023-08-22T11:13:38.708Z"
   },
   {
    "duration": 163,
    "start_time": "2023-08-22T11:13:38.978Z"
   },
   {
    "duration": 351,
    "start_time": "2023-08-22T11:13:39.144Z"
   },
   {
    "duration": 259,
    "start_time": "2023-08-22T11:13:39.497Z"
   },
   {
    "duration": 289,
    "start_time": "2023-08-22T11:13:39.758Z"
   },
   {
    "duration": 382,
    "start_time": "2023-08-22T11:13:40.057Z"
   },
   {
    "duration": 264,
    "start_time": "2023-08-22T11:13:40.440Z"
   },
   {
    "duration": 282,
    "start_time": "2023-08-22T11:13:40.706Z"
   },
   {
    "duration": 325,
    "start_time": "2023-08-22T11:13:40.989Z"
   },
   {
    "duration": 332,
    "start_time": "2023-08-22T11:13:41.319Z"
   },
   {
    "duration": 248,
    "start_time": "2023-08-22T11:13:41.653Z"
   },
   {
    "duration": 6,
    "start_time": "2023-08-22T11:13:41.903Z"
   },
   {
    "duration": 307,
    "start_time": "2023-08-22T11:13:41.910Z"
   },
   {
    "duration": 4,
    "start_time": "2023-08-22T11:13:42.219Z"
   },
   {
    "duration": 217,
    "start_time": "2023-08-22T11:13:42.225Z"
   },
   {
    "duration": 204,
    "start_time": "2023-08-22T11:13:42.444Z"
   },
   {
    "duration": 139,
    "start_time": "2023-08-22T11:13:42.650Z"
   },
   {
    "duration": 10,
    "start_time": "2023-08-22T11:13:42.791Z"
   },
   {
    "duration": 196,
    "start_time": "2023-08-22T11:13:42.803Z"
   },
   {
    "duration": 163,
    "start_time": "2023-08-22T11:13:43.001Z"
   },
   {
    "duration": 187,
    "start_time": "2023-08-22T11:13:43.165Z"
   },
   {
    "duration": 171,
    "start_time": "2023-08-22T11:13:43.355Z"
   },
   {
    "duration": 168,
    "start_time": "2023-08-22T11:13:43.528Z"
   },
   {
    "duration": 170,
    "start_time": "2023-08-22T11:13:43.697Z"
   },
   {
    "duration": 141,
    "start_time": "2023-08-22T11:13:43.869Z"
   },
   {
    "duration": 359,
    "start_time": "2023-08-22T11:13:46.581Z"
   },
   {
    "duration": 10,
    "start_time": "2023-08-22T11:14:27.818Z"
   },
   {
    "duration": 74,
    "start_time": "2023-08-22T11:26:10.934Z"
   },
   {
    "duration": 127,
    "start_time": "2023-08-22T11:26:22.398Z"
   },
   {
    "duration": 36,
    "start_time": "2023-08-22T11:26:22.527Z"
   },
   {
    "duration": 1927,
    "start_time": "2023-08-22T11:26:22.565Z"
   },
   {
    "duration": 9,
    "start_time": "2023-08-22T11:26:24.494Z"
   },
   {
    "duration": 6,
    "start_time": "2023-08-22T11:26:24.505Z"
   },
   {
    "duration": 21,
    "start_time": "2023-08-22T11:26:24.512Z"
   },
   {
    "duration": 6,
    "start_time": "2023-08-22T11:26:24.535Z"
   },
   {
    "duration": 10,
    "start_time": "2023-08-22T11:26:24.557Z"
   },
   {
    "duration": 12,
    "start_time": "2023-08-22T11:26:24.570Z"
   },
   {
    "duration": 211,
    "start_time": "2023-08-22T11:26:24.586Z"
   },
   {
    "duration": 18,
    "start_time": "2023-08-22T11:26:24.799Z"
   },
   {
    "duration": 18,
    "start_time": "2023-08-22T11:26:24.819Z"
   },
   {
    "duration": 108,
    "start_time": "2023-08-22T11:26:24.839Z"
   },
   {
    "duration": 22,
    "start_time": "2023-08-22T11:26:24.949Z"
   },
   {
    "duration": 52,
    "start_time": "2023-08-22T11:26:24.973Z"
   },
   {
    "duration": 46,
    "start_time": "2023-08-22T11:26:25.027Z"
   },
   {
    "duration": 20,
    "start_time": "2023-08-22T11:26:25.075Z"
   },
   {
    "duration": 269,
    "start_time": "2023-08-22T11:26:25.097Z"
   },
   {
    "duration": 248,
    "start_time": "2023-08-22T11:26:25.368Z"
   },
   {
    "duration": 115,
    "start_time": "2023-08-22T11:26:25.618Z"
   },
   {
    "duration": 305,
    "start_time": "2023-08-22T11:26:25.735Z"
   },
   {
    "duration": 228,
    "start_time": "2023-08-22T11:26:26.042Z"
   },
   {
    "duration": 258,
    "start_time": "2023-08-22T11:26:26.271Z"
   },
   {
    "duration": 250,
    "start_time": "2023-08-22T11:26:26.530Z"
   },
   {
    "duration": 412,
    "start_time": "2023-08-22T11:26:26.782Z"
   },
   {
    "duration": 286,
    "start_time": "2023-08-22T11:26:27.196Z"
   },
   {
    "duration": 246,
    "start_time": "2023-08-22T11:26:27.484Z"
   },
   {
    "duration": 253,
    "start_time": "2023-08-22T11:26:27.734Z"
   },
   {
    "duration": 237,
    "start_time": "2023-08-22T11:26:27.988Z"
   },
   {
    "duration": 5,
    "start_time": "2023-08-22T11:26:28.227Z"
   },
   {
    "duration": 198,
    "start_time": "2023-08-22T11:26:28.233Z"
   },
   {
    "duration": 5,
    "start_time": "2023-08-22T11:26:28.433Z"
   },
   {
    "duration": 177,
    "start_time": "2023-08-22T11:26:28.439Z"
   },
   {
    "duration": 187,
    "start_time": "2023-08-22T11:26:28.618Z"
   },
   {
    "duration": 134,
    "start_time": "2023-08-22T11:26:28.807Z"
   },
   {
    "duration": 17,
    "start_time": "2023-08-22T11:26:28.943Z"
   },
   {
    "duration": 223,
    "start_time": "2023-08-22T11:26:28.962Z"
   },
   {
    "duration": 334,
    "start_time": "2023-08-22T11:26:29.187Z"
   },
   {
    "duration": 188,
    "start_time": "2023-08-22T11:26:29.523Z"
   },
   {
    "duration": 170,
    "start_time": "2023-08-22T11:26:29.713Z"
   },
   {
    "duration": 174,
    "start_time": "2023-08-22T11:26:29.885Z"
   },
   {
    "duration": 179,
    "start_time": "2023-08-22T11:26:30.061Z"
   },
   {
    "duration": 142,
    "start_time": "2023-08-22T11:26:30.242Z"
   },
   {
    "duration": 268,
    "start_time": "2023-08-22T11:26:30.386Z"
   },
   {
    "duration": 248,
    "start_time": "2023-08-22T11:26:30.656Z"
   },
   {
    "duration": 8,
    "start_time": "2023-08-22T11:26:30.906Z"
   },
   {
    "duration": 95,
    "start_time": "2023-08-22T11:26:30.916Z"
   },
   {
    "duration": 176,
    "start_time": "2023-08-22T11:26:31.013Z"
   },
   {
    "duration": 335,
    "start_time": "2023-08-22T11:26:31.192Z"
   },
   {
    "duration": 318,
    "start_time": "2023-08-22T11:26:57.963Z"
   },
   {
    "duration": 209,
    "start_time": "2023-08-22T11:30:18.842Z"
   },
   {
    "duration": 201,
    "start_time": "2023-08-22T11:30:48.727Z"
   },
   {
    "duration": 175,
    "start_time": "2023-08-22T11:32:49.595Z"
   },
   {
    "duration": 148,
    "start_time": "2023-08-22T11:33:35.217Z"
   },
   {
    "duration": 318,
    "start_time": "2023-08-22T11:34:39.403Z"
   },
   {
    "duration": 144,
    "start_time": "2023-08-22T11:35:01.538Z"
   },
   {
    "duration": 134,
    "start_time": "2023-08-22T11:35:31.729Z"
   },
   {
    "duration": 130,
    "start_time": "2023-08-22T11:35:37.947Z"
   },
   {
    "duration": 143,
    "start_time": "2023-08-22T11:35:50.144Z"
   },
   {
    "duration": 170,
    "start_time": "2023-08-22T11:35:55.245Z"
   },
   {
    "duration": 177,
    "start_time": "2023-08-22T11:36:02.463Z"
   },
   {
    "duration": 177,
    "start_time": "2023-08-22T11:36:09.006Z"
   },
   {
    "duration": 326,
    "start_time": "2023-08-22T11:36:16.035Z"
   },
   {
    "duration": 152,
    "start_time": "2023-08-22T11:36:19.617Z"
   },
   {
    "duration": 150,
    "start_time": "2023-08-22T11:36:30.994Z"
   },
   {
    "duration": 153,
    "start_time": "2023-08-22T11:36:35.358Z"
   },
   {
    "duration": 180,
    "start_time": "2023-08-22T11:36:39.040Z"
   },
   {
    "duration": 154,
    "start_time": "2023-08-22T11:36:42.505Z"
   },
   {
    "duration": 147,
    "start_time": "2023-08-22T11:36:45.655Z"
   },
   {
    "duration": 106,
    "start_time": "2023-08-22T11:36:49.632Z"
   },
   {
    "duration": 185,
    "start_time": "2023-08-22T11:36:52.971Z"
   },
   {
    "duration": 145,
    "start_time": "2023-08-22T11:36:56.121Z"
   },
   {
    "duration": 151,
    "start_time": "2023-08-22T11:37:00.333Z"
   },
   {
    "duration": 215,
    "start_time": "2023-08-22T11:37:04.707Z"
   },
   {
    "duration": 212,
    "start_time": "2023-08-22T11:37:08.506Z"
   },
   {
    "duration": 164,
    "start_time": "2023-08-22T11:38:31.260Z"
   },
   {
    "duration": 139,
    "start_time": "2023-08-22T11:38:50.088Z"
   },
   {
    "duration": 143,
    "start_time": "2023-08-22T11:39:40.623Z"
   },
   {
    "duration": 139,
    "start_time": "2023-08-22T11:39:44.278Z"
   },
   {
    "duration": 138,
    "start_time": "2023-08-22T11:40:03.212Z"
   },
   {
    "duration": 17,
    "start_time": "2023-08-22T11:42:40.244Z"
   },
   {
    "duration": 14,
    "start_time": "2023-08-22T11:45:33.670Z"
   },
   {
    "duration": 15,
    "start_time": "2023-08-22T11:45:47.212Z"
   },
   {
    "duration": 19,
    "start_time": "2023-08-22T11:46:04.071Z"
   },
   {
    "duration": 147,
    "start_time": "2023-08-22T13:18:53.326Z"
   },
   {
    "duration": 15,
    "start_time": "2023-08-22T13:18:53.476Z"
   },
   {
    "duration": 2248,
    "start_time": "2023-08-22T13:18:53.493Z"
   },
   {
    "duration": 23,
    "start_time": "2023-08-22T13:18:55.744Z"
   },
   {
    "duration": 12,
    "start_time": "2023-08-22T13:18:55.769Z"
   },
   {
    "duration": 19,
    "start_time": "2023-08-22T13:18:55.783Z"
   },
   {
    "duration": 7,
    "start_time": "2023-08-22T13:18:55.804Z"
   },
   {
    "duration": 22,
    "start_time": "2023-08-22T13:18:55.813Z"
   },
   {
    "duration": 11,
    "start_time": "2023-08-22T13:18:55.837Z"
   },
   {
    "duration": 19,
    "start_time": "2023-08-22T13:18:55.850Z"
   },
   {
    "duration": 13,
    "start_time": "2023-08-22T13:18:55.871Z"
   },
   {
    "duration": 9,
    "start_time": "2023-08-22T13:18:55.886Z"
   },
   {
    "duration": 125,
    "start_time": "2023-08-22T13:18:55.896Z"
   },
   {
    "duration": 47,
    "start_time": "2023-08-22T13:18:56.024Z"
   },
   {
    "duration": 14,
    "start_time": "2023-08-22T13:18:56.073Z"
   },
   {
    "duration": 33,
    "start_time": "2023-08-22T13:18:56.089Z"
   },
   {
    "duration": 19,
    "start_time": "2023-08-22T13:18:56.124Z"
   },
   {
    "duration": 272,
    "start_time": "2023-08-22T13:18:56.145Z"
   },
   {
    "duration": 265,
    "start_time": "2023-08-22T13:18:56.419Z"
   },
   {
    "duration": 133,
    "start_time": "2023-08-22T13:18:56.686Z"
   },
   {
    "duration": 327,
    "start_time": "2023-08-22T13:18:56.821Z"
   },
   {
    "duration": 266,
    "start_time": "2023-08-22T13:18:57.150Z"
   },
   {
    "duration": 267,
    "start_time": "2023-08-22T13:18:57.417Z"
   },
   {
    "duration": 252,
    "start_time": "2023-08-22T13:18:57.686Z"
   },
   {
    "duration": 631,
    "start_time": "2023-08-22T13:18:57.940Z"
   },
   {
    "duration": 312,
    "start_time": "2023-08-22T13:18:58.574Z"
   },
   {
    "duration": 374,
    "start_time": "2023-08-22T13:18:58.888Z"
   },
   {
    "duration": 262,
    "start_time": "2023-08-22T13:18:59.264Z"
   },
   {
    "duration": 284,
    "start_time": "2023-08-22T13:18:59.528Z"
   },
   {
    "duration": 7,
    "start_time": "2023-08-22T13:18:59.814Z"
   },
   {
    "duration": 178,
    "start_time": "2023-08-22T13:18:59.824Z"
   },
   {
    "duration": 4,
    "start_time": "2023-08-22T13:19:00.004Z"
   },
   {
    "duration": 208,
    "start_time": "2023-08-22T13:19:00.010Z"
   },
   {
    "duration": 192,
    "start_time": "2023-08-22T13:19:00.220Z"
   },
   {
    "duration": 140,
    "start_time": "2023-08-22T13:19:00.413Z"
   },
   {
    "duration": 18,
    "start_time": "2023-08-22T13:19:00.555Z"
   },
   {
    "duration": 213,
    "start_time": "2023-08-22T13:19:00.574Z"
   },
   {
    "duration": 191,
    "start_time": "2023-08-22T13:19:00.789Z"
   },
   {
    "duration": 170,
    "start_time": "2023-08-22T13:19:00.981Z"
   },
   {
    "duration": 193,
    "start_time": "2023-08-22T13:19:01.156Z"
   },
   {
    "duration": 192,
    "start_time": "2023-08-22T13:19:01.358Z"
   },
   {
    "duration": 522,
    "start_time": "2023-08-22T13:19:01.552Z"
   },
   {
    "duration": 142,
    "start_time": "2023-08-22T13:19:02.076Z"
   },
   {
    "duration": 240,
    "start_time": "2023-08-22T13:19:02.220Z"
   },
   {
    "duration": 268,
    "start_time": "2023-08-22T13:19:02.462Z"
   },
   {
    "duration": 10,
    "start_time": "2023-08-22T13:19:02.731Z"
   },
   {
    "duration": 200,
    "start_time": "2023-08-22T13:19:02.742Z"
   },
   {
    "duration": 183,
    "start_time": "2023-08-22T13:19:02.944Z"
   },
   {
    "duration": 200,
    "start_time": "2023-08-22T13:19:03.130Z"
   },
   {
    "duration": 153,
    "start_time": "2023-08-22T13:19:03.333Z"
   },
   {
    "duration": 134,
    "start_time": "2023-08-22T13:19:03.488Z"
   },
   {
    "duration": 172,
    "start_time": "2023-08-22T13:19:03.623Z"
   },
   {
    "duration": 173,
    "start_time": "2023-08-22T13:19:03.796Z"
   },
   {
    "duration": 141,
    "start_time": "2023-08-22T13:19:03.972Z"
   },
   {
    "duration": 16,
    "start_time": "2023-08-22T13:19:04.115Z"
   },
   {
    "duration": 38,
    "start_time": "2023-08-22T13:19:04.133Z"
   },
   {
    "duration": 25,
    "start_time": "2023-08-22T13:19:04.173Z"
   },
   {
    "duration": 186,
    "start_time": "2023-08-22T13:19:04.200Z"
   },
   {
    "duration": 7,
    "start_time": "2023-08-22T13:19:11.742Z"
   },
   {
    "duration": 535,
    "start_time": "2023-08-22T14:32:03.136Z"
   },
   {
    "duration": 17,
    "start_time": "2023-08-22T14:32:03.673Z"
   },
   {
    "duration": 3461,
    "start_time": "2023-08-22T14:32:03.692Z"
   },
   {
    "duration": 9,
    "start_time": "2023-08-22T14:32:07.155Z"
   },
   {
    "duration": 43,
    "start_time": "2023-08-22T14:32:07.165Z"
   },
   {
    "duration": 86,
    "start_time": "2023-08-22T14:32:07.210Z"
   },
   {
    "duration": 13,
    "start_time": "2023-08-22T14:32:07.298Z"
   },
   {
    "duration": 44,
    "start_time": "2023-08-22T14:32:07.312Z"
   },
   {
    "duration": 25,
    "start_time": "2023-08-22T14:32:07.357Z"
   },
   {
    "duration": 45,
    "start_time": "2023-08-22T14:32:07.384Z"
   },
   {
    "duration": 33,
    "start_time": "2023-08-22T14:32:07.431Z"
   },
   {
    "duration": 26,
    "start_time": "2023-08-22T14:32:07.465Z"
   },
   {
    "duration": 118,
    "start_time": "2023-08-22T14:32:07.493Z"
   },
   {
    "duration": 15,
    "start_time": "2023-08-22T14:32:07.614Z"
   },
   {
    "duration": 30,
    "start_time": "2023-08-22T14:32:07.631Z"
   },
   {
    "duration": 34,
    "start_time": "2023-08-22T14:32:07.662Z"
   },
   {
    "duration": 23,
    "start_time": "2023-08-22T14:32:07.698Z"
   },
   {
    "duration": 252,
    "start_time": "2023-08-22T14:32:07.722Z"
   },
   {
    "duration": 503,
    "start_time": "2023-08-22T14:32:07.976Z"
   },
   {
    "duration": 213,
    "start_time": "2023-08-22T14:32:08.481Z"
   },
   {
    "duration": 312,
    "start_time": "2023-08-22T14:32:08.695Z"
   },
   {
    "duration": 453,
    "start_time": "2023-08-22T14:32:09.008Z"
   },
   {
    "duration": 445,
    "start_time": "2023-08-22T14:32:09.462Z"
   },
   {
    "duration": 421,
    "start_time": "2023-08-22T14:32:09.908Z"
   },
   {
    "duration": 381,
    "start_time": "2023-08-22T14:32:10.330Z"
   },
   {
    "duration": 363,
    "start_time": "2023-08-22T14:32:10.712Z"
   },
   {
    "duration": 386,
    "start_time": "2023-08-22T14:32:11.076Z"
   },
   {
    "duration": 372,
    "start_time": "2023-08-22T14:32:11.465Z"
   },
   {
    "duration": 418,
    "start_time": "2023-08-22T14:32:11.838Z"
   },
   {
    "duration": 4,
    "start_time": "2023-08-22T14:32:12.258Z"
   },
   {
    "duration": 310,
    "start_time": "2023-08-22T14:32:12.264Z"
   },
   {
    "duration": 5,
    "start_time": "2023-08-22T14:32:12.575Z"
   },
   {
    "duration": 351,
    "start_time": "2023-08-22T14:32:12.582Z"
   },
   {
    "duration": 297,
    "start_time": "2023-08-22T14:32:12.935Z"
   },
   {
    "duration": 284,
    "start_time": "2023-08-22T14:32:13.234Z"
   },
   {
    "duration": 9,
    "start_time": "2023-08-22T14:32:13.520Z"
   },
   {
    "duration": 332,
    "start_time": "2023-08-22T14:32:13.530Z"
   },
   {
    "duration": 269,
    "start_time": "2023-08-22T14:32:13.864Z"
   },
   {
    "duration": 292,
    "start_time": "2023-08-22T14:32:14.134Z"
   },
   {
    "duration": 299,
    "start_time": "2023-08-22T14:32:14.428Z"
   },
   {
    "duration": 332,
    "start_time": "2023-08-22T14:32:14.729Z"
   },
   {
    "duration": 310,
    "start_time": "2023-08-22T14:32:15.064Z"
   },
   {
    "duration": 232,
    "start_time": "2023-08-22T14:32:15.376Z"
   },
   {
    "duration": 342,
    "start_time": "2023-08-22T14:32:15.609Z"
   },
   {
    "duration": 445,
    "start_time": "2023-08-22T14:32:15.952Z"
   },
   {
    "duration": 11,
    "start_time": "2023-08-22T14:32:16.399Z"
   },
   {
    "duration": 451,
    "start_time": "2023-08-22T14:32:16.413Z"
   },
   {
    "duration": 393,
    "start_time": "2023-08-22T14:32:16.866Z"
   },
   {
    "duration": 436,
    "start_time": "2023-08-22T14:32:17.260Z"
   },
   {
    "duration": 306,
    "start_time": "2023-08-22T14:32:17.698Z"
   },
   {
    "duration": 291,
    "start_time": "2023-08-22T14:32:18.006Z"
   },
   {
    "duration": 327,
    "start_time": "2023-08-22T14:32:18.298Z"
   },
   {
    "duration": 312,
    "start_time": "2023-08-22T14:32:18.627Z"
   },
   {
    "duration": 293,
    "start_time": "2023-08-22T14:32:18.940Z"
   },
   {
    "duration": 22,
    "start_time": "2023-08-22T14:32:19.234Z"
   },
   {
    "duration": 11,
    "start_time": "2023-08-22T14:32:19.257Z"
   },
   {
    "duration": 37,
    "start_time": "2023-08-22T14:32:19.269Z"
   },
   {
    "duration": 317,
    "start_time": "2023-08-22T14:32:19.308Z"
   },
   {
    "duration": 7,
    "start_time": "2023-08-22T14:32:19.626Z"
   },
   {
    "duration": 317,
    "start_time": "2023-08-22T14:36:19.142Z"
   }
  ],
  "kernelspec": {
   "display_name": "Python 3 (ipykernel)",
   "language": "python",
   "name": "python3"
  },
  "language_info": {
   "codemirror_mode": {
    "name": "ipython",
    "version": 3
   },
   "file_extension": ".py",
   "mimetype": "text/x-python",
   "name": "python",
   "nbconvert_exporter": "python",
   "pygments_lexer": "ipython3",
   "version": "3.11.5"
  },
  "toc": {
   "base_numbering": 1,
   "nav_menu": {},
   "number_sections": true,
   "sideBar": true,
   "skip_h1_title": true,
   "title_cell": "Table of Contents",
   "title_sidebar": "Contents",
   "toc_cell": false,
   "toc_position": {},
   "toc_section_display": true,
   "toc_window_display": true
  }
 },
 "nbformat": 4,
 "nbformat_minor": 2
}
